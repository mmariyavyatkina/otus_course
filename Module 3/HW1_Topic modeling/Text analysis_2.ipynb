{
 "cells": [
  {
   "cell_type": "markdown",
   "metadata": {},
   "source": [
    "### Определение темы по постам группы вк\n",
    "\n",
    "Будем собирать посты из группы \"Лентач\" во вконтакте с целью выявить тематику группы. Рассмотрим также на какие кластеры тем можно разбить посты."
   ]
  },
  {
   "cell_type": "code",
   "execution_count": 1,
   "metadata": {},
   "outputs": [
    {
     "name": "stderr",
     "output_type": "stream",
     "text": [
      "[nltk_data] Downloading package wordnet to /Users/mary/nltk_data...\n",
      "[nltk_data]   Package wordnet is already up-to-date!\n",
      "[nltk_data] Downloading package stopwords to /Users/mary/nltk_data...\n",
      "[nltk_data]   Package stopwords is already up-to-date!\n",
      "/Users/mary/anaconda3/lib/python3.7/site-packages/scipy/sparse/sparsetools.py:21: DeprecationWarning: `scipy.sparse.sparsetools` is deprecated!\n",
      "scipy.sparse.sparsetools is a private module for scipy.sparse, and should not be used.\n",
      "  _deprecated()\n"
     ]
    }
   ],
   "source": [
    "import logging\n",
    "import sys\n",
    "import requests\n",
    "import json\n",
    "import datetime\n",
    "from ast import literal_eval\n",
    "import pandas as pd\n",
    "import numpy as np\n",
    "import configparser\n",
    "import re\n",
    "import nltk\n",
    "from nltk.corpus import stopwords \n",
    "# from nltk.stem.wordnet import WordNetLemmatizer\n",
    "nltk.download('wordnet')\n",
    "nltk.download('stopwords')\n",
    "# lemma = WordNetLemmatizer()\n",
    "\n",
    "import pymorphy2\n",
    "morph = pymorphy2.MorphAnalyzer()\n",
    "\n",
    "# Plotting tools\n",
    "import pyLDAvis\n",
    "import pyLDAvis.gensim\n",
    "import matplotlib.pyplot as plt\n",
    "%matplotlib inline\n",
    "\n",
    "import gensim\n",
    "import gensim.corpora as corpora\n",
    "from gensim.utils import simple_preprocess\n",
    "from gensim.models import CoherenceModel\n",
    "from pprint import pprint\n",
    "\n",
    "# Enable logging for gensim - optional\n",
    "import logging\n",
    "logging.basicConfig(format='%(asctime)s : %(levelname)s : %(message)s', level=logging.ERROR)\n",
    "\n",
    "import warnings\n",
    "warnings.filterwarnings(\"ignore\",category=DeprecationWarning)"
   ]
  },
  {
   "cell_type": "markdown",
   "metadata": {},
   "source": [
    "### 1. Сбор информации. \n",
    "\n"
   ]
  },
  {
   "cell_type": "code",
   "execution_count": 2,
   "metadata": {},
   "outputs": [],
   "source": [
    "def gather_process():\n",
    "\n",
    "    # gather data and save as txt\n",
    "    id_ = 'lentach'\n",
    "    owner_id = '29534144'# lentach\n",
    "    count = 40\n",
    "    offset = -1\n",
    "\n",
    "    # In access_token.ini we have token for vk\n",
    "    config = configparser.ConfigParser()\n",
    "    config.read('access_token.ini')\n",
    "    access_token = config.get('settings', 'token')\n",
    "    \n",
    "    for _ in range(100):\n",
    "        url = 'https://api.vk.com/method/wall.get?owner_id=-{}&count={}&offset={}&v=5.52&access_token={}'.format(\n",
    "            owner_id, count, offset + 1, access_token)\n",
    "        respond = requests.get(url)\n",
    "        with open(id_ + str(_) + '.txt', 'w') as outfile:\n",
    "            json.dump(respond.json(), outfile)\n",
    "        \n",
    "        offset += count"
   ]
  },
  {
   "cell_type": "code",
   "execution_count": 3,
   "metadata": {},
   "outputs": [],
   "source": [
    "def convert_data_to_table_format():\n",
    "    \n",
    "    # transform gathered data from txt file to pandas DataFrame and save as csv\n",
    "    id_ = 'lentach'\n",
    "    \n",
    "    for _ in range(40):\n",
    "        file = id_ + str(_) + '.txt'\n",
    "        result = literal_eval(open(file, 'r').read())\n",
    "        ids = []\n",
    "        dates = []\n",
    "        comments = []\n",
    "        likes = []\n",
    "        reposts = []\n",
    "        text = []\n",
    "\n",
    "        for item in result['response']['items']:\n",
    "            ids.append(item['id'])\n",
    "            dates.append(datetime.datetime.fromtimestamp(item['date']))\n",
    "            comments.append(item['comments']['count'])\n",
    "            likes.append(item['likes']['count'])\n",
    "            reposts.append(item['reposts']['count'])\n",
    "            text.append(item['text'].encode('utf-16', 'surrogatepass').decode('utf-16'))\n",
    "\n",
    "        df = pd.DataFrame({\n",
    "            \"id\": ids,\n",
    "            \"date\": dates,\n",
    "            \"comments_count\": comments,\n",
    "            \"likes_count\": likes,\n",
    "            \"reposts_count\": reposts,\n",
    "            \"text\": text,\n",
    "        })\n",
    "        df.to_csv(id_ + str(_) + '.csv', sep='\\t')\n",
    "    \n",
    "    pass\n",
    "\n"
   ]
  },
  {
   "cell_type": "code",
   "execution_count": 4,
   "metadata": {
    "scrolled": true
   },
   "outputs": [],
   "source": [
    "# Take latest 4 000 posts of lentach\n",
    "# gather_process()"
   ]
  },
  {
   "cell_type": "code",
   "execution_count": 5,
   "metadata": {
    "scrolled": true
   },
   "outputs": [],
   "source": [
    "# Convert to csv\n",
    "convert_data_to_table_format()"
   ]
  },
  {
   "cell_type": "code",
   "execution_count": 101,
   "metadata": {},
   "outputs": [
    {
     "data": {
      "text/plain": [
       "(4000, 7)"
      ]
     },
     "execution_count": 101,
     "metadata": {},
     "output_type": "execute_result"
    }
   ],
   "source": [
    "# Create 1 df from 40 files\n",
    "df = pd.concat([pd.read_csv(r'lentach' + str(i) + '.csv', sep='\\t') for i in range(40)], axis=0)\n",
    "df.shape"
   ]
  },
  {
   "cell_type": "code",
   "execution_count": 102,
   "metadata": {
    "scrolled": true
   },
   "outputs": [
    {
     "data": {
      "text/html": [
       "<div>\n",
       "<style scoped>\n",
       "    .dataframe tbody tr th:only-of-type {\n",
       "        vertical-align: middle;\n",
       "    }\n",
       "\n",
       "    .dataframe tbody tr th {\n",
       "        vertical-align: top;\n",
       "    }\n",
       "\n",
       "    .dataframe thead th {\n",
       "        text-align: right;\n",
       "    }\n",
       "</style>\n",
       "<table border=\"1\" class=\"dataframe\">\n",
       "  <thead>\n",
       "    <tr style=\"text-align: right;\">\n",
       "      <th></th>\n",
       "      <th>Unnamed: 0</th>\n",
       "      <th>id</th>\n",
       "      <th>date</th>\n",
       "      <th>comments_count</th>\n",
       "      <th>likes_count</th>\n",
       "      <th>reposts_count</th>\n",
       "      <th>text</th>\n",
       "    </tr>\n",
       "  </thead>\n",
       "  <tbody>\n",
       "    <tr>\n",
       "      <th>98</th>\n",
       "      <td>98</td>\n",
       "      <td>11435352</td>\n",
       "      <td>2019-07-02 12:35:12</td>\n",
       "      <td>133</td>\n",
       "      <td>2793</td>\n",
       "      <td>11</td>\n",
       "      <td>Чехия сняла ограничения на полёты российских а...</td>\n",
       "    </tr>\n",
       "    <tr>\n",
       "      <th>99</th>\n",
       "      <td>99</td>\n",
       "      <td>11434988</td>\n",
       "      <td>2019-07-02 11:35:06</td>\n",
       "      <td>198</td>\n",
       "      <td>8598</td>\n",
       "      <td>204</td>\n",
       "      <td>В декабре 2018 года студент ВГИКа Артём Фирсан...</td>\n",
       "    </tr>\n",
       "    <tr>\n",
       "      <th>0</th>\n",
       "      <td>0</td>\n",
       "      <td>11434891</td>\n",
       "      <td>2019-07-02 11:20:00</td>\n",
       "      <td>43</td>\n",
       "      <td>373</td>\n",
       "      <td>6</td>\n",
       "      <td>• «Интерфакс»: число жертв паводка в Иркутской...</td>\n",
       "    </tr>\n",
       "    <tr>\n",
       "      <th>1</th>\n",
       "      <td>1</td>\n",
       "      <td>11434549</td>\n",
       "      <td>2019-07-02 10:36:15</td>\n",
       "      <td>199</td>\n",
       "      <td>5763</td>\n",
       "      <td>78</td>\n",
       "      <td>Цены на свинину, говядину и мясо птицы в Росси...</td>\n",
       "    </tr>\n",
       "    <tr>\n",
       "      <th>2</th>\n",
       "      <td>2</td>\n",
       "      <td>11434254</td>\n",
       "      <td>2019-07-02 09:34:23</td>\n",
       "      <td>288</td>\n",
       "      <td>1718</td>\n",
       "      <td>15</td>\n",
       "      <td>Сегодня утром власти Чехии запретили «Аэрофлот...</td>\n",
       "    </tr>\n",
       "  </tbody>\n",
       "</table>\n",
       "</div>"
      ],
      "text/plain": [
       "    Unnamed: 0        id                 date  comments_count  likes_count  \\\n",
       "98          98  11435352  2019-07-02 12:35:12             133         2793   \n",
       "99          99  11434988  2019-07-02 11:35:06             198         8598   \n",
       "0            0  11434891  2019-07-02 11:20:00              43          373   \n",
       "1            1  11434549  2019-07-02 10:36:15             199         5763   \n",
       "2            2  11434254  2019-07-02 09:34:23             288         1718   \n",
       "\n",
       "    reposts_count                                               text  \n",
       "98             11  Чехия сняла ограничения на полёты российских а...  \n",
       "99            204  В декабре 2018 года студент ВГИКа Артём Фирсан...  \n",
       "0               6  • «Интерфакс»: число жертв паводка в Иркутской...  \n",
       "1              78  Цены на свинину, говядину и мясо птицы в Росси...  \n",
       "2              15  Сегодня утром власти Чехии запретили «Аэрофлот...  "
      ]
     },
     "execution_count": 102,
     "metadata": {},
     "output_type": "execute_result"
    }
   ],
   "source": [
    "df[98:103]"
   ]
  },
  {
   "cell_type": "code",
   "execution_count": 103,
   "metadata": {},
   "outputs": [],
   "source": [
    "df = df.set_index('id')\n",
    "df = df.drop(['Unnamed: 0'], axis=1)"
   ]
  },
  {
   "cell_type": "code",
   "execution_count": 104,
   "metadata": {},
   "outputs": [
    {
     "data": {
      "text/html": [
       "<div>\n",
       "<style scoped>\n",
       "    .dataframe tbody tr th:only-of-type {\n",
       "        vertical-align: middle;\n",
       "    }\n",
       "\n",
       "    .dataframe tbody tr th {\n",
       "        vertical-align: top;\n",
       "    }\n",
       "\n",
       "    .dataframe thead th {\n",
       "        text-align: right;\n",
       "    }\n",
       "</style>\n",
       "<table border=\"1\" class=\"dataframe\">\n",
       "  <thead>\n",
       "    <tr style=\"text-align: right;\">\n",
       "      <th></th>\n",
       "      <th>date</th>\n",
       "      <th>comments_count</th>\n",
       "      <th>likes_count</th>\n",
       "      <th>reposts_count</th>\n",
       "      <th>text</th>\n",
       "    </tr>\n",
       "    <tr>\n",
       "      <th>id</th>\n",
       "      <th></th>\n",
       "      <th></th>\n",
       "      <th></th>\n",
       "      <th></th>\n",
       "      <th></th>\n",
       "    </tr>\n",
       "  </thead>\n",
       "  <tbody>\n",
       "    <tr>\n",
       "      <th>11460130</th>\n",
       "      <td>2019-07-06 16:13:03</td>\n",
       "      <td>92</td>\n",
       "      <td>1146</td>\n",
       "      <td>15</td>\n",
       "      <td>Список «ремейки фильмов с женщинами в главной ...</td>\n",
       "    </tr>\n",
       "    <tr>\n",
       "      <th>11459911</th>\n",
       "      <td>2019-07-06 15:33:47</td>\n",
       "      <td>155</td>\n",
       "      <td>1803</td>\n",
       "      <td>31</td>\n",
       "      <td>В России планируется своя «Википедия».\\n\\nПрав...</td>\n",
       "    </tr>\n",
       "    <tr>\n",
       "      <th>11459474</th>\n",
       "      <td>2019-07-06 14:17:03</td>\n",
       "      <td>168</td>\n",
       "      <td>6437</td>\n",
       "      <td>231</td>\n",
       "      <td>А вы тоже в детстве двигали мышкой по экрану, ...</td>\n",
       "    </tr>\n",
       "    <tr>\n",
       "      <th>11459119</th>\n",
       "      <td>2019-07-06 13:23:59</td>\n",
       "      <td>130</td>\n",
       "      <td>4821</td>\n",
       "      <td>141</td>\n",
       "      <td>Уже десять лет каждую первую субботу июля росс...</td>\n",
       "    </tr>\n",
       "    <tr>\n",
       "      <th>11458585</th>\n",
       "      <td>2019-07-06 12:11:06</td>\n",
       "      <td>681</td>\n",
       "      <td>5606</td>\n",
       "      <td>81</td>\n",
       "      <td>Основатель Amazon Джефф Безос официально развё...</td>\n",
       "    </tr>\n",
       "  </tbody>\n",
       "</table>\n",
       "</div>"
      ],
      "text/plain": [
       "                         date  comments_count  likes_count  reposts_count  \\\n",
       "id                                                                          \n",
       "11460130  2019-07-06 16:13:03              92         1146             15   \n",
       "11459911  2019-07-06 15:33:47             155         1803             31   \n",
       "11459474  2019-07-06 14:17:03             168         6437            231   \n",
       "11459119  2019-07-06 13:23:59             130         4821            141   \n",
       "11458585  2019-07-06 12:11:06             681         5606             81   \n",
       "\n",
       "                                                       text  \n",
       "id                                                           \n",
       "11460130  Список «ремейки фильмов с женщинами в главной ...  \n",
       "11459911  В России планируется своя «Википедия».\\n\\nПрав...  \n",
       "11459474  А вы тоже в детстве двигали мышкой по экрану, ...  \n",
       "11459119  Уже десять лет каждую первую субботу июля росс...  \n",
       "11458585  Основатель Amazon Джефф Безос официально развё...  "
      ]
     },
     "execution_count": 104,
     "metadata": {},
     "output_type": "execute_result"
    }
   ],
   "source": [
    "df.head()"
   ]
  },
  {
   "cell_type": "code",
   "execution_count": 105,
   "metadata": {},
   "outputs": [
    {
     "name": "stdout",
     "output_type": "stream",
     "text": [
      "<class 'pandas.core.frame.DataFrame'>\n",
      "Int64Index: 4000 entries, 11460130 to 10386610\n",
      "Data columns (total 5 columns):\n",
      "date              4000 non-null object\n",
      "comments_count    4000 non-null int64\n",
      "likes_count       4000 non-null int64\n",
      "reposts_count     4000 non-null int64\n",
      "text              3864 non-null object\n",
      "dtypes: int64(3), object(2)\n",
      "memory usage: 187.5+ KB\n"
     ]
    }
   ],
   "source": [
    "df.info()"
   ]
  },
  {
   "cell_type": "markdown",
   "metadata": {},
   "source": [
    "### 2. Обработка. \n",
    "\n",
    "* Удалим пропуски в значениях текста, т.к. никакая их обработка не поможет нашей цели\n",
    "* Удалим русские стоп слова и знаки переноса строки (очистим текст)\n",
    "* Разобьем каждый из текстов на отдельные слова\n",
    "* Приведем слова к нормальной форме\n"
   ]
  },
  {
   "cell_type": "code",
   "execution_count": 106,
   "metadata": {},
   "outputs": [
    {
     "name": "stdout",
     "output_type": "stream",
     "text": [
      "<class 'pandas.core.frame.DataFrame'>\n",
      "Int64Index: 3864 entries, 11460130 to 10386610\n",
      "Data columns (total 5 columns):\n",
      "date              3864 non-null object\n",
      "comments_count    3864 non-null int64\n",
      "likes_count       3864 non-null int64\n",
      "reposts_count     3864 non-null int64\n",
      "text              3864 non-null object\n",
      "dtypes: int64(3), object(2)\n",
      "memory usage: 181.1+ KB\n"
     ]
    }
   ],
   "source": [
    "df = df.dropna()\n",
    "df.info()"
   ]
  },
  {
   "cell_type": "markdown",
   "metadata": {},
   "source": [
    "Добавим в перечень стоп слов те, что не несут особой смысловой нагрузки"
   ]
  },
  {
   "cell_type": "code",
   "execution_count": 339,
   "metadata": {},
   "outputs": [],
   "source": [
    "stop_words = stopwords.words('russian')\n",
    "stop_words.extend(['http', 'https', 'lenta', 'ch', 'cc', 'ow', 'news', 'vk', 'upd', 'the', 'id', 'ows',\n",
    "                   'который', 'это', 'один', 'главный', 'свой', 'такой', 'лентач', 'ещё', 'еще', 'самый', 'тот', 'пока', \n",
    "                   'мол', 'некоторый', 'почему', 'отдельный', 'год', 'неделя', 'сегодня', 'впервые', 'будущий', 'оно',\n",
    "                  'сразу', 'затем', 'этот', 'также', 'жаль', 'сейчас', 'поэтому', 'лаифкаха', 'ввод', 'вывод', 'broco', 'утро'\n",
    "                  'последний', 'то', 'ничто', 'весь', 'стать', 'она', 'дать', 'хороший', 'весь', 'новый', 'имя', 'oqib',\n",
    "                   'день', 'хотеть', 'большой', 'наш', 'узнать', 'очень', 'сделаться', 'просто', 'час', 'минута',\n",
    "                   'назад', 'сюда', 'увеличиться', 'отдельный', 'полностью', 'перестать', 'иметь', 'owyt', 'проходить', 'июль',\n",
    "                   'сделать', 'делать', 'читать', 'писать', 'число', 'считать', 'каждый', 'ряд', 'начало', 'конец', \n",
    "                   'пикчер', 'ваш', 'любой', 'снова', 'сколько', 'club', 'например', 'лишь', 'целый', 'начать', 'получить', \n",
    "                   'com', 'кстати', 'вместо', 'watch', 'один', 'два', 'три', 'четыре', 'пять', 'шесть', 'семь', 'восемь', \n",
    "                   'девять', 'десять','третье', 'мем', 'мема', 'слово', 'пара', 'январь', 'сегодня', 'суббота', 'ждать',\n",
    "                   'ru', 'часто', 'тема', 'название', 'вокруг', 'oiahd', 'никто',  'остаться', 'сотня', 'сказать', 'называть', \n",
    "                   'предложение', 'представить', 'собираться', 'предложение', 'около', 'нужно', 'сильно', 'вокруг', 'март', 'именно', \n",
    "                   'отправить', 'получать', 'бывший', 'вчера', 'май', 'апрель', 'несколько', 'продолжать',\n",
    "                   'взять', 'пройтись', 'использовать', 'почитать', 'вообще', 'рассказать', 'оказаться', 'rowp', 'ro', 'rrzf', \n",
    "                   'никак', 'хотя', 'rreq', 'grace', 'three'\n",
    "#                    ,'ropr', 'практически', 'rrg', 'rofm'\n",
    "                  ])\n",
    "stop_words = set(stop_words)"
   ]
  },
  {
   "cell_type": "code",
   "execution_count": 340,
   "metadata": {},
   "outputs": [],
   "source": [
    "def clean(text):\n",
    "    # Remove garbage from lines\n",
    "    text = re.sub(r'\\n', ' ', text, flags=re.IGNORECASE)\n",
    "    text = re.sub(r'•', '', text, flags=re.IGNORECASE)\n",
    "    text = text.replace('ё','е')\n",
    "    return text\n",
    "\n",
    "\n",
    "def doc_to_words(doc, stop_words, morph):\n",
    "    # remove stop words and punctuation + lemmatize\n",
    "    words = [morph.parse(w)[0].normal_form for w in gensim.utils.simple_preprocess(str(doc), deacc=False) \\\n",
    "             if morph.parse(w)[0].normal_form not in stop_words]\n",
    "    \n",
    "#     # make lemmatization\n",
    "#     words = [morph.parse(w)[0].normal_form for w in words if morph.parse(w)[0].normal_form not in stop_words]\n",
    "    \n",
    "    return words"
   ]
  },
  {
   "cell_type": "code",
   "execution_count": 341,
   "metadata": {},
   "outputs": [],
   "source": [
    "# Clean and split by words\n",
    "\n",
    "morph = pymorphy2.MorphAnalyzer()\n",
    "\n",
    "data = df.text.values.tolist()\n",
    "data = [clean(t) for t in data]\n",
    "data_words = [doc_to_words(text, stop_words, morph) for text in data]"
   ]
  },
  {
   "cell_type": "code",
   "execution_count": 342,
   "metadata": {
    "scrolled": false
   },
   "outputs": [
    {
     "name": "stdout",
     "output_type": "stream",
     "text": [
      "Список «ремейки фильмов с женщинами в главной роли» может пополниться еще одной картиной.  На этот раз в лучших традициях последних лет планируют переснять ту самую «Маску» с Джимом Кэрри  http://news.lenta.ch/Ow21\n",
      "['список', 'ремейка', 'фильм', 'женщина', 'роль', 'мочь', 'пополниться', 'картина', 'традиция', 'последний', 'планировать', 'переснять', 'маска', 'джим', 'кэрри']\n"
     ]
    }
   ],
   "source": [
    "print(data[0])\n",
    "print(data_words[0])"
   ]
  },
  {
   "cell_type": "markdown",
   "metadata": {},
   "source": [
    "### 3. Построение моделей\n",
    "\n",
    "* Найдем биграммы слов в каждом тексте\n",
    "* Занумеруем биграммы (добавив им id) и посчитаем сколько раз то или иное слово встречалось внутри каждого текста (сделаем корпус)\n",
    "* Попробуем разбить тексты на несколько тематик: построим зависимость когерентности от количества тематик; оптимальное число отобразим\n",
    "* "
   ]
  },
  {
   "cell_type": "code",
   "execution_count": 343,
   "metadata": {},
   "outputs": [],
   "source": [
    "# Build the bigram and trigram models\n",
    "bigram = gensim.models.Phrases(data_words, min_count=5, threshold=1, delimiter=b' ') # higher threshold fewer phrases.\n",
    "\n",
    "bigram_mod = gensim.models.phrases.Phraser(bigram)    \n",
    "data_words_bigrams = [bigram_mod[w] for w in data_words]"
   ]
  },
  {
   "cell_type": "code",
   "execution_count": 344,
   "metadata": {
    "scrolled": true
   },
   "outputs": [
    {
     "data": {
      "text/plain": [
       "[['утром',\n",
       "  'власть',\n",
       "  'чехия',\n",
       "  'запретить',\n",
       "  'аэрофлот',\n",
       "  'победа',\n",
       "  'уральский',\n",
       "  'авиалиния',\n",
       "  'полёт',\n",
       "  'страна',\n",
       "  'источник',\n",
       "  'интерфакс',\n",
       "  'сообщить',\n",
       "  'вина',\n",
       "  'недовольство',\n",
       "  'прага',\n",
       "  'условие',\n",
       "  'транссибирский',\n",
       "  'маршрут',\n",
       "  'чешский',\n",
       "  'национальный',\n",
       "  'перевозчик',\n",
       "  'поздний',\n",
       "  'руководитель',\n",
       "  'уральский',\n",
       "  'авиалиния',\n",
       "  'сообщить',\n",
       "  'авиакомпания',\n",
       "  'возобновить',\n",
       "  'полёт',\n",
       "  'екатеринбург',\n",
       "  'прага',\n",
       "  'oq'],\n",
       " ['отмечаться всемирный',\n",
       "  'нло',\n",
       "  'уфолог',\n",
       "  'случай',\n",
       "  'принести',\n",
       "  'текст',\n",
       "  'амбициозный',\n",
       "  'попытка',\n",
       "  'человечество',\n",
       "  'сконструировать',\n",
       "  'летать',\n",
       "  'тарелка'],\n",
       " ['право',\n",
       "  'качнуть',\n",
       "  'мочь',\n",
       "  'качнуть',\n",
       "  'качка',\n",
       "  'включить',\n",
       "  'губернатор',\n",
       "  'красноярский край',\n",
       "  'александр',\n",
       "  'усс',\n",
       "  'жительница',\n",
       "  'затопить',\n",
       "  'город',\n",
       "  'спросить',\n",
       "  'видеть',\n",
       "  'местный',\n",
       "  'дорога',\n",
       "  'размыть',\n",
       "  'yp',\n",
       "  'tc'],\n",
       " ['soundgarden',\n",
       "  'американский рок',\n",
       "  'группа',\n",
       "  'сиэтл',\n",
       "  'образовать',\n",
       "  'родоначальник',\n",
       "  'стиль',\n",
       "  'относить',\n",
       "  'четвёрка',\n",
       "  'сиэтлский',\n",
       "  'гранж',\n",
       "  'наряду',\n",
       "  'pearl',\n",
       "  'jam',\n",
       "  'nirvana',\n",
       "  'alice',\n",
       "  'in',\n",
       "  'chains',\n",
       "  'традиционный радиолентач'],\n",
       " ['безопасность',\n",
       "  'электронный',\n",
       "  'выбор',\n",
       "  'мосгордума',\n",
       "  'обеспечить',\n",
       "  'система',\n",
       "  'сайт',\n",
       "  'мэр',\n",
       "  'москва',\n",
       "  'житель',\n",
       "  'ставропольский',\n",
       "  'край',\n",
       "  'оштрафовать',\n",
       "  'неуважение власть',\n",
       "  'пост',\n",
       "  'вк',\n",
       "  'путин',\n",
       "  'аукцион',\n",
       "  'бостон',\n",
       "  'выставить',\n",
       "  'свитшота',\n",
       "  'принцесса',\n",
       "  'диана',\n",
       "  'новость'],\n",
       " ['шойгу',\n",
       "  'подготовить',\n",
       "  'миноборона',\n",
       "  'законопроект',\n",
       "  'согласно',\n",
       "  'иностранец',\n",
       "  'санкция',\n",
       "  'уголовный',\n",
       "  'ответственность',\n",
       "  'осквернение',\n",
       "  'советский',\n",
       "  'памятник',\n",
       "  'граница',\n",
       "  'oqb'],\n",
       " ['левада центр',\n",
       "  'просмотр',\n",
       "  'фильм',\n",
       "  'сериал',\n",
       "  'являться',\n",
       "  'популярный',\n",
       "  'досуг',\n",
       "  'россиянин',\n",
       "  'oqt'],\n",
       " ['иркутский область',\n",
       "  'наводнение',\n",
       "  'затопить',\n",
       "  'тысяча',\n",
       "  'дом',\n",
       "  'вовсе',\n",
       "  'разрушить',\n",
       "  'стихия',\n",
       "  'доброволец',\n",
       "  'совместно',\n",
       "  'мчс',\n",
       "  'спасать',\n",
       "  'завал',\n",
       "  'домашний',\n",
       "  'животное',\n",
       "  'привязь',\n",
       "  'эвакуация',\n",
       "  'местный житель',\n",
       "  'удаться',\n",
       "  'спасти',\n",
       "  'питомец'],\n",
       " ['дело иван',\n",
       "  'голунов',\n",
       "  'передать',\n",
       "  'ск',\n",
       "  'навальный',\n",
       "  'найти',\n",
       "  'лидер',\n",
       "  'московский',\n",
       "  'единый россия',\n",
       "  'недвижимость',\n",
       "  'миллиард рубль',\n",
       "  'жительница',\n",
       "  'свердловский область',\n",
       "  'поджечь',\n",
       "  'вышка',\n",
       "  'сотовый',\n",
       "  'связь',\n",
       "  'посмотреть',\n",
       "  'видео',\n",
       "  'вред',\n",
       "  'интернет',\n",
       "  'новость'],\n",
       " ['итальянский',\n",
       "  'футбольный',\n",
       "  'клуб',\n",
       "  'объявление',\n",
       "  'трансфер',\n",
       "  'сообщать',\n",
       "  'пропасть',\n",
       "  'ребёнок',\n",
       "  'oaqw']]"
      ]
     },
     "execution_count": 344,
     "metadata": {},
     "output_type": "execute_result"
    }
   ],
   "source": [
    "data_words_bigrams[100:110]"
   ]
  },
  {
   "cell_type": "code",
   "execution_count": 345,
   "metadata": {},
   "outputs": [],
   "source": [
    "id2word = corpora.Dictionary(data_words_bigrams) # token to id (add ids to tokens)\n",
    "corpus = [id2word.doc2bow(text) for text in data_words_bigrams] # create (token_id, token_count): 2-tuples"
   ]
  },
  {
   "cell_type": "code",
   "execution_count": 346,
   "metadata": {},
   "outputs": [
    {
     "name": "stdout",
     "output_type": "stream",
     "text": [
      "[(25, 1), (26, 1), (27, 1), (28, 2), (29, 1), (30, 1), (31, 2), (32, 1), (33, 1), (34, 2), (35, 2), (36, 1), (37, 1), (38, 1), (39, 1), (40, 1), (41, 2), (42, 5), (43, 1), (44, 1), (45, 1), (46, 1), (47, 1), (48, 1), (49, 1), (50, 1), (51, 1), (52, 1), (53, 4), (54, 1), (55, 1), (56, 1), (57, 1), (58, 1), (59, 1), (60, 1), (61, 1), (62, 1), (63, 1), (64, 1), (65, 1), (66, 3), (67, 2), (68, 1), (69, 1), (70, 1), (71, 1), (72, 1), (73, 1), (74, 1), (75, 1), (76, 3), (77, 1), (78, 2), (79, 1), (80, 1), (81, 1)]\n",
      "система\n"
     ]
    }
   ],
   "source": [
    "print(corpus[2])\n",
    "print(id2word[67])"
   ]
  },
  {
   "cell_type": "code",
   "execution_count": 347,
   "metadata": {},
   "outputs": [],
   "source": [
    "# data[2].count('фоновый')"
   ]
  },
  {
   "cell_type": "code",
   "execution_count": 348,
   "metadata": {},
   "outputs": [],
   "source": [
    "def compute_coherence_values(dictionary, corpus, texts, limit, start=2, step=3):\n",
    "\n",
    "    coherence_values = []\n",
    "    model_list = []\n",
    "    for num_topics in range(start, limit, step):\n",
    "        model = gensim.models.ldamodel.LdaModel(\n",
    "            corpus=corpus,\n",
    "            id2word=dictionary,\n",
    "            num_topics=num_topics, \n",
    "            random_state=100,\n",
    "            update_every=1,\n",
    "            chunksize=100,\n",
    "            passes=10,\n",
    "            alpha='auto',\n",
    "            per_word_topics=True)\n",
    "        model_list.append(model)\n",
    "        coherencemodel = CoherenceModel(model=model, texts=texts, dictionary=dictionary, coherence='c_v')\n",
    "        coherence_values.append(coherencemodel.get_coherence())\n",
    "\n",
    "    return model_list, coherence_values"
   ]
  },
  {
   "cell_type": "code",
   "execution_count": 349,
   "metadata": {},
   "outputs": [],
   "source": [
    "limit=120; start=2; step=5;\n",
    "model_list, coherence_values = compute_coherence_values(dictionary=id2word, \n",
    "                                                        corpus=corpus, \n",
    "                                                        texts=data_words_bigrams, \n",
    "                                                        start=start, \n",
    "                                                        limit=limit, \n",
    "                                                        step=step)"
   ]
  },
  {
   "cell_type": "code",
   "execution_count": 350,
   "metadata": {
    "scrolled": true
   },
   "outputs": [
    {
     "data": {
      "image/png": "[encoded data removed]",
      "text/plain": [
       "<Figure size 1080x360 with 1 Axes>"
      ]
     },
     "metadata": {
      "needs_background": "light"
     },
     "output_type": "display_data"
    },
    {
     "name": "stdout",
     "output_type": "stream",
     "text": [
      "2:  0.2824058483332572\n",
      "7:  0.4459373092719274\n",
      "12:  0.4451462673738904\n",
      "17:  0.438589952109736\n",
      "22:  0.41856354455630274\n",
      "27:  0.4097270723951542\n",
      "32:  0.4437946014531407\n",
      "37:  0.47266946267223686\n",
      "42:  0.43986441031590523\n",
      "47:  0.4731418310269665\n",
      "52:  0.47013304451171817\n",
      "57:  0.4884236513629661\n",
      "62:  0.4771542850344652\n",
      "67:  0.4958819420134193\n",
      "72:  0.4967191167490203\n",
      "77:  0.4962258904376896\n",
      "82:  0.5022723501232148\n",
      "87:  0.5092269781753147\n",
      "92:  0.5162726879806588\n",
      "97:  0.5191060498872501\n",
      "102:  0.5222267862675477\n",
      "107:  0.5091094021929291\n",
      "112:  0.5131078963307054\n",
      "117:  0.517567930879251\n"
     ]
    }
   ],
   "source": [
    "x = range(start, limit, step)\n",
    "plt.figure(figsize=(15,5))\n",
    "plt.plot(x, coherence_values)\n",
    "plt.xlabel(\"Num Topics\")\n",
    "plt.ylabel(\"Coherence score\")\n",
    "plt.legend((\"coherence_values\"), loc='best')\n",
    "plt.show()\n",
    "\n",
    "for i, j in enumerate(coherence_values):\n",
    "    print(str(2 + i*5) + ':  ' + str(j))"
   ]
  },
  {
   "cell_type": "markdown",
   "metadata": {},
   "source": [
    "Видно, что график начинает выходить на плато только после порога в 100 тем (лучшее значение в нашей разбивке с шагом 5 - 102 темы, скор 0.52). Попробуем разбить на 102 темы и на меньшее число (около 40):"
   ]
  },
  {
   "cell_type": "code",
   "execution_count": 359,
   "metadata": {
    "scrolled": true
   },
   "outputs": [
    {
     "name": "stdout",
     "output_type": "stream",
     "text": [
      "[(9,\n",
      "  '0.078*\"практически\" + 0.000*\"тренировка\" + 0.000*\"бегать\" + '\n",
      "  '0.000*\"барнаульский\" + 0.000*\"постгранж\" + 0.000*\"подвести\" + '\n",
      "  '0.000*\"тёплый\" + 0.000*\"размещать\" + 0.000*\"агенство\" + 0.000*\"пин\"'),\n",
      " (46,\n",
      "  '0.073*\"нейросеть\" + 0.054*\"элемент\" + 0.031*\"научить\" + 0.025*\"фотошоп\" + '\n",
      "  '0.008*\"обнаруживать\" + 0.000*\"постгранж\" + 0.000*\"телекомпания\" + '\n",
      "  '0.000*\"размещать\" + 0.000*\"ночлег\" + 0.000*\"ropr\"'),\n",
      " (42,\n",
      "  '0.097*\"официально\" + 0.057*\"планета\" + 0.033*\"супруг\" + 0.017*\"хватить\" + '\n",
      "  '0.000*\"подвести\" + 0.000*\"тёплый\" + 0.000*\"тренировка\" + '\n",
      "  '0.000*\"барнаульский\" + 0.000*\"пин\" + 0.000*\"visa\"'),\n",
      " (41,\n",
      "  '0.111*\"дмитрий\" + 0.042*\"агентство\" + 0.041*\"предложить ввести\" + '\n",
      "  '0.034*\"спортсмен\" + 0.033*\"всемирный\" + 0.030*\"употребление\" + '\n",
      "  '0.025*\"строгий\" + 0.024*\"завести дело\" + 0.021*\"заподозрить\" + '\n",
      "  '0.013*\"антидопинговый\"'),\n",
      " (88,\n",
      "  '0.099*\"население\" + 0.081*\"крутой\" + 0.061*\"вич\" + 0.039*\"розыгрыш\" + '\n",
      "  '0.038*\"согласно\" + 0.030*\"лето\" + 0.027*\"отчёт\" + 0.027*\"дарить\" + '\n",
      "  '0.020*\"российский регион\" + 0.018*\"возрасти\"'),\n",
      " (78,\n",
      "  '0.110*\"написать\" + 0.081*\"мнение\" + 0.073*\"друг\" + 0.055*\"мама\" + '\n",
      "  '0.053*\"депутат госдума\" + 0.041*\"брать\" + 0.040*\"прийти\" + '\n",
      "  '0.031*\"следовать\" + 0.027*\"ярославль\" + 0.008*\"взорвать\"'),\n",
      " (100,\n",
      "  '0.157*\"собрать\" + 0.074*\"фото\" + 0.072*\"разный\" + 0.053*\"путешествие\" + '\n",
      "  '0.029*\"сезон\" + 0.029*\"суверенный\" + 0.021*\"подходить\" + 0.019*\"отпуск\" + '\n",
      "  '0.016*\"оборот\" + 0.013*\"юбилейный\"'),\n",
      " (79,\n",
      "  '0.231*\"последний\" + 0.152*\"месяц\" + 0.069*\"вырасти\" + 0.048*\"курс\" + '\n",
      "  '0.028*\"полтора\" + 0.022*\"вдвое\" + 0.012*\"криптовалюта\" + 0.000*\"постгранж\" '\n",
      "  '+ 0.000*\"ночлег\" + 0.000*\"барнаульский\"'),\n",
      " (49,\n",
      "  '0.355*\"рубль\" + 0.108*\"объяснить\" + 0.066*\"свободный\" + 0.014*\"гостиница\" + '\n",
      "  '0.013*\"минпромторг\" + 0.012*\"проживание\" + 0.000*\"подвести\" + '\n",
      "  '0.000*\"барнаульский\" + 0.000*\"постгранж\" + 0.000*\"ночлег\"'),\n",
      " (20,\n",
      "  '0.113*\"запустить\" + 0.069*\"аккаунт\" + 0.062*\"обвинять\" + 0.061*\"режим\" + '\n",
      "  '0.038*\"немного\" + 0.038*\"бензин\" + 0.027*\"instagram\" + 0.021*\"регион '\n",
      "  'россия\" + 0.020*\"whatsapp\" + 0.020*\"телеграм\"'),\n",
      " (40,\n",
      "  '0.160*\"полиция\" + 0.100*\"отказаться\" + 0.087*\"произойти\" + 0.077*\"взрыв\" + '\n",
      "  '0.070*\"случай\" + 0.048*\"погибнуть\" + 0.043*\"минобороны\" + 0.024*\"отмечать\" '\n",
      "  '+ 0.022*\"беларусь\" + 0.021*\"назначить\"'),\n",
      " (28,\n",
      "  '0.133*\"решить\" + 0.123*\"предложить\" + 0.102*\"учёный\" + 0.100*\"провести\" + '\n",
      "  '0.038*\"правда\" + 0.034*\"условие\" + 0.026*\"госдума принять\" + 0.024*\"цель\" + '\n",
      "  '0.019*\"отсутствие\" + 0.018*\"эксперимент\"'),\n",
      " (12,\n",
      "  '0.232*\"время\" + 0.169*\"страна\" + 0.038*\"совет\" + 0.036*\"развитие\" + '\n",
      "  '0.028*\"учитель\" + 0.027*\"важный\" + 0.024*\"ученик\" + 0.023*\"многий\" + '\n",
      "  '0.022*\"покинуть\" + 0.021*\"подарить\"'),\n",
      " (48,\n",
      "  '0.068*\"гражданин\" + 0.066*\"говорить\" + 0.065*\"участник\" + 0.051*\"среди\" + '\n",
      "  '0.050*\"право\" + 0.042*\"победа\" + 0.037*\"требование\" + 0.036*\"акция\" + '\n",
      "  '0.034*\"акция протест\" + 0.032*\"организатор\"'),\n",
      " (62,\n",
      "  '0.283*\"мочь\" + 0.059*\"разрешить\" + 0.051*\"качество\" + 0.049*\"служба\" + '\n",
      "  '0.034*\"автор\" + 0.030*\"стоимость\" + 0.030*\"готовый\" + 0.029*\"клип\" + '\n",
      "  '0.022*\"изменить\" + 0.018*\"youtube\"'),\n",
      " (93,\n",
      "  '0.164*\"дело\" + 0.071*\"журналист\" + 0.052*\"мвд\" + 0.036*\"иван голунов\" + '\n",
      "  '0.034*\"вместе\" + 0.033*\"связать\" + 0.032*\"управление\" + 0.032*\"сми '\n",
      "  'сообщать\" + 0.030*\"алексей\" + 0.027*\"происходить\"'),\n",
      " (77,\n",
      "  '0.202*\"москва\" + 0.182*\"власть\" + 0.070*\"депутат\" + 0.034*\"городской\" + '\n",
      "  '0.034*\"борьба\" + 0.027*\"проверить\" + 0.026*\"уходить\" + 0.024*\"обратиться\" + '\n",
      "  '0.022*\"столица\" + 0.022*\"фбк\"'),\n",
      " (15,\n",
      "  '0.203*\"заявить\" + 0.117*\"глава\" + 0.071*\"пост\" + 0.059*\"говорят\" + '\n",
      "  '0.053*\"сервис\" + 0.053*\"нарушение\" + 0.035*\"доступ\" + 0.033*\"губернатор\" + '\n",
      "  '0.030*\"заявление\" + 0.025*\"яндекс\"'),\n",
      " (33,\n",
      "  '0.323*\"человек\" + 0.157*\"город\" + 0.087*\"место\" + 0.085*\"дом\" + '\n",
      "  '0.033*\"территория\" + 0.017*\"эвакуация\" + 0.016*\"поиск\" + 0.016*\"спасатель\" '\n",
      "  '+ 0.014*\"участок\" + 0.013*\"организовать\"'),\n",
      " (69,\n",
      "  '0.299*\"новость\" + 0.248*\"россия\" + 0.121*\"российский\" + 0.038*\"информация\" '\n",
      "  '+ 0.028*\"лицо\" + 0.026*\"начаться\" + 0.017*\"европа\" + 0.012*\"необходимый\" + '\n",
      "  '0.012*\"мужской\" + 0.011*\"ошибка\"')]\n"
     ]
    }
   ],
   "source": [
    "lda_model = gensim.models.ldamodel.LdaModel(\n",
    "        corpus=corpus,\n",
    "        id2word=id2word,\n",
    "        num_topics=102, \n",
    "        random_state=100,\n",
    "        update_every=1,\n",
    "        chunksize=500,\n",
    "        passes=50,\n",
    "        alpha='auto');\n",
    "pprint(lda_model.print_topics())"
   ]
  },
  {
   "cell_type": "code",
   "execution_count": 360,
   "metadata": {},
   "outputs": [
    {
     "name": "stdout",
     "output_type": "stream",
     "text": [
      "\n",
      "Perplexity:  -47.78703395975886\n",
      "\n",
      "Coherence Score:  0.42505484008566446\n"
     ]
    }
   ],
   "source": [
    "# Compute Perplexity\n",
    "print('\\nPerplexity: ', lda_model.log_perplexity(corpus))  # a measure of how good the model is. lower the better.\n",
    "\n",
    "# Compute Coherence Score\n",
    "coherence_model_lda = CoherenceModel(model=lda_model, texts=data_words_bigrams, dictionary=id2word, coherence='c_v')\n",
    "coherence_lda = coherence_model_lda.get_coherence()\n",
    "print('\\nCoherence Score: ', coherence_lda)"
   ]
  },
  {
   "cell_type": "code",
   "execution_count": 352,
   "metadata": {},
   "outputs": [
    {
     "data": {
      "image/png": "[encoded data removed]",
      "text/plain": [
       "<Figure size 1080x360 with 1 Axes>"
      ]
     },
     "metadata": {
      "needs_background": "light"
     },
     "output_type": "display_data"
    },
    {
     "name": "stdout",
     "output_type": "stream",
     "text": [
      "32:  0.4437946014531407\n",
      "33:  0.43662784227072066\n",
      "34:  0.4536197234145233\n",
      "35:  0.4378739256495153\n",
      "36:  0.47710233557771403\n",
      "37:  0.47266946267223686\n",
      "38:  0.4440012363136891\n",
      "39:  0.47626281508710916\n",
      "40:  0.4798717151959172\n",
      "41:  0.46101051975559404\n"
     ]
    }
   ],
   "source": [
    "# \n",
    "limit=42; start=32; step=1;\n",
    "model_list, coherence_values = compute_coherence_values(dictionary=id2word, \n",
    "                                                        corpus=corpus, \n",
    "                                                        texts=data_words_bigrams, \n",
    "                                                        start=start, \n",
    "                                                        limit=limit, \n",
    "                                                        step=step)\n",
    "\n",
    "x = range(start, limit, step)\n",
    "plt.figure(figsize=(15,5))\n",
    "plt.plot(x, coherence_values)\n",
    "plt.xlabel(\"Num Topics\")\n",
    "plt.ylabel(\"Coherence score\")\n",
    "plt.legend((\"coherence_values\"), loc='best')\n",
    "plt.show()\n",
    "\n",
    "for i, j in enumerate(coherence_values):\n",
    "    print(str(start + i*step) + ':  ' + str(j))"
   ]
  },
  {
   "cell_type": "code",
   "execution_count": 357,
   "metadata": {
    "scrolled": true
   },
   "outputs": [
    {
     "name": "stdout",
     "output_type": "stream",
     "text": [
      "[(13,\n",
      "  '0.036*\"технология\" + 0.033*\"друг\" + 0.030*\"владелец\" + 0.029*\"современный\" '\n",
      "  '+ 0.027*\"исследование\" + 0.027*\"бесплатный\" + 0.024*\"лекция\" + '\n",
      "  '0.023*\"заставить\" + 0.022*\"клуб\" + 0.021*\"авария\"'),\n",
      " (9,\n",
      "  '0.051*\"центр\" + 0.045*\"итог\" + 0.035*\"зеленский\" + 0.031*\"регистрация\" + '\n",
      "  '0.026*\"кино\" + 0.025*\"килограмм\" + 0.021*\"кремль\" + 0.021*\"освободить\" + '\n",
      "  '0.021*\"ссылка\" + 0.013*\"источник\"'),\n",
      " (30,\n",
      "  '0.056*\"альбом\" + 0.056*\"выпустить\" + 0.036*\"радиолентач\" + 0.036*\"развитие\" '\n",
      "  '+ 0.030*\"ровно\" + 0.030*\"мнение\" + 0.023*\"многий\" + 0.022*\"покинуть\" + '\n",
      "  '0.022*\"минимум\" + 0.018*\"легендарный\"'),\n",
      " (35,\n",
      "  '0.061*\"месяц\" + 0.052*\"часть\" + 0.034*\"прийтись\" + 0.033*\"знать\" + '\n",
      "  '0.027*\"создание\" + 0.027*\"вырасти\" + 0.024*\"будущее\" + 0.021*\"включая\" + '\n",
      "  '0.018*\"матерь\" + 0.017*\"победить\"'),\n",
      " (28,\n",
      "  '0.037*\"смочь\" + 0.028*\"важный\" + 0.025*\"использование\" + 0.023*\"парень\" + '\n",
      "  '0.021*\"путешествие\" + 0.019*\"сцена\" + 0.018*\"рождение\" + 0.017*\"оружие\" + '\n",
      "  '0.016*\"родиться\" + 0.015*\"кузбасс\"'),\n",
      " (37,\n",
      "  '0.058*\"сообщение\" + 0.036*\"проверка\" + 0.032*\"борьба\" + 0.029*\"движение\" + '\n",
      "  '0.028*\"возможность\" + 0.025*\"новость результат\" + 0.025*\"проверить\" + '\n",
      "  '0.019*\"розыгрыш билет\" + 0.018*\"генпрокуратура\" + 0.015*\"транспорт\"'),\n",
      " (3,\n",
      "  '0.025*\"прокуратура\" + 0.025*\"нея\" + 0.024*\"готовый\" + 0.023*\"смотреть\" + '\n",
      "  '0.020*\"давать\" + 0.020*\"условие\" + 0.017*\"актуальный\" + 0.015*\"саратовский\" '\n",
      "  '+ 0.014*\"больший\" + 0.014*\"заниматься\"'),\n",
      " (4,\n",
      "  '0.063*\"депутат\" + 0.061*\"данные\" + 0.033*\"крупный\" + 0.030*\"арестовать\" + '\n",
      "  '0.027*\"франция\" + 0.026*\"левада центр\" + 0.026*\"совет\" + 0.022*\"клип\" + '\n",
      "  '0.020*\"оппозиция\" + 0.018*\"орган\"'),\n",
      " (8,\n",
      "  '0.034*\"билет\" + 0.025*\"храм\" + 0.024*\"подробность\" + 0.023*\"июнь\" + '\n",
      "  '0.020*\"париж\" + 0.020*\"фестиваль\" + 0.019*\"сутки\" + 0.018*\"единый россия\" + '\n",
      "  '0.017*\"клиент\" + 0.016*\"победитель выбрать\"'),\n",
      " (10,\n",
      "  '0.043*\"тысяча\" + 0.040*\"школьник\" + 0.037*\"цена\" + 0.037*\"доллар\" + '\n",
      "  '0.037*\"объяснить\" + 0.036*\"ловить\" + 0.035*\"животное\" + 0.027*\"спасти\" + '\n",
      "  '0.025*\"повод\" + 0.023*\"свободный\"'),\n",
      " (16,\n",
      "  '0.094*\"ребёнок\" + 0.060*\"дом\" + 0.038*\"регион\" + 0.036*\"взрыв\" + '\n",
      "  '0.033*\"говорят\" + 0.027*\"пострадавший\" + 0.025*\"наркотик\" + '\n",
      "  '0.025*\"материал\" + 0.023*\"район\" + 0.022*\"родитель\"'),\n",
      " (39,\n",
      "  '0.047*\"объявить\" + 0.043*\"работать\" + 0.038*\"информация\" + '\n",
      "  '0.034*\"планировать\" + 0.029*\"зарплата\" + 0.026*\"врач\" + '\n",
      "  '0.020*\"эвакуировать\" + 0.019*\"версия\" + 0.017*\"художник\" + 0.016*\"торговый '\n",
      "  'центр\"'),\n",
      " (17,\n",
      "  '0.101*\"власть\" + 0.043*\"результат\" + 0.038*\"произойти\" + '\n",
      "  '0.034*\"пользователь\" + 0.033*\"причина\" + 0.024*\"представитель\" + '\n",
      "  '0.019*\"местный житель\" + 0.018*\"губернатор\" + 0.017*\"запись\" + '\n",
      "  '0.017*\"машина\"'),\n",
      " (25,\n",
      "  '0.088*\"город\" + 0.049*\"пройти\" + 0.035*\"провести\" + 0.035*\"правительство\" + '\n",
      "  '0.034*\"законопроект\" + 0.026*\"участник\" + 0.023*\"случай\" + 0.020*\"право\" + '\n",
      "  '0.019*\"принять\" + 0.018*\"сергей\"'),\n",
      " (7,\n",
      "  '0.064*\"компания\" + 0.063*\"работа\" + 0.049*\"место\" + 0.047*\"решить\" + '\n",
      "  '0.031*\"игра\" + 0.028*\"больница\" + 0.025*\"ситуация\" + 0.024*\"нарушение\" + '\n",
      "  '0.021*\"вид\" + 0.019*\"качество\"'),\n",
      " (23,\n",
      "  '0.182*\"россия\" + 0.072*\"путин\" + 0.069*\"россиянин\" + 0.059*\"рубль\" + '\n",
      "  '0.040*\"жизнь\" + 0.040*\"предложить\" + 0.025*\"гражданин\" + 0.023*\"признать\" + '\n",
      "  '0.017*\"отменить\" + 0.015*\"рейтинг\"'),\n",
      " (27,\n",
      "  '0.096*\"мочь\" + 0.085*\"российский\" + 0.068*\"страна\" + 0.049*\"фильм\" + '\n",
      "  '0.034*\"запретить\" + 0.016*\"идти\" + 0.016*\"однако\" + 0.016*\"территория\" + '\n",
      "  '0.015*\"александр\" + 0.014*\"трамп\"'),\n",
      " (0,\n",
      "  '0.147*\"человек\" + 0.048*\"полиция\" + 0.040*\"мужчина\" + 0.039*\"полицейский\" + '\n",
      "  '0.035*\"женщина\" + 0.035*\"выйти\" + 0.030*\"отказаться\" + 0.028*\"акция\" + '\n",
      "  '0.028*\"против\" + 0.027*\"митинг\"'),\n",
      " (20,\n",
      "  '0.086*\"время\" + 0.071*\"москва\" + 0.043*\"история\" + 0.023*\"журналист\" + '\n",
      "  '0.022*\"вопрос\" + 0.020*\"должный\" + 0.017*\"видео\" + 0.017*\"концерт\" + '\n",
      "  '0.017*\"поддержка\" + 0.016*\"запустить\"'),\n",
      " (24,\n",
      "  '0.175*\"новость\" + 0.066*\"заявить\" + 0.052*\"дело\" + 0.048*\"житель\" + '\n",
      "  '0.044*\"сми\" + 0.038*\"глава\" + 0.028*\"петербург\" + 0.027*\"летний\" + '\n",
      "  '0.022*\"рф\" + 0.018*\"сеть\"')]\n"
     ]
    }
   ],
   "source": [
    "lda_model = gensim.models.ldamodel.LdaModel(\n",
    "        corpus=corpus,\n",
    "        id2word=id2word,\n",
    "        num_topics=40, \n",
    "        random_state=100,\n",
    "        update_every=1,\n",
    "        chunksize=500,\n",
    "        passes=50,\n",
    "        alpha='auto');\n",
    "pprint(lda_model.print_topics())"
   ]
  },
  {
   "cell_type": "code",
   "execution_count": 358,
   "metadata": {},
   "outputs": [
    {
     "name": "stdout",
     "output_type": "stream",
     "text": [
      "\n",
      "Perplexity:  -23.457996881481282\n",
      "\n",
      "Coherence Score:  0.5031962474741307\n"
     ]
    }
   ],
   "source": [
    "# Compute Perplexity\n",
    "print('\\nPerplexity: ', lda_model.log_perplexity(corpus))  # a measure of how good the model is. lower the better.\n",
    "\n",
    "# Compute Coherence Score\n",
    "coherence_model_lda = CoherenceModel(model=lda_model, texts=data_words_bigrams, dictionary=id2word, coherence='c_v')\n",
    "coherence_lda = coherence_model_lda.get_coherence()\n",
    "print('\\nCoherence Score: ', coherence_lda)"
   ]
  },
  {
   "cell_type": "markdown",
   "metadata": {},
   "source": [
    "Результат на 102 темах неплохой, но перплексия и когерентность на 40 лучше. Посмотрим теперь результат моделирования темы для паблика в целом"
   ]
  },
  {
   "cell_type": "code",
   "execution_count": 361,
   "metadata": {},
   "outputs": [],
   "source": [
    "lda_model = gensim.models.ldamodel.LdaModel(\n",
    "        corpus=corpus,\n",
    "        id2word=id2word,\n",
    "        num_topics=1, \n",
    "        random_state=100,\n",
    "        update_every=1,\n",
    "        chunksize=500,\n",
    "        passes=50,\n",
    "        alpha='auto');"
   ]
  },
  {
   "cell_type": "code",
   "execution_count": 362,
   "metadata": {},
   "outputs": [
    {
     "name": "stdout",
     "output_type": "stream",
     "text": [
      "[(0,\n",
      "  '0.006*\"новость\" + 0.005*\"россия\" + 0.004*\"человек\" + 0.003*\"время\" + '\n",
      "  '0.003*\"мочь\" + 0.002*\"российский\" + 0.002*\"москва\" + 0.002*\"заявить\" + '\n",
      "  '0.002*\"город\" + 0.002*\"власть\"')]\n"
     ]
    }
   ],
   "source": [
    "pprint(lda_model.print_topics())"
   ]
  },
  {
   "cell_type": "code",
   "execution_count": 363,
   "metadata": {},
   "outputs": [
    {
     "name": "stdout",
     "output_type": "stream",
     "text": [
      "\n",
      "Perplexity:  -9.003019930038707\n",
      "\n",
      "Coherence Score:  0.18855212800915616\n"
     ]
    }
   ],
   "source": [
    "# Compute Perplexity\n",
    "print('\\nPerplexity: ', lda_model.log_perplexity(corpus))  # a measure of how good the model is. lower the better.\n",
    "\n",
    "# Compute Coherence Score\n",
    "coherence_model_lda = CoherenceModel(model=lda_model, texts=data_words_bigrams, dictionary=id2word, coherence='c_v')\n",
    "coherence_lda = coherence_model_lda.get_coherence()\n",
    "print('\\nCoherence Score: ', coherence_lda)"
   ]
  },
  {
   "cell_type": "markdown",
   "metadata": {},
   "source": [
    "Получили похожий на правду результат: Лентач - новостной аггрегатор, рассказывающий о России и о том, как люди в ней живут. Для 1 группы: перплексия самая низкая (по модулю), но скор когерентности также самый маленький"
   ]
  },
  {
   "cell_type": "code",
   "execution_count": null,
   "metadata": {},
   "outputs": [],
   "source": []
  },
  {
   "cell_type": "code",
   "execution_count": null,
   "metadata": {},
   "outputs": [],
   "source": []
  },
  {
   "cell_type": "code",
   "execution_count": null,
   "metadata": {},
   "outputs": [],
   "source": []
  }
 ],
 "metadata": {
  "kernelspec": {
   "display_name": "Python 3",
   "language": "python",
   "name": "python3"
  },
  "language_info": {
   "codemirror_mode": {
    "name": "ipython",
    "version": 3
   },
   "file_extension": ".py",
   "mimetype": "text/x-python",
   "name": "python",
   "nbconvert_exporter": "python",
   "pygments_lexer": "ipython3",
   "version": "3.7.1"
  }
 },
 "nbformat": 4,
 "nbformat_minor": 2
}
