{
 "cells": [
  {
   "cell_type": "markdown",
   "metadata": {},
   "source": [
    "### Определение темы по постам группы вк\n",
    "\n",
    "Будем собирать посты из группы \"Лентач\" во вконтакте с целью выявить тематику группы. Рассмотрим также на какие кластеры тем можно разбить посты."
   ]
  },
  {
   "cell_type": "markdown",
   "metadata": {},
   "source": [
    "Источник: https://webdevblog.ru/tematicheskoe-modelirovanie-s-pomoshhju-gensim-python/\n",
    "\n",
    "Адаптировала под свои данные, под русскоязычный вариант"
   ]
  },
  {
   "cell_type": "code",
   "execution_count": 31,
   "metadata": {},
   "outputs": [
    {
     "name": "stderr",
     "output_type": "stream",
     "text": [
      "[nltk_data] Downloading package wordnet to /Users/mary/nltk_data...\n",
      "[nltk_data]   Package wordnet is already up-to-date!\n",
      "[nltk_data] Downloading package stopwords to /Users/mary/nltk_data...\n",
      "[nltk_data]   Package stopwords is already up-to-date!\n"
     ]
    }
   ],
   "source": [
    "from time import time\n",
    "import logging\n",
    "import sys\n",
    "import requests\n",
    "import json\n",
    "import datetime\n",
    "from ast import literal_eval\n",
    "import pandas as pd\n",
    "import numpy as np\n",
    "import configparser\n",
    "import re\n",
    "import nltk\n",
    "from nltk.corpus import stopwords \n",
    "# from nltk.stem.wordnet import WordNetLemmatizer\n",
    "nltk.download('wordnet')\n",
    "nltk.download('stopwords')\n",
    "# lemma = WordNetLemmatizer()\n",
    "\n",
    "import spacy\n",
    "import pymorphy2\n",
    "morph = pymorphy2.MorphAnalyzer()\n",
    "\n",
    "# Plotting tools\n",
    "import pyLDAvis\n",
    "import pyLDAvis.gensim\n",
    "import matplotlib.pyplot as plt\n",
    "%matplotlib inline\n",
    "\n",
    "import gensim\n",
    "import gensim.corpora as corpora\n",
    "from gensim.utils import simple_preprocess\n",
    "from gensim.models import CoherenceModel\n",
    "from pprint import pprint\n",
    "\n",
    "# Enable logging for gensim - optional\n",
    "import logging\n",
    "logging.basicConfig(format='%(asctime)s : %(levelname)s : %(message)s', level=logging.ERROR)\n",
    "\n",
    "import warnings\n",
    "warnings.filterwarnings(\"ignore\",category=DeprecationWarning)"
   ]
  },
  {
   "cell_type": "markdown",
   "metadata": {},
   "source": [
    "### 1. Сбор информации. \n",
    "\n"
   ]
  },
  {
   "cell_type": "code",
   "execution_count": 2,
   "metadata": {},
   "outputs": [],
   "source": [
    "def gather_process():\n",
    "\n",
    "    # gather data and save as txt\n",
    "    id_ = 'lentach'\n",
    "    owner_id = '29534144'# lentach\n",
    "    count = 40\n",
    "    offset = -1\n",
    "\n",
    "    # In access_token.ini we have token for vk\n",
    "    config = configparser.ConfigParser()\n",
    "    config.read('access_token.ini')\n",
    "    access_token = config.get('settings', 'token')\n",
    "    \n",
    "    for _ in range(100):\n",
    "        url = 'https://api.vk.com/method/wall.get?owner_id=-{}&count={}&offset={}&v=5.52&access_token={}'.format(\n",
    "            owner_id, count, offset + 1, access_token)\n",
    "        respond = requests.get(url)\n",
    "        with open(id_ + str(_) + '.txt', 'w') as outfile:\n",
    "            json.dump(respond.json(), outfile)\n",
    "        \n",
    "        offset += count"
   ]
  },
  {
   "cell_type": "code",
   "execution_count": 3,
   "metadata": {},
   "outputs": [],
   "source": [
    "def convert_data_to_table_format():\n",
    "    \n",
    "    # transform gathered data from txt file to pandas DataFrame and save as csv\n",
    "    id_ = 'lentach'\n",
    "    \n",
    "    for _ in range(40):\n",
    "        file = id_ + str(_) + '.txt'\n",
    "        result = literal_eval(open(file, 'r').read())\n",
    "        ids = []\n",
    "        dates = []\n",
    "        comments = []\n",
    "        likes = []\n",
    "        reposts = []\n",
    "        text = []\n",
    "\n",
    "        for item in result['response']['items']:\n",
    "            ids.append(item['id'])\n",
    "            dates.append(datetime.datetime.fromtimestamp(item['date']))\n",
    "            comments.append(item['comments']['count'])\n",
    "            likes.append(item['likes']['count'])\n",
    "            reposts.append(item['reposts']['count'])\n",
    "            text.append(item['text'].encode('utf-16', 'surrogatepass').decode('utf-16'))\n",
    "\n",
    "        df = pd.DataFrame({\n",
    "            \"id\": ids,\n",
    "            \"date\": dates,\n",
    "            \"comments_count\": comments,\n",
    "            \"likes_count\": likes,\n",
    "            \"reposts_count\": reposts,\n",
    "            \"text\": text,\n",
    "        })\n",
    "        df.to_csv(id_ + str(_) + '.csv', sep='\\t')\n",
    "    \n",
    "    pass\n",
    "\n"
   ]
  },
  {
   "cell_type": "code",
   "execution_count": 4,
   "metadata": {
    "scrolled": true
   },
   "outputs": [],
   "source": [
    "# Take latest 4 000 posts of lentach\n",
    "# gather_process()"
   ]
  },
  {
   "cell_type": "code",
   "execution_count": 5,
   "metadata": {
    "scrolled": true
   },
   "outputs": [],
   "source": [
    "# Convert to csv\n",
    "convert_data_to_table_format()"
   ]
  },
  {
   "cell_type": "code",
   "execution_count": 6,
   "metadata": {},
   "outputs": [
    {
     "data": {
      "text/plain": [
       "(4000, 7)"
      ]
     },
     "execution_count": 6,
     "metadata": {},
     "output_type": "execute_result"
    }
   ],
   "source": [
    "# Create 1 df from 40 files\n",
    "df = pd.concat([pd.read_csv(r'lentach' + str(i) + '.csv', sep='\\t') for i in range(40)], axis=0)\n",
    "df.shape"
   ]
  },
  {
   "cell_type": "code",
   "execution_count": 7,
   "metadata": {
    "scrolled": true
   },
   "outputs": [
    {
     "data": {
      "text/html": [
       "<div>\n",
       "<style scoped>\n",
       "    .dataframe tbody tr th:only-of-type {\n",
       "        vertical-align: middle;\n",
       "    }\n",
       "\n",
       "    .dataframe tbody tr th {\n",
       "        vertical-align: top;\n",
       "    }\n",
       "\n",
       "    .dataframe thead th {\n",
       "        text-align: right;\n",
       "    }\n",
       "</style>\n",
       "<table border=\"1\" class=\"dataframe\">\n",
       "  <thead>\n",
       "    <tr style=\"text-align: right;\">\n",
       "      <th></th>\n",
       "      <th>Unnamed: 0</th>\n",
       "      <th>id</th>\n",
       "      <th>date</th>\n",
       "      <th>comments_count</th>\n",
       "      <th>likes_count</th>\n",
       "      <th>reposts_count</th>\n",
       "      <th>text</th>\n",
       "    </tr>\n",
       "  </thead>\n",
       "  <tbody>\n",
       "    <tr>\n",
       "      <th>98</th>\n",
       "      <td>98</td>\n",
       "      <td>11435352</td>\n",
       "      <td>2019-07-02 12:35:12</td>\n",
       "      <td>133</td>\n",
       "      <td>2793</td>\n",
       "      <td>11</td>\n",
       "      <td>Чехия сняла ограничения на полёты российских а...</td>\n",
       "    </tr>\n",
       "    <tr>\n",
       "      <th>99</th>\n",
       "      <td>99</td>\n",
       "      <td>11434988</td>\n",
       "      <td>2019-07-02 11:35:06</td>\n",
       "      <td>198</td>\n",
       "      <td>8598</td>\n",
       "      <td>204</td>\n",
       "      <td>В декабре 2018 года студент ВГИКа Артём Фирсан...</td>\n",
       "    </tr>\n",
       "    <tr>\n",
       "      <th>0</th>\n",
       "      <td>0</td>\n",
       "      <td>11434891</td>\n",
       "      <td>2019-07-02 11:20:00</td>\n",
       "      <td>43</td>\n",
       "      <td>373</td>\n",
       "      <td>6</td>\n",
       "      <td>• «Интерфакс»: число жертв паводка в Иркутской...</td>\n",
       "    </tr>\n",
       "    <tr>\n",
       "      <th>1</th>\n",
       "      <td>1</td>\n",
       "      <td>11434549</td>\n",
       "      <td>2019-07-02 10:36:15</td>\n",
       "      <td>199</td>\n",
       "      <td>5763</td>\n",
       "      <td>78</td>\n",
       "      <td>Цены на свинину, говядину и мясо птицы в Росси...</td>\n",
       "    </tr>\n",
       "    <tr>\n",
       "      <th>2</th>\n",
       "      <td>2</td>\n",
       "      <td>11434254</td>\n",
       "      <td>2019-07-02 09:34:23</td>\n",
       "      <td>288</td>\n",
       "      <td>1718</td>\n",
       "      <td>15</td>\n",
       "      <td>Сегодня утром власти Чехии запретили «Аэрофлот...</td>\n",
       "    </tr>\n",
       "  </tbody>\n",
       "</table>\n",
       "</div>"
      ],
      "text/plain": [
       "    Unnamed: 0        id                 date  comments_count  likes_count  \\\n",
       "98          98  11435352  2019-07-02 12:35:12             133         2793   \n",
       "99          99  11434988  2019-07-02 11:35:06             198         8598   \n",
       "0            0  11434891  2019-07-02 11:20:00              43          373   \n",
       "1            1  11434549  2019-07-02 10:36:15             199         5763   \n",
       "2            2  11434254  2019-07-02 09:34:23             288         1718   \n",
       "\n",
       "    reposts_count                                               text  \n",
       "98             11  Чехия сняла ограничения на полёты российских а...  \n",
       "99            204  В декабре 2018 года студент ВГИКа Артём Фирсан...  \n",
       "0               6  • «Интерфакс»: число жертв паводка в Иркутской...  \n",
       "1              78  Цены на свинину, говядину и мясо птицы в Росси...  \n",
       "2              15  Сегодня утром власти Чехии запретили «Аэрофлот...  "
      ]
     },
     "execution_count": 7,
     "metadata": {},
     "output_type": "execute_result"
    }
   ],
   "source": [
    "df[98:103]"
   ]
  },
  {
   "cell_type": "code",
   "execution_count": 8,
   "metadata": {},
   "outputs": [],
   "source": [
    "df = df.set_index('id')\n",
    "df = df.drop(['Unnamed: 0'], axis=1)"
   ]
  },
  {
   "cell_type": "code",
   "execution_count": 9,
   "metadata": {},
   "outputs": [
    {
     "data": {
      "text/html": [
       "<div>\n",
       "<style scoped>\n",
       "    .dataframe tbody tr th:only-of-type {\n",
       "        vertical-align: middle;\n",
       "    }\n",
       "\n",
       "    .dataframe tbody tr th {\n",
       "        vertical-align: top;\n",
       "    }\n",
       "\n",
       "    .dataframe thead th {\n",
       "        text-align: right;\n",
       "    }\n",
       "</style>\n",
       "<table border=\"1\" class=\"dataframe\">\n",
       "  <thead>\n",
       "    <tr style=\"text-align: right;\">\n",
       "      <th></th>\n",
       "      <th>date</th>\n",
       "      <th>comments_count</th>\n",
       "      <th>likes_count</th>\n",
       "      <th>reposts_count</th>\n",
       "      <th>text</th>\n",
       "    </tr>\n",
       "    <tr>\n",
       "      <th>id</th>\n",
       "      <th></th>\n",
       "      <th></th>\n",
       "      <th></th>\n",
       "      <th></th>\n",
       "      <th></th>\n",
       "    </tr>\n",
       "  </thead>\n",
       "  <tbody>\n",
       "    <tr>\n",
       "      <th>11460130</th>\n",
       "      <td>2019-07-06 16:13:03</td>\n",
       "      <td>92</td>\n",
       "      <td>1146</td>\n",
       "      <td>15</td>\n",
       "      <td>Список «ремейки фильмов с женщинами в главной ...</td>\n",
       "    </tr>\n",
       "    <tr>\n",
       "      <th>11459911</th>\n",
       "      <td>2019-07-06 15:33:47</td>\n",
       "      <td>155</td>\n",
       "      <td>1803</td>\n",
       "      <td>31</td>\n",
       "      <td>В России планируется своя «Википедия».\\n\\nПрав...</td>\n",
       "    </tr>\n",
       "    <tr>\n",
       "      <th>11459474</th>\n",
       "      <td>2019-07-06 14:17:03</td>\n",
       "      <td>168</td>\n",
       "      <td>6437</td>\n",
       "      <td>231</td>\n",
       "      <td>А вы тоже в детстве двигали мышкой по экрану, ...</td>\n",
       "    </tr>\n",
       "    <tr>\n",
       "      <th>11459119</th>\n",
       "      <td>2019-07-06 13:23:59</td>\n",
       "      <td>130</td>\n",
       "      <td>4821</td>\n",
       "      <td>141</td>\n",
       "      <td>Уже десять лет каждую первую субботу июля росс...</td>\n",
       "    </tr>\n",
       "    <tr>\n",
       "      <th>11458585</th>\n",
       "      <td>2019-07-06 12:11:06</td>\n",
       "      <td>681</td>\n",
       "      <td>5606</td>\n",
       "      <td>81</td>\n",
       "      <td>Основатель Amazon Джефф Безос официально развё...</td>\n",
       "    </tr>\n",
       "  </tbody>\n",
       "</table>\n",
       "</div>"
      ],
      "text/plain": [
       "                         date  comments_count  likes_count  reposts_count  \\\n",
       "id                                                                          \n",
       "11460130  2019-07-06 16:13:03              92         1146             15   \n",
       "11459911  2019-07-06 15:33:47             155         1803             31   \n",
       "11459474  2019-07-06 14:17:03             168         6437            231   \n",
       "11459119  2019-07-06 13:23:59             130         4821            141   \n",
       "11458585  2019-07-06 12:11:06             681         5606             81   \n",
       "\n",
       "                                                       text  \n",
       "id                                                           \n",
       "11460130  Список «ремейки фильмов с женщинами в главной ...  \n",
       "11459911  В России планируется своя «Википедия».\\n\\nПрав...  \n",
       "11459474  А вы тоже в детстве двигали мышкой по экрану, ...  \n",
       "11459119  Уже десять лет каждую первую субботу июля росс...  \n",
       "11458585  Основатель Amazon Джефф Безос официально развё...  "
      ]
     },
     "execution_count": 9,
     "metadata": {},
     "output_type": "execute_result"
    }
   ],
   "source": [
    "df.head()"
   ]
  },
  {
   "cell_type": "code",
   "execution_count": 10,
   "metadata": {},
   "outputs": [
    {
     "name": "stdout",
     "output_type": "stream",
     "text": [
      "<class 'pandas.core.frame.DataFrame'>\n",
      "Int64Index: 4000 entries, 11460130 to 10386610\n",
      "Data columns (total 5 columns):\n",
      "date              4000 non-null object\n",
      "comments_count    4000 non-null int64\n",
      "likes_count       4000 non-null int64\n",
      "reposts_count     4000 non-null int64\n",
      "text              3864 non-null object\n",
      "dtypes: int64(3), object(2)\n",
      "memory usage: 187.5+ KB\n"
     ]
    }
   ],
   "source": [
    "df.info()"
   ]
  },
  {
   "cell_type": "markdown",
   "metadata": {},
   "source": [
    "### 2. Обработка. \n",
    "\n",
    "* Удалим пропуски в значениях текста, т.к. никакая их обработка не поможет нашей цели\n",
    "* Удалим русские стоп слова и знаки переноса строки (очистим текст)\n",
    "* Разобьем каждый из текстов на отдельные слова\n",
    "* Приведем слова к нормальной форме\n"
   ]
  },
  {
   "cell_type": "code",
   "execution_count": 11,
   "metadata": {},
   "outputs": [
    {
     "name": "stdout",
     "output_type": "stream",
     "text": [
      "<class 'pandas.core.frame.DataFrame'>\n",
      "Int64Index: 3864 entries, 11460130 to 10386610\n",
      "Data columns (total 5 columns):\n",
      "date              3864 non-null object\n",
      "comments_count    3864 non-null int64\n",
      "likes_count       3864 non-null int64\n",
      "reposts_count     3864 non-null int64\n",
      "text              3864 non-null object\n",
      "dtypes: int64(3), object(2)\n",
      "memory usage: 181.1+ KB\n"
     ]
    }
   ],
   "source": [
    "df = df.dropna()\n",
    "df.info()"
   ]
  },
  {
   "cell_type": "markdown",
   "metadata": {},
   "source": [
    "Первым делом (1) добавим в перечень стоп слов те, что не несут особой смысловой нагрузки"
   ]
  },
  {
   "cell_type": "code",
   "execution_count": 12,
   "metadata": {},
   "outputs": [],
   "source": [
    "stop_words = stopwords.words('russian')\n",
    "stop_words.extend(['http', 'https', 'lenta', 'ch', 'cc', 'ow', 'news', 'vk', 'upd', 'the', 'id', 'ows',\n",
    "                   'который', 'это', 'один', 'главный', 'свой', 'такой', 'лентач', 'ещё', 'еще', 'самый', 'тот', 'пока', \n",
    "                   'мол', 'некоторый', 'почему', 'отдельный', 'год', 'неделя', 'сегодня', 'впервые', 'будущий', 'оно',\n",
    "                  'сразу', 'затем', 'этот', 'также', 'жаль', 'сейчас', 'поэтому', 'лаифкаха', 'ввод', 'вывод', 'broco', \n",
    "                   'утро', 'последний', 'то', 'ничто', 'весь', 'стать', 'она', 'дать', 'хороший', 'весь', 'новый', 'имя', \n",
    "                   'oqib', 'день', 'хотеть', 'большой', 'наш', 'узнать', 'очень', 'сделаться', 'просто', 'час', 'минута',\n",
    "                   'назад', 'сюда', 'увеличиться', 'отдельный', 'полностью', 'перестать', 'иметь', 'owyt', 'проходить', \n",
    "                   'июль', 'сделать', 'делать', 'читать', 'писать', 'число', 'считать', 'каждый', 'ряд', 'начало', 'конец', \n",
    "                   'пикчер', 'ваш', 'любой', 'снова', 'сколько', 'club', 'например', 'лишь', 'целый', 'начать', \n",
    "                   'получить', 'com', 'кстати', 'вместо', 'watch', 'один', 'два', 'три', 'четыре', 'пять', 'шесть', 'семь',\n",
    "                    'восемь', 'девять', 'десять','третье', 'мем', 'мема', 'слово', 'пара', 'январь', 'сегодня', 'суббота', \n",
    "                   'ждать', 'ru', 'часто', 'тема', 'название', 'вокруг', 'oiahd', 'никто',  'остаться', 'сотня', 'сказать', \n",
    "                   'называть', 'предложение', 'представить', 'собираться', 'предложение', 'около', 'нужно', 'сильно', 'вокруг',\n",
    "                   'именно', 'отправить', 'получать', 'бывший', 'вчера', 'май', 'апрель', 'несколько', 'продолжать', 'март', \n",
    "                   'взять', 'пройтись', 'использовать', 'почитать', 'вообще', 'рассказать', 'оказаться', 'rowp', 'ro', 'rrzf', \n",
    "                   'никак', 'хотя', 'rreq', 'grace', 'three','ropr', 'практически', 'rrg', 'rofm',\n",
    "                   'вдвое', 'полтора', 'говориться', 'месяц', 'вечером', 'известный', 'начинать', 'основать', 'слишком',\n",
    "                   'подвести', 'идти', 'принести', 'distemper', 'внезапно', 'наиболее', 'известный', 'качество', 'являться',\n",
    "                   'обнаружить', 'in', 'напомнить', 'образовать', 'интересный', 'составить', 'насколько', 'появиться', 'давать',\n",
    "                   'новое', 'новость', 'найти', 'давно', 'готовый', 'продолжаться', 'раз',\n",
    "                   'ответ', 'применение', 'кажется', 'готовый', 'новость', 'говорить', 'выглядеть', 'нибыть', 'попытаться',\n",
    "                   'первое', 'уровень', 'искать', 'сторона', 'удаться', 'выяснить', 'против', 'назвать', 'мочь',\n",
    "                   'возможность', 'настоящий', 'человек', 'время', 'летний', 'вид', 'прошлое', 'ранее',\n",
    "                   'цель', 'теория', 'смочь', 'однако', 'количество', 'создать', 'многие', 'пытаться', 'минимум', \n",
    "                   'вместе', 'тысяча', 'высокий', 'менее', 'цель', 'подробность', 'момент', 'ровно', 'часть', 'недавно', \n",
    "                   'знак', 'благодаря', 'важный', 'снег', 'написать', \n",
    "                   'твой', 'вариант', 'изменить', 'очередь', 'актуальный', 'зимний', 'второе', 'set up', 'включая',\n",
    "                   'олд', 'оба', 'итог', 'век', 'среди', 'говорят', 'простой', 'таки', 'вопрос', 'никакой', 'немного',\n",
    "                   'спасибо', 'единственный', 'добавить', 'вовсе', 'попасть', 'строить', 'крутой', 'идея', 'вырасти', \n",
    "                   'рост', 'ребята', 'часы', 'ночь', 'правило', 'вид'\n",
    "                  ])\n",
    "stop_words = set(stop_words)"
   ]
  },
  {
   "cell_type": "code",
   "execution_count": 23,
   "metadata": {},
   "outputs": [
    {
     "name": "stdout",
     "output_type": "stream",
     "text": [
      "['Список «ремейки фильмов с женщинами в главной роли» может пополниться еще '\n",
      " 'одной картиной. На этот раз в лучших традициях последних лет планируют '\n",
      " 'переснять ту самую «Маску» с Джимом Кэрри ']\n",
      "[['список', 'ремеики', 'фильмов', 'женщинами', 'главнои', 'роли', 'может', 'пополниться', 'еще', 'однои', 'картинои', 'на', 'этот', 'раз', 'лучших', 'традициях', 'последних', 'лет', 'планируют', 'переснять', 'ту', 'самую', 'маску', 'джимом', 'кэрри']]\n"
     ]
    }
   ],
   "source": [
    "# Convert to list\n",
    "data = df.text.values.tolist()\n",
    "\n",
    "def cleaning(input_data):\n",
    "    data = input_data\n",
    "    # Remove Emails\n",
    "    data = [re.sub('\\S*http\\S*\\s?', '', sent) for sent in data]\n",
    "    data = [re.sub('\\S*https\\S*\\s?', '', sent) for sent in data]\n",
    "    data = [re.sub(r'\\n', ' ', sent, flags=re.IGNORECASE) for sent in data]\n",
    "    data = [re.sub(r'•', '', sent, flags=re.IGNORECASE) for sent in data]\n",
    "    data = [sent.replace('ё','е') for sent in data]\n",
    "    data = [re.sub('\\s+', ' ', sent) for sent in data]\n",
    "    data = [re.sub(\"\\'\", \"\", sent) for sent in data]\n",
    "    return data\n",
    "    \n",
    "pprint(data[:1]) \n",
    "\n",
    "def sent_to_words(sentences):\n",
    "    for sentence in sentences:\n",
    "        yield(gensim.utils.simple_preprocess(str(sentence), deacc=True))  # deacc=True removes punctuations\n",
    "\n",
    "data_words = list(sent_to_words(data))\n",
    "print(data_words[:1])"
   ]
  },
  {
   "cell_type": "code",
   "execution_count": 26,
   "metadata": {},
   "outputs": [
    {
     "name": "stdout",
     "output_type": "stream",
     "text": [
      "['список', 'ремеики', 'фильмов', 'женщинами', 'главнои', 'роли', 'может', 'пополниться', 'еще', 'однои', 'картинои', 'на', 'этот_раз', 'лучших', 'традициях', 'последних', 'лет', 'планируют', 'переснять', 'ту', 'самую', 'маску', 'джимом', 'кэрри']\n"
     ]
    }
   ],
   "source": [
    "# Build the bigram and trigram models\n",
    "bigram = gensim.models.Phrases(data_words, min_count=5, threshold=100) # higher threshold fewer phrases.\n",
    "trigram = gensim.models.Phrases(bigram[data_words], threshold=100)  \n",
    "# Faster way to get a sentence clubbed as a trigram/bigram\n",
    "bigram_mod = gensim.models.phrases.Phraser(bigram)\n",
    "trigram_mod = gensim.models.phrases.Phraser(trigram)\n",
    "# See trigram example\n",
    "print(trigram_mod[bigram_mod[data_words[0]]])"
   ]
  },
  {
   "cell_type": "code",
   "execution_count": 139,
   "metadata": {},
   "outputs": [],
   "source": [
    "# Define functions for stopwords, bigrams, trigrams and lemmatization\n",
    "def remove_stopwords(texts):\n",
    "    return [[word for word in simple_preprocess(str(doc)) \\\n",
    "             if morph.parse(word)[0].normal_form not in stop_words] for doc in texts]\n",
    "def make_bigrams(texts):\n",
    "    return [bigram_mod[doc] for doc in texts]\n",
    "def make_trigrams(texts):\n",
    "    return [trigram_mod[bigram_mod[doc]] for doc in texts]\n",
    "def doc_to_words(texts, stop_words, morph):\n",
    "#     words = [morph.parse(w)[0].normal_form for w in str(doc) \\\n",
    "#              if morph.parse(w)[0].normal_form not in stop_words]    \n",
    "#     return words\n",
    "    texts_out=[]\n",
    "    for sent in texts:\n",
    "        doc = nlp(\" \".join(sent)) \n",
    "        texts_out.append([morph.parse(token)[0].normal_form for token in simple_preprocess(str(doc)) \\\n",
    "                          if morph.parse(token)[0].normal_form not in stop_words])\n",
    "    return texts_out"
   ]
  },
  {
   "cell_type": "code",
   "execution_count": 140,
   "metadata": {},
   "outputs": [],
   "source": [
    "# Remove Stop Words\n",
    "data_words_nostops = remove_stopwords(data_words)\n",
    "# Form Bigrams\n",
    "data_words_bigrams = make_bigrams(data_words_nostops)"
   ]
  },
  {
   "cell_type": "code",
   "execution_count": 142,
   "metadata": {
    "scrolled": true
   },
   "outputs": [],
   "source": [
    "# Do lemmatization \n",
    "morph = pymorphy2.MorphAnalyzer()\n",
    "data_lemmatized = doc_to_words(data_words_bigrams, stop_words, morph)"
   ]
  },
  {
   "cell_type": "code",
   "execution_count": 144,
   "metadata": {},
   "outputs": [
    {
     "name": "stdout",
     "output_type": "stream",
     "text": [
      "[[(0, 1), (1, 1), (2, 1), (3, 1), (4, 1), (5, 1), (6, 1), (7, 1), (8, 1), (9, 1), (10, 1), (11, 1), (12, 1)]]\n"
     ]
    }
   ],
   "source": [
    "# Create Dictionary\n",
    "id2word = corpora.Dictionary(data_lemmatized)\n",
    "# Create Corpus\n",
    "texts = data_lemmatized\n",
    "# Term Document Frequency\n",
    "corpus = [id2word.doc2bow(text) for text in texts]\n",
    "# View\n",
    "print(corpus[:1])"
   ]
  },
  {
   "cell_type": "code",
   "execution_count": 148,
   "metadata": {
    "scrolled": true
   },
   "outputs": [
    {
     "data": {
      "text/plain": [
       "[[('win', 1),\n",
       "  ('windows', 1),\n",
       "  ('буфер', 2),\n",
       "  ('быстрый', 1),\n",
       "  ('выполнять', 2),\n",
       "  ('выполняться', 1),\n",
       "  ('выясниться', 1),\n",
       "  ('двигать', 2),\n",
       "  ('движение', 2),\n",
       "  ('детство', 1),\n",
       "  ('дефрагментация', 1),\n",
       "  ('диск', 1),\n",
       "  ('дожидаться', 1),\n",
       "  ('загружаться', 1),\n",
       "  ('загрузка', 2),\n",
       "  ('задача', 5),\n",
       "  ('задержка', 1),\n",
       "  ('запуск', 1),\n",
       "  ('значительно', 1),\n",
       "  ('клавиатура', 1),\n",
       "  ('комп', 1),\n",
       "  ('крупный', 1),\n",
       "  ('лайфкаха', 1),\n",
       "  ('многозадачность', 1),\n",
       "  ('моментально', 1),\n",
       "  ('мышка', 4),\n",
       "  ('набраться', 1),\n",
       "  ('наполняться', 1),\n",
       "  ('нужный', 1),\n",
       "  ('печать', 1),\n",
       "  ('повторяться', 1),\n",
       "  ('получаться', 1),\n",
       "  ('пользователь', 1),\n",
       "  ('правый', 1),\n",
       "  ('приоритетный', 1),\n",
       "  ('программа', 1),\n",
       "  ('работать', 3),\n",
       "  ('система', 2),\n",
       "  ('скорость', 1),\n",
       "  ('совершать', 1),\n",
       "  ('сожаление', 1),\n",
       "  ('сокращаться', 1),\n",
       "  ('счёт', 1),\n",
       "  ('ускорить', 1),\n",
       "  ('ускоряться', 1),\n",
       "  ('устанавливаться', 1),\n",
       "  ('установка', 3),\n",
       "  ('фич', 1),\n",
       "  ('фоновый', 2),\n",
       "  ('цикл', 1),\n",
       "  ('циклично', 1),\n",
       "  ('экран', 1)]]"
      ]
     },
     "execution_count": 148,
     "metadata": {},
     "output_type": "execute_result"
    }
   ],
   "source": [
    "[[(id2word[id], freq) for id, freq in cp] for cp in corpus[2:3]]"
   ]
  },
  {
   "cell_type": "markdown",
   "metadata": {},
   "source": [
    "### 3. Построение моделей\n",
    "\n",
    "Попробуем разбить тексты на несколько тематик: построим зависимость когерентности от количества тематик; оптимальное число отобразим\n"
   ]
  },
  {
   "cell_type": "code",
   "execution_count": 155,
   "metadata": {},
   "outputs": [],
   "source": [
    "def compute_coherence_values(dictionary, corpus, texts, limit, start=2, step=3):\n",
    "\n",
    "    coherence_values = []\n",
    "    model_list = []\n",
    "    for num_topics in range(start, limit, step):\n",
    "        model = gensim.models.ldamodel.LdaModel(\n",
    "            corpus=corpus,\n",
    "            id2word=dictionary,\n",
    "            num_topics=num_topics, \n",
    "            random_state=100,\n",
    "            update_every=1,\n",
    "            chunksize=100,\n",
    "            passes=10,\n",
    "            alpha='auto',\n",
    "            per_word_topics=True)\n",
    "        model_list.append(model)\n",
    "        coherencemodel = CoherenceModel(model=model, texts=texts, dictionary=dictionary, coherence='c_v')\n",
    "        coherence_values.append(coherencemodel.get_coherence())\n",
    "\n",
    "    return model_list, coherence_values"
   ]
  },
  {
   "cell_type": "code",
   "execution_count": 160,
   "metadata": {
    "scrolled": false
   },
   "outputs": [
    {
     "name": "stdout",
     "output_type": "stream",
     "text": [
      "Time to count coherence values: 24.3 mins\n"
     ]
    },
    {
     "data": {
      "image/png": "[encoded data removed]",
      "text/plain": [
       "<Figure size 1080x360 with 1 Axes>"
      ]
     },
     "metadata": {
      "needs_background": "light"
     },
     "output_type": "display_data"
    },
    {
     "name": "stdout",
     "output_type": "stream",
     "text": [
      "2:  0.2707088210535149\n",
      "12:  0.4193895662399309\n",
      "22:  0.41099547362870026\n",
      "32:  0.41667339281778126\n",
      "42:  0.4250340119351782\n",
      "52:  0.45545123370942286\n",
      "62:  0.458638321941553\n",
      "72:  0.4305015291776251\n",
      "82:  0.4336775331534823\n",
      "92:  0.4227771084344116\n",
      "102:  0.4363693144254505\n",
      "112:  0.424114893269025\n",
      "122:  0.41707065628531415\n",
      "132:  0.42644840526262423\n",
      "142:  0.4120423811526244\n"
     ]
    }
   ],
   "source": [
    "limit=150; start=2; step=10;\n",
    "t=time()\n",
    "model_list, coherence_values = compute_coherence_values(dictionary=id2word, \n",
    "                                                        corpus=corpus, \n",
    "                                                        texts=texts, \n",
    "                                                        start=start, \n",
    "                                                        limit=limit, \n",
    "                                                        step=step)\n",
    "\n",
    "print('Time to count coherence values: {} mins'.format(round((time() - t) / 60, 2)))\n",
    "\n",
    "x = range(start, limit, step)\n",
    "plt.figure(figsize=(15,5))\n",
    "plt.plot(x, coherence_values)\n",
    "plt.xlabel(\"Num Topics\")\n",
    "plt.ylabel(\"Coherence score\")\n",
    "plt.legend((\"coherence_values\"), loc='best')\n",
    "plt.show()\n",
    "\n",
    "for i, j in enumerate(coherence_values):\n",
    "    print(str(start + i*step) + ':  ' + str(j))"
   ]
  },
  {
   "cell_type": "code",
   "execution_count": 161,
   "metadata": {
    "scrolled": false
   },
   "outputs": [
    {
     "name": "stdout",
     "output_type": "stream",
     "text": [
      "Time to count coherence values: 12.25 mins\n"
     ]
    },
    {
     "data": {
      "image/png": "[encoded data removed]",
      "text/plain": [
       "<Figure size 1080x360 with 1 Axes>"
      ]
     },
     "metadata": {
      "needs_background": "light"
     },
     "output_type": "display_data"
    },
    {
     "name": "stdout",
     "output_type": "stream",
     "text": [
      "2:  0.2707088210535149\n",
      "7:  0.38068321506414365\n",
      "12:  0.4193895662399309\n",
      "17:  0.4223178089126898\n",
      "22:  0.41099547362870026\n",
      "27:  0.399688479238142\n",
      "32:  0.41667339281778126\n",
      "37:  0.4386383039871964\n",
      "42:  0.4250340119351782\n",
      "47:  0.4362346272172629\n",
      "52:  0.45545123370942286\n",
      "57:  0.4558701664001293\n",
      "62:  0.458638321941553\n",
      "67:  0.44124729799085566\n"
     ]
    }
   ],
   "source": [
    "limit=70; start=2; step=5;\n",
    "t=time()\n",
    "model_list, coherence_values = compute_coherence_values(dictionary=id2word, \n",
    "                                                        corpus=corpus, \n",
    "                                                        texts=texts, \n",
    "                                                        start=start, \n",
    "                                                        limit=limit, \n",
    "                                                        step=step)\n",
    "\n",
    "print('Time to count coherence values: {} mins'.format(round((time() - t) / 60, 2)))\n",
    "\n",
    "x = range(start, limit, step)\n",
    "plt.figure(figsize=(15,5))\n",
    "plt.plot(x, coherence_values)\n",
    "plt.xlabel(\"Num Topics\")\n",
    "plt.ylabel(\"Coherence score\")\n",
    "plt.legend((\"coherence_values\"), loc='best')\n",
    "plt.show()\n",
    "\n",
    "for i, j in enumerate(coherence_values):\n",
    "    print(str(start + i*step) + ':  ' + str(j))"
   ]
  },
  {
   "cell_type": "code",
   "execution_count": 163,
   "metadata": {},
   "outputs": [
    {
     "name": "stdout",
     "output_type": "stream",
     "text": [
      "Time to count coherence values: 11.37 mins\n"
     ]
    },
    {
     "data": {
      "image/png": "[encoded data removed]",
      "text/plain": [
       "<Figure size 1080x360 with 1 Axes>"
      ]
     },
     "metadata": {
      "needs_background": "light"
     },
     "output_type": "display_data"
    },
    {
     "name": "stdout",
     "output_type": "stream",
     "text": [
      "58:  0.44462090858602116\n",
      "59:  0.43447852372481666\n",
      "60:  0.4467040883031584\n",
      "61:  0.4358245562132973\n",
      "62:  0.458638321941553\n",
      "63:  0.4295416968273387\n",
      "64:  0.4371711074918609\n"
     ]
    }
   ],
   "source": [
    "limit=65; start=58; step=1;\n",
    "t=time()\n",
    "model_list, coherence_values = compute_coherence_values(dictionary=id2word, \n",
    "                                                        corpus=corpus, \n",
    "                                                        texts=texts, \n",
    "                                                        start=start, \n",
    "                                                        limit=limit, \n",
    "                                                        step=step)\n",
    "\n",
    "print('Time to count coherence values: {} mins'.format(round((time() - t) / 60, 2)))\n",
    "\n",
    "x = range(start, limit, step)\n",
    "plt.figure(figsize=(15,5))\n",
    "plt.plot(x, coherence_values)\n",
    "plt.xlabel(\"Num Topics\")\n",
    "plt.ylabel(\"Coherence score\")\n",
    "plt.legend((\"coherence_values\"), loc='best')\n",
    "plt.show()\n",
    "\n",
    "for i, j in enumerate(coherence_values):\n",
    "    print(str(start + i*step) + ':  ' + str(j))"
   ]
  },
  {
   "cell_type": "markdown",
   "metadata": {},
   "source": [
    "Судя по построенным графикам, наиболее оптимальное число тем = 62"
   ]
  },
  {
   "cell_type": "code",
   "execution_count": 164,
   "metadata": {
    "scrolled": true
   },
   "outputs": [
    {
     "name": "stdout",
     "output_type": "stream",
     "text": [
      "\n",
      "Perplexity:  -49.59351058049345\n",
      "\n",
      "Coherence Score:  nan\n",
      "\n",
      "Time to build model & count scores: 1.49 mins\n",
      "\n",
      "[(0,\n",
      "  '0.139*\"полицейский\" + 0.125*\"протест\" + 0.088*\"причина\" + 0.060*\"начаться\" '\n",
      "  '+ 0.055*\"китайский\" + 0.033*\"парень\" + 0.032*\"рынок\" + 0.024*\"телефон\" + '\n",
      "  '0.009*\"huawei\" + 0.007*\"июнь\"'),\n",
      " (1,\n",
      "  '0.000*\"курский\" + 0.000*\"квитанция\" + 0.000*\"возникать\" + 0.000*\"аллергия\" '\n",
      "  '+ 0.000*\"rrvt\" + 0.000*\"полмиллиона\" + 0.000*\"rryv\" + 0.000*\"непривитый\" + '\n",
      "  '0.000*\"жилища\" + 0.000*\"rrci\"'),\n",
      " (2,\n",
      "  '0.289*\"москва\" + 0.180*\"задержать\" + 0.040*\"управление\" + 0.035*\"звание\" + '\n",
      "  '0.035*\"жертва\" + 0.028*\"герой\" + 0.028*\"хищение\" + 0.027*\"подозрение\" + '\n",
      "  '0.023*\"общественный\" + 0.016*\"владимир_путин\"'),\n",
      " (3,\n",
      "  '0.195*\"суд\" + 0.102*\"чёрный\" + 0.065*\"должный\" + 0.053*\"крупный\" + '\n",
      "  '0.041*\"расследование\" + 0.031*\"фсб\" + 0.031*\"смотреть\" + 0.021*\"насилие\" + '\n",
      "  '0.017*\"полковник\" + 0.017*\"америка\"'),\n",
      " (4,\n",
      "  '0.072*\"руководство\" + 0.068*\"направить\" + 0.041*\"кампания\" + '\n",
      "  '0.033*\"подмосковье\" + 0.029*\"тонна\" + 0.027*\"проведение\" + 0.026*\"река\" + '\n",
      "  '0.025*\"сутки\" + 0.021*\"целое\" + 0.020*\"советовать\"'),\n",
      " (5,\n",
      "  '0.231*\"область\" + 0.120*\"больница\" + 0.094*\"запретить\" + 0.070*\"зарплата\" + '\n",
      "  '0.041*\"жалоба\" + 0.031*\"низкий\" + 0.023*\"минздрав\" + 0.009*\"свердловский\" + '\n",
      "  '0.000*\"махинация\" + 0.000*\"аллергия\"'),\n",
      " (6,\n",
      "  '0.083*\"смерть\" + 0.056*\"нужный\" + 0.039*\"запуск\" + 0.038*\"несмотря\" + '\n",
      "  '0.026*\"установка\" + 0.025*\"быстрый\" + 0.024*\"ссылка\" + 0.023*\"популярность\" '\n",
      "  '+ 0.021*\"скорость\" + 0.015*\"выполнять\"'),\n",
      " (7,\n",
      "  '0.122*\"взрыв\" + 0.118*\"произойти\" + 0.102*\"находиться\" + 0.066*\"продажа\" + '\n",
      "  '0.052*\"собака\" + 0.052*\"версия\" + 0.027*\"программа\" + 0.026*\"пострадать\" + '\n",
      "  '0.026*\"агрессивный\" + 0.016*\"беларусь\"'),\n",
      " (8,\n",
      "  '0.131*\"женщина\" + 0.062*\"соцсеть\" + 0.055*\"семья\" + 0.044*\"убийство\" + '\n",
      "  '0.043*\"прийтись\" + 0.041*\"приговорить\" + 0.041*\"поздний\" + 0.039*\"конфликт\" '\n",
      "  '+ 0.033*\"колония\" + 0.028*\"изначально\"'),\n",
      " (9,\n",
      "  '0.517*\"россия\" + 0.134*\"сообщить\" + 0.048*\"цена\" + 0.021*\"эксперт\" + '\n",
      "  '0.002*\"вырастить\" + 0.001*\"птица\" + 0.000*\"полмиллиона\" + 0.000*\"санитар\" + '\n",
      "  '0.000*\"аллергия\" + 0.000*\"rryv\"'),\n",
      " (10,\n",
      "  '0.081*\"автор\" + 0.080*\"вод\" + 0.064*\"десятка\" + 0.046*\"мэр\" + 0.042*\"путь\" '\n",
      "  '+ 0.040*\"извиниться\" + 0.019*\"предупредить\" + 0.012*\"надпись\" + '\n",
      "  '0.012*\"повышение\" + 0.000*\"главбух\"'),\n",
      " (11,\n",
      "  '0.131*\"сообщать\" + 0.109*\"объявить\" + 0.104*\"центр\" + 0.063*\"эвакуировать\" '\n",
      "  '+ 0.048*\"торговый\" + 0.040*\"пострадавший\" + 0.038*\"устроить\" + '\n",
      "  '0.035*\"подтвердить\" + 0.034*\"служба\" + 0.024*\"стрельба\"'),\n",
      " (12,\n",
      "  '0.177*\"глава\" + 0.078*\"политика\" + 0.062*\"право\" + 0.047*\"пожаловаться\" + '\n",
      "  '0.044*\"губернатор\" + 0.040*\"край\" + 0.027*\"позволять\" + 0.024*\"видеть\" + '\n",
      "  '0.015*\"вход\" + 0.015*\"фраза\"'),\n",
      " (13,\n",
      "  '0.256*\"россиянин\" + 0.107*\"планировать\" + 0.065*\"половина\" + '\n",
      "  '0.044*\"показать\" + 0.039*\"возраст\" + 0.033*\"опрос\" + 0.031*\"пенсионный\" + '\n",
      "  '0.000*\"возникать\" + 0.000*\"rryv\" + 0.000*\"полмиллиона\"'),\n",
      " (14,\n",
      "  '0.171*\"дом\" + 0.110*\"сообщение\" + 0.078*\"признать\" + 0.061*\"долг\" + '\n",
      "  '0.045*\"решение\" + 0.029*\"прямая\" + 0.027*\"канал\" + 0.026*\"счёт\" + '\n",
      "  '0.023*\"еда\" + 0.021*\"одежда\"'),\n",
      " (15,\n",
      "  '0.000*\"курский\" + 0.000*\"квитанция\" + 0.000*\"возникать\" + 0.000*\"аллергия\" '\n",
      "  '+ 0.000*\"rrvt\" + 0.000*\"полмиллиона\" + 0.000*\"rryv\" + 0.000*\"непривитый\" + '\n",
      "  '0.000*\"жилища\" + 0.000*\"rrci\"'),\n",
      " (16,\n",
      "  '0.183*\"история\" + 0.065*\"доллар\" + 0.054*\"британский\" + 0.029*\"интервью\" + '\n",
      "  '0.026*\"полезный\" + 0.023*\"сумма\" + 0.023*\"открыть\" + 0.022*\"жена\" + '\n",
      "  '0.022*\"официально\" + 0.021*\"маленький\"'),\n",
      " (17,\n",
      "  '0.293*\"дело\" + 0.108*\"уголовный\" + 0.064*\"граница\" + 0.048*\"завести\" + '\n",
      "  '0.037*\"фото\" + 0.021*\"забывать\" + 0.020*\"бот\" + 0.018*\"дональд_трамп\" + '\n",
      "  '0.014*\"твиттереть\" + 0.008*\"возрастить\"'),\n",
      " (18,\n",
      "  '0.117*\"арестовать\" + 0.042*\"ответить\" + 0.038*\"песок\" + 0.036*\"дмитрия\" + '\n",
      "  '0.036*\"слышать\" + 0.029*\"министерство\" + 0.029*\"происшествие\" + '\n",
      "  '0.027*\"продюсер\" + 0.024*\"кремль\" + 0.019*\"архангельский\"'),\n",
      " (19,\n",
      "  '0.000*\"курский\" + 0.000*\"квитанция\" + 0.000*\"возникать\" + 0.000*\"аллергия\" '\n",
      "  '+ 0.000*\"rrvt\" + 0.000*\"полмиллиона\" + 0.000*\"rryv\" + 0.000*\"непривитый\" + '\n",
      "  '0.000*\"жилища\" + 0.000*\"rrci\"'),\n",
      " (20,\n",
      "  '0.000*\"курский\" + 0.000*\"квитанция\" + 0.000*\"возникать\" + 0.000*\"аллергия\" '\n",
      "  '+ 0.000*\"rrvt\" + 0.000*\"полмиллиона\" + 0.000*\"rryv\" + 0.000*\"непривитый\" + '\n",
      "  '0.000*\"жилища\" + 0.000*\"rrci\"'),\n",
      " (21,\n",
      "  '0.129*\"студент\" + 0.051*\"одобрить\" + 0.050*\"открытый\" + '\n",
      "  '0.034*\"внеочередной\" + 0.032*\"состояться\" + 0.029*\"вызвать\" + '\n",
      "  '0.026*\"забрать\" + 0.023*\"съёмка\" + 0.022*\"показ\" + 0.020*\"росгвардия\"'),\n",
      " (22,\n",
      "  '0.227*\"ребёнок\" + 0.177*\"интернет\" + 0.082*\"совет\" + 0.047*\"детский\" + '\n",
      "  '0.031*\"спикер\" + 0.030*\"федерация\" + 0.016*\"добрый\" + 0.010*\"валентин\" + '\n",
      "  '0.009*\"откуда\" + 0.006*\"виноватый\"'),\n",
      " (23,\n",
      "  '0.000*\"курский\" + 0.000*\"квитанция\" + 0.000*\"возникать\" + 0.000*\"аллергия\" '\n",
      "  '+ 0.000*\"rrvt\" + 0.000*\"полмиллиона\" + 0.000*\"rryv\" + 0.000*\"непривитый\" + '\n",
      "  '0.000*\"жилища\" + 0.000*\"rrci\"'),\n",
      " (24,\n",
      "  '0.247*\"фильм\" + 0.116*\"картина\" + 0.051*\"наркотик\" + 0.045*\"роль\" + '\n",
      "  '0.030*\"поручить\" + 0.025*\"производство\" + 0.019*\"поставка\" + '\n",
      "  '0.018*\"уничтожить\" + 0.017*\"маска\" + 0.013*\"восстановить\"'),\n",
      " (25,\n",
      "  '0.094*\"концерт\" + 0.061*\"сеть\" + 0.054*\"задержание\" + 0.050*\"режиссёр\" + '\n",
      "  '0.045*\"активист\" + 0.041*\"дорога\" + 0.038*\"приехать\" + 0.035*\"состав\" + '\n",
      "  '0.032*\"заставить\" + 0.024*\"левый\"'),\n",
      " (26,\n",
      "  '0.084*\"питер\" + 0.063*\"отмечать\" + 0.053*\"палата\" + 0.035*\"выявить\" + '\n",
      "  '0.034*\"объект\" + 0.002*\"счётный\" + 0.000*\"профилактика\" + 0.000*\"возникать\" '\n",
      "  '+ 0.000*\"курский\" + 0.000*\"полмиллиона\"'),\n",
      " (27,\n",
      "  '0.159*\"жизнь\" + 0.140*\"выйти\" + 0.056*\"серия\" + 0.044*\"сериал\" + '\n",
      "  '0.044*\"рассказывать\" + 0.021*\"снимать\" + 0.012*\"роман\" + 0.011*\"николай\" + '\n",
      "  '0.011*\"доказать\" + 0.008*\"ii\"'),\n",
      " (28,\n",
      "  '0.213*\"житель\" + 0.168*\"местный\" + 0.113*\"результат\" + 0.063*\"чиновник\" + '\n",
      "  '0.039*\"розыгрыш\" + 0.029*\"роскомнадзор\" + 0.026*\"оштрафовать\" + '\n",
      "  '0.025*\"оскорбление\" + 0.020*\"транспорт\" + 0.009*\"протокол\"'),\n",
      " (29,\n",
      "  '0.264*\"российский\" + 0.161*\"пройти\" + 0.091*\"митинг\" + 0.048*\"apple\" + '\n",
      "  '0.031*\"мусорный\" + 0.025*\"получение\" + 0.020*\"полигон\" + 0.015*\"кокорин\" + '\n",
      "  '0.010*\"мамай\" + 0.002*\"шиес\"'),\n",
      " (30,\n",
      "  '0.000*\"курский\" + 0.000*\"квитанция\" + 0.000*\"возникать\" + 0.000*\"аллергия\" '\n",
      "  '+ 0.000*\"rrvt\" + 0.000*\"полмиллиона\" + 0.000*\"rryv\" + 0.000*\"непривитый\" + '\n",
      "  '0.000*\"жилища\" + 0.000*\"rrci\"'),\n",
      " (31,\n",
      "  '0.122*\"учёный\" + 0.056*\"подозревать\" + 0.052*\"евро\" + 0.047*\"характер\" + '\n",
      "  '0.045*\"отделение\" + 0.041*\"проводить\" + 0.035*\"правда\" + 0.031*\"банк\" + '\n",
      "  '0.031*\"эксперимент\" + 0.027*\"столица\"'),\n",
      " (32,\n",
      "  '0.265*\"работа\" + 0.125*\"собрать\" + 0.081*\"трамп\" + 0.055*\"александр\" + '\n",
      "  '0.014*\"фотошоп\" + 0.007*\"прогноз\" + 0.006*\"шедевр\" + 0.000*\"rrci\" + '\n",
      "  '0.000*\"rryv\" + 0.000*\"махинация\"'),\n",
      " (33,\n",
      "  '0.143*\"радиолентач\" + 0.112*\"американский\" + 0.109*\"традиционный\" + '\n",
      "  '0.107*\"группа\" + 0.055*\"альбом\" + 0.053*\"миллион\" + 0.050*\"рок_группа\" + '\n",
      "  '0.043*\"выпустить\" + 0.024*\"существование\" + 0.014*\"взорваться\"'),\n",
      " (34,\n",
      "  '0.116*\"пользователь\" + 0.051*\"язык\" + 0.050*\"популярный\" + '\n",
      "  '0.040*\"выступление\" + 0.038*\"рука\" + 0.034*\"реальный\" + 0.029*\"положение\" + '\n",
      "  '0.023*\"современный\" + 0.019*\"научно\" + 0.019*\"вещество\"'),\n",
      " (35,\n",
      "  '0.145*\"деньга\" + 0.129*\"статья\" + 0.077*\"ловить\" + 0.048*\"уходить\" + '\n",
      "  '0.043*\"карта\" + 0.033*\"платить\" + 0.021*\"понимать\" + 0.000*\"махинация\" + '\n",
      "  '0.000*\"rrci\" + 0.000*\"санитар\"'),\n",
      " (36,\n",
      "  '0.230*\"власть\" + 0.197*\"рубль\" + 0.090*\"закон\" + 0.045*\"вконтакте\" + '\n",
      "  '0.038*\"возбудить\" + 0.037*\"комментарий\" + 0.030*\"миллиард\" + '\n",
      "  '0.027*\"минобороны\" + 0.026*\"неуважение\" + 0.021*\"подписать\"'),\n",
      " (37,\n",
      "  '0.325*\"страна\" + 0.252*\"заявить\" + 0.061*\"канада\" + 0.005*\"паспорт\" + '\n",
      "  '0.001*\"днр_лнр\" + 0.000*\"профилактика\" + 0.000*\"rrvt\" + 0.000*\"rrci\" + '\n",
      "  '0.000*\"санитар\" + 0.000*\"rryv\"'),\n",
      " (38,\n",
      "  '0.072*\"музыка\" + 0.060*\"обвинить\" + 0.056*\"республика\" + '\n",
      "  '0.043*\"преступление\" + 0.039*\"безопасность\" + 0.038*\"обвинять\" + '\n",
      "  '0.038*\"электронный\" + 0.033*\"иск\" + 0.032*\"чеченский\" + 0.031*\"попытка\"'),\n",
      " (39,\n",
      "  '0.241*\"мир\" + 0.064*\"держать\" + 0.058*\"япония\" + 0.031*\"путешествие\" + '\n",
      "  '0.029*\"поездка\" + 0.022*\"культура\" + 0.012*\"легендарный\" + '\n",
      "  '0.011*\"алкогольный\" + 0.010*\"знаменитый\" + 0.000*\"al\"'),\n",
      " (40,\n",
      "  '0.000*\"курский\" + 0.000*\"квитанция\" + 0.000*\"возникать\" + 0.000*\"аллергия\" '\n",
      "  '+ 0.000*\"rrvt\" + 0.000*\"полмиллиона\" + 0.000*\"rryv\" + 0.000*\"непривитый\" + '\n",
      "  '0.000*\"жилища\" + 0.000*\"rrci\"'),\n",
      " (41,\n",
      "  '0.000*\"курский\" + 0.000*\"квитанция\" + 0.000*\"возникать\" + 0.000*\"аллергия\" '\n",
      "  '+ 0.000*\"rrvt\" + 0.000*\"полмиллиона\" + 0.000*\"rryv\" + 0.000*\"непривитый\" + '\n",
      "  '0.000*\"жилища\" + 0.000*\"rrci\"'),\n",
      " (42,\n",
      "  '0.401*\"сша\" + 0.051*\"движение\" + 0.048*\"европа\" + 0.021*\"сильный\" + '\n",
      "  '0.016*\"instagram\" + 0.001*\"ou\" + 0.000*\"аллергия\" + 0.000*\"профилактика\" + '\n",
      "  '0.000*\"санитар\" + 0.000*\"возникать\"'),\n",
      " (43,\n",
      "  '0.000*\"курский\" + 0.000*\"квитанция\" + 0.000*\"возникать\" + 0.000*\"аллергия\" '\n",
      "  '+ 0.000*\"rrvt\" + 0.000*\"полмиллиона\" + 0.000*\"rryv\" + 0.000*\"непривитый\" + '\n",
      "  '0.000*\"жилища\" + 0.000*\"rrci\"'),\n",
      " (44,\n",
      "  '0.112*\"запись\" + 0.054*\"луна\" + 0.050*\"многий\" + 0.045*\"оригинальный\" + '\n",
      "  '0.031*\"спустя\" + 0.024*\"агентство\" + 0.005*\"миссия\" + 0.000*\"кинолента\" + '\n",
      "  '0.000*\"rrci\" + 0.000*\"rrml\"'),\n",
      " (45,\n",
      "  '0.234*\"решить\" + 0.041*\"совершить\" + 0.034*\"родной\" + 0.021*\"клуб\" + '\n",
      "  '0.004*\"легенда\" + 0.002*\"возвращение\" + 0.000*\"кинолента\" + '\n",
      "  '0.000*\"аллергия\" + 0.000*\"отборный\" + 0.000*\"возникать\"'),\n",
      " (46,\n",
      "  '0.145*\"самолёт\" + 0.086*\"провести\" + 0.085*\"помощь\" + 0.045*\"попросить\" + '\n",
      "  '0.036*\"нея\" + 0.035*\"министр\" + 0.034*\"генпрокуратура\" + 0.033*\"бюджет\" + '\n",
      "  '0.032*\"система\" + 0.030*\"отечественный\"'),\n",
      " (47,\n",
      "  '0.104*\"пост\" + 0.082*\"билет\" + 0.066*\"образ\" + 0.061*\"подписчик\" + '\n",
      "  '0.050*\"выбрать\" + 0.048*\"отдать\" + 0.046*\"фестиваль\" + 0.046*\"победитель\" + '\n",
      "  '0.043*\"случайный\" + 0.036*\"музыкальный\"'),\n",
      " (48,\n",
      "  '0.000*\"курский\" + 0.000*\"квитанция\" + 0.000*\"возникать\" + 0.000*\"аллергия\" '\n",
      "  '+ 0.000*\"rrvt\" + 0.000*\"полмиллиона\" + 0.000*\"rryv\" + 0.000*\"непривитый\" + '\n",
      "  '0.000*\"жилища\" + 0.000*\"rrci\"'),\n",
      " (49,\n",
      "  '0.100*\"снять\" + 0.076*\"парламент\" + 0.045*\"церковь\" + 0.043*\"google\" + '\n",
      "  '0.041*\"уйти\" + 0.039*\"территория\" + 0.035*\"кирилл\" + 0.034*\"рэпер\" + '\n",
      "  '0.031*\"ролик\" + 0.030*\"наказание\"'),\n",
      " (50,\n",
      "  '0.257*\"путин\" + 0.120*\"сотрудник\" + 0.090*\"комитет\" + 0.043*\"указ\" + '\n",
      "  '0.043*\"следственный\" + 0.008*\"дождь\" + 0.008*\"повысить\" + 0.000*\"rrci\" + '\n",
      "  '0.000*\"rrml\" + 0.000*\"санитар\"'),\n",
      " (51,\n",
      "  '0.162*\"акция\" + 0.075*\"участник\" + 0.075*\"объяснить\" + '\n",
      "  '0.070*\"строительство\" + 0.053*\"связать\" + 0.048*\"екатеринбург\" + '\n",
      "  '0.038*\"происходить\" + 0.038*\"храм\" + 0.024*\"росстат\" + 0.000*\"rrml\"'),\n",
      " (52,\n",
      "  '0.122*\"госдума\" + 0.110*\"законопроект\" + 0.100*\"погибнуть\" + 0.075*\"пожар\" '\n",
      "  '+ 0.059*\"ск\" + 0.046*\"проверка\" + 0.038*\"штраф\" + 0.032*\"экипаж\" + '\n",
      "  '0.028*\"продукт\" + 0.026*\"смартфон\"'),\n",
      " (53,\n",
      "  '0.210*\"работать\" + 0.077*\"список\" + 0.032*\"корабль\" + 0.029*\"пересмотреть\" '\n",
      "  '+ 0.015*\"минтруд\" + 0.003*\"профессия\" + 0.000*\"rrvt\" + 0.000*\"аллергия\" + '\n",
      "  '0.000*\"возникать\" + 0.000*\"капремонт\"'),\n",
      " (54,\n",
      "  '0.143*\"здание\" + 0.116*\"участие\" + 0.073*\"помочь\" + 0.045*\"новосибирск\" + '\n",
      "  '0.045*\"художник\" + 0.041*\"мэрия\" + 0.033*\"жительница\" + 0.026*\"клип\" + '\n",
      "  '0.022*\"волонтёр\" + 0.018*\"нарисовать\"'),\n",
      " (55,\n",
      "  '0.285*\"сми\" + 0.141*\"петербург\" + 0.068*\"запустить\" + 0.055*\"разрешить\" + '\n",
      "  '0.034*\"журналист\" + 0.027*\"разный\" + 0.023*\"минюст\" + 0.017*\"защита\" + '\n",
      "  '0.012*\"дагестан\" + 0.011*\"иностранный\"'),\n",
      " (56,\n",
      "  '0.283*\"город\" + 0.061*\"случай\" + 0.059*\"погибший\" + 0.056*\"связь\" + '\n",
      "  '0.049*\"вести\" + 0.041*\"район\" + 0.035*\"спасатель\" + 0.026*\"пропасть\" + '\n",
      "  '0.024*\"эвакуация\" + 0.017*\"войти\"'),\n",
      " (57,\n",
      "  '0.101*\"рейтинг\" + 0.079*\"опубликовать\" + 0.067*\"план\" + 0.047*\"выбор\" + '\n",
      "  '0.040*\"единый\" + 0.039*\"песня\" + 0.035*\"снимка\" + 0.034*\"региональный\" + '\n",
      "  '0.027*\"песнь\" + 0.025*\"вводить\"'),\n",
      " (58,\n",
      "  '0.171*\"мужчина\" + 0.150*\"регион\" + 0.087*\"население\" + 0.051*\"земля\" + '\n",
      "  '0.041*\"вциома\" + 0.023*\"ночью\" + 0.021*\"согласно\" + 0.021*\"отчёт\" + '\n",
      "  '0.016*\"вич\" + 0.008*\"аргентина\"'),\n",
      " (59,\n",
      "  '0.213*\"полиция\" + 0.121*\"правительство\" + 0.093*\"поддержать\" + '\n",
      "  '0.079*\"предлагать\" + 0.034*\"обязательный\" + 0.027*\"официальный\" + '\n",
      "  '0.012*\"исполнение\" + 0.000*\"rrml\" + 0.000*\"махинация\" + 0.000*\"санитар\"'),\n",
      " (60,\n",
      "  '0.130*\"установить\" + 0.004*\"полгода\" + 0.000*\"санитар\" + 0.000*\"rryv\" + '\n",
      "  '0.000*\"профилактика\" + 0.000*\"возникать\" + 0.000*\"rrci\" + 0.000*\"квитанция\" '\n",
      "  '+ 0.000*\"полмиллиона\" + 0.000*\"rrml\"'),\n",
      " (61,\n",
      "  '0.117*\"подать\" + 0.058*\"пенсионер\" + 0.052*\"франция\" + 0.000*\"возникать\" + '\n",
      "  '0.000*\"санитар\" + 0.000*\"rryv\" + 0.000*\"профилактика\" + 0.000*\"rrci\" + '\n",
      "  '0.000*\"курский\" + 0.000*\"квитанция\"')]\n"
     ]
    }
   ],
   "source": [
    "t=time()\n",
    "lda_model = gensim.models.ldamodel.LdaModel(\n",
    "            corpus=corpus,\n",
    "            id2word=id2word,\n",
    "            num_topics=62, \n",
    "            random_state=100,\n",
    "            update_every=1,\n",
    "            chunksize=100,\n",
    "            passes=10,\n",
    "            alpha='auto',\n",
    "            per_word_topics=True);\n",
    "\n",
    "# Compute Perplexity\n",
    "print('\\nPerplexity: ', lda_model.log_perplexity(corpus)) \n",
    "# Compute Coherence Score\n",
    "coherence_model_lda = CoherenceModel(model=lda_model, texts=data_words_bigrams, dictionary=id2word, \n",
    "                                     coherence='c_v')\n",
    "coherence_lda = coherence_model_lda.get_coherence()\n",
    "print('\\nCoherence Score: ', coherence_lda)\n",
    "print('\\nTime to build model & count scores: {} mins'.format(round((time() - t) / 60, 2)))\n",
    "print()\n",
    "pprint(lda_model.print_topics(-1))"
   ]
  },
  {
   "cell_type": "markdown",
   "metadata": {},
   "source": [
    "Группы распознаются весьма неплохо, но можно почистить слова еще:"
   ]
  },
  {
   "cell_type": "code",
   "execution_count": 165,
   "metadata": {},
   "outputs": [],
   "source": [
    "stop_words = stopwords.words('russian')\n",
    "stop_words.extend(['http', 'https', 'lenta', 'ch', 'cc', 'ow', 'news', 'vk', 'upd', 'the', 'id', 'ows',\n",
    "                   'который', 'это', 'один', 'главный', 'свой', 'такой', 'лентач', 'ещё', 'еще', 'самый', 'тот', 'пока', \n",
    "                   'мол', 'некоторый', 'почему', 'отдельный', 'год', 'неделя', 'сегодня', 'впервые', 'будущий', 'оно',\n",
    "                  'сразу', 'затем', 'этот', 'также', 'жаль', 'сейчас', 'поэтому', 'лаифкаха', 'ввод', 'вывод', 'broco', \n",
    "                   'утро', 'последний', 'то', 'ничто', 'весь', 'стать', 'она', 'дать', 'хороший', 'весь', 'новый', 'имя', \n",
    "                   'oqib', 'день', 'хотеть', 'большой', 'наш', 'узнать', 'очень', 'сделаться', 'просто', 'час', 'минута',\n",
    "                   'назад', 'сюда', 'увеличиться', 'отдельный', 'полностью', 'перестать', 'иметь', 'owyt', 'проходить', \n",
    "                   'июль', 'сделать', 'делать', 'читать', 'писать', 'число', 'считать', 'каждый', 'ряд', 'начало', 'конец', \n",
    "                   'пикчер', 'ваш', 'любой', 'снова', 'сколько', 'club', 'например', 'лишь', 'целый', 'начать', \n",
    "                   'получить', 'com', 'кстати', 'вместо', 'watch', 'один', 'два', 'три', 'четыре', 'пять', 'шесть', 'семь',\n",
    "                    'восемь', 'девять', 'десять','третье', 'мем', 'мема', 'слово', 'пара', 'январь', 'сегодня', 'суббота', \n",
    "                   'ждать', 'ru', 'часто', 'тема', 'название', 'вокруг', 'oiahd', 'никто',  'остаться', 'сотня', 'сказать', \n",
    "                   'называть', 'предложение', 'представить', 'собираться', 'предложение', 'около', 'нужно', 'сильно', 'вокруг',\n",
    "                   'именно', 'отправить', 'получать', 'бывший', 'вчера', 'май', 'апрель', 'несколько', 'продолжать', 'март', \n",
    "                   'взять', 'пройтись', 'использовать', 'почитать', 'вообще', 'рассказать', 'оказаться', 'rowp', 'ro', 'rrzf', \n",
    "                   'никак', 'хотя', 'rreq', 'grace', 'three','ropr', 'практически', 'rrg', 'rofm',\n",
    "                   'вдвое', 'полтора', 'говориться', 'месяц', 'вечером', 'известный', 'начинать', 'основать', 'слишком',\n",
    "                   'подвести', 'идти', 'принести', 'distemper', 'внезапно', 'наиболее', 'известный', 'качество', 'являться',\n",
    "                   'обнаружить', 'in', 'напомнить', 'образовать', 'интересный', 'составить', 'насколько', 'появиться', 'давать',\n",
    "                   'новое', 'новость', 'найти', 'давно', 'готовый', 'продолжаться', 'раз',\n",
    "                   'ответ', 'применение', 'кажется', 'готовый', 'новость', 'говорить', 'выглядеть', 'нибыть', 'попытаться',\n",
    "                   'первое', 'уровень', 'искать', 'сторона', 'удаться', 'выяснить', 'против', 'назвать', 'мочь',\n",
    "                   'возможность', 'настоящий', 'человек', 'время', 'летний', 'вид', 'прошлое', 'ранее',\n",
    "                   'цель', 'теория', 'смочь', 'однако', 'количество', 'создать', 'многие', 'пытаться', 'минимум', \n",
    "                   'вместе', 'тысяча', 'высокий', 'менее', 'цель', 'подробность', 'момент', 'ровно', 'часть', 'недавно', \n",
    "                   'знак', 'благодаря', 'важный', 'снег', 'написать', \n",
    "                   'твой', 'вариант', 'изменить', 'очередь', 'актуальный', 'зимний', 'второе', 'set up', 'включая',\n",
    "                   'олд', 'оба', 'итог', 'век', 'среди', 'говорят', 'простой', 'таки', 'вопрос', 'никакой', 'немного',\n",
    "                   'спасибо', 'единственный', 'добавить', 'вовсе', 'попасть', 'строить', 'крутой', 'идея', 'вырасти', \n",
    "                   'рост', 'ребята', 'часы', 'ночь', 'правило', 'вид','rryv','rrci','rrvt','целое','сутки',\n",
    "                   'несмотря','нужный','изначально','поздний','показать', 'возникать','вход','видеть','откуда',\n",
    "                   'ii','al','ou','rrml','разный','ночью', 'полгода'\n",
    "                  ])\n",
    "stop_words = set(stop_words)\n",
    "\n",
    "# Remove Stop Words\n",
    "data_words_nostops = remove_stopwords(data_words)\n",
    "# Form Bigrams\n",
    "data_words_bigrams = make_bigrams(data_words_nostops)\n",
    "# Do lemmatization \n",
    "morph = pymorphy2.MorphAnalyzer()\n",
    "data_lemmatized = doc_to_words(data_words_bigrams, stop_words, morph)\n",
    "\n",
    "# Create Dictionary\n",
    "id2word = corpora.Dictionary(data_lemmatized)\n",
    "# Create Corpus\n",
    "texts = data_lemmatized\n",
    "# Term Document Frequency\n",
    "corpus = [id2word.doc2bow(text) for text in texts]"
   ]
  },
  {
   "cell_type": "code",
   "execution_count": 166,
   "metadata": {},
   "outputs": [
    {
     "name": "stdout",
     "output_type": "stream",
     "text": [
      "Time to count coherence values: 10.98 mins\n"
     ]
    },
    {
     "data": {
      "image/png": "[encoded data removed]",
      "text/plain": [
       "<Figure size 1080x360 with 1 Axes>"
      ]
     },
     "metadata": {
      "needs_background": "light"
     },
     "output_type": "display_data"
    },
    {
     "name": "stdout",
     "output_type": "stream",
     "text": [
      "2:  0.28092476735207794\n",
      "12:  0.4718534673255312\n",
      "22:  0.41063782184725073\n",
      "32:  0.47127799624214534\n",
      "42:  0.4476739060991997\n",
      "52:  0.45727238590253666\n",
      "62:  0.47869181982262515\n",
      "72:  0.48889775033907096\n",
      "82:  0.47655103173213115\n",
      "92:  0.48530765539489507\n"
     ]
    }
   ],
   "source": [
    "limit=100; start=2; step=10;\n",
    "t=time()\n",
    "model_list, coherence_values = compute_coherence_values(dictionary=id2word, \n",
    "                                                        corpus=corpus, \n",
    "                                                        texts=texts, \n",
    "                                                        start=start, \n",
    "                                                        limit=limit, \n",
    "                                                        step=step)\n",
    "\n",
    "print('Time to count coherence values: {} mins'.format(round((time() - t) / 60, 2)))\n",
    "\n",
    "x = range(start, limit, step)\n",
    "plt.figure(figsize=(15,5))\n",
    "plt.plot(x, coherence_values)\n",
    "plt.xlabel(\"Num Topics\")\n",
    "plt.ylabel(\"Coherence score\")\n",
    "plt.legend((\"coherence_values\"), loc='best')\n",
    "plt.show()\n",
    "\n",
    "for i, j in enumerate(coherence_values):\n",
    "    print(str(start + i*step) + ':  ' + str(j))"
   ]
  },
  {
   "cell_type": "code",
   "execution_count": 167,
   "metadata": {},
   "outputs": [
    {
     "name": "stdout",
     "output_type": "stream",
     "text": [
      "Time to count coherence values: 5.64 mins\n"
     ]
    },
    {
     "data": {
      "image/png": "[encoded data removed]",
      "text/plain": [
       "<Figure size 1080x360 with 1 Axes>"
      ]
     },
     "metadata": {
      "needs_background": "light"
     },
     "output_type": "display_data"
    },
    {
     "name": "stdout",
     "output_type": "stream",
     "text": [
      "28:  0.41835249102094674\n",
      "29:  0.42154191275091546\n",
      "30:  0.4280024559201977\n",
      "31:  0.43181545722847375\n",
      "32:  0.47127799624214534\n",
      "33:  0.4409134031367488\n",
      "34:  0.44674802463373153\n"
     ]
    }
   ],
   "source": [
    "start=28; step=1;limit=35; \n",
    "t=time()\n",
    "model_list, coherence_values = compute_coherence_values(dictionary=id2word, \n",
    "                                                        corpus=corpus, \n",
    "                                                        texts=texts, \n",
    "                                                        start=start, \n",
    "                                                        limit=limit, \n",
    "                                                        step=step)\n",
    "\n",
    "print('Time to count coherence values: {} mins'.format(round((time() - t) / 60, 2)))\n",
    "\n",
    "x = range(start, limit, step)\n",
    "plt.figure(figsize=(15,5))\n",
    "plt.plot(x, coherence_values)\n",
    "plt.xlabel(\"Num Topics\")\n",
    "plt.ylabel(\"Coherence score\")\n",
    "plt.legend((\"coherence_values\"), loc='best')\n",
    "plt.show()\n",
    "\n",
    "for i, j in enumerate(coherence_values):\n",
    "    print(str(start + i*step) + ':  ' + str(j))"
   ]
  },
  {
   "cell_type": "code",
   "execution_count": 168,
   "metadata": {},
   "outputs": [
    {
     "name": "stdout",
     "output_type": "stream",
     "text": [
      "Time to count coherence values: 3.92 mins\n"
     ]
    },
    {
     "data": {
      "image/png": "[encoded data removed]",
      "text/plain": [
       "<Figure size 1080x360 with 1 Axes>"
      ]
     },
     "metadata": {
      "needs_background": "light"
     },
     "output_type": "display_data"
    },
    {
     "name": "stdout",
     "output_type": "stream",
     "text": [
      "7:  0.3861460336109031\n",
      "8:  0.39881579209405615\n",
      "9:  0.4716451560968036\n",
      "10:  0.45002099214398816\n",
      "11:  0.4202525446660012\n",
      "12:  0.4718534673255312\n",
      "13:  0.42167738044894243\n",
      "14:  0.41422017496860847\n",
      "15:  0.43067725490868436\n",
      "16:  0.4255446827156189\n"
     ]
    }
   ],
   "source": [
    "start=7; step=1;limit=17; \n",
    "t=time()\n",
    "model_list, coherence_values = compute_coherence_values(dictionary=id2word, \n",
    "                                                        corpus=corpus, \n",
    "                                                        texts=texts, \n",
    "                                                        start=start, \n",
    "                                                        limit=limit, \n",
    "                                                        step=step)\n",
    "\n",
    "print('Time to count coherence values: {} mins'.format(round((time() - t) / 60, 2)))\n",
    "\n",
    "x = range(start, limit, step)\n",
    "plt.figure(figsize=(15,5))\n",
    "plt.plot(x, coherence_values)\n",
    "plt.xlabel(\"Num Topics\")\n",
    "plt.ylabel(\"Coherence score\")\n",
    "plt.legend((\"coherence_values\"), loc='best')\n",
    "plt.show()\n",
    "\n",
    "for i, j in enumerate(coherence_values):\n",
    "    print(str(start + i*step) + ':  ' + str(j))"
   ]
  },
  {
   "cell_type": "code",
   "execution_count": 169,
   "metadata": {
    "scrolled": true
   },
   "outputs": [
    {
     "name": "stdout",
     "output_type": "stream",
     "text": [
      "\n",
      "Perplexity:  -12.420698981390071\n",
      "\n",
      "Coherence Score:  0.47609967857883445\n",
      "\n",
      "Time to build model & count scores: 0.44 mins\n",
      "\n",
      "[(0,\n",
      "  '0.051*\"сша\" + 0.036*\"радиолентач\" + 0.032*\"дом\" + 0.028*\"американский\" + '\n",
      "  '0.027*\"традиционный\" + 0.027*\"группа\" + 0.021*\"мадурый\" + 0.015*\"лидер\" + '\n",
      "  '0.014*\"альбом\" + 0.013*\"миллион\"'),\n",
      " (1,\n",
      "  '0.044*\"россиянин\" + 0.040*\"венесуэла\" + 0.031*\"женщина\" + 0.019*\"пассажир\" '\n",
      "  '+ 0.014*\"чечня\" + 0.014*\"русский\" + 0.013*\"угроза\" + 0.013*\"разрешить\" + '\n",
      "  '0.011*\"обвинить\" + 0.010*\"личный\"'),\n",
      " (2,\n",
      "  '0.076*\"страна\" + 0.027*\"чёрный\" + 0.021*\"планировать\" + 0.020*\"студент\" + '\n",
      "  '0.018*\"население\" + 0.016*\"предлагать\" + 0.015*\"британский\" + '\n",
      "  '0.014*\"канада\" + 0.014*\"девочка\" + 0.013*\"половина\"'),\n",
      " (3,\n",
      "  '0.027*\"город\" + 0.026*\"сми\" + 0.020*\"житель\" + 0.017*\"область\" + '\n",
      "  '0.017*\"история\" + 0.016*\"пройти\" + 0.016*\"место\" + 0.014*\"сообщить\" + '\n",
      "  '0.014*\"сообщать\" + 0.012*\"москва\"'),\n",
      " (4,\n",
      "  '0.037*\"интернет\" + 0.034*\"мир\" + 0.032*\"февраль\" + 0.030*\"объявить\" + '\n",
      "  '0.029*\"центр\" + 0.023*\"участие\" + 0.017*\"эвакуировать\" + 0.015*\"соцсеть\" + '\n",
      "  '0.015*\"рейтинг\" + 0.013*\"торговый\"'),\n",
      " (5,\n",
      "  '0.042*\"россия\" + 0.018*\"российский\" + 0.018*\"школа\" + 0.016*\"заявить\" + '\n",
      "  '0.014*\"ребёнок\" + 0.013*\"фильм\" + 0.013*\"работа\" + 0.010*\"госдума\" + '\n",
      "  '0.010*\"предложить\" + 0.009*\"законопроект\"'),\n",
      " (6,\n",
      "  '0.031*\"дело\" + 0.028*\"президент\" + 0.020*\"компания\" + 0.019*\"самолёт\" + '\n",
      "  '0.012*\"больница\" + 0.010*\"статья\" + 0.010*\"признать\" + 0.010*\"рф\" + '\n",
      "  '0.009*\"пользователь\" + 0.009*\"книга\"'),\n",
      " (7,\n",
      "  '0.031*\"взрыв\" + 0.023*\"сила\" + 0.022*\"животный\" + 0.019*\"случай\" + '\n",
      "  '0.017*\"связь\" + 0.016*\"актёр\" + 0.015*\"борьба\" + 0.015*\"сеть\" + '\n",
      "  '0.013*\"право\" + 0.013*\"версия\"'),\n",
      " (8,\n",
      "  '0.041*\"местный\" + 0.030*\"глава\" + 0.026*\"регион\" + 0.016*\"сайт\" + '\n",
      "  '0.015*\"причина\" + 0.015*\"чиновник\" + 0.015*\"массовый\" + 0.013*\"рубрика\" + '\n",
      "  '0.012*\"музыка\" + 0.010*\"силовик\"'),\n",
      " (9,\n",
      "  '0.035*\"петербург\" + 0.023*\"учёный\" + 0.022*\"собрать\" + 0.017*\"запустить\" + '\n",
      "  '0.017*\"улица\" + 0.016*\"парламент\" + 0.015*\"вконтакте\" + 0.014*\"трамп\" + '\n",
      "  '0.014*\"граница\" + 0.013*\"премия\"'),\n",
      " (10,\n",
      "  '0.071*\"рубль\" + 0.029*\"сообщение\" + 0.024*\"деньга\" + 0.024*\"находиться\" + '\n",
      "  '0.015*\"банка\" + 0.015*\"участник\" + 0.015*\"ракета\" + 0.014*\"строительство\" + '\n",
      "  '0.014*\"красный\" + 0.012*\"собака\"'),\n",
      " (11,\n",
      "  '0.040*\"власть\" + 0.026*\"задержать\" + 0.025*\"суд\" + 0.024*\"путин\" + '\n",
      "  '0.023*\"москва\" + 0.021*\"полиция\" + 0.017*\"мужчина\" + 0.016*\"закон\" + '\n",
      "  '0.013*\"сенатор\" + 0.012*\"правительство\"')]\n"
     ]
    }
   ],
   "source": [
    "t=time()\n",
    "lda_model = gensim.models.ldamodel.LdaModel(\n",
    "            corpus=corpus,\n",
    "            id2word=id2word,\n",
    "            num_topics=12, \n",
    "            random_state=100,\n",
    "            update_every=1,\n",
    "            chunksize=100,\n",
    "            passes=10,\n",
    "            alpha='auto',\n",
    "            per_word_topics=True);\n",
    "\n",
    "# Compute Perplexity\n",
    "print('\\nPerplexity: ', lda_model.log_perplexity(corpus)) \n",
    "# Compute Coherence Score\n",
    "coherence_model_lda = CoherenceModel(model=lda_model, texts=data_words_bigrams, dictionary=id2word, \n",
    "                                     coherence='c_v')\n",
    "coherence_lda = coherence_model_lda.get_coherence()\n",
    "print('\\nCoherence Score: ', coherence_lda)\n",
    "print('\\nTime to build model & count scores: {} mins'.format(round((time() - t) / 60, 2)))\n",
    "print()\n",
    "pprint(lda_model.print_topics(-1))"
   ]
  },
  {
   "cell_type": "code",
   "execution_count": 170,
   "metadata": {
    "scrolled": true
   },
   "outputs": [
    {
     "name": "stdout",
     "output_type": "stream",
     "text": [
      "\n",
      "Perplexity:  -10.385172773344099\n",
      "\n",
      "Coherence Score:  0.4719485391554946\n",
      "\n",
      "Time to build model & count scores: 0.36 mins\n",
      "\n",
      "[(0,\n",
      "  '0.031*\"сша\" + 0.022*\"радиолентач\" + 0.021*\"история\" + 0.019*\"венесуэла\" + '\n",
      "  '0.017*\"американский\" + 0.017*\"традиционный\" + 0.016*\"группа\" + '\n",
      "  '0.012*\"сообщение\" + 0.010*\"правительство\" + 0.009*\"лидер\"'),\n",
      " (1,\n",
      "  '0.037*\"школа\" + 0.028*\"фильм\" + 0.020*\"женщина\" + 0.020*\"глава\" + '\n",
      "  '0.013*\"находиться\" + 0.012*\"снять\" + 0.011*\"борт\" + 0.010*\"фотография\" + '\n",
      "  '0.009*\"оскар\" + 0.009*\"семья\"'),\n",
      " (2,\n",
      "  '0.016*\"компания\" + 0.014*\"мир\" + 0.014*\"госдума\" + 0.012*\"законопроект\" + '\n",
      "  '0.012*\"закон\" + 0.012*\"принять\" + 0.010*\"отказаться\" + 0.010*\"чёрный\" + '\n",
      "  '0.007*\"студент\" + 0.007*\"война\"'),\n",
      " (3,\n",
      "  '0.033*\"россия\" + 0.018*\"город\" + 0.018*\"сми\" + 0.016*\"рубль\" + '\n",
      "  '0.013*\"житель\" + 0.012*\"область\" + 0.011*\"место\" + 0.010*\"пройти\" + '\n",
      "  '0.009*\"сообщить\" + 0.009*\"сообщать\"'),\n",
      " (4,\n",
      "  '0.020*\"регион\" + 0.017*\"участие\" + 0.012*\"ск\" + 0.012*\"население\" + '\n",
      "  '0.011*\"рейтинг\" + 0.010*\"торговый\" + 0.009*\"борьба\" + 0.008*\"половина\" + '\n",
      "  '0.008*\"убийство\" + 0.008*\"робот\"'),\n",
      " (5,\n",
      "  '0.017*\"интернет\" + 0.011*\"больница\" + 0.010*\"деньга\" + 0.010*\"провести\" + '\n",
      "  '0.010*\"помощь\" + 0.009*\"статья\" + 0.008*\"проект\" + 0.008*\"совет\" + '\n",
      "  '0.008*\"поддержать\" + 0.007*\"предыдущий\"'),\n",
      " (6,\n",
      "  '0.018*\"москва\" + 0.017*\"власть\" + 0.016*\"страна\" + 0.014*\"дело\" + '\n",
      "  '0.014*\"российский\" + 0.013*\"президент\" + 0.012*\"заявить\" + '\n",
      "  '0.011*\"задержать\" + 0.011*\"суд\" + 0.010*\"путин\"'),\n",
      " (7,\n",
      "  '0.022*\"взрыв\" + 0.021*\"произойти\" + 0.020*\"учёный\" + 0.013*\"парламент\" + '\n",
      "  '0.010*\"пострадавший\" + 0.009*\"версия\" + 0.009*\"честь\" + 0.008*\"земля\" + '\n",
      "  '0.008*\"церковь\" + 0.007*\"пожаловаться\"'),\n",
      " (8,\n",
      "  '0.026*\"россиянин\" + 0.016*\"мадурый\" + 0.014*\"протест\" + 0.011*\"лицо\" + '\n",
      "  '0.010*\"игра\" + 0.009*\"причина\" + 0.009*\"массовый\" + 0.009*\"информация\" + '\n",
      "  '0.008*\"русский\" + 0.008*\"гуайдо\"')]\n"
     ]
    }
   ],
   "source": [
    "t=time()\n",
    "lda_model = gensim.models.ldamodel.LdaModel(\n",
    "            corpus=corpus,\n",
    "            id2word=id2word,\n",
    "            num_topics=9, \n",
    "            random_state=100,\n",
    "            update_every=1,\n",
    "            chunksize=100,\n",
    "            passes=10,\n",
    "            alpha='auto',\n",
    "            per_word_topics=True);\n",
    "\n",
    "# Compute Perplexity\n",
    "print('\\nPerplexity: ', lda_model.log_perplexity(corpus)) \n",
    "# Compute Coherence Score\n",
    "coherence_model_lda = CoherenceModel(model=lda_model, texts=data_words_bigrams, dictionary=id2word, \n",
    "                                     coherence='c_v')\n",
    "coherence_lda = coherence_model_lda.get_coherence()\n",
    "print('\\nCoherence Score: ', coherence_lda)\n",
    "print('\\nTime to build model & count scores: {} mins'.format(round((time() - t) / 60, 2)))\n",
    "print()\n",
    "pprint(lda_model.print_topics(-1))"
   ]
  },
  {
   "cell_type": "code",
   "execution_count": 171,
   "metadata": {},
   "outputs": [
    {
     "name": "stdout",
     "output_type": "stream",
     "text": [
      "\n",
      "Perplexity:  -29.66146929341165\n",
      "\n",
      "Coherence Score:  nan\n",
      "\n",
      "Time to build model & count scores: 0.8 mins\n",
      "\n",
      "[(0,\n",
      "  '0.118*\"радиолентач\" + 0.092*\"американский\" + 0.090*\"традиционный\" + '\n",
      "  '0.088*\"группа\" + 0.045*\"альбом\" + 0.044*\"миллион\" + 0.041*\"рок_группа\" + '\n",
      "  '0.035*\"выпустить\" + 0.021*\"уйти\" + 0.020*\"существование\"'),\n",
      " (1,\n",
      "  '0.069*\"соцсеть\" + 0.060*\"торговый\" + 0.048*\"устроить\" + 0.030*\"стрельба\" + '\n",
      "  '0.029*\"рунет\" + 0.018*\"автомобиль\" + 0.016*\"тонна\" + 0.015*\"учебный\" + '\n",
      "  '0.014*\"река\" + 0.012*\"очевидец\"'),\n",
      " (2,\n",
      "  '0.351*\"россия\" + 0.041*\"поддержать\" + 0.035*\"предлагать\" + '\n",
      "  '0.021*\"журналист\" + 0.020*\"направить\" + 0.018*\"уходить\" + 0.018*\"интервью\" '\n",
      "  '+ 0.015*\"обязательный\" + 0.015*\"единый\" + 0.012*\"телеканал\"'),\n",
      " (3,\n",
      "  '0.080*\"здание\" + 0.080*\"результат\" + 0.078*\"погибнуть\" + 0.046*\"ск\" + '\n",
      "  '0.041*\"помочь\" + 0.036*\"проверка\" + 0.025*\"экипаж\" + 0.025*\"новосибирск\" + '\n",
      "  '0.023*\"движение\" + 0.023*\"мэрия\"'),\n",
      " (4,\n",
      "  '0.000*\"профилактика\" + 0.000*\"аллергия\" + 0.000*\"отборный\" + '\n",
      "  '0.000*\"кинолента\" + 0.000*\"махинация\" + 0.000*\"санитар\" + 0.000*\"ton\" + '\n",
      "  '0.000*\"капремонт\" + 0.000*\"курский\" + 0.000*\"платформа\"'),\n",
      " (5,\n",
      "  '0.183*\"москва\" + 0.145*\"дело\" + 0.045*\"концерт\" + 0.026*\"задержание\" + '\n",
      "  '0.025*\"подозревать\" + 0.024*\"режиссёр\" + 0.022*\"наркотик\" + '\n",
      "  '0.022*\"активист\" + 0.021*\"генпрокуратура\" + 0.018*\"приехать\"'),\n",
      " (6,\n",
      "  '0.087*\"дом\" + 0.053*\"работать\" + 0.046*\"деньга\" + 0.045*\"собрать\" + '\n",
      "  '0.041*\"статья\" + 0.037*\"пользователь\" + 0.032*\"рейтинг\" + 0.031*\"долг\" + '\n",
      "  '0.029*\"трамп\" + 0.024*\"ловить\"'),\n",
      " (7,\n",
      "  '0.080*\"взрыв\" + 0.077*\"произойти\" + 0.050*\"доллар\" + 0.036*\"подать\" + '\n",
      "  '0.034*\"версия\" + 0.030*\"земля\" + 0.020*\"отмечать\" + 0.018*\"пенсионер\" + '\n",
      "  '0.017*\"пострадать\" + 0.017*\"жена\"'),\n",
      " (8,\n",
      "  '0.099*\"глава\" + 0.088*\"регион\" + 0.051*\"население\" + 0.035*\"право\" + '\n",
      "  '0.026*\"япония\" + 0.025*\"губернатор\" + 0.022*\"край\" + 0.022*\"прямая\" + '\n",
      "  '0.020*\"канал\" + 0.015*\"позволять\"'),\n",
      " (9,\n",
      "  '0.162*\"сми\" + 0.108*\"суд\" + 0.080*\"петербург\" + 0.036*\"арестовать\" + '\n",
      "  '0.031*\"разрешить\" + 0.024*\"республика\" + 0.018*\"преступление\" + '\n",
      "  '0.017*\"смотреть\" + 0.016*\"обвинять\" + 0.014*\"иск\"'),\n",
      " (10,\n",
      "  '0.148*\"самолёт\" + 0.055*\"объяснить\" + 0.046*\"попросить\" + 0.036*\"министр\" + '\n",
      "  '0.031*\"отечественный\" + 0.024*\"стоить\" + 0.018*\"минздрав\" + '\n",
      "  '0.015*\"французский\" + 0.011*\"дешёвый\" + 0.010*\"вероника\"'),\n",
      " (11,\n",
      "  '0.149*\"заявить\" + 0.097*\"мир\" + 0.068*\"чёрный\" + 0.043*\"должный\" + '\n",
      "  '0.035*\"крупный\" + 0.031*\"обвинить\" + 0.027*\"расследование\" + '\n",
      "  '0.022*\"десятка\" + 0.020*\"фсб\" + 0.016*\"открыть\"'),\n",
      " (12,\n",
      "  '0.140*\"сша\" + 0.092*\"пройти\" + 0.050*\"пост\" + 0.045*\"сотрудник\" + '\n",
      "  '0.040*\"билет\" + 0.034*\"комитет\" + 0.032*\"образ\" + 0.030*\"подписчик\" + '\n",
      "  '0.024*\"выбрать\" + 0.023*\"отдать\"'),\n",
      " (13,\n",
      "  '0.184*\"житель\" + 0.145*\"местный\" + 0.055*\"чиновник\" + 0.025*\"роскомнадзор\" '\n",
      "  '+ 0.022*\"оштрафовать\" + 0.022*\"оскорбление\" + 0.017*\"транспорт\" + '\n",
      "  '0.012*\"кокорин\" + 0.008*\"протокол\" + 0.008*\"мамай\"'),\n",
      " (14,\n",
      "  '0.145*\"ребёнок\" + 0.144*\"задержать\" + 0.064*\"находиться\" + '\n",
      "  '0.046*\"парламент\" + 0.033*\"собака\" + 0.027*\"церковь\" + 0.026*\"питер\" + '\n",
      "  '0.020*\"рэпер\" + 0.018*\"наказание\" + 0.017*\"агрессивный\"'),\n",
      " (15,\n",
      "  '0.150*\"история\" + 0.125*\"интернет\" + 0.057*\"совет\" + 0.051*\"случай\" + '\n",
      "  '0.035*\"район\" + 0.022*\"спикер\" + 0.021*\"федерация\" + 0.020*\"душить\" + '\n",
      "  '0.008*\"радио\" + 0.007*\"валентин\"'),\n",
      " (16,\n",
      "  '0.074*\"митинг\" + 0.047*\"граница\" + 0.040*\"установить\" + 0.030*\"отделение\" + '\n",
      "  '0.027*\"фото\" + 0.025*\"мусорный\" + 0.022*\"полезный\" + 0.020*\"банк\" + '\n",
      "  '0.020*\"получение\" + 0.019*\"маленький\"'),\n",
      " (17,\n",
      "  '0.103*\"фильм\" + 0.060*\"сообщение\" + 0.054*\"больница\" + 0.054*\"участие\" + '\n",
      "  '0.048*\"картина\" + 0.031*\"зарплата\" + 0.031*\"поздравлять\" + 0.028*\"сеть\" + '\n",
      "  '0.021*\"александр\" + 0.021*\"список\"'),\n",
      " (18,\n",
      "  '0.091*\"пожар\" + 0.043*\"смерть\" + 0.039*\"художник\" + 0.037*\"google\" + '\n",
      "  '0.023*\"поручить\" + 0.023*\"клип\" + 0.019*\"производство\" + 0.015*\"нарисовать\" '\n",
      "  '+ 0.015*\"поставка\" + 0.014*\"уничтожить\"'),\n",
      " (19,\n",
      "  '0.199*\"рубль\" + 0.140*\"путин\" + 0.091*\"закон\" + 0.031*\"розыгрыш\" + '\n",
      "  '0.031*\"миллиард\" + 0.027*\"минобороны\" + 0.022*\"подписать\" + 0.003*\"офицер\" '\n",
      "  '+ 0.001*\"подводный\" + 0.000*\"приостановка\"'),\n",
      " (20,\n",
      "  '0.131*\"российский\" + 0.097*\"работа\" + 0.058*\"решить\" + 0.043*\"снять\" + '\n",
      "  '0.041*\"запретить\" + 0.040*\"студент\" + 0.029*\"британский\" + 0.021*\"евро\" + '\n",
      "  '0.019*\"руководство\" + 0.017*\"территория\"'),\n",
      " (21,\n",
      "  '0.126*\"мужчина\" + 0.087*\"выйти\" + 0.074*\"признать\" + 0.056*\"политика\" + '\n",
      "  '0.034*\"пожаловаться\" + 0.018*\"совершить\" + 0.017*\"девушка\" + 0.008*\"илья\" + '\n",
      "  '0.000*\"блокчейн\" + 0.000*\"ton\"'),\n",
      " (22,\n",
      "  '0.190*\"власть\" + 0.183*\"город\" + 0.117*\"область\" + 0.037*\"вконтакте\" + '\n",
      "  '0.031*\"возбудить\" + 0.030*\"комментарий\" + 0.022*\"неуважение\" + '\n",
      "  '0.010*\"пенсионерка\" + 0.006*\"архангельский\" + 0.000*\"возмещать\"'),\n",
      " (23,\n",
      "  '0.099*\"полиция\" + 0.094*\"сообщать\" + 0.079*\"объявить\" + 0.075*\"центр\" + '\n",
      "  '0.058*\"уголовный\" + 0.045*\"эвакуировать\" + 0.039*\"погибший\" + '\n",
      "  '0.029*\"пострадавший\" + 0.025*\"подтвердить\" + 0.025*\"служба\"'),\n",
      " (24,\n",
      "  '0.056*\"учёный\" + 0.053*\"провести\" + 0.052*\"помощь\" + 0.033*\"музыка\" + '\n",
      "  '0.031*\"запись\" + 0.029*\"опубликовать\" + 0.025*\"китайский\" + 0.025*\"план\" + '\n",
      "  '0.023*\"связать\" + 0.022*\"характер\"'),\n",
      " (25,\n",
      "  '0.115*\"жизнь\" + 0.041*\"серия\" + 0.037*\"система\" + 0.032*\"сериал\" + '\n",
      "  '0.032*\"рассказывать\" + 0.015*\"установка\" + 0.014*\"быстрый\" + 0.008*\"роман\" '\n",
      "  '+ 0.008*\"николай\" + 0.008*\"доказать\"'),\n",
      " (26,\n",
      "  '0.141*\"страна\" + 0.093*\"россиянин\" + 0.075*\"сообщить\" + 0.066*\"женщина\" + '\n",
      "  '0.028*\"семья\" + 0.027*\"цена\" + 0.026*\"канада\" + 0.023*\"половина\" + '\n",
      "  '0.022*\"убийство\" + 0.021*\"прийтись\"'),\n",
      " (27,\n",
      "  '0.000*\"профилактика\" + 0.000*\"аллергия\" + 0.000*\"отборный\" + '\n",
      "  '0.000*\"кинолента\" + 0.000*\"махинация\" + 0.000*\"санитар\" + 0.000*\"ton\" + '\n",
      "  '0.000*\"капремонт\" + 0.000*\"курский\" + 0.000*\"платформа\"'),\n",
      " (28,\n",
      "  '0.090*\"госдума\" + 0.081*\"законопроект\" + 0.077*\"акция\" + '\n",
      "  '0.068*\"полицейский\" + 0.061*\"протест\" + 0.043*\"причина\" + 0.036*\"продажа\" + '\n",
      "  '0.029*\"начаться\" + 0.028*\"штраф\" + 0.019*\"смартфон\"'),\n",
      " (29,\n",
      "  '0.101*\"планировать\" + 0.088*\"запустить\" + 0.021*\"подмосковье\" + '\n",
      "  '0.009*\"сбор\" + 0.006*\"дикий\" + 0.000*\"кинолента\" + 0.000*\"санитар\" + '\n",
      "  '0.000*\"радовать\" + 0.000*\"отборный\" + 0.000*\"блокчейн\"'),\n",
      " (30,\n",
      "  '0.069*\"участник\" + 0.065*\"строительство\" + 0.044*\"екатеринбург\" + '\n",
      "  '0.035*\"храм\" + 0.018*\"ущерб\" + 0.017*\"пересмотреть\" + 0.004*\"оправдать\" + '\n",
      "  '0.002*\"профессия\" + 0.000*\"акция\" + 0.000*\"профилактика\"'),\n",
      " (31,\n",
      "  '0.050*\"правительство\" + 0.033*\"связь\" + 0.029*\"вести\" + 0.025*\"управление\" '\n",
      "  '+ 0.023*\"автор\" + 0.023*\"вод\" + 0.022*\"звание\" + 0.022*\"жертва\" + '\n",
      "  '0.022*\"держать\" + 0.021*\"спасатель\"')]\n"
     ]
    }
   ],
   "source": [
    "t=time()\n",
    "lda_model = gensim.models.ldamodel.LdaModel(\n",
    "            corpus=corpus,\n",
    "            id2word=id2word,\n",
    "            num_topics=32, \n",
    "            random_state=100,\n",
    "            update_every=1,\n",
    "            chunksize=100,\n",
    "            passes=10,\n",
    "            alpha='auto',\n",
    "            per_word_topics=True);\n",
    "\n",
    "# Compute Perplexity\n",
    "print('\\nPerplexity: ', lda_model.log_perplexity(corpus)) \n",
    "# Compute Coherence Score\n",
    "coherence_model_lda = CoherenceModel(model=lda_model, texts=data_words_bigrams, dictionary=id2word, \n",
    "                                     coherence='c_v')\n",
    "coherence_lda = coherence_model_lda.get_coherence()\n",
    "print('\\nCoherence Score: ', coherence_lda)\n",
    "print('\\nTime to build model & count scores: {} mins'.format(round((time() - t) / 60, 2)))\n",
    "print()\n",
    "pprint(lda_model.print_topics(-1))"
   ]
  },
  {
   "cell_type": "markdown",
   "metadata": {},
   "source": [
    "Остановимся на следующем варианте дополнително выделенных стоп слов:"
   ]
  },
  {
   "cell_type": "code",
   "execution_count": 187,
   "metadata": {},
   "outputs": [
    {
     "name": "stdout",
     "output_type": "stream",
     "text": [
      "Time to count coherence values: 1.15 mins\n"
     ]
    }
   ],
   "source": [
    "t=time()\n",
    "stop_words = stopwords.words('russian')\n",
    "stop_words.extend(['http', 'https', 'lenta', 'ch', 'cc', 'ow', 'news', 'vk', 'upd', 'the', 'id', 'ows',\n",
    "                   'который', 'это', 'один', 'главный', 'свой', 'такой', 'лентач', 'ещё', 'еще', 'самый', 'тот', 'пока', \n",
    "                   'мол', 'некоторый', 'почему', 'отдельный', 'год', 'неделя', 'сегодня', 'будущий', 'оно',\n",
    "                  'сразу', 'затем', 'этот', 'также', 'жаль', 'сейчас', 'поэтому', 'лаифкаха', 'ввод', 'вывод', 'broco', \n",
    "                   'утро', 'последний', 'то', 'ничто', 'весь', 'стать', 'она', 'дать', 'хороший', 'весь', 'новый', 'имя', \n",
    "                   'oqib', 'день', 'хотеть', 'большой', 'наш', 'узнать', 'очень', 'сделаться', 'просто', 'час', 'минута',\n",
    "                   'назад', 'сюда', 'увеличиться', 'отдельный', 'полностью', 'перестать', 'иметь', 'owyt', \n",
    "                   'июль', 'сделать', 'делать', 'читать', 'писать', 'число', 'считать', 'каждый', 'ряд', 'начало', 'конец', \n",
    "                   'пикчер', 'ваш', 'любой', 'снова', 'сколько', 'club', 'например', 'лишь', 'целый', 'начать', \n",
    "                   'получить', 'com', 'кстати', 'вместо', 'watch', 'один', 'два', 'три', 'четыре', 'пять', 'шесть', 'семь',\n",
    "                    'восемь', 'девять', 'десять','третье', 'мем', 'мема', 'слово', 'пара', 'январь', 'сегодня', 'суббота', \n",
    "                   'ждать', 'ru', 'часто', 'тема', 'название', 'вокруг', 'oiahd', 'никто',  'остаться', 'сотня', 'сказать', \n",
    "                   'называть', 'предложение', 'представить', 'собираться', 'около', 'нужно', 'сильно', 'вокруг',\n",
    "                   'именно', 'отправить', 'получать', 'бывший', 'вчера', 'май', 'апрель', 'несколько', 'продолжать', 'март', \n",
    "                   'взять', 'пройтись', 'использовать', 'почитать', 'вообще', 'рассказать', 'оказаться', 'rowp', 'ro', 'rrzf', \n",
    "                   'никак', 'хотя', 'rreq', 'grace', 'three','ropr', 'практически', 'rrg', 'rofm',\n",
    "                   'вдвое', 'полтора', 'говориться', 'месяц', 'вечером', 'известный', 'начинать', 'основать', 'слишком',\n",
    "                   'подвести', 'идти', 'принести', 'distemper', 'внезапно', 'наиболее', 'качество', 'являться',\n",
    "                   'in', 'напомнить', 'образовать', 'интересный', 'составить', 'насколько', 'появиться', 'давать',\n",
    "                   'новое', 'новость', 'найти', 'давно', 'готовый', 'продолжаться', 'раз',\n",
    "                   'ответ', 'применение', 'кажется', 'готовый', 'новость', 'говорить', 'выглядеть', 'нибыть', 'попытаться',\n",
    "                   'первое', 'уровень', 'сторона', 'удаться', 'выяснить', 'назвать', 'мочь',\n",
    "                   'возможность', 'настоящий', 'человек', 'время', 'летний', 'вид', 'прошлое', 'ранее',\n",
    "                   'цель', 'теория', 'смочь', 'однако', 'количество', 'создать', 'многие', 'пытаться', 'минимум', \n",
    "                   'вместе', 'тысяча', 'высокий', 'менее', 'цель', 'подробность', 'момент', 'ровно', 'часть', 'недавно', \n",
    "                   'знак', 'благодаря', 'важный', 'снег', 'написать', \n",
    "                   'твой', 'вариант', 'изменить', 'очередь', 'актуальный', 'зимний', 'второе', 'set up', 'включая',\n",
    "                   'олд', 'оба', 'итог', 'век', 'среди', 'говорят', 'простой', 'таки', 'вопрос', 'никакой', 'немного',\n",
    "                   'спасибо', 'единственный', 'добавить', 'вовсе', 'попасть', 'строить', 'крутой', 'идея', 'вырасти', \n",
    "                   'рост', 'ребята', 'часы', 'ночь', 'правило', 'вид','rryv','rrci','rrvt','целое','сутки',\n",
    "                   'несмотря','нужный','изначально','поздний','показать', 'возникать','вход','видеть','откуда',\n",
    "                   'ii','al','ou','rrml','разный','ночью', 'ton', 'фото', 'девушка', 'должный', 'слышать', \n",
    "                   'смотреть', 'стол', 'ssj', 'основной', 'полмиллиона', 'скажем', 'половина', 'радовать', 'рука', \n",
    "                   'полгода', 'иначе', 'ef', 'многий', 'возможно', 'миллион', 'прийтись', 'секунда'\n",
    "                  ])\n",
    "stop_words = set(stop_words)\n",
    "\n",
    "# Remove Stop Words\n",
    "data_words_nostops = remove_stopwords(data_words)\n",
    "# Form Bigrams\n",
    "data_words_bigrams = make_bigrams(data_words_nostops)\n",
    "# Do lemmatization \n",
    "morph = pymorphy2.MorphAnalyzer()\n",
    "data_lemmatized = doc_to_words(data_words_bigrams, stop_words, morph)\n",
    "\n",
    "# Create Dictionary\n",
    "id2word = corpora.Dictionary(data_lemmatized)\n",
    "# Create Corpus\n",
    "texts = data_lemmatized\n",
    "# Term Document Frequency\n",
    "corpus = [id2word.doc2bow(text) for text in texts]\n",
    "\n",
    "print('Time to count coherence values: {} mins'.format(round((time() - t) / 60, 2)))\n"
   ]
  },
  {
   "cell_type": "code",
   "execution_count": 188,
   "metadata": {
    "scrolled": false
   },
   "outputs": [
    {
     "name": "stdout",
     "output_type": "stream",
     "text": [
      "Time to count coherence values: 15.31 mins\n"
     ]
    },
    {
     "data": {
      "image/png": "[encoded data removed]",
      "text/plain": [
       "<Figure size 1080x360 with 1 Axes>"
      ]
     },
     "metadata": {
      "needs_background": "light"
     },
     "output_type": "display_data"
    },
    {
     "name": "stdout",
     "output_type": "stream",
     "text": [
      "2:  0.2473509051805935\n",
      "12:  0.44075806344988244\n",
      "22:  0.4146957507431153\n",
      "32:  0.4648560331074475\n",
      "42:  0.48359352532056865\n",
      "52:  0.5024337334474596\n",
      "62:  0.5201770012827277\n",
      "72:  0.5287377651801699\n",
      "82:  0.5374231045619791\n",
      "92:  0.5435680998897074\n",
      "102:  0.5490030692598803\n",
      "112:  0.5499012146118701\n"
     ]
    }
   ],
   "source": [
    "start=2; step=10;limit=120; \n",
    "t=time()\n",
    "model_list, coherence_values = compute_coherence_values(dictionary=id2word, \n",
    "                                                        corpus=corpus, \n",
    "                                                        texts=texts, \n",
    "                                                        start=start, \n",
    "                                                        limit=limit, \n",
    "                                                        step=step)\n",
    "\n",
    "print('Time to count coherence values: {} mins'.format(round((time() - t) / 60, 2)))\n",
    "\n",
    "x = range(start, limit, step)\n",
    "plt.figure(figsize=(15,5))\n",
    "plt.plot(x, coherence_values)\n",
    "plt.xlabel(\"Num Topics\")\n",
    "plt.ylabel(\"Coherence score\")\n",
    "plt.legend((\"coherence_values\"), loc='best')\n",
    "plt.show()\n",
    "\n",
    "for i, j in enumerate(coherence_values):\n",
    "    print(str(start + i*step) + ':  ' + str(j))"
   ]
  },
  {
   "cell_type": "markdown",
   "metadata": {},
   "source": [
    "Судя по графику имеет смысл рассмотреть 2 участка: в районе 12 и 32. Далее количество тем начинает расти значительно, принося очень небольшой выигрыш в зачении когерентности."
   ]
  },
  {
   "cell_type": "code",
   "execution_count": 190,
   "metadata": {},
   "outputs": [
    {
     "name": "stdout",
     "output_type": "stream",
     "text": [
      "Time to count coherence values: 4.12 mins\n"
     ]
    },
    {
     "data": {
      "image/png": "[encoded data removed]",
      "text/plain": [
       "<Figure size 1080x360 with 1 Axes>"
      ]
     },
     "metadata": {
      "needs_background": "light"
     },
     "output_type": "display_data"
    },
    {
     "name": "stdout",
     "output_type": "stream",
     "text": [
      "30:  0.44689793008477363\n",
      "31:  0.45371645398046145\n",
      "32:  0.4648560331074475\n",
      "33:  0.45525726483350326\n",
      "34:  0.4328658637437486\n"
     ]
    }
   ],
   "source": [
    "# 30-35\n",
    "start=30; step=1;limit=35; \n",
    "t=time()\n",
    "model_list, coherence_values = compute_coherence_values(dictionary=id2word, \n",
    "                                                        corpus=corpus, \n",
    "                                                        texts=texts, \n",
    "                                                        start=start, \n",
    "                                                        limit=limit, \n",
    "                                                        step=step)\n",
    "\n",
    "print('Time to count coherence values: {} mins'.format(round((time() - t) / 60, 2)))\n",
    "\n",
    "x = range(start, limit, step)\n",
    "plt.figure(figsize=(15,5))\n",
    "plt.plot(x, coherence_values)\n",
    "plt.xlabel(\"Num Topics\")\n",
    "plt.ylabel(\"Coherence score\")\n",
    "plt.legend((\"coherence_values\"), loc='best')\n",
    "plt.show()\n",
    "\n",
    "for i, j in enumerate(coherence_values):\n",
    "    print(str(start + i*step) + ':  ' + str(j))"
   ]
  },
  {
   "cell_type": "code",
   "execution_count": 192,
   "metadata": {},
   "outputs": [
    {
     "name": "stdout",
     "output_type": "stream",
     "text": [
      "\n",
      "Perplexity:  -29.819186721530134\n",
      "\n",
      "Coherence Score:  0.4703724950925552\n",
      "\n",
      "Time to build model & count scores: 0.91 mins\n",
      "\n",
      "[(0,\n",
      "  '0.118*\"путин\" + 0.117*\"работа\" + 0.064*\"чёрный\" + 0.055*\"собрать\" + '\n",
      "  '0.037*\"политика\" + 0.036*\"трамп\" + 0.035*\"британский\" + 0.031*\"комментарий\" '\n",
      "  '+ 0.024*\"художник\" + 0.022*\"уйти\"'),\n",
      " (1,\n",
      "  '0.000*\"махинация\" + 0.000*\"санитар\" + 0.000*\"платформа\" + 0.000*\"блокчейн\" '\n",
      "  '+ 0.000*\"отборный\" + 0.000*\"кинолента\" + 0.000*\"главбух\" + '\n",
      "  '0.000*\"квитанция\" + 0.000*\"аллергия\" + 0.000*\"выдворить\"'),\n",
      " (2,\n",
      "  '0.105*\"суд\" + 0.093*\"дом\" + 0.054*\"больница\" + 0.042*\"признать\" + '\n",
      "  '0.042*\"запретить\" + 0.033*\"долг\" + 0.024*\"решение\" + 0.024*\"подозревать\" + '\n",
      "  '0.023*\"республика\" + 0.023*\"детский\"'),\n",
      " (3,\n",
      "  '0.105*\"здание\" + 0.085*\"участие\" + 0.054*\"помочь\" + 0.049*\"семья\" + '\n",
      "  '0.033*\"новосибирск\" + 0.030*\"мэрия\" + 0.024*\"жительница\" + 0.016*\"волонтёр\" '\n",
      "  '+ 0.013*\"нож\" + 0.012*\"участвовать\"'),\n",
      " (4,\n",
      "  '0.058*\"смерть\" + 0.050*\"минобороны\" + 0.020*\"кокорин\" + 0.017*\"ссылка\" + '\n",
      "  '0.013*\"мамай\" + 0.006*\"прогноз\" + 0.000*\"облёт\" + 0.000*\"выдворить\" + '\n",
      "  '0.000*\"главбух\" + 0.000*\"платформа\"'),\n",
      " (5,\n",
      "  '0.141*\"россиянин\" + 0.099*\"мужчина\" + 0.054*\"пользователь\" + '\n",
      "  '0.048*\"арестовать\" + 0.034*\"обвинить\" + 0.024*\"существование\" + '\n",
      "  '0.023*\"вциома\" + 0.019*\"ролик\" + 0.019*\"иск\" + 0.017*\"попытка\"'),\n",
      " (6,\n",
      "  '0.079*\"взрыв\" + 0.076*\"произойти\" + 0.066*\"пожар\" + 0.047*\"парламент\" + '\n",
      "  '0.034*\"версия\" + 0.028*\"список\" + 0.028*\"церковь\" + 0.021*\"рэпер\" + '\n",
      "  '0.020*\"отмечать\" + 0.018*\"наказание\"'),\n",
      " (7,\n",
      "  '0.097*\"акция\" + 0.086*\"полицейский\" + 0.078*\"протест\" + 0.055*\"причина\" + '\n",
      "  '0.051*\"случай\" + 0.037*\"начаться\" + 0.032*\"земля\" + 0.021*\"парень\" + '\n",
      "  '0.015*\"взорваться\" + 0.012*\"драка\"'),\n",
      " (8,\n",
      "  '0.076*\"госдума\" + 0.071*\"женщина\" + 0.069*\"законопроект\" + 0.048*\"выйти\" + '\n",
      "  '0.035*\"доллар\" + 0.031*\"продажа\" + 0.024*\"убийство\" + 0.024*\"штраф\" + '\n",
      "  '0.022*\"приговорить\" + 0.021*\"конфликт\"'),\n",
      " (9,\n",
      "  '0.050*\"альбом\" + 0.047*\"поддержать\" + 0.046*\"рок_группа\" + '\n",
      "  '0.045*\"население\" + 0.040*\"предлагать\" + 0.039*\"выпустить\" + '\n",
      "  '0.038*\"объяснить\" + 0.037*\"граница\" + 0.030*\"apple\" + 0.027*\"связать\"'),\n",
      " (10,\n",
      "  '0.244*\"страна\" + 0.190*\"заявить\" + 0.046*\"канада\" + 0.004*\"паспорт\" + '\n",
      "  '0.001*\"днр_лнр\" + 0.000*\"гарантировать\" + 0.000*\"экстрадируют\" + '\n",
      "  '0.000*\"главбух\" + 0.000*\"выдворить\" + 0.000*\"санитар\"'),\n",
      " (11,\n",
      "  '0.163*\"рубль\" + 0.115*\"история\" + 0.075*\"закон\" + 0.068*\"сообщение\" + '\n",
      "  '0.025*\"миллиард\" + 0.024*\"звание\" + 0.021*\"журналист\" + 0.018*\"подписать\" + '\n",
      "  '0.014*\"открыть\" + 0.014*\"ответить\"'),\n",
      " (12,\n",
      "  '0.100*\"глава\" + 0.088*\"регион\" + 0.060*\"планировать\" + 0.058*\"студент\" + '\n",
      "  '0.049*\"комитет\" + 0.043*\"зарплата\" + 0.025*\"территория\" + 0.023*\"указ\" + '\n",
      "  '0.023*\"следственный\" + 0.015*\"позволять\"'),\n",
      " (13,\n",
      "  '0.324*\"россия\" + 0.150*\"сша\" + 0.028*\"вести\" + 0.020*\"google\" + '\n",
      "  '0.018*\"европа\" + 0.016*\"открытый\" + 0.015*\"спикер\" + 0.015*\"федерация\" + '\n",
      "  '0.010*\"производство\" + 0.009*\"забрать\"'),\n",
      " (14,\n",
      "  '0.081*\"фильм\" + 0.077*\"пройти\" + 0.048*\"решить\" + 0.042*\"пост\" + '\n",
      "  '0.035*\"статья\" + 0.034*\"концерт\" + 0.033*\"билет\" + 0.027*\"образ\" + '\n",
      "  '0.025*\"подписчик\" + 0.021*\"ловить\"'),\n",
      " (15,\n",
      "  '0.072*\"деньга\" + 0.071*\"правительство\" + 0.042*\"крупный\" + '\n",
      "  '0.032*\"расследование\" + 0.029*\"нея\" + 0.029*\"серия\" + 0.027*\"бюджет\" + '\n",
      "  '0.024*\"фсб\" + 0.023*\"сериал\" + 0.023*\"рассказывать\"'),\n",
      " (16,\n",
      "  '0.127*\"ребёнок\" + 0.075*\"погибнуть\" + 0.053*\"снять\" + 0.045*\"совет\" + '\n",
      "  '0.044*\"ск\" + 0.034*\"проверка\" + 0.024*\"экипаж\" + 0.021*\"продукт\" + '\n",
      "  '0.017*\"полезный\" + 0.015*\"прибыть\"'),\n",
      " (17,\n",
      "  '0.125*\"сми\" + 0.066*\"сообщить\" + 0.065*\"самолёт\" + 0.062*\"петербург\" + '\n",
      "  '0.038*\"находиться\" + 0.030*\"запустить\" + 0.027*\"рейтинг\" + 0.024*\"цена\" + '\n",
      "  '0.020*\"попросить\" + 0.019*\"собака\"'),\n",
      " (18,\n",
      "  '0.000*\"махинация\" + 0.000*\"санитар\" + 0.000*\"платформа\" + 0.000*\"блокчейн\" '\n",
      "  '+ 0.000*\"отборный\" + 0.000*\"кинолента\" + 0.000*\"главбух\" + '\n",
      "  '0.000*\"квитанция\" + 0.000*\"аллергия\" + 0.000*\"выдворить\"'),\n",
      " (19,\n",
      "  '0.053*\"задержание\" + 0.041*\"отделение\" + 0.037*\"приехать\" + '\n",
      "  '0.031*\"заставить\" + 0.028*\"банк\" + 0.024*\"левый\" + 0.023*\"прислать\" + '\n",
      "  '0.022*\"клиент\" + 0.013*\"совместный\" + 0.011*\"сбербанк\"'),\n",
      " (20,\n",
      "  '0.141*\"радиолентач\" + 0.110*\"американский\" + 0.107*\"традиционный\" + '\n",
      "  '0.105*\"группа\" + 0.040*\"музыка\" + 0.021*\"электронный\" + 0.013*\"жанр\" + '\n",
      "  '0.011*\"дуэт\" + 0.009*\"маска\" + 0.002*\"традиция\"'),\n",
      " (21,\n",
      "  '0.071*\"связь\" + 0.044*\"спасатель\" + 0.040*\"колония\" + 0.033*\"пропасть\" + '\n",
      "  '0.030*\"эвакуация\" + 0.011*\"спортсмен\" + 0.011*\"живой\" + 0.011*\"всемирный\" + '\n",
      "  '0.010*\"употребление\" + 0.009*\"японский\"'),\n",
      " (22,\n",
      "  '0.180*\"мир\" + 0.041*\"десятка\" + 0.027*\"путь\" + 0.000*\"отборный\" + '\n",
      "  '0.000*\"гарантировать\" + 0.000*\"платформа\" + 0.000*\"блокчейн\" + '\n",
      "  '0.000*\"экстрадируют\" + 0.000*\"санитар\" + 0.000*\"профилактика\"'),\n",
      " (23,\n",
      "  '0.157*\"задержать\" + 0.082*\"работать\" + 0.069*\"сотрудник\" + '\n",
      "  '0.035*\"управление\" + 0.024*\"герой\" + 0.024*\"хищение\" + 0.023*\"подозрение\" + '\n",
      "  '0.023*\"возраст\" + 0.020*\"общественный\" + 0.019*\"опрос\"'),\n",
      " (24,\n",
      "  '0.050*\"участник\" + 0.047*\"строительство\" + 0.043*\"подать\" + '\n",
      "  '0.035*\"наркотик\" + 0.033*\"характер\" + 0.032*\"генпрокуратура\" + '\n",
      "  '0.032*\"екатеринбург\" + 0.028*\"проводить\" + 0.026*\"храм\" + 0.025*\"правда\"'),\n",
      " (25,\n",
      "  '0.000*\"махинация\" + 0.000*\"санитар\" + 0.000*\"платформа\" + 0.000*\"блокчейн\" '\n",
      "  '+ 0.000*\"отборный\" + 0.000*\"кинолента\" + 0.000*\"главбух\" + '\n",
      "  '0.000*\"квитанция\" + 0.000*\"аллергия\" + 0.000*\"выдворить\"'),\n",
      " (26,\n",
      "  '0.154*\"российский\" + 0.064*\"жизнь\" + 0.058*\"учёный\" + 0.055*\"провести\" + '\n",
      "  '0.054*\"помощь\" + 0.034*\"разрешить\" + 0.026*\"китайский\" + 0.024*\"держать\" + '\n",
      "  '0.021*\"япония\" + 0.018*\"безопасность\"'),\n",
      " (27,\n",
      "  '0.042*\"система\" + 0.028*\"клип\" + 0.022*\"входить\" + 0.019*\"нарисовать\" + '\n",
      "  '0.019*\"тонна\" + 0.017*\"установка\" + 0.016*\"река\" + 0.016*\"быстрый\" + '\n",
      "  '0.015*\"трек\" + 0.013*\"скорость\"'),\n",
      " (28,\n",
      "  '0.087*\"картина\" + 0.050*\"сеть\" + 0.045*\"право\" + 0.038*\"александр\" + '\n",
      "  '0.034*\"роль\" + 0.034*\"дорога\" + 0.032*\"губернатор\" + 0.029*\"край\" + '\n",
      "  '0.017*\"деятельность\" + 0.014*\"существовать\"'),\n",
      " (29,\n",
      "  '0.181*\"интернет\" + 0.074*\"соцсеть\" + 0.032*\"рунет\" + 0.008*\"экс\" + '\n",
      "  '0.001*\"бренд\" + 0.000*\"платформа\" + 0.000*\"гарантировать\" + 0.000*\"главбух\" '\n",
      "  '+ 0.000*\"профилактика\" + 0.000*\"махинация\"'),\n",
      " (30,\n",
      "  '0.082*\"москва\" + 0.080*\"власть\" + 0.077*\"город\" + 0.065*\"дело\" + '\n",
      "  '0.049*\"область\" + 0.041*\"полиция\" + 0.039*\"сообщать\" + 0.032*\"объявить\" + '\n",
      "  '0.031*\"центр\" + 0.024*\"уголовный\"'),\n",
      " (31,\n",
      "  '0.136*\"житель\" + 0.107*\"местный\" + 0.072*\"результат\" + 0.040*\"чиновник\" + '\n",
      "  '0.031*\"запись\" + 0.025*\"розыгрыш\" + 0.019*\"язык\" + 0.019*\"популярный\" + '\n",
      "  '0.018*\"роскомнадзор\" + 0.017*\"прямая\"')]\n"
     ]
    }
   ],
   "source": [
    "t=time()\n",
    "lda_model = gensim.models.ldamodel.LdaModel(\n",
    "            corpus=corpus,\n",
    "            id2word=id2word,\n",
    "            num_topics=32, \n",
    "            random_state=100,\n",
    "            update_every=1,\n",
    "            chunksize=100,\n",
    "            passes=10,\n",
    "            alpha='auto',\n",
    "            per_word_topics=True);\n",
    "\n",
    "# Compute Perplexity\n",
    "print('\\nPerplexity: ', lda_model.log_perplexity(corpus)) \n",
    "# Compute Coherence Score\n",
    "coherence_model_lda = CoherenceModel(model=lda_model, texts=data_words_bigrams, dictionary=id2word, \n",
    "                                     coherence='c_v')\n",
    "coherence_lda = coherence_model_lda.get_coherence()\n",
    "print('\\nCoherence Score: ', coherence_lda)\n",
    "print('\\nTime to build model & count scores: {} mins'.format(round((time() - t) / 60, 2)))\n",
    "print()\n",
    "pprint(lda_model.print_topics(-1))"
   ]
  },
  {
   "cell_type": "code",
   "execution_count": 189,
   "metadata": {},
   "outputs": [
    {
     "name": "stdout",
     "output_type": "stream",
     "text": [
      "Time to count coherence values: 2.38 mins\n"
     ]
    },
    {
     "data": {
      "image/png": "[encoded data removed]",
      "text/plain": [
       "<Figure size 1080x360 with 1 Axes>"
      ]
     },
     "metadata": {
      "needs_background": "light"
     },
     "output_type": "display_data"
    },
    {
     "name": "stdout",
     "output_type": "stream",
     "text": [
      "10:  0.4700726183121028\n",
      "11:  0.440485361129878\n",
      "12:  0.44075806344988244\n",
      "13:  0.4756825202625787\n",
      "14:  0.4302421858282458\n"
     ]
    }
   ],
   "source": [
    "# 10-15\n",
    "start=10; step=1;limit=15; \n",
    "t=time()\n",
    "model_list, coherence_values = compute_coherence_values(dictionary=id2word, \n",
    "                                                        corpus=corpus, \n",
    "                                                        texts=texts, \n",
    "                                                        start=start, \n",
    "                                                        limit=limit, \n",
    "                                                        step=step)\n",
    "\n",
    "print('Time to count coherence values: {} mins'.format(round((time() - t) / 60, 2)))\n",
    "\n",
    "x = range(start, limit, step)\n",
    "plt.figure(figsize=(15,5))\n",
    "plt.plot(x, coherence_values)\n",
    "plt.xlabel(\"Num Topics\")\n",
    "plt.ylabel(\"Coherence score\")\n",
    "plt.legend((\"coherence_values\"), loc='best')\n",
    "plt.show()\n",
    "\n",
    "for i, j in enumerate(coherence_values):\n",
    "    print(str(start + i*step) + ':  ' + str(j))"
   ]
  },
  {
   "cell_type": "code",
   "execution_count": 191,
   "metadata": {
    "scrolled": true
   },
   "outputs": [
    {
     "name": "stdout",
     "output_type": "stream",
     "text": [
      "\n",
      "Perplexity:  -13.76294018585757\n",
      "\n",
      "Coherence Score:  0.4793015826576377\n",
      "\n",
      "Time to build model & count scores: 0.48 mins\n",
      "\n",
      "[(0,\n",
      "  '0.094*\"страна\" + 0.061*\"история\" + 0.029*\"находиться\" + 0.025*\"студент\" + '\n",
      "  '0.022*\"чиновник\" + 0.018*\"канада\" + 0.016*\"опасный\" + 0.015*\"собака\" + '\n",
      "  '0.014*\"розыгрыш\" + 0.012*\"минобороны\"'),\n",
      " (1,\n",
      "  '0.051*\"самолёт\" + 0.028*\"снять\" + 0.026*\"борт\" + 0.022*\"арестовать\" + '\n",
      "  '0.021*\"вконтакте\" + 0.017*\"захватить\" + 0.014*\"евро\" + 0.013*\"аэропорт\" + '\n",
      "  '0.013*\"фейковы\" + 0.013*\"министр\"'),\n",
      " (2,\n",
      "  '0.038*\"ребёнок\" + 0.037*\"суд\" + 0.027*\"петербург\" + 0.023*\"погибнуть\" + '\n",
      "  '0.022*\"регион\" + 0.021*\"решить\" + 0.020*\"взрыв\" + 0.015*\"признать\" + '\n",
      "  '0.014*\"игра\" + 0.013*\"ск\"'),\n",
      " (3,\n",
      "  '0.041*\"сенатор\" + 0.041*\"участие\" + 0.039*\"уголовный\" + 0.026*\"парламент\" + '\n",
      "  '0.023*\"граница\" + 0.018*\"городской\" + 0.015*\"церковь\" + 0.015*\"характер\" + '\n",
      "  '0.013*\"проводить\" + 0.013*\"вциома\"'),\n",
      " (4,\n",
      "  '0.047*\"интернет\" + 0.046*\"сообщить\" + 0.024*\"ситуация\" + '\n",
      "  '0.022*\"пользователь\" + 0.019*\"рейтинг\" + 0.019*\"погибший\" + 0.018*\"русский\" '\n",
      "  '+ 0.016*\"цена\" + 0.016*\"запись\" + 0.015*\"опубликовать\"'),\n",
      " (5,\n",
      "  '0.052*\"житель\" + 0.030*\"глава\" + 0.021*\"картина\" + 0.019*\"лицо\" + '\n",
      "  '0.018*\"концерт\" + 0.015*\"доллар\" + 0.015*\"случай\" + 0.013*\"участник\" + '\n",
      "  '0.013*\"объяснить\" + 0.012*\"куинджи\"'),\n",
      " (6,\n",
      "  '0.031*\"здание\" + 0.025*\"учёный\" + 0.022*\"митинг\" + 0.020*\"средний\" + '\n",
      "  '0.020*\"война\" + 0.019*\"военный\" + 0.018*\"улица\" + 0.016*\"соцсеть\" + '\n",
      "  '0.016*\"помочь\" + 0.014*\"ракета\"'),\n",
      " (7,\n",
      "  '0.027*\"власть\" + 0.025*\"сми\" + 0.024*\"город\" + 0.019*\"заявить\" + '\n",
      "  '0.016*\"работа\" + 0.015*\"местный\" + 0.015*\"место\" + 0.015*\"дом\" + '\n",
      "  '0.015*\"венесуэла\" + 0.013*\"сообщать\"'),\n",
      " (8,\n",
      "  '0.058*\"сша\" + 0.036*\"пройти\" + 0.021*\"больница\" + 0.021*\"пост\" + '\n",
      "  '0.017*\"билет\" + 0.013*\"информация\" + 0.013*\"образ\" + 0.012*\"подписчик\" + '\n",
      "  '0.012*\"рубрика\" + 0.012*\"британский\"'),\n",
      " (9,\n",
      "  '0.047*\"радиолентач\" + 0.036*\"американский\" + 0.036*\"традиционный\" + '\n",
      "  '0.035*\"группа\" + 0.020*\"лидер\" + 0.018*\"альбом\" + 0.017*\"совет\" + '\n",
      "  '0.016*\"рок_группа\" + 0.016*\"население\" + 0.014*\"выпустить\"'),\n",
      " (10,\n",
      "  '0.038*\"россиянин\" + 0.027*\"женщина\" + 0.022*\"отказаться\" + 0.021*\"проект\" + '\n",
      "  '0.021*\"жизнь\" + 0.018*\"деньга\" + 0.018*\"провести\" + 0.018*\"помощь\" + '\n",
      "  '0.016*\"статья\" + 0.013*\"фотография\"'),\n",
      " (11,\n",
      "  '0.048*\"россия\" + 0.026*\"москва\" + 0.021*\"рубль\" + 0.020*\"дело\" + '\n",
      "  '0.020*\"российский\" + 0.020*\"школа\" + 0.018*\"президент\" + 0.016*\"задержать\" '\n",
      "  '+ 0.015*\"область\" + 0.015*\"путин\"'),\n",
      " (12,\n",
      "  '0.061*\"фильм\" + 0.054*\"компания\" + 0.021*\"комитет\" + 0.020*\"оскар\" + '\n",
      "  '0.019*\"зарплата\" + 0.018*\"актёр\" + 0.018*\"поздравлять\" + 0.015*\"кино\" + '\n",
      "  '0.014*\"богемский\" + 0.014*\"рапсодия\"')]\n"
     ]
    }
   ],
   "source": [
    "t=time()\n",
    "lda_model = gensim.models.ldamodel.LdaModel(\n",
    "            corpus=corpus,\n",
    "            id2word=id2word,\n",
    "            num_topics=13, \n",
    "            random_state=100,\n",
    "            update_every=1,\n",
    "            chunksize=100,\n",
    "            passes=10,\n",
    "            alpha='auto',\n",
    "            per_word_topics=True);\n",
    "\n",
    "# Compute Perplexity\n",
    "print('\\nPerplexity: ', lda_model.log_perplexity(corpus)) \n",
    "# Compute Coherence Score\n",
    "coherence_model_lda = CoherenceModel(model=lda_model, texts=data_words_bigrams, dictionary=id2word, \n",
    "                                     coherence='c_v')\n",
    "coherence_lda = coherence_model_lda.get_coherence()\n",
    "print('\\nCoherence Score: ', coherence_lda)\n",
    "print('\\nTime to build model & count scores: {} mins'.format(round((time() - t) / 60, 2)))\n",
    "print()\n",
    "pprint(lda_model.print_topics(-1))"
   ]
  },
  {
   "cell_type": "markdown",
   "metadata": {},
   "source": [
    "В целом, для 13 тематических групп результат получили похожий на правду. Однако до сих пор можем наблюдать в темах лишние слова, и для получения лучшего качества можно было бы продолжить предобработку."
   ]
  },
  {
   "cell_type": "code",
   "execution_count": null,
   "metadata": {},
   "outputs": [],
   "source": []
  },
  {
   "cell_type": "code",
   "execution_count": null,
   "metadata": {},
   "outputs": [],
   "source": []
  },
  {
   "cell_type": "code",
   "execution_count": null,
   "metadata": {},
   "outputs": [],
   "source": []
  }
 ],
 "metadata": {
  "kernelspec": {
   "display_name": "Python 3",
   "language": "python",
   "name": "python3"
  },
  "language_info": {
   "codemirror_mode": {
    "name": "ipython",
    "version": 3
   },
   "file_extension": ".py",
   "mimetype": "text/x-python",
   "name": "python",
   "nbconvert_exporter": "python",
   "pygments_lexer": "ipython3",
   "version": "3.7.1"
  }
 },
 "nbformat": 4,
 "nbformat_minor": 2
}
