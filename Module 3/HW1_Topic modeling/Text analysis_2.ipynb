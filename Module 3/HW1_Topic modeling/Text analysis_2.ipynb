{
 "cells": [
  {
   "cell_type": "markdown",
   "metadata": {},
   "source": [
    "### Определение темы по постам группы вк\n",
    "\n",
    "Будем собирать посты из группы \"Лентач\" во вконтакте с целью выявить тематику группы. Рассмотрим также на какие кластеры тем можно разбить посты."
   ]
  },
  {
   "cell_type": "code",
   "execution_count": 379,
   "metadata": {},
   "outputs": [
    {
     "name": "stderr",
     "output_type": "stream",
     "text": [
      "[nltk_data] Downloading package wordnet to /Users/mary/nltk_data...\n",
      "[nltk_data]   Package wordnet is already up-to-date!\n",
      "[nltk_data] Downloading package stopwords to /Users/mary/nltk_data...\n",
      "[nltk_data]   Package stopwords is already up-to-date!\n"
     ]
    }
   ],
   "source": [
    "from time import time\n",
    "import logging\n",
    "import sys\n",
    "import requests\n",
    "import json\n",
    "import datetime\n",
    "from ast import literal_eval\n",
    "import pandas as pd\n",
    "import numpy as np\n",
    "import configparser\n",
    "import re\n",
    "import nltk\n",
    "from nltk.corpus import stopwords \n",
    "# from nltk.stem.wordnet import WordNetLemmatizer\n",
    "nltk.download('wordnet')\n",
    "nltk.download('stopwords')\n",
    "# lemma = WordNetLemmatizer()\n",
    "\n",
    "import pymorphy2\n",
    "morph = pymorphy2.MorphAnalyzer()\n",
    "\n",
    "# Plotting tools\n",
    "import pyLDAvis\n",
    "import pyLDAvis.gensim\n",
    "import matplotlib.pyplot as plt\n",
    "%matplotlib inline\n",
    "\n",
    "import gensim\n",
    "import gensim.corpora as corpora\n",
    "from gensim.utils import simple_preprocess\n",
    "from gensim.models import CoherenceModel\n",
    "from pprint import pprint\n",
    "\n",
    "# Enable logging for gensim - optional\n",
    "import logging\n",
    "logging.basicConfig(format='%(asctime)s : %(levelname)s : %(message)s', level=logging.ERROR)\n",
    "\n",
    "import warnings\n",
    "warnings.filterwarnings(\"ignore\",category=DeprecationWarning)"
   ]
  },
  {
   "cell_type": "markdown",
   "metadata": {},
   "source": [
    "### 1. Сбор информации. \n",
    "\n"
   ]
  },
  {
   "cell_type": "code",
   "execution_count": 2,
   "metadata": {},
   "outputs": [],
   "source": [
    "def gather_process():\n",
    "\n",
    "    # gather data and save as txt\n",
    "    id_ = 'lentach'\n",
    "    owner_id = '29534144'# lentach\n",
    "    count = 40\n",
    "    offset = -1\n",
    "\n",
    "    # In access_token.ini we have token for vk\n",
    "    config = configparser.ConfigParser()\n",
    "    config.read('access_token.ini')\n",
    "    access_token = config.get('settings', 'token')\n",
    "    \n",
    "    for _ in range(100):\n",
    "        url = 'https://api.vk.com/method/wall.get?owner_id=-{}&count={}&offset={}&v=5.52&access_token={}'.format(\n",
    "            owner_id, count, offset + 1, access_token)\n",
    "        respond = requests.get(url)\n",
    "        with open(id_ + str(_) + '.txt', 'w') as outfile:\n",
    "            json.dump(respond.json(), outfile)\n",
    "        \n",
    "        offset += count"
   ]
  },
  {
   "cell_type": "code",
   "execution_count": 3,
   "metadata": {},
   "outputs": [],
   "source": [
    "def convert_data_to_table_format():\n",
    "    \n",
    "    # transform gathered data from txt file to pandas DataFrame and save as csv\n",
    "    id_ = 'lentach'\n",
    "    \n",
    "    for _ in range(40):\n",
    "        file = id_ + str(_) + '.txt'\n",
    "        result = literal_eval(open(file, 'r').read())\n",
    "        ids = []\n",
    "        dates = []\n",
    "        comments = []\n",
    "        likes = []\n",
    "        reposts = []\n",
    "        text = []\n",
    "\n",
    "        for item in result['response']['items']:\n",
    "            ids.append(item['id'])\n",
    "            dates.append(datetime.datetime.fromtimestamp(item['date']))\n",
    "            comments.append(item['comments']['count'])\n",
    "            likes.append(item['likes']['count'])\n",
    "            reposts.append(item['reposts']['count'])\n",
    "            text.append(item['text'].encode('utf-16', 'surrogatepass').decode('utf-16'))\n",
    "\n",
    "        df = pd.DataFrame({\n",
    "            \"id\": ids,\n",
    "            \"date\": dates,\n",
    "            \"comments_count\": comments,\n",
    "            \"likes_count\": likes,\n",
    "            \"reposts_count\": reposts,\n",
    "            \"text\": text,\n",
    "        })\n",
    "        df.to_csv(id_ + str(_) + '.csv', sep='\\t')\n",
    "    \n",
    "    pass\n",
    "\n"
   ]
  },
  {
   "cell_type": "code",
   "execution_count": 4,
   "metadata": {
    "scrolled": true
   },
   "outputs": [],
   "source": [
    "# Take latest 4 000 posts of lentach\n",
    "# gather_process()"
   ]
  },
  {
   "cell_type": "code",
   "execution_count": 5,
   "metadata": {
    "scrolled": true
   },
   "outputs": [],
   "source": [
    "# Convert to csv\n",
    "convert_data_to_table_format()"
   ]
  },
  {
   "cell_type": "code",
   "execution_count": 101,
   "metadata": {},
   "outputs": [
    {
     "data": {
      "text/plain": [
       "(4000, 7)"
      ]
     },
     "execution_count": 101,
     "metadata": {},
     "output_type": "execute_result"
    }
   ],
   "source": [
    "# Create 1 df from 40 files\n",
    "df = pd.concat([pd.read_csv(r'lentach' + str(i) + '.csv', sep='\\t') for i in range(40)], axis=0)\n",
    "df.shape"
   ]
  },
  {
   "cell_type": "code",
   "execution_count": 102,
   "metadata": {
    "scrolled": true
   },
   "outputs": [
    {
     "data": {
      "text/html": [
       "<div>\n",
       "<style scoped>\n",
       "    .dataframe tbody tr th:only-of-type {\n",
       "        vertical-align: middle;\n",
       "    }\n",
       "\n",
       "    .dataframe tbody tr th {\n",
       "        vertical-align: top;\n",
       "    }\n",
       "\n",
       "    .dataframe thead th {\n",
       "        text-align: right;\n",
       "    }\n",
       "</style>\n",
       "<table border=\"1\" class=\"dataframe\">\n",
       "  <thead>\n",
       "    <tr style=\"text-align: right;\">\n",
       "      <th></th>\n",
       "      <th>Unnamed: 0</th>\n",
       "      <th>id</th>\n",
       "      <th>date</th>\n",
       "      <th>comments_count</th>\n",
       "      <th>likes_count</th>\n",
       "      <th>reposts_count</th>\n",
       "      <th>text</th>\n",
       "    </tr>\n",
       "  </thead>\n",
       "  <tbody>\n",
       "    <tr>\n",
       "      <th>98</th>\n",
       "      <td>98</td>\n",
       "      <td>11435352</td>\n",
       "      <td>2019-07-02 12:35:12</td>\n",
       "      <td>133</td>\n",
       "      <td>2793</td>\n",
       "      <td>11</td>\n",
       "      <td>Чехия сняла ограничения на полёты российских а...</td>\n",
       "    </tr>\n",
       "    <tr>\n",
       "      <th>99</th>\n",
       "      <td>99</td>\n",
       "      <td>11434988</td>\n",
       "      <td>2019-07-02 11:35:06</td>\n",
       "      <td>198</td>\n",
       "      <td>8598</td>\n",
       "      <td>204</td>\n",
       "      <td>В декабре 2018 года студент ВГИКа Артём Фирсан...</td>\n",
       "    </tr>\n",
       "    <tr>\n",
       "      <th>0</th>\n",
       "      <td>0</td>\n",
       "      <td>11434891</td>\n",
       "      <td>2019-07-02 11:20:00</td>\n",
       "      <td>43</td>\n",
       "      <td>373</td>\n",
       "      <td>6</td>\n",
       "      <td>• «Интерфакс»: число жертв паводка в Иркутской...</td>\n",
       "    </tr>\n",
       "    <tr>\n",
       "      <th>1</th>\n",
       "      <td>1</td>\n",
       "      <td>11434549</td>\n",
       "      <td>2019-07-02 10:36:15</td>\n",
       "      <td>199</td>\n",
       "      <td>5763</td>\n",
       "      <td>78</td>\n",
       "      <td>Цены на свинину, говядину и мясо птицы в Росси...</td>\n",
       "    </tr>\n",
       "    <tr>\n",
       "      <th>2</th>\n",
       "      <td>2</td>\n",
       "      <td>11434254</td>\n",
       "      <td>2019-07-02 09:34:23</td>\n",
       "      <td>288</td>\n",
       "      <td>1718</td>\n",
       "      <td>15</td>\n",
       "      <td>Сегодня утром власти Чехии запретили «Аэрофлот...</td>\n",
       "    </tr>\n",
       "  </tbody>\n",
       "</table>\n",
       "</div>"
      ],
      "text/plain": [
       "    Unnamed: 0        id                 date  comments_count  likes_count  \\\n",
       "98          98  11435352  2019-07-02 12:35:12             133         2793   \n",
       "99          99  11434988  2019-07-02 11:35:06             198         8598   \n",
       "0            0  11434891  2019-07-02 11:20:00              43          373   \n",
       "1            1  11434549  2019-07-02 10:36:15             199         5763   \n",
       "2            2  11434254  2019-07-02 09:34:23             288         1718   \n",
       "\n",
       "    reposts_count                                               text  \n",
       "98             11  Чехия сняла ограничения на полёты российских а...  \n",
       "99            204  В декабре 2018 года студент ВГИКа Артём Фирсан...  \n",
       "0               6  • «Интерфакс»: число жертв паводка в Иркутской...  \n",
       "1              78  Цены на свинину, говядину и мясо птицы в Росси...  \n",
       "2              15  Сегодня утром власти Чехии запретили «Аэрофлот...  "
      ]
     },
     "execution_count": 102,
     "metadata": {},
     "output_type": "execute_result"
    }
   ],
   "source": [
    "df[98:103]"
   ]
  },
  {
   "cell_type": "code",
   "execution_count": 103,
   "metadata": {},
   "outputs": [],
   "source": [
    "df = df.set_index('id')\n",
    "df = df.drop(['Unnamed: 0'], axis=1)"
   ]
  },
  {
   "cell_type": "code",
   "execution_count": 104,
   "metadata": {},
   "outputs": [
    {
     "data": {
      "text/html": [
       "<div>\n",
       "<style scoped>\n",
       "    .dataframe tbody tr th:only-of-type {\n",
       "        vertical-align: middle;\n",
       "    }\n",
       "\n",
       "    .dataframe tbody tr th {\n",
       "        vertical-align: top;\n",
       "    }\n",
       "\n",
       "    .dataframe thead th {\n",
       "        text-align: right;\n",
       "    }\n",
       "</style>\n",
       "<table border=\"1\" class=\"dataframe\">\n",
       "  <thead>\n",
       "    <tr style=\"text-align: right;\">\n",
       "      <th></th>\n",
       "      <th>date</th>\n",
       "      <th>comments_count</th>\n",
       "      <th>likes_count</th>\n",
       "      <th>reposts_count</th>\n",
       "      <th>text</th>\n",
       "    </tr>\n",
       "    <tr>\n",
       "      <th>id</th>\n",
       "      <th></th>\n",
       "      <th></th>\n",
       "      <th></th>\n",
       "      <th></th>\n",
       "      <th></th>\n",
       "    </tr>\n",
       "  </thead>\n",
       "  <tbody>\n",
       "    <tr>\n",
       "      <th>11460130</th>\n",
       "      <td>2019-07-06 16:13:03</td>\n",
       "      <td>92</td>\n",
       "      <td>1146</td>\n",
       "      <td>15</td>\n",
       "      <td>Список «ремейки фильмов с женщинами в главной ...</td>\n",
       "    </tr>\n",
       "    <tr>\n",
       "      <th>11459911</th>\n",
       "      <td>2019-07-06 15:33:47</td>\n",
       "      <td>155</td>\n",
       "      <td>1803</td>\n",
       "      <td>31</td>\n",
       "      <td>В России планируется своя «Википедия».\\n\\nПрав...</td>\n",
       "    </tr>\n",
       "    <tr>\n",
       "      <th>11459474</th>\n",
       "      <td>2019-07-06 14:17:03</td>\n",
       "      <td>168</td>\n",
       "      <td>6437</td>\n",
       "      <td>231</td>\n",
       "      <td>А вы тоже в детстве двигали мышкой по экрану, ...</td>\n",
       "    </tr>\n",
       "    <tr>\n",
       "      <th>11459119</th>\n",
       "      <td>2019-07-06 13:23:59</td>\n",
       "      <td>130</td>\n",
       "      <td>4821</td>\n",
       "      <td>141</td>\n",
       "      <td>Уже десять лет каждую первую субботу июля росс...</td>\n",
       "    </tr>\n",
       "    <tr>\n",
       "      <th>11458585</th>\n",
       "      <td>2019-07-06 12:11:06</td>\n",
       "      <td>681</td>\n",
       "      <td>5606</td>\n",
       "      <td>81</td>\n",
       "      <td>Основатель Amazon Джефф Безос официально развё...</td>\n",
       "    </tr>\n",
       "  </tbody>\n",
       "</table>\n",
       "</div>"
      ],
      "text/plain": [
       "                         date  comments_count  likes_count  reposts_count  \\\n",
       "id                                                                          \n",
       "11460130  2019-07-06 16:13:03              92         1146             15   \n",
       "11459911  2019-07-06 15:33:47             155         1803             31   \n",
       "11459474  2019-07-06 14:17:03             168         6437            231   \n",
       "11459119  2019-07-06 13:23:59             130         4821            141   \n",
       "11458585  2019-07-06 12:11:06             681         5606             81   \n",
       "\n",
       "                                                       text  \n",
       "id                                                           \n",
       "11460130  Список «ремейки фильмов с женщинами в главной ...  \n",
       "11459911  В России планируется своя «Википедия».\\n\\nПрав...  \n",
       "11459474  А вы тоже в детстве двигали мышкой по экрану, ...  \n",
       "11459119  Уже десять лет каждую первую субботу июля росс...  \n",
       "11458585  Основатель Amazon Джефф Безос официально развё...  "
      ]
     },
     "execution_count": 104,
     "metadata": {},
     "output_type": "execute_result"
    }
   ],
   "source": [
    "df.head()"
   ]
  },
  {
   "cell_type": "code",
   "execution_count": 105,
   "metadata": {},
   "outputs": [
    {
     "name": "stdout",
     "output_type": "stream",
     "text": [
      "<class 'pandas.core.frame.DataFrame'>\n",
      "Int64Index: 4000 entries, 11460130 to 10386610\n",
      "Data columns (total 5 columns):\n",
      "date              4000 non-null object\n",
      "comments_count    4000 non-null int64\n",
      "likes_count       4000 non-null int64\n",
      "reposts_count     4000 non-null int64\n",
      "text              3864 non-null object\n",
      "dtypes: int64(3), object(2)\n",
      "memory usage: 187.5+ KB\n"
     ]
    }
   ],
   "source": [
    "df.info()"
   ]
  },
  {
   "cell_type": "markdown",
   "metadata": {},
   "source": [
    "### 2. Обработка. \n",
    "\n",
    "* Удалим пропуски в значениях текста, т.к. никакая их обработка не поможет нашей цели\n",
    "* Удалим русские стоп слова и знаки переноса строки (очистим текст)\n",
    "* Разобьем каждый из текстов на отдельные слова\n",
    "* Приведем слова к нормальной форме\n"
   ]
  },
  {
   "cell_type": "code",
   "execution_count": 106,
   "metadata": {},
   "outputs": [
    {
     "name": "stdout",
     "output_type": "stream",
     "text": [
      "<class 'pandas.core.frame.DataFrame'>\n",
      "Int64Index: 3864 entries, 11460130 to 10386610\n",
      "Data columns (total 5 columns):\n",
      "date              3864 non-null object\n",
      "comments_count    3864 non-null int64\n",
      "likes_count       3864 non-null int64\n",
      "reposts_count     3864 non-null int64\n",
      "text              3864 non-null object\n",
      "dtypes: int64(3), object(2)\n",
      "memory usage: 181.1+ KB\n"
     ]
    }
   ],
   "source": [
    "df = df.dropna()\n",
    "df.info()"
   ]
  },
  {
   "cell_type": "markdown",
   "metadata": {},
   "source": [
    "Первым делом (1) добавим в перечень стоп слов те, что не несут особой смысловой нагрузки"
   ]
  },
  {
   "cell_type": "code",
   "execution_count": 364,
   "metadata": {},
   "outputs": [],
   "source": [
    "stop_words = stopwords.words('russian')\n",
    "stop_words.extend(['http', 'https', 'lenta', 'ch', 'cc', 'ow', 'news', 'vk', 'upd', 'the', 'id', 'ows',\n",
    "                   'который', 'это', 'один', 'главный', 'свой', 'такой', 'лентач', 'ещё', 'еще', 'самый', 'тот', 'пока', \n",
    "                   'мол', 'некоторый', 'почему', 'отдельный', 'год', 'неделя', 'сегодня', 'впервые', 'будущий', 'оно',\n",
    "                  'сразу', 'затем', 'этот', 'также', 'жаль', 'сейчас', 'поэтому', 'лаифкаха', 'ввод', 'вывод', 'broco', \n",
    "                   'утро', 'последний', 'то', 'ничто', 'весь', 'стать', 'она', 'дать', 'хороший', 'весь', 'новый', 'имя', 'oqib',\n",
    "                   'день', 'хотеть', 'большой', 'наш', 'узнать', 'очень', 'сделаться', 'просто', 'час', 'минута',\n",
    "                   'назад', 'сюда', 'увеличиться', 'отдельный', 'полностью', 'перестать', 'иметь', 'owyt', 'проходить', \n",
    "                   'июль', 'сделать', 'делать', 'читать', 'писать', 'число', 'считать', 'каждый', 'ряд', 'начало', 'конец', \n",
    "                   'пикчер', 'ваш', 'любой', 'снова', 'сколько', 'club', 'например', 'лишь', 'целый', 'начать', \n",
    "                   'получить', 'com', 'кстати', 'вместо', 'watch', 'один', 'два', 'три', 'четыре', 'пять', 'шесть', 'семь', 'восемь', \n",
    "                   'девять', 'десять','третье', 'мем', 'мема', 'слово', 'пара', 'январь', 'сегодня', 'суббота', 'ждать',\n",
    "                   'ru', 'часто', 'тема', 'название', 'вокруг', 'oiahd', 'никто',  'остаться', 'сотня', 'сказать', \n",
    "                   'называть', \n",
    "                   'предложение', 'представить', 'собираться', 'предложение', 'около', 'нужно', 'сильно', 'вокруг', 'март', \n",
    "                   'именно', \n",
    "                   'отправить', 'получать', 'бывший', 'вчера', 'май', 'апрель', 'несколько', 'продолжать',\n",
    "                   'взять', 'пройтись', 'использовать', 'почитать', 'вообще', 'рассказать', 'оказаться', 'rowp', 'ro', 'rrzf', \n",
    "                   'никак', 'хотя', 'rreq', 'grace', 'three','ropr', 'практически', 'rrg', 'rofm'\n",
    "                  ])\n",
    "stop_words = set(stop_words)"
   ]
  },
  {
   "cell_type": "code",
   "execution_count": 365,
   "metadata": {},
   "outputs": [],
   "source": [
    "def clean(text):\n",
    "    # Remove garbage from lines\n",
    "    text = re.sub(r'\\n', ' ', text, flags=re.IGNORECASE)\n",
    "    text = re.sub(r'•', '', text, flags=re.IGNORECASE)\n",
    "    text = text.replace('ё','е')\n",
    "    return text\n",
    "\n",
    "\n",
    "def doc_to_words(doc, stop_words, morph):\n",
    "    # remove stop words and punctuation + lemmatize\n",
    "    words = [morph.parse(w)[0].normal_form for w in gensim.utils.simple_preprocess(str(doc), deacc=False) \\\n",
    "             if morph.parse(w)[0].normal_form not in stop_words]\n",
    "    \n",
    "#     # make lemmatization\n",
    "#     words = [morph.parse(w)[0].normal_form for w in words if morph.parse(w)[0].normal_form not in stop_words]\n",
    "    \n",
    "    return words"
   ]
  },
  {
   "cell_type": "code",
   "execution_count": 366,
   "metadata": {},
   "outputs": [],
   "source": [
    "# Clean and split by words\n",
    "\n",
    "morph = pymorphy2.MorphAnalyzer()\n",
    "\n",
    "data = df.text.values.tolist()\n",
    "data = [clean(t) for t in data]\n",
    "data_words = [doc_to_words(text, stop_words, morph) for text in data]"
   ]
  },
  {
   "cell_type": "code",
   "execution_count": 367,
   "metadata": {
    "scrolled": false
   },
   "outputs": [
    {
     "name": "stdout",
     "output_type": "stream",
     "text": [
      "Список «ремейки фильмов с женщинами в главной роли» может пополниться еще одной картиной.  На этот раз в лучших традициях последних лет планируют переснять ту самую «Маску» с Джимом Кэрри  http://news.lenta.ch/Ow21\n",
      "['список', 'ремейка', 'фильм', 'женщина', 'роль', 'мочь', 'пополниться', 'картина', 'традиция', 'последний', 'планировать', 'переснять', 'маска', 'джим', 'кэрри']\n"
     ]
    }
   ],
   "source": [
    "print(data[0])\n",
    "print(data_words[0])"
   ]
  },
  {
   "cell_type": "markdown",
   "metadata": {},
   "source": [
    "### 3. Построение моделей\n",
    "\n",
    "* Найдем биграммы слов в каждом тексте\n",
    "* Занумеруем биграммы (добавив им id) и посчитаем сколько раз то или иное слово встречалось внутри каждого текста (сделаем корпус)\n",
    "* Попробуем разбить тексты на несколько тематик: построим зависимость когерентности от количества тематик; оптимальное число отобразим\n",
    "* "
   ]
  },
  {
   "cell_type": "code",
   "execution_count": 368,
   "metadata": {},
   "outputs": [],
   "source": [
    "# Build the bigram and trigram models\n",
    "bigram = gensim.models.Phrases(data_words, min_count=5, threshold=1, delimiter=b' ') # higher threshold fewer phrases.\n",
    "\n",
    "bigram_mod = gensim.models.phrases.Phraser(bigram)    \n",
    "data_words_bigrams = [bigram_mod[w] for w in data_words]"
   ]
  },
  {
   "cell_type": "code",
   "execution_count": 369,
   "metadata": {
    "scrolled": true
   },
   "outputs": [
    {
     "data": {
      "text/plain": [
       "[['утром',\n",
       "  'власть',\n",
       "  'чехия',\n",
       "  'запретить',\n",
       "  'аэрофлот',\n",
       "  'победа',\n",
       "  'уральский',\n",
       "  'авиалиния',\n",
       "  'полёт',\n",
       "  'страна',\n",
       "  'источник',\n",
       "  'интерфакс',\n",
       "  'сообщить',\n",
       "  'вина',\n",
       "  'недовольство',\n",
       "  'прага',\n",
       "  'условие',\n",
       "  'транссибирский',\n",
       "  'маршрут',\n",
       "  'чешский',\n",
       "  'национальный',\n",
       "  'перевозчик',\n",
       "  'поздний',\n",
       "  'руководитель',\n",
       "  'уральский',\n",
       "  'авиалиния',\n",
       "  'сообщить',\n",
       "  'авиакомпания',\n",
       "  'возобновить',\n",
       "  'полёт',\n",
       "  'екатеринбург',\n",
       "  'прага',\n",
       "  'oq'],\n",
       " ['отмечаться всемирный',\n",
       "  'нло',\n",
       "  'уфолог',\n",
       "  'случай',\n",
       "  'принести',\n",
       "  'текст',\n",
       "  'амбициозный',\n",
       "  'попытка',\n",
       "  'человечество',\n",
       "  'сконструировать',\n",
       "  'летать',\n",
       "  'тарелка'],\n",
       " ['право',\n",
       "  'качнуть',\n",
       "  'мочь',\n",
       "  'качнуть',\n",
       "  'качка',\n",
       "  'включить',\n",
       "  'губернатор',\n",
       "  'красноярский край',\n",
       "  'александр',\n",
       "  'усс',\n",
       "  'жительница',\n",
       "  'затопить',\n",
       "  'город',\n",
       "  'спросить',\n",
       "  'видеть',\n",
       "  'местный',\n",
       "  'дорога',\n",
       "  'размыть',\n",
       "  'yp',\n",
       "  'tc'],\n",
       " ['soundgarden',\n",
       "  'американский рок',\n",
       "  'группа',\n",
       "  'сиэтл',\n",
       "  'образовать',\n",
       "  'родоначальник',\n",
       "  'стиль',\n",
       "  'относить',\n",
       "  'четвёрка',\n",
       "  'сиэтлский',\n",
       "  'гранж',\n",
       "  'наряду',\n",
       "  'pearl',\n",
       "  'jam',\n",
       "  'nirvana',\n",
       "  'alice',\n",
       "  'in',\n",
       "  'chains',\n",
       "  'традиционный радиолентач'],\n",
       " ['безопасность',\n",
       "  'электронный',\n",
       "  'выбор',\n",
       "  'мосгордума',\n",
       "  'обеспечить',\n",
       "  'система',\n",
       "  'сайт',\n",
       "  'мэр',\n",
       "  'москва',\n",
       "  'житель',\n",
       "  'ставропольский',\n",
       "  'край',\n",
       "  'оштрафовать',\n",
       "  'неуважение власть',\n",
       "  'пост',\n",
       "  'вк',\n",
       "  'путин',\n",
       "  'аукцион',\n",
       "  'бостон',\n",
       "  'выставить',\n",
       "  'свитшота',\n",
       "  'принцесса',\n",
       "  'диана',\n",
       "  'новость'],\n",
       " ['шойгу',\n",
       "  'подготовить',\n",
       "  'миноборона',\n",
       "  'законопроект',\n",
       "  'согласно',\n",
       "  'иностранец',\n",
       "  'санкция',\n",
       "  'уголовный',\n",
       "  'ответственность',\n",
       "  'осквернение',\n",
       "  'советский',\n",
       "  'памятник',\n",
       "  'граница',\n",
       "  'oqb'],\n",
       " ['левада центр',\n",
       "  'просмотр',\n",
       "  'фильм',\n",
       "  'сериал',\n",
       "  'являться',\n",
       "  'популярный',\n",
       "  'досуг',\n",
       "  'россиянин',\n",
       "  'oqt'],\n",
       " ['иркутский область',\n",
       "  'наводнение',\n",
       "  'затопить',\n",
       "  'тысяча',\n",
       "  'дом',\n",
       "  'вовсе',\n",
       "  'разрушить',\n",
       "  'стихия',\n",
       "  'доброволец',\n",
       "  'совместно',\n",
       "  'мчс',\n",
       "  'спасать',\n",
       "  'завал',\n",
       "  'домашний',\n",
       "  'животное',\n",
       "  'привязь',\n",
       "  'эвакуация',\n",
       "  'местный житель',\n",
       "  'удаться',\n",
       "  'спасти',\n",
       "  'питомец'],\n",
       " ['дело иван',\n",
       "  'голунов',\n",
       "  'передать',\n",
       "  'ск',\n",
       "  'навальный',\n",
       "  'найти',\n",
       "  'лидер',\n",
       "  'московский',\n",
       "  'единый россия',\n",
       "  'недвижимость',\n",
       "  'миллиард рубль',\n",
       "  'жительница',\n",
       "  'свердловский область',\n",
       "  'поджечь',\n",
       "  'вышка',\n",
       "  'сотовый',\n",
       "  'связь',\n",
       "  'посмотреть',\n",
       "  'видео',\n",
       "  'вред',\n",
       "  'интернет',\n",
       "  'новость'],\n",
       " ['итальянский',\n",
       "  'футбольный',\n",
       "  'клуб',\n",
       "  'объявление',\n",
       "  'трансфер',\n",
       "  'сообщать',\n",
       "  'пропасть',\n",
       "  'ребёнок',\n",
       "  'oaqw']]"
      ]
     },
     "execution_count": 369,
     "metadata": {},
     "output_type": "execute_result"
    }
   ],
   "source": [
    "data_words_bigrams[100:110]"
   ]
  },
  {
   "cell_type": "code",
   "execution_count": 370,
   "metadata": {},
   "outputs": [],
   "source": [
    "id2word = corpora.Dictionary(data_words_bigrams) # token to id (add ids to tokens)\n",
    "corpus = [id2word.doc2bow(text) for text in data_words_bigrams] # create (token_id, token_count): 2-tuples"
   ]
  },
  {
   "cell_type": "code",
   "execution_count": 371,
   "metadata": {},
   "outputs": [
    {
     "name": "stdout",
     "output_type": "stream",
     "text": [
      "[(25, 1), (26, 1), (27, 1), (28, 2), (29, 1), (30, 1), (31, 2), (32, 1), (33, 1), (34, 2), (35, 2), (36, 1), (37, 1), (38, 1), (39, 1), (40, 1), (41, 2), (42, 5), (43, 1), (44, 1), (45, 1), (46, 1), (47, 1), (48, 1), (49, 1), (50, 1), (51, 1), (52, 1), (53, 4), (54, 1), (55, 1), (56, 1), (57, 1), (58, 1), (59, 1), (60, 1), (61, 1), (62, 1), (63, 1), (64, 1), (65, 3), (66, 2), (67, 1), (68, 1), (69, 1), (70, 1), (71, 1), (72, 1), (73, 1), (74, 1), (75, 3), (76, 1), (77, 2), (78, 1), (79, 1), (80, 1)]\n",
      "скорость\n"
     ]
    }
   ],
   "source": [
    "print(corpus[2])\n",
    "print(id2word[67])"
   ]
  },
  {
   "cell_type": "code",
   "execution_count": 372,
   "metadata": {},
   "outputs": [],
   "source": [
    "# data[2].count('фоновый')"
   ]
  },
  {
   "cell_type": "code",
   "execution_count": 373,
   "metadata": {},
   "outputs": [],
   "source": [
    "def compute_coherence_values(dictionary, corpus, texts, limit, start=2, step=3):\n",
    "\n",
    "    coherence_values = []\n",
    "    model_list = []\n",
    "    for num_topics in range(start, limit, step):\n",
    "        model = gensim.models.ldamodel.LdaModel(\n",
    "            corpus=corpus,\n",
    "            id2word=dictionary,\n",
    "            num_topics=num_topics, \n",
    "            random_state=100,\n",
    "            update_every=1,\n",
    "            chunksize=100,\n",
    "            passes=10,\n",
    "            alpha='auto',\n",
    "            per_word_topics=True)\n",
    "        model_list.append(model)\n",
    "        coherencemodel = CoherenceModel(model=model, texts=texts, dictionary=dictionary, coherence='c_v')\n",
    "        coherence_values.append(coherencemodel.get_coherence())\n",
    "\n",
    "    return model_list, coherence_values"
   ]
  },
  {
   "cell_type": "markdown",
   "metadata": {},
   "source": [
    "Далее (2) построим график значений когерентности для разного количества тем"
   ]
  },
  {
   "cell_type": "code",
   "execution_count": 374,
   "metadata": {},
   "outputs": [
    {
     "data": {
      "image/png": "[encoded data removed]",
      "text/plain": [
       "<Figure size 1080x360 with 1 Axes>"
      ]
     },
     "metadata": {
      "needs_background": "light"
     },
     "output_type": "display_data"
    },
    {
     "name": "stdout",
     "output_type": "stream",
     "text": [
      "2:  0.2867482296429241\n",
      "12:  0.4580420654809227\n",
      "22:  0.41427259230931585\n",
      "32:  0.43684789417050707\n",
      "42:  0.4657167529796818\n",
      "52:  0.4672630259111919\n",
      "62:  0.48631461529190434\n",
      "72:  0.5093758131353545\n",
      "82:  0.5200404876276353\n",
      "92:  0.520903605726719\n",
      "102:  0.5370908828872726\n",
      "112:  0.5359161107197111\n",
      "122:  0.5346947556920667\n",
      "132:  0.5386555060613682\n",
      "142:  0.5419046638553985\n"
     ]
    }
   ],
   "source": [
    "limit=150; start=2; step=10;\n",
    "t=time()\n",
    "model_list, coherence_values = compute_coherence_values(dictionary=id2word, \n",
    "                                                        corpus=corpus, \n",
    "                                                        texts=data_words_bigrams, \n",
    "                                                        start=start, \n",
    "                                                        limit=limit, \n",
    "                                                        step=step)\n",
    "\n",
    "print('Time to count coherence values: {} mins'.format(round((time() - t) / 60, 2)))\n",
    "\n",
    "x = range(start, limit, step)\n",
    "plt.figure(figsize=(15,5))\n",
    "plt.plot(x, coherence_values)\n",
    "plt.xlabel(\"Num Topics\")\n",
    "plt.ylabel(\"Coherence score\")\n",
    "plt.legend((\"coherence_values\"), loc='best')\n",
    "plt.show()\n",
    "\n",
    "for i, j in enumerate(coherence_values):\n",
    "    print(str(start + i*step) + ':  ' + str(j))"
   ]
  },
  {
   "cell_type": "markdown",
   "metadata": {},
   "source": [
    "Теперь (3) построим модель LDA для приблизительно найденного количества тем и посмотрим на слова, описывающие темы"
   ]
  },
  {
   "cell_type": "code",
   "execution_count": 375,
   "metadata": {
    "scrolled": true
   },
   "outputs": [
    {
     "name": "stdout",
     "output_type": "stream",
     "text": [
      "[(54,\n",
      "  '0.000*\"тренировка\" + 0.000*\"бегать\" + 0.000*\"барнаульский\" + '\n",
      "  '0.000*\"постгранж\" + 0.000*\"подвести\" + 0.000*\"тёплый\" + 0.000*\"размещать\" + '\n",
      "  '0.000*\"веганство\" + 0.000*\"оренбург\" + 0.000*\"visa\"'),\n",
      " (51,\n",
      "  '0.114*\"церковь\" + 0.091*\"век\" + 0.075*\"рэпер\" + 0.028*\"драка\" + '\n",
      "  '0.015*\"курганский\" + 0.005*\"физический\" + 0.000*\"телекомпания\" + '\n",
      "  '0.000*\"размещать\" + 0.000*\"приверженец\" + 0.000*\"подвести\"'),\n",
      " (55,\n",
      "  '0.195*\"месяц\" + 0.088*\"вырасти\" + 0.062*\"курс\" + 0.037*\"полтора\" + '\n",
      "  '0.029*\"вдвое\" + 0.016*\"криптовалюта\" + 0.000*\"подвести\" + '\n",
      "  '0.000*\"тренировка\" + 0.000*\"барнаульский\" + 0.000*\"постгранж\"'),\n",
      " (89,\n",
      "  '0.129*\"смерть\" + 0.092*\"прислать\" + 0.071*\"парень\" + 0.028*\"беспорядок\" + '\n",
      "  '0.026*\"темнокожий\" + 0.022*\"цвета\" + 0.021*\"застрелить\" + 0.019*\"израиль\" + '\n",
      "  '0.016*\"кожа\" + 0.008*\"стычка\"'),\n",
      " (5,\n",
      "  '0.117*\"идти\" + 0.115*\"угроза\" + 0.048*\"богоматерь\" + 0.041*\"собор '\n",
      "  'парижский\" + 0.041*\"обрушение\" + 0.025*\"чрезвычайный\" + 0.024*\"говориться\" '\n",
      "  '+ 0.017*\"бог\" + 0.017*\"перекрыть\" + 0.016*\"вечером\"'),\n",
      " (2,\n",
      "  '0.140*\"умереть\" + 0.092*\"сериал\" + 0.049*\"отказ\" + 0.044*\"класс\" + '\n",
      "  '0.034*\"леса\" + 0.033*\"твиттер\" + 0.028*\"начинать\" + 0.022*\"доклад\" + '\n",
      "  '0.022*\"слава\" + 0.020*\"математика\"'),\n",
      " (4,\n",
      "  '0.097*\"радиолентач\" + 0.068*\"принести\" + 0.054*\"путешествие\" + '\n",
      "  '0.043*\"подать суд\" + 0.038*\"человечество\" + 0.030*\"сезон\" + 0.029*\"летать\" '\n",
      "  '+ 0.022*\"основать традиционный\" + 0.021*\"слишком\" + 0.020*\"отпуск\"'),\n",
      " (90,\n",
      "  '0.144*\"обнаружить\" + 0.116*\"качество\" + 0.109*\"известный\" + '\n",
      "  '0.053*\"алкоголь\" + 0.038*\"панк\" + 0.021*\"роспотребнадзор\" + '\n",
      "  '0.017*\"наиболее\" + 0.015*\"внезапно\" + 0.009*\"группа образовать\" + '\n",
      "  '0.005*\"distemper\"'),\n",
      " (20,\n",
      "  '0.068*\"крутой\" + 0.065*\"являться\" + 0.056*\"обвинение\" + 0.053*\"оппозиция\" + '\n",
      "  '0.040*\"розыгрыш\" + 0.032*\"прямая\" + 0.031*\"iphone\" + 0.025*\"появляться\" + '\n",
      "  '0.025*\"отрицать\" + 0.022*\"дарить\"'),\n",
      " (78,\n",
      "  '0.113*\"британский\" + 0.080*\"apple\" + 0.073*\"режиссёр\" + 0.041*\"напомнить\" + '\n",
      "  '0.037*\"стиль\" + 0.032*\"съёмка\" + 0.031*\"образовать\" + 0.022*\"джеймс\" + '\n",
      "  '0.019*\"киселев\" + 0.016*\"in\"'),\n",
      " (30,\n",
      "  '0.228*\"путин\" + 0.116*\"область\" + 0.062*\"школьник\" + 0.057*\"доллар\" + '\n",
      "  '0.040*\"опрос\" + 0.029*\"приговорить\" + 0.026*\"спецслужба\" + '\n",
      "  '0.025*\"связанный\" + 0.024*\"пенсия\" + 0.024*\"сын\"'),\n",
      " (88,\n",
      "  '0.084*\"екатеринбург\" + 0.053*\"потребовать\" + 0.046*\"территория\" + '\n",
      "  '0.043*\"срок\" + 0.039*\"установить\" + 0.038*\"грузия\" + 0.036*\"протестовать\" + '\n",
      "  '0.034*\"акция протест\" + 0.033*\"партия\" + 0.030*\"строительство храм\"'),\n",
      " (67,\n",
      "  '0.275*\"российский\" + 0.126*\"жизнь\" + 0.061*\"сила\" + 0.048*\"земля\" + '\n",
      "  '0.029*\"состояние\" + 0.026*\"теория\" + 0.024*\"клуб\" + 0.022*\"лечение\" + '\n",
      "  '0.022*\"оружие\" + 0.015*\"медицинский\"'),\n",
      " (17,\n",
      "  '0.297*\"мочь\" + 0.068*\"признать\" + 0.038*\"долг\" + 0.036*\"повод\" + '\n",
      "  '0.036*\"интересный\" + 0.028*\"школьный\" + 0.028*\"еда\" + 0.026*\"составить\" + '\n",
      "  '0.024*\"насколько\" + 0.023*\"арест\"'),\n",
      " (53,\n",
      "  '0.175*\"компания\" + 0.119*\"предложить\" + 0.103*\"новое\" + 0.082*\"регион\" + '\n",
      "  '0.072*\"появиться\" + 0.044*\"сергей\" + 0.040*\"зеленский\" + 0.029*\"герой\" + '\n",
      "  '0.026*\"давать\" + 0.022*\"актуальный\"'),\n",
      " (14,\n",
      "  '0.207*\"москва\" + 0.077*\"результат\" + 0.052*\"погибший\" + '\n",
      "  '0.048*\"пострадавший\" + 0.047*\"пассажир\" + 0.045*\"представитель\" + '\n",
      "  '0.044*\"новость\" + 0.036*\"протест\" + 0.029*\"произойти\" + 0.024*\"рейс\"'),\n",
      " (25,\n",
      "  '0.180*\"страна\" + 0.136*\"сообщить\" + 0.056*\"улица\" + 0.047*\"право\" + '\n",
      "  '0.044*\"политика\" + 0.039*\"победа\" + 0.030*\"организатор\" + 0.025*\"тысяча '\n",
      "  'человек\" + 0.023*\"владимир путин\" + 0.022*\"национальный\"'),\n",
      " (47,\n",
      "  '0.148*\"рубль\" + 0.115*\"найти\" + 0.082*\"правительство\" + 0.059*\"семья\" + '\n",
      "  '0.055*\"нарушение\" + 0.046*\"мвд\" + 0.045*\"принять\" + 0.041*\"новость\" + '\n",
      "  '0.039*\"решение\" + 0.033*\"ход\"'),\n",
      " (29,\n",
      "  '0.482*\"россия\" + 0.109*\"закон\" + 0.061*\"выпустить\" + 0.028*\"мероприятие\" + '\n",
      "  '0.023*\"госдума принять\" + 0.016*\"давно\" + 0.015*\"показывать\" + '\n",
      "  '0.011*\"сегодняшний\" + 0.010*\"приморье\" + 0.010*\"китовый тюрьма\"'),\n",
      " (18,\n",
      "  '0.192*\"заявить\" + 0.146*\"дело\" + 0.037*\"рок группа\" + 0.031*\"колония\" + '\n",
      "  '0.027*\"массовый\" + 0.025*\"министр\" + 0.025*\"договор\" + 0.025*\"готовый\" + '\n",
      "  '0.023*\"пытка\" + 0.021*\"рабочий\"')]\n"
     ]
    }
   ],
   "source": [
    "lda_model = gensim.models.ldamodel.LdaModel(\n",
    "        corpus=corpus,\n",
    "        id2word=id2word,\n",
    "        num_topics=100, \n",
    "        random_state=100,\n",
    "        update_every=1,\n",
    "        chunksize=500,\n",
    "        passes=50,\n",
    "        alpha='auto');\n",
    "pprint(lda_model.print_topics()) "
   ]
  },
  {
   "cell_type": "code",
   "execution_count": 376,
   "metadata": {},
   "outputs": [
    {
     "name": "stdout",
     "output_type": "stream",
     "text": [
      "\n",
      "Perplexity:  -47.12075567050988\n",
      "\n",
      "Coherence Score:  0.42252175935503056\n"
     ]
    }
   ],
   "source": [
    "# Compute Perplexity\n",
    "print('\\nPerplexity: ', lda_model.log_perplexity(corpus))  # a measure of how good the model is. lower the better.\n",
    "\n",
    "# Compute Coherence Score\n",
    "coherence_model_lda = CoherenceModel(model=lda_model, texts=data_words_bigrams, dictionary=id2word, coherence='c_v')\n",
    "coherence_lda = coherence_model_lda.get_coherence()\n",
    "print('\\nCoherence Score: ', coherence_lda)"
   ]
  },
  {
   "cell_type": "markdown",
   "metadata": {},
   "source": [
    "Видим по графику когерентности, что с ростом количества тем когерентность растет, но на плато пока не выходит. По словам, описывающим темы, видим, что требуется дальнейшая очистка, поэтому переходим вновь к пункту 1: (1)добавим в стопслова новые термы (последние 4 строки - новые) и снова построим график (2) и модель с описывающими словами (3)"
   ]
  },
  {
   "cell_type": "code",
   "execution_count": 377,
   "metadata": {},
   "outputs": [],
   "source": [
    "t=time()\n",
    "stop_words = stopwords.words('russian')\n",
    "stop_words.extend(['http', 'https', 'lenta', 'ch', 'cc', 'ow', 'news', 'vk', 'upd', 'the', 'id', 'ows',\n",
    "                   'который', 'это', 'один', 'главный', 'свой', 'такой', 'лентач', 'ещё', 'еще', 'самый', 'тот', 'пока', \n",
    "                   'мол', 'некоторый', 'почему', 'отдельный', 'год', 'неделя', 'сегодня', 'впервые', 'будущий', 'оно',\n",
    "                  'сразу', 'затем', 'этот', 'также', 'жаль', 'сейчас', 'поэтому', 'лаифкаха', 'ввод', 'вывод', 'broco', \n",
    "                   'утро', 'последний', 'то', 'ничто', 'весь', 'стать', 'она', 'дать', 'хороший', 'весь', 'новый', 'имя', \n",
    "                   'oqib', 'день', 'хотеть', 'большой', 'наш', 'узнать', 'очень', 'сделаться', 'просто', 'час', 'минута',\n",
    "                   'назад', 'сюда', 'увеличиться', 'отдельный', 'полностью', 'перестать', 'иметь', 'owyt', 'проходить', \n",
    "                   'июль', 'сделать', 'делать', 'читать', 'писать', 'число', 'считать', 'каждый', 'ряд', 'начало', 'конец', \n",
    "                   'пикчер', 'ваш', 'любой', 'снова', 'сколько', 'club', 'например', 'лишь', 'целый', 'начать', \n",
    "                   'получить', 'com', 'кстати', 'вместо', 'watch', 'один', 'два', 'три', 'четыре', 'пять', 'шесть', 'семь',\n",
    "                    'восемь', 'девять', 'десять','третье', 'мем', 'мема', 'слово', 'пара', 'январь', 'сегодня', 'суббота', \n",
    "                   'ждать', 'ru', 'часто', 'тема', 'название', 'вокруг', 'oiahd', 'никто',  'остаться', 'сотня', 'сказать', \n",
    "                   'называть', 'предложение', 'представить', 'собираться', 'предложение', 'около', 'нужно', 'сильно', 'вокруг',\n",
    "                   'именно', 'отправить', 'получать', 'бывший', 'вчера', 'май', 'апрель', 'несколько', 'продолжать', 'март', \n",
    "                   'взять', 'пройтись', 'использовать', 'почитать', 'вообще', 'рассказать', 'оказаться', 'rowp', 'ro', 'rrzf', \n",
    "                   'никак', 'хотя', 'rreq', 'grace', 'three','ropr', 'практически', 'rrg', 'rofm',\n",
    "                   'вдвое', 'полтора', 'говориться', 'месяц', 'вечером', 'известный', 'начинать', 'основать', 'слишком',\n",
    "                   'подвести', 'идти', 'принести', 'distemper', 'внезапно', 'наиболее', 'известный', 'качество', 'являться',\n",
    "                   'обнаружить', 'in', 'напомнить', 'образовать', 'интересный', 'составить', 'насколько', 'появиться', 'давать',\n",
    "                   'новое', 'новость', 'найти', 'давно', 'готовый'\n",
    "                  ])\n",
    "stop_words = set(stop_words)\n",
    "\n",
    "morph = pymorphy2.MorphAnalyzer()\n",
    "\n",
    "data = df.text.values.tolist()\n",
    "data = [clean(t) for t in data]\n",
    "data_words = [doc_to_words(text, stop_words, morph) for text in data]\n",
    "\n",
    "bigram = gensim.models.Phrases(data_words, min_count=5, threshold=1, delimiter=b' ') \n",
    "bigram_mod = gensim.models.phrases.Phraser(bigram)    \n",
    "data_words_bigrams = [bigram_mod[w] for w in data_words]\n",
    "\n",
    "id2word = corpora.Dictionary(data_words_bigrams) # token to id (add ids to tokens)\n",
    "corpus = [id2word.doc2bow(text) for text in data_words_bigrams] # create (token_id, token_count): 2-tuples\n",
    "print('Time to prepare words: {} mins'.format(round((time() - t) / 60, 2)))"
   ]
  },
  {
   "cell_type": "code",
   "execution_count": 380,
   "metadata": {},
   "outputs": [
    {
     "name": "stdout",
     "output_type": "stream",
     "text": [
      "Time to count coherence values: 21.54 mins\n"
     ]
    },
    {
     "data": {
      "image/png": "[encoded data removed]",
      "text/plain": [
       "<Figure size 1080x360 with 1 Axes>"
      ]
     },
     "metadata": {
      "needs_background": "light"
     },
     "output_type": "display_data"
    },
    {
     "name": "stdout",
     "output_type": "stream",
     "text": [
      "2:  0.24035816645686164\n",
      "12:  0.4722596952969001\n",
      "22:  0.4154016261100946\n",
      "32:  0.44093446191127056\n",
      "42:  0.45605012670331846\n",
      "52:  0.45534506824289334\n",
      "62:  0.458837505564166\n",
      "72:  0.4646223200375851\n",
      "82:  0.45818732530360196\n",
      "92:  0.47511276404925995\n",
      "102:  0.4825779186969424\n",
      "112:  0.4820041751392451\n",
      "122:  0.4865823482285866\n",
      "132:  0.4879286877808433\n",
      "142:  0.49385302891566646\n"
     ]
    }
   ],
   "source": [
    "limit=150; start=2; step=10;\n",
    "t=time()\n",
    "model_list, coherence_values = compute_coherence_values(dictionary=id2word, \n",
    "                                                        corpus=corpus, \n",
    "                                                        texts=data_words_bigrams, \n",
    "                                                        start=start, \n",
    "                                                        limit=limit, \n",
    "                                                        step=step)\n",
    "\n",
    "print('Time to count coherence values: {} mins'.format(round((time() - t) / 60, 2)))\n",
    "\n",
    "x = range(start, limit, step)\n",
    "plt.figure(figsize=(15,5))\n",
    "plt.plot(x, coherence_values)\n",
    "plt.xlabel(\"Num Topics\")\n",
    "plt.ylabel(\"Coherence score\")\n",
    "plt.legend((\"coherence_values\"), loc='best')\n",
    "plt.show()\n",
    "\n",
    "for i, j in enumerate(coherence_values):\n",
    "    print(str(start + i*step) + ':  ' + str(j))"
   ]
  },
  {
   "cell_type": "code",
   "execution_count": 381,
   "metadata": {
    "scrolled": true
   },
   "outputs": [
    {
     "name": "stdout",
     "output_type": "stream",
     "text": [
      "Time to build model: 1.45 mins\n",
      "[(13,\n",
      "  '0.082*\"игра\" + 0.061*\"связь\" + 0.058*\"пользователь\" + 0.035*\"пенсионер\" + '\n",
      "  '0.031*\"стоить\" + 0.027*\"состояние\" + 0.024*\"выделить\" + 0.023*\"ответ\" + '\n",
      "  '0.020*\"лечение\" + 0.017*\"применение\"'),\n",
      " (33,\n",
      "  '0.035*\"опрос\" + 0.032*\"возраст\" + 0.023*\"спикер\" + 0.022*\"связанный\" + '\n",
      "  '0.021*\"совет федерация\" + 0.021*\"беларусь\" + 0.020*\"запрещать\" + '\n",
      "  '0.020*\"пенсионный\" + 0.019*\"форма\" + 0.018*\"кажется\"'),\n",
      " (24,\n",
      "  '0.036*\"серия\" + 0.036*\"огонь\" + 0.031*\"рунет\" + 0.027*\"париж\" + '\n",
      "  '0.021*\"кража\" + 0.020*\"зимний\" + 0.019*\"край\" + 0.017*\"человек погибнуть\" + '\n",
      "  '0.016*\"отдел\" + 0.014*\"текст\"'),\n",
      " (35,\n",
      "  '0.094*\"запретить\" + 0.050*\"количество\" + 0.035*\"оштрафовать\" + '\n",
      "  '0.033*\"европа\" + 0.032*\"google\" + 0.021*\"ошибка\" + 0.020*\"одежда\" + '\n",
      "  '0.020*\"росгвардия\" + 0.018*\"транспорт\" + 0.018*\"протокол\"'),\n",
      " (30,\n",
      "  '0.062*\"выпустить\" + 0.040*\"радиолентач\" + 0.037*\"собака\" + 0.034*\"завод\" + '\n",
      "  '0.033*\"магазин\" + 0.031*\"построить\" + 0.027*\"неуважение власть\" + '\n",
      "  '0.026*\"ребята\" + 0.022*\"подписать\" + 0.020*\"посетитель\"'),\n",
      " (5,\n",
      "  '0.087*\"петербург\" + 0.060*\"говорить\" + 0.037*\"развитие\" + 0.030*\"медведев\" '\n",
      "  '+ 0.029*\"обязать\" + 0.024*\"многий\" + 0.020*\"поезд\" + 0.017*\"выглядеть\" + '\n",
      "  '0.015*\"километр\" + 0.014*\"сердце\"'),\n",
      " (10,\n",
      "  '0.051*\"сайт\" + 0.046*\"школьник\" + 0.038*\"совет\" + 0.031*\"личный\" + '\n",
      "  '0.030*\"франция\" + 0.027*\"создание\" + 0.026*\"уходить\" + 0.024*\"помогать\" + '\n",
      "  '0.022*\"выступить\" + 0.017*\"полезный\"'),\n",
      " (28,\n",
      "  '0.027*\"государство\" + 0.025*\"свободный\" + 0.023*\"попытаться\" + '\n",
      "  '0.023*\"аэропорт\" + 0.023*\"событие\" + 0.021*\"автомобиль\" + 0.020*\"стиль\" + '\n",
      "  '0.020*\"нибыть\" + 0.020*\"внимание\" + 0.018*\"ночью\"'),\n",
      " (22,\n",
      "  '0.077*\"фильм\" + 0.041*\"продажа\" + 0.031*\"зеленский\" + 0.030*\"режиссёр\" + '\n",
      "  '0.028*\"освободить\" + 0.025*\"министр\" + 0.024*\"использование\" + '\n",
      "  '0.021*\"услуга\" + 0.019*\"смартфон\" + 0.018*\"вариант\"'),\n",
      " (1,\n",
      "  '0.047*\"зарплата\" + 0.040*\"активист\" + 0.032*\"сериал\" + 0.028*\"уровень\" + '\n",
      "  '0.025*\"проверить\" + 0.025*\"прокуратура\" + 0.021*\"популярный\" + '\n",
      "  '0.020*\"искать\" + 0.020*\"рамка\" + 0.019*\"мэр\"'),\n",
      " (17,\n",
      "  '0.038*\"видео\" + 0.031*\"война\" + 0.026*\"район\" + 0.025*\"первое\" + '\n",
      "  '0.025*\"карта\" + 0.025*\"земля\" + 0.023*\"силовик\" + 0.023*\"вода\" + '\n",
      "  '0.021*\"городской\" + 0.021*\"ход\"'),\n",
      " (39,\n",
      "  '0.062*\"сотрудник\" + 0.053*\"деньга\" + 0.033*\"граница\" + 0.031*\"запустить\" + '\n",
      "  '0.028*\"цена\" + 0.024*\"победа\" + 0.022*\"арестовать\" + 0.019*\"левада центр\" + '\n",
      "  '0.019*\"аккаунт\" + 0.018*\"сторона\"'),\n",
      " (4,\n",
      "  '0.064*\"мужчина\" + 0.062*\"полицейский\" + 0.057*\"женщина\" + 0.044*\"акция\" + '\n",
      "  '0.037*\"сообщение\" + 0.034*\"участник\" + 0.029*\"помочь\" + 0.025*\"отменить\" + '\n",
      "  '0.023*\"концерт\" + 0.023*\"проверка\"'),\n",
      " (2,\n",
      "  '0.084*\"рубль\" + 0.056*\"закон\" + 0.055*\"предложить\" + 0.044*\"правительство\" '\n",
      "  '+ 0.043*\"законопроект\" + 0.024*\"принять\" + 0.022*\"поддержать\" + '\n",
      "  '0.020*\"население\" + 0.017*\"запрет\" + 0.016*\"миллиард рубль\"'),\n",
      " (34,\n",
      "  '0.035*\"больница\" + 0.024*\"объяснить\" + 0.022*\"выяснить\" + 0.021*\"удаться\" + '\n",
      "  '0.017*\"машина\" + 0.017*\"технология\" + 0.017*\"играть\" + 0.016*\"руководство\" '\n",
      "  '+ 0.015*\"голос\" + 0.014*\"состав\"'),\n",
      " (8,\n",
      "  '0.042*\"выйти\" + 0.038*\"московский\" + 0.019*\"представитель\" + 0.019*\"право\" '\n",
      "  '+ 0.015*\"фсб\" + 0.014*\"открыть\" + 0.014*\"связать\" + 0.014*\"выход\" + '\n",
      "  '0.014*\"дмитрий\" + 0.013*\"правда\"'),\n",
      " (6,\n",
      "  '0.162*\"человек\" + 0.066*\"ребёнок\" + 0.035*\"здание\" + 0.033*\"назвать\" + '\n",
      "  '0.032*\"против\" + 0.030*\"митинг\" + 0.027*\"пытаться\" + 0.024*\"должный\" + '\n",
      "  '0.021*\"улица\" + 0.020*\"администрация\"'),\n",
      " (18,\n",
      "  '0.040*\"область\" + 0.038*\"дом\" + 0.030*\"пожар\" + 0.028*\"пост\" + '\n",
      "  '0.026*\"местный\" + 0.025*\"произойти\" + 0.024*\"регион\" + 0.022*\"взрыв\" + '\n",
      "  '0.022*\"сообщать\" + 0.021*\"жить\"'),\n",
      " (20,\n",
      "  '0.066*\"мочь\" + 0.055*\"москва\" + 0.053*\"город\" + 0.040*\"житель\" + '\n",
      "  '0.030*\"место\" + 0.029*\"решить\" + 0.021*\"проект\" + 0.021*\"екатеринбург\" + '\n",
      "  '0.017*\"помощь\" + 0.015*\"семья\"'),\n",
      " (21,\n",
      "  '0.067*\"россия\" + 0.038*\"время\" + 0.032*\"российский\" + 0.030*\"заявить\" + '\n",
      "  '0.028*\"власть\" + 0.026*\"путин\" + 0.026*\"страна\" + 0.024*\"дело\" + '\n",
      "  '0.020*\"сми\" + 0.020*\"президент\"')]\n"
     ]
    }
   ],
   "source": [
    "t=time()\n",
    "lda_model = gensim.models.ldamodel.LdaModel(\n",
    "        corpus=corpus,\n",
    "        id2word=id2word,\n",
    "        num_topics=40, \n",
    "        random_state=100,\n",
    "        update_every=1,\n",
    "        chunksize=500,\n",
    "        passes=50,\n",
    "        alpha='auto');\n",
    "print('Time to build model: {} mins'.format(round((time() - t) / 60, 2)))\n",
    "pprint(lda_model.print_topics())"
   ]
  },
  {
   "cell_type": "code",
   "execution_count": 382,
   "metadata": {},
   "outputs": [
    {
     "name": "stdout",
     "output_type": "stream",
     "text": [
      "\n",
      "Perplexity:  -23.80536545207122\n",
      "\n",
      "Coherence Score:  0.5264508785406229\n"
     ]
    }
   ],
   "source": [
    "# Compute Perplexity\n",
    "print('\\nPerplexity: ', lda_model.log_perplexity(corpus))  # a measure of how good the model is. lower the better.\n",
    "\n",
    "# Compute Coherence Score\n",
    "coherence_model_lda = CoherenceModel(model=lda_model, texts=data_words_bigrams, dictionary=id2word, coherence='c_v')\n",
    "coherence_lda = coherence_model_lda.get_coherence()\n",
    "print('\\nCoherence Score: ', coherence_lda)"
   ]
  },
  {
   "cell_type": "markdown",
   "metadata": {},
   "source": [
    "График значений когерентности продолжает медленно расти, не выходя на плато"
   ]
  },
  {
   "cell_type": "code",
   "execution_count": 383,
   "metadata": {},
   "outputs": [
    {
     "name": "stdout",
     "output_type": "stream",
     "text": [
      "Time to prepare words: 0.79 mins\n"
     ]
    }
   ],
   "source": [
    "t=time()\n",
    "stop_words = stopwords.words('russian')\n",
    "stop_words.extend(['http', 'https', 'lenta', 'ch', 'cc', 'ow', 'news', 'vk', 'upd', 'the', 'id', 'ows',\n",
    "                   'который', 'это', 'один', 'главный', 'свой', 'такой', 'лентач', 'ещё', 'еще', 'самый', 'тот', 'пока', \n",
    "                   'мол', 'некоторый', 'почему', 'отдельный', 'год', 'неделя', 'сегодня', 'впервые', 'будущий', 'оно',\n",
    "                  'сразу', 'затем', 'этот', 'также', 'жаль', 'сейчас', 'поэтому', 'лаифкаха', 'ввод', 'вывод', 'broco', \n",
    "                   'утро', 'последний', 'то', 'ничто', 'весь', 'стать', 'она', 'дать', 'хороший', 'весь', 'новый', 'имя', \n",
    "                   'oqib', 'день', 'хотеть', 'большой', 'наш', 'узнать', 'очень', 'сделаться', 'просто', 'час', 'минута',\n",
    "                   'назад', 'сюда', 'увеличиться', 'отдельный', 'полностью', 'перестать', 'иметь', 'owyt', 'проходить', \n",
    "                   'июль', 'сделать', 'делать', 'читать', 'писать', 'число', 'считать', 'каждый', 'ряд', 'начало', 'конец', \n",
    "                   'пикчер', 'ваш', 'любой', 'снова', 'сколько', 'club', 'например', 'лишь', 'целый', 'начать', \n",
    "                   'получить', 'com', 'кстати', 'вместо', 'watch', 'один', 'два', 'три', 'четыре', 'пять', 'шесть', 'семь',\n",
    "                    'восемь', 'девять', 'десять','третье', 'мем', 'мема', 'слово', 'пара', 'январь', 'сегодня', 'суббота', \n",
    "                   'ждать', 'ru', 'часто', 'тема', 'название', 'вокруг', 'oiahd', 'никто',  'остаться', 'сотня', 'сказать', \n",
    "                   'называть', 'предложение', 'представить', 'собираться', 'предложение', 'около', 'нужно', 'сильно', 'вокруг',\n",
    "                   'именно', 'отправить', 'получать', 'бывший', 'вчера', 'май', 'апрель', 'несколько', 'продолжать', 'март', \n",
    "                   'взять', 'пройтись', 'использовать', 'почитать', 'вообще', 'рассказать', 'оказаться', 'rowp', 'ro', 'rrzf', \n",
    "                   'никак', 'хотя', 'rreq', 'grace', 'three','ropr', 'практически', 'rrg', 'rofm',\n",
    "                   'вдвое', 'полтора', 'говориться', 'месяц', 'вечером', 'известный', 'начинать', 'основать', 'слишком',\n",
    "                   'подвести', 'идти', 'принести', 'distemper', 'внезапно', 'наиболее', 'известный', 'качество', 'являться',\n",
    "                   'обнаружить', 'in', 'напомнить', 'образовать', 'интересный', 'составить', 'насколько', 'появиться', 'давать',\n",
    "                   'новое', 'новость', 'найти', 'давно', 'готовый', \n",
    "                   'ответ', 'применение', 'кажется', 'готовый', 'новость', 'говорить', 'выглядеть', 'нибыть', 'попытаться',\n",
    "                   'первое', 'уровень', 'искать', 'сторона', 'удаться', 'выяснить', 'против', 'назвать', 'мочь'\n",
    "                  ])\n",
    "stop_words = set(stop_words)\n",
    "\n",
    "morph = pymorphy2.MorphAnalyzer()\n",
    "\n",
    "data = df.text.values.tolist()\n",
    "data = [clean(t) for t in data]\n",
    "data_words = [doc_to_words(text, stop_words, morph) for text in data]\n",
    "\n",
    "bigram = gensim.models.Phrases(data_words, min_count=5, threshold=1, delimiter=b' ') \n",
    "bigram_mod = gensim.models.phrases.Phraser(bigram)    \n",
    "data_words_bigrams = [bigram_mod[w] for w in data_words]\n",
    "\n",
    "id2word = corpora.Dictionary(data_words_bigrams) # token to id (add ids to tokens)\n",
    "corpus = [id2word.doc2bow(text) for text in data_words_bigrams] # create (token_id, token_count): 2-tuples\n",
    "print('Time to prepare words: {} mins'.format(round((time() - t) / 60, 2)))"
   ]
  },
  {
   "cell_type": "code",
   "execution_count": 384,
   "metadata": {},
   "outputs": [
    {
     "name": "stdout",
     "output_type": "stream",
     "text": [
      "Time to count coherence values: 20.43 mins\n"
     ]
    },
    {
     "data": {
      "image/png": "[encoded data removed]",
      "text/plain": [
       "<Figure size 1080x360 with 1 Axes>"
      ]
     },
     "metadata": {
      "needs_background": "light"
     },
     "output_type": "display_data"
    },
    {
     "name": "stdout",
     "output_type": "stream",
     "text": [
      "2:  0.31200404625891276\n",
      "12:  0.4804347373283106\n",
      "22:  0.4000854448113636\n",
      "32:  0.4276307765014986\n",
      "42:  0.4485186170473798\n",
      "52:  0.4528556476623816\n",
      "62:  0.45529345961835593\n",
      "72:  0.44140660994469627\n",
      "82:  0.45132989526606154\n",
      "92:  0.4456292067700159\n",
      "102:  0.4441592759521831\n",
      "112:  0.44972731975345653\n",
      "122:  0.4549892504723219\n",
      "132:  0.44904952107434826\n",
      "142:  0.44971984514228097\n"
     ]
    }
   ],
   "source": [
    "limit=150; start=2; step=10;\n",
    "t=time()\n",
    "model_list, coherence_values = compute_coherence_values(dictionary=id2word, \n",
    "                                                        corpus=corpus, \n",
    "                                                        texts=data_words_bigrams, \n",
    "                                                        start=start, \n",
    "                                                        limit=limit, \n",
    "                                                        step=step)\n",
    "\n",
    "print('Time to count coherence values: {} mins'.format(round((time() - t) / 60, 2)))\n",
    "\n",
    "x = range(start, limit, step)\n",
    "plt.figure(figsize=(15,5))\n",
    "plt.plot(x, coherence_values)\n",
    "plt.xlabel(\"Num Topics\")\n",
    "plt.ylabel(\"Coherence score\")\n",
    "plt.legend((\"coherence_values\"), loc='best')\n",
    "plt.show()\n",
    "\n",
    "for i, j in enumerate(coherence_values):\n",
    "    print(str(start + i*step) + ':  ' + str(j))"
   ]
  },
  {
   "cell_type": "code",
   "execution_count": 386,
   "metadata": {
    "scrolled": true
   },
   "outputs": [
    {
     "name": "stdout",
     "output_type": "stream",
     "text": [
      "Time to build model: 0.89 mins\n",
      "[(0,\n",
      "  '0.012*\"совет\" + 0.012*\"поддержать\" + 0.011*\"население\" + 0.010*\"удалить\" + '\n",
      "  '0.009*\"медведев\" + 0.009*\"прошлое\" + 0.009*\"обязать\" + 0.008*\"отец\" + '\n",
      "  '0.007*\"исполняться\" + 0.007*\"подъехать\"'),\n",
      " (1,\n",
      "  '0.024*\"школа\" + 0.016*\"решить\" + 0.012*\"екатеринбург\" + 0.010*\"помощь\" + '\n",
      "  '0.009*\"видео\" + 0.008*\"фотография\" + 0.008*\"госдума\" + 0.008*\"проект\" + '\n",
      "  '0.008*\"вид\" + 0.007*\"потребовать\"'),\n",
      " (2,\n",
      "  '0.040*\"россия\" + 0.021*\"сша\" + 0.018*\"страна\" + 0.013*\"полицейский\" + '\n",
      "  '0.010*\"летний\" + 0.010*\"объявить\" + 0.010*\"глава\" + 0.008*\"заявить\" + '\n",
      "  '0.008*\"сообщение\" + 0.007*\"причина\"'),\n",
      " (3,\n",
      "  '0.023*\"москва\" + 0.015*\"полиция\" + 0.014*\"задержать\" + 0.013*\"место\" + '\n",
      "  '0.011*\"сми\" + 0.011*\"сообщить\" + 0.010*\"петербург\" + 0.010*\"пожар\" + '\n",
      "  '0.009*\"результат\" + 0.009*\"провести\"'),\n",
      " (4,\n",
      "  '0.021*\"российский\" + 0.017*\"дело\" + 0.013*\"суд\" + 0.012*\"мужчина\" + '\n",
      "  '0.011*\"закон\" + 0.011*\"жизнь\" + 0.011*\"женщина\" + 0.011*\"выйти\" + '\n",
      "  '0.010*\"запретить\" + 0.009*\"пост\"'),\n",
      " (5,\n",
      "  '0.027*\"интернет\" + 0.023*\"предложить\" + 0.013*\"соцсеть\" + 0.011*\"сенатор\" + '\n",
      "  '0.010*\"расследование\" + 0.009*\"концерт\" + 0.009*\"организация\" + '\n",
      "  '0.008*\"заблокировать\" + 0.008*\"доступ\" + 0.008*\"депутат\"'),\n",
      " (6,\n",
      "  '0.035*\"человек\" + 0.022*\"время\" + 0.017*\"город\" + 0.014*\"ребёнок\" + '\n",
      "  '0.014*\"власть\" + 0.012*\"компания\" + 0.012*\"работа\" + 0.011*\"история\" + '\n",
      "  '0.010*\"область\" + 0.010*\"заявить\"'),\n",
      " (7,\n",
      "  '0.028*\"путин\" + 0.027*\"россиянин\" + 0.026*\"группа\" + 0.024*\"рубль\" + '\n",
      "  '0.017*\"мир\" + 0.011*\"традиционный радиолентач\" + 0.010*\"чиновник\" + '\n",
      "  '0.010*\"музыка\" + 0.010*\"альбом\" + 0.008*\"зарплата\"'),\n",
      " (8,\n",
      "  '0.015*\"фильм\" + 0.013*\"участник\" + 0.010*\"война\" + 0.010*\"традиционный '\n",
      "  'радиолентач\" + 0.009*\"рок группа\" + 0.008*\"оскар\" + 0.008*\"картина\" + '\n",
      "  '0.007*\"роль\" + 0.007*\"результат розыгрыш\" + 0.007*\"машина\"'),\n",
      " (9,\n",
      "  '0.020*\"самолёт\" + 0.018*\"митинг\" + 0.017*\"президент\" + 0.016*\"венесуэла\" + '\n",
      "  '0.014*\"акция\" + 0.013*\"собрать\" + 0.010*\"граница\" + 0.009*\"проблема\" + '\n",
      "  '0.008*\"строительство\" + 0.008*\"активист\"'),\n",
      " (10,\n",
      "  '0.013*\"вконтакте\" + 0.012*\"цена\" + 0.009*\"подросток\" + 0.009*\"банка\" + '\n",
      "  '0.009*\"долг\" + 0.009*\"возможность\" + 0.009*\"счёт\" + 0.008*\"освободить\" + '\n",
      "  '0.008*\"метро\" + 0.007*\"еда\"'),\n",
      " (11,\n",
      "  '0.014*\"девочка\" + 0.010*\"правило\" + 0.010*\"команда\" + 0.009*\"премия\" + '\n",
      "  '0.009*\"япония\" + 0.009*\"настоящий\" + 0.007*\"ошибка\" + 0.007*\"одобрить\" + '\n",
      "  '0.007*\"росстат\" + 0.007*\"мальчик\"')]\n"
     ]
    }
   ],
   "source": [
    "t=time()\n",
    "lda_model = gensim.models.ldamodel.LdaModel(\n",
    "        corpus=corpus,\n",
    "        id2word=id2word,\n",
    "        num_topics=12, \n",
    "        random_state=100,\n",
    "        update_every=1,\n",
    "        chunksize=500,\n",
    "        passes=50,\n",
    "        alpha='auto');\n",
    "print('Time to build model: {} mins'.format(round((time() - t) / 60, 2)))\n",
    "pprint(lda_model.print_topics())"
   ]
  },
  {
   "cell_type": "markdown",
   "metadata": {},
   "source": [
    "В целом стоп слова можно больше не удалять ('возможность', 'настоящий', 'человек', 'время', 'летний', 'вид', 'прошлое', '')"
   ]
  },
  {
   "cell_type": "code",
   "execution_count": 387,
   "metadata": {},
   "outputs": [
    {
     "name": "stdout",
     "output_type": "stream",
     "text": [
      "Time to count coherence values: 3.87 mins\n"
     ]
    },
    {
     "data": {
      "image/png": "[encoded data removed]",
      "text/plain": [
       "<Figure size 1080x360 with 1 Axes>"
      ]
     },
     "metadata": {
      "needs_background": "light"
     },
     "output_type": "display_data"
    },
    {
     "name": "stdout",
     "output_type": "stream",
     "text": [
      "10:  0.4426176769383994\n",
      "11:  0.48168619241675664\n",
      "12:  0.4804347373283106\n",
      "13:  0.46615387964907523\n",
      "14:  0.46139191838518084\n",
      "15:  0.40386944097173144\n",
      "16:  0.4384752877193113\n",
      "17:  0.46118244501944217\n",
      "18:  0.42153350212054197\n",
      "19:  0.4129649774796384\n"
     ]
    }
   ],
   "source": [
    "limit=20; start=10; step=1;\n",
    "t=time()\n",
    "model_list, coherence_values = compute_coherence_values(dictionary=id2word, \n",
    "                                                        corpus=corpus, \n",
    "                                                        texts=data_words_bigrams, \n",
    "                                                        start=start, \n",
    "                                                        limit=limit, \n",
    "                                                        step=step)\n",
    "\n",
    "print('Time to count coherence values: {} mins'.format(round((time() - t) / 60, 2)))\n",
    "\n",
    "x = range(start, limit, step)\n",
    "plt.figure(figsize=(15,5))\n",
    "plt.plot(x, coherence_values)\n",
    "plt.xlabel(\"Num Topics\")\n",
    "plt.ylabel(\"Coherence score\")\n",
    "plt.legend((\"coherence_values\"), loc='best')\n",
    "plt.show()\n",
    "\n",
    "for i, j in enumerate(coherence_values):\n",
    "    print(str(start + i*step) + ':  ' + str(j))"
   ]
  },
  {
   "cell_type": "markdown",
   "metadata": {},
   "source": [
    "Посмотрим результат на 11 темах:"
   ]
  },
  {
   "cell_type": "code",
   "execution_count": 388,
   "metadata": {},
   "outputs": [
    {
     "name": "stdout",
     "output_type": "stream",
     "text": [
      "Time to build model: 1.96 mins\n",
      "[(0,\n",
      "  '0.011*\"билет\" + 0.010*\"поддержать\" + 0.009*\"apple\" + 0.008*\"результат '\n",
      "  'розыгрыш\" + 0.007*\"оштрафовать\" + 0.007*\"подробность\" + 0.007*\"обязать\" + '\n",
      "  '0.006*\"остров\" + 0.006*\"отдать подписчик\" + 0.006*\"париж\"'),\n",
      " (1,\n",
      "  '0.023*\"ребёнок\" + 0.019*\"президент\" + 0.014*\"школа\" + 0.011*\"правительство\" '\n",
      "  '+ 0.010*\"объявить\" + 0.010*\"законопроект\" + 0.009*\"рф\" + 0.008*\"фотография\" '\n",
      "  '+ 0.007*\"госдума\" + 0.007*\"попросить\"'),\n",
      " (2,\n",
      "  '0.016*\"мир\" + 0.012*\"летний\" + 0.009*\"жить\" + 0.008*\"умереть\" + '\n",
      "  '0.007*\"тысяча\" + 0.006*\"студент\" + 0.006*\"территория\" + 0.006*\"карта\" + '\n",
      "  '0.006*\"девочка\" + 0.005*\"развитие\"'),\n",
      " (3,\n",
      "  '0.010*\"произойти\" + 0.010*\"данные\" + 0.009*\"больница\" + 0.009*\"взрыв\" + '\n",
      "  '0.009*\"сообщать\" + 0.008*\"находиться\" + 0.008*\"сервис\" + 0.008*\"погибший\" + '\n",
      "  '0.007*\"вид\" + 0.007*\"запустить\"'),\n",
      " (4,\n",
      "  '0.018*\"заявить\" + 0.017*\"путин\" + 0.012*\"рубль\" + 0.011*\"глава\" + '\n",
      "  '0.011*\"интернет\" + 0.010*\"страна\" + 0.009*\"предложить\" + 0.008*\"полиция\" + '\n",
      "  '0.008*\"венесуэла\" + 0.008*\"пост\"'),\n",
      " (5,\n",
      "  '0.010*\"роскомнадзор\" + 0.009*\"население\" + 0.009*\"заблокировать\" + '\n",
      "  '0.008*\"левада центр\" + 0.007*\"правило\" + 0.007*\"facebook\" + '\n",
      "  '0.007*\"публикация\" + 0.007*\"договор\" + 0.007*\"использование\" + '\n",
      "  '0.007*\"доход\"'),\n",
      " (6,\n",
      "  '0.029*\"россия\" + 0.026*\"человек\" + 0.018*\"время\" + 0.015*\"российский\" + '\n",
      "  '0.013*\"город\" + 0.013*\"сша\" + 0.012*\"россиянин\" + 0.010*\"житель\" + '\n",
      "  '0.010*\"компания\" + 0.010*\"работа\"'),\n",
      " (7,\n",
      "  '0.012*\"группа\" + 0.010*\"зарплата\" + 0.010*\"помощь\" + 0.009*\"врач\" + '\n",
      "  '0.008*\"принять\" + 0.008*\"альбом\" + 0.007*\"радиолентач\" + 0.007*\"силовик\" + '\n",
      "  '0.007*\"собака\" + 0.006*\"автор\"'),\n",
      " (8,\n",
      "  '0.017*\"группа\" + 0.016*\"традиционный радиолентач\" + 0.013*\"проект\" + '\n",
      "  '0.010*\"музыка\" + 0.007*\"британский\" + 0.007*\"русский\" + 0.007*\"рок группа\" '\n",
      "  '+ 0.006*\"картина\" + 0.006*\"рубрика\" + 0.005*\"машина\"'),\n",
      " (9,\n",
      "  '0.018*\"москва\" + 0.012*\"сообщить\" + 0.011*\"задержать\" + 0.011*\"область\" + '\n",
      "  '0.011*\"место\" + 0.010*\"дело\" + 0.010*\"полицейский\" + 0.010*\"дом\" + '\n",
      "  '0.010*\"решить\" + 0.010*\"самолёт\"'),\n",
      " (10,\n",
      "  '0.020*\"суд\" + 0.017*\"женщина\" + 0.010*\"семья\" + 0.010*\"мужчина\" + '\n",
      "  '0.009*\"ранее\" + 0.009*\"опубликовать\" + 0.008*\"рейтинг\" + 0.008*\"вконтакте\" '\n",
      "  '+ 0.008*\"расследование\" + 0.007*\"решение\"')]\n"
     ]
    }
   ],
   "source": [
    "t=time()\n",
    "lda_model = gensim.models.ldamodel.LdaModel(\n",
    "        corpus=corpus,\n",
    "        id2word=id2word,\n",
    "        num_topics=11, \n",
    "        random_state=100,\n",
    "        update_every=1,\n",
    "        chunksize=500,\n",
    "        passes=50,\n",
    "        alpha='auto');\n",
    "print('Time to build model: {} mins'.format(round((time() - t) / 60, 2)))\n",
    "pprint(lda_model.print_topics())"
   ]
  },
  {
   "cell_type": "code",
   "execution_count": 389,
   "metadata": {},
   "outputs": [
    {
     "name": "stdout",
     "output_type": "stream",
     "text": [
      "\n",
      "Perplexity:  -10.487863905738296\n",
      "\n",
      "Coherence Score:  0.4593197422419186\n"
     ]
    }
   ],
   "source": [
    "# Compute Perplexity\n",
    "print('\\nPerplexity: ', lda_model.log_perplexity(corpus))  # a measure of how good the model is. lower the better.\n",
    "\n",
    "# Compute Coherence Score\n",
    "coherence_model_lda = CoherenceModel(model=lda_model, texts=data_words_bigrams, dictionary=id2word, coherence='c_v')\n",
    "coherence_lda = coherence_model_lda.get_coherence()\n",
    "print('\\nCoherence Score: ', coherence_lda)"
   ]
  },
  {
   "cell_type": "markdown",
   "metadata": {},
   "source": [
    "Последний результат наиболее правдоподобен"
   ]
  },
  {
   "cell_type": "code",
   "execution_count": null,
   "metadata": {},
   "outputs": [],
   "source": []
  },
  {
   "cell_type": "code",
   "execution_count": null,
   "metadata": {},
   "outputs": [],
   "source": []
  },
  {
   "cell_type": "code",
   "execution_count": null,
   "metadata": {},
   "outputs": [],
   "source": []
  },
  {
   "cell_type": "code",
   "execution_count": null,
   "metadata": {},
   "outputs": [],
   "source": []
  },
  {
   "cell_type": "code",
   "execution_count": null,
   "metadata": {},
   "outputs": [],
   "source": []
  },
  {
   "cell_type": "code",
   "execution_count": null,
   "metadata": {},
   "outputs": [],
   "source": []
  },
  {
   "cell_type": "code",
   "execution_count": null,
   "metadata": {},
   "outputs": [],
   "source": []
  }
 ],
 "metadata": {
  "kernelspec": {
   "display_name": "Python 3",
   "language": "python",
   "name": "python3"
  },
  "language_info": {
   "codemirror_mode": {
    "name": "ipython",
    "version": 3
   },
   "file_extension": ".py",
   "mimetype": "text/x-python",
   "name": "python",
   "nbconvert_exporter": "python",
   "pygments_lexer": "ipython3",
   "version": "3.7.1"
  }
 },
 "nbformat": 4,
 "nbformat_minor": 2
}
