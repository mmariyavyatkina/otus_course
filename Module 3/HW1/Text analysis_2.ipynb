{
 "cells": [
  {
   "cell_type": "markdown",
   "metadata": {},
   "source": [
    "### Определение темы по постам группы вк\n",
    "\n",
    "Будем собирать посты из группы \"Лентач\" во вконтакте с целью выявить тематику группы. Рассмотрим также на какие кластеры тем можно разбить посты."
   ]
  },
  {
   "cell_type": "code",
   "execution_count": 2,
   "metadata": {},
   "outputs": [
    {
     "name": "stderr",
     "output_type": "stream",
     "text": [
      "[nltk_data] Downloading package wordnet to /Users/mary/nltk_data...\n",
      "[nltk_data]   Package wordnet is already up-to-date!\n",
      "[nltk_data] Downloading package stopwords to /Users/mary/nltk_data...\n",
      "[nltk_data]   Package stopwords is already up-to-date!\n",
      "/Users/mary/anaconda3/lib/python3.7/site-packages/scipy/sparse/sparsetools.py:21: DeprecationWarning: `scipy.sparse.sparsetools` is deprecated!\n",
      "scipy.sparse.sparsetools is a private module for scipy.sparse, and should not be used.\n",
      "  _deprecated()\n"
     ]
    }
   ],
   "source": [
    "import logging\n",
    "import sys\n",
    "import requests\n",
    "import json\n",
    "import datetime\n",
    "from ast import literal_eval\n",
    "import pandas as pd\n",
    "import numpy as np\n",
    "import configparser\n",
    "import re\n",
    "import nltk\n",
    "from nltk.corpus import stopwords \n",
    "# from nltk.stem.wordnet import WordNetLemmatizer\n",
    "nltk.download('wordnet')\n",
    "nltk.download('stopwords')\n",
    "# lemma = WordNetLemmatizer()\n",
    "\n",
    "import pymorphy2\n",
    "morph = pymorphy2.MorphAnalyzer()\n",
    "\n",
    "# Plotting tools\n",
    "import pyLDAvis\n",
    "import pyLDAvis.gensim\n",
    "import matplotlib.pyplot as plt\n",
    "%matplotlib inline\n",
    "\n",
    "import gensim\n",
    "import gensim.corpora as corpora\n",
    "from gensim.utils import simple_preprocess\n",
    "from gensim.models import CoherenceModel\n",
    "from pprint import pprint\n",
    "\n",
    "# Enable logging for gensim - optional\n",
    "import logging\n",
    "logging.basicConfig(format='%(asctime)s : %(levelname)s : %(message)s', level=logging.ERROR)\n",
    "\n",
    "import warnings\n",
    "warnings.filterwarnings(\"ignore\",category=DeprecationWarning)"
   ]
  },
  {
   "cell_type": "markdown",
   "metadata": {},
   "source": [
    "### 1. Сбор информации. \n",
    "\n"
   ]
  },
  {
   "cell_type": "code",
   "execution_count": 3,
   "metadata": {},
   "outputs": [],
   "source": [
    "def gather_process():\n",
    "\n",
    "    # gather data and save as txt\n",
    "    id_ = 'lentach'\n",
    "    owner_id = '29534144'# lentach\n",
    "    count = 40\n",
    "    offset = -1\n",
    "\n",
    "    # In access_token.ini we have token for vk\n",
    "    config = configparser.ConfigParser()\n",
    "    config.read('access_token.ini')\n",
    "    access_token = config.get('settings', 'token')\n",
    "    \n",
    "    for _ in range(100):\n",
    "        url = 'https://api.vk.com/method/wall.get?owner_id=-{}&count={}&offset={}&v=5.52&access_token={}'.format(\n",
    "            owner_id, count, offset + 1, access_token)\n",
    "        respond = requests.get(url)\n",
    "        with open(id_ + str(_) + '.txt', 'w') as outfile:\n",
    "            json.dump(respond.json(), outfile)\n",
    "        \n",
    "        offset += count"
   ]
  },
  {
   "cell_type": "code",
   "execution_count": 4,
   "metadata": {},
   "outputs": [],
   "source": [
    "def convert_data_to_table_format():\n",
    "    \n",
    "    # transform gathered data from txt file to pandas DataFrame and save as csv\n",
    "    id_ = 'lentach'\n",
    "    \n",
    "    for _ in range(40):\n",
    "        file = id_ + str(_) + '.txt'\n",
    "        result = literal_eval(open(file, 'r').read())\n",
    "        ids = []\n",
    "        dates = []\n",
    "        comments = []\n",
    "        likes = []\n",
    "        reposts = []\n",
    "        text = []\n",
    "\n",
    "        for item in result['response']['items']:\n",
    "            ids.append(item['id'])\n",
    "            dates.append(datetime.datetime.fromtimestamp(item['date']))\n",
    "            comments.append(item['comments']['count'])\n",
    "            likes.append(item['likes']['count'])\n",
    "            reposts.append(item['reposts']['count'])\n",
    "            text.append(item['text'].encode('utf-16', 'surrogatepass').decode('utf-16'))\n",
    "\n",
    "        df = pd.DataFrame({\n",
    "            \"id\": ids,\n",
    "            \"date\": dates,\n",
    "            \"comments_count\": comments,\n",
    "            \"likes_count\": likes,\n",
    "            \"reposts_count\": reposts,\n",
    "            \"text\": text,\n",
    "        })\n",
    "        df.to_csv(id_ + str(_) + '.csv', sep='\\t')\n",
    "    \n",
    "    pass\n",
    "\n"
   ]
  },
  {
   "cell_type": "code",
   "execution_count": 5,
   "metadata": {
    "scrolled": true
   },
   "outputs": [],
   "source": [
    "# Take latest 4 000 posts of lentach\n",
    "# gather_process()"
   ]
  },
  {
   "cell_type": "code",
   "execution_count": 35,
   "metadata": {
    "scrolled": true
   },
   "outputs": [],
   "source": [
    "# Convert to csv\n",
    "convert_data_to_table_format()"
   ]
  },
  {
   "cell_type": "code",
   "execution_count": 36,
   "metadata": {},
   "outputs": [
    {
     "data": {
      "text/plain": [
       "(4000, 7)"
      ]
     },
     "execution_count": 36,
     "metadata": {},
     "output_type": "execute_result"
    }
   ],
   "source": [
    "# Create 1 df from 40 files\n",
    "df = pd.concat([pd.read_csv(r'lentach' + str(i) + '.csv', sep='\\t') for i in range(40)], axis=0)\n",
    "df.shape"
   ]
  },
  {
   "cell_type": "code",
   "execution_count": 37,
   "metadata": {
    "scrolled": true
   },
   "outputs": [
    {
     "data": {
      "text/html": [
       "<div>\n",
       "<style scoped>\n",
       "    .dataframe tbody tr th:only-of-type {\n",
       "        vertical-align: middle;\n",
       "    }\n",
       "\n",
       "    .dataframe tbody tr th {\n",
       "        vertical-align: top;\n",
       "    }\n",
       "\n",
       "    .dataframe thead th {\n",
       "        text-align: right;\n",
       "    }\n",
       "</style>\n",
       "<table border=\"1\" class=\"dataframe\">\n",
       "  <thead>\n",
       "    <tr style=\"text-align: right;\">\n",
       "      <th></th>\n",
       "      <th>Unnamed: 0</th>\n",
       "      <th>id</th>\n",
       "      <th>date</th>\n",
       "      <th>comments_count</th>\n",
       "      <th>likes_count</th>\n",
       "      <th>reposts_count</th>\n",
       "      <th>text</th>\n",
       "    </tr>\n",
       "  </thead>\n",
       "  <tbody>\n",
       "    <tr>\n",
       "      <th>98</th>\n",
       "      <td>98</td>\n",
       "      <td>11435352</td>\n",
       "      <td>2019-07-02 12:35:12</td>\n",
       "      <td>133</td>\n",
       "      <td>2793</td>\n",
       "      <td>11</td>\n",
       "      <td>Чехия сняла ограничения на полёты российских а...</td>\n",
       "    </tr>\n",
       "    <tr>\n",
       "      <th>99</th>\n",
       "      <td>99</td>\n",
       "      <td>11434988</td>\n",
       "      <td>2019-07-02 11:35:06</td>\n",
       "      <td>198</td>\n",
       "      <td>8598</td>\n",
       "      <td>204</td>\n",
       "      <td>В декабре 2018 года студент ВГИКа Артём Фирсан...</td>\n",
       "    </tr>\n",
       "    <tr>\n",
       "      <th>0</th>\n",
       "      <td>0</td>\n",
       "      <td>11434891</td>\n",
       "      <td>2019-07-02 11:20:00</td>\n",
       "      <td>43</td>\n",
       "      <td>373</td>\n",
       "      <td>6</td>\n",
       "      <td>• «Интерфакс»: число жертв паводка в Иркутской...</td>\n",
       "    </tr>\n",
       "    <tr>\n",
       "      <th>1</th>\n",
       "      <td>1</td>\n",
       "      <td>11434549</td>\n",
       "      <td>2019-07-02 10:36:15</td>\n",
       "      <td>199</td>\n",
       "      <td>5763</td>\n",
       "      <td>78</td>\n",
       "      <td>Цены на свинину, говядину и мясо птицы в Росси...</td>\n",
       "    </tr>\n",
       "    <tr>\n",
       "      <th>2</th>\n",
       "      <td>2</td>\n",
       "      <td>11434254</td>\n",
       "      <td>2019-07-02 09:34:23</td>\n",
       "      <td>288</td>\n",
       "      <td>1718</td>\n",
       "      <td>15</td>\n",
       "      <td>Сегодня утром власти Чехии запретили «Аэрофлот...</td>\n",
       "    </tr>\n",
       "  </tbody>\n",
       "</table>\n",
       "</div>"
      ],
      "text/plain": [
       "    Unnamed: 0        id                 date  comments_count  likes_count  \\\n",
       "98          98  11435352  2019-07-02 12:35:12             133         2793   \n",
       "99          99  11434988  2019-07-02 11:35:06             198         8598   \n",
       "0            0  11434891  2019-07-02 11:20:00              43          373   \n",
       "1            1  11434549  2019-07-02 10:36:15             199         5763   \n",
       "2            2  11434254  2019-07-02 09:34:23             288         1718   \n",
       "\n",
       "    reposts_count                                               text  \n",
       "98             11  Чехия сняла ограничения на полёты российских а...  \n",
       "99            204  В декабре 2018 года студент ВГИКа Артём Фирсан...  \n",
       "0               6  • «Интерфакс»: число жертв паводка в Иркутской...  \n",
       "1              78  Цены на свинину, говядину и мясо птицы в Росси...  \n",
       "2              15  Сегодня утром власти Чехии запретили «Аэрофлот...  "
      ]
     },
     "execution_count": 37,
     "metadata": {},
     "output_type": "execute_result"
    }
   ],
   "source": [
    "df[98:103]"
   ]
  },
  {
   "cell_type": "code",
   "execution_count": 38,
   "metadata": {},
   "outputs": [],
   "source": [
    "df = df.set_index('id')\n",
    "df = df.drop(['Unnamed: 0'], axis=1)"
   ]
  },
  {
   "cell_type": "code",
   "execution_count": 39,
   "metadata": {},
   "outputs": [
    {
     "data": {
      "text/html": [
       "<div>\n",
       "<style scoped>\n",
       "    .dataframe tbody tr th:only-of-type {\n",
       "        vertical-align: middle;\n",
       "    }\n",
       "\n",
       "    .dataframe tbody tr th {\n",
       "        vertical-align: top;\n",
       "    }\n",
       "\n",
       "    .dataframe thead th {\n",
       "        text-align: right;\n",
       "    }\n",
       "</style>\n",
       "<table border=\"1\" class=\"dataframe\">\n",
       "  <thead>\n",
       "    <tr style=\"text-align: right;\">\n",
       "      <th></th>\n",
       "      <th>date</th>\n",
       "      <th>comments_count</th>\n",
       "      <th>likes_count</th>\n",
       "      <th>reposts_count</th>\n",
       "      <th>text</th>\n",
       "    </tr>\n",
       "    <tr>\n",
       "      <th>id</th>\n",
       "      <th></th>\n",
       "      <th></th>\n",
       "      <th></th>\n",
       "      <th></th>\n",
       "      <th></th>\n",
       "    </tr>\n",
       "  </thead>\n",
       "  <tbody>\n",
       "    <tr>\n",
       "      <th>11460130</th>\n",
       "      <td>2019-07-06 16:13:03</td>\n",
       "      <td>92</td>\n",
       "      <td>1146</td>\n",
       "      <td>15</td>\n",
       "      <td>Список «ремейки фильмов с женщинами в главной ...</td>\n",
       "    </tr>\n",
       "    <tr>\n",
       "      <th>11459911</th>\n",
       "      <td>2019-07-06 15:33:47</td>\n",
       "      <td>155</td>\n",
       "      <td>1803</td>\n",
       "      <td>31</td>\n",
       "      <td>В России планируется своя «Википедия».\\n\\nПрав...</td>\n",
       "    </tr>\n",
       "    <tr>\n",
       "      <th>11459474</th>\n",
       "      <td>2019-07-06 14:17:03</td>\n",
       "      <td>168</td>\n",
       "      <td>6437</td>\n",
       "      <td>231</td>\n",
       "      <td>А вы тоже в детстве двигали мышкой по экрану, ...</td>\n",
       "    </tr>\n",
       "    <tr>\n",
       "      <th>11459119</th>\n",
       "      <td>2019-07-06 13:23:59</td>\n",
       "      <td>130</td>\n",
       "      <td>4821</td>\n",
       "      <td>141</td>\n",
       "      <td>Уже десять лет каждую первую субботу июля росс...</td>\n",
       "    </tr>\n",
       "    <tr>\n",
       "      <th>11458585</th>\n",
       "      <td>2019-07-06 12:11:06</td>\n",
       "      <td>681</td>\n",
       "      <td>5606</td>\n",
       "      <td>81</td>\n",
       "      <td>Основатель Amazon Джефф Безос официально развё...</td>\n",
       "    </tr>\n",
       "  </tbody>\n",
       "</table>\n",
       "</div>"
      ],
      "text/plain": [
       "                         date  comments_count  likes_count  reposts_count  \\\n",
       "id                                                                          \n",
       "11460130  2019-07-06 16:13:03              92         1146             15   \n",
       "11459911  2019-07-06 15:33:47             155         1803             31   \n",
       "11459474  2019-07-06 14:17:03             168         6437            231   \n",
       "11459119  2019-07-06 13:23:59             130         4821            141   \n",
       "11458585  2019-07-06 12:11:06             681         5606             81   \n",
       "\n",
       "                                                       text  \n",
       "id                                                           \n",
       "11460130  Список «ремейки фильмов с женщинами в главной ...  \n",
       "11459911  В России планируется своя «Википедия».\\n\\nПрав...  \n",
       "11459474  А вы тоже в детстве двигали мышкой по экрану, ...  \n",
       "11459119  Уже десять лет каждую первую субботу июля росс...  \n",
       "11458585  Основатель Amazon Джефф Безос официально развё...  "
      ]
     },
     "execution_count": 39,
     "metadata": {},
     "output_type": "execute_result"
    }
   ],
   "source": [
    "df.head()"
   ]
  },
  {
   "cell_type": "code",
   "execution_count": 40,
   "metadata": {},
   "outputs": [
    {
     "name": "stdout",
     "output_type": "stream",
     "text": [
      "<class 'pandas.core.frame.DataFrame'>\n",
      "Int64Index: 4000 entries, 11460130 to 10386610\n",
      "Data columns (total 5 columns):\n",
      "date              4000 non-null object\n",
      "comments_count    4000 non-null int64\n",
      "likes_count       4000 non-null int64\n",
      "reposts_count     4000 non-null int64\n",
      "text              3864 non-null object\n",
      "dtypes: int64(3), object(2)\n",
      "memory usage: 187.5+ KB\n"
     ]
    }
   ],
   "source": [
    "df.info()"
   ]
  },
  {
   "cell_type": "markdown",
   "metadata": {},
   "source": [
    "### 2. Обработка. \n",
    "\n",
    "* Удалим пропуски в значениях текста, т.к. никакая их обработка не поможет нашей цели\n",
    "* Удалим русские стоп слова и знаки переноса строки (очистим текст)\n",
    "* Разобьем каждый из текстов на отдельные слова\n",
    "* Приведем слова к нормальной форме\n"
   ]
  },
  {
   "cell_type": "code",
   "execution_count": 84,
   "metadata": {},
   "outputs": [
    {
     "name": "stdout",
     "output_type": "stream",
     "text": [
      "<class 'pandas.core.frame.DataFrame'>\n",
      "Int64Index: 3864 entries, 11460130 to 10386610\n",
      "Data columns (total 5 columns):\n",
      "date              3864 non-null object\n",
      "comments_count    3864 non-null int64\n",
      "likes_count       3864 non-null int64\n",
      "reposts_count     3864 non-null int64\n",
      "text              3864 non-null object\n",
      "dtypes: int64(3), object(2)\n",
      "memory usage: 181.1+ KB\n"
     ]
    }
   ],
   "source": [
    "df = df.dropna()\n",
    "df.info()"
   ]
  },
  {
   "cell_type": "code",
   "execution_count": 85,
   "metadata": {},
   "outputs": [],
   "source": [
    "stop_words = stopwords.words('russian')\n",
    "stop_words.extend(['http', 'https', 'lenta', 'ch', 'cc', 'ow', 'news', 'vk', 'upd', 'the', 'id', 'который', 'это'])\n",
    "stop_words = set(stop_words)"
   ]
  },
  {
   "cell_type": "code",
   "execution_count": 86,
   "metadata": {},
   "outputs": [],
   "source": [
    "def clean(text):\n",
    "    # Remove garbage from lines\n",
    "    text = re.sub(r'\\n', ' ', text, flags=re.IGNORECASE)\n",
    "    text = re.sub(r'•', '', text, flags=re.IGNORECASE)\n",
    "    return text\n",
    "\n",
    "\n",
    "def doc_to_words(doc, stop_words, morph):\n",
    "    # remove stop words and punctuation\n",
    "    words = [w for w in gensim.utils.simple_preprocess(str(doc), deacc=True) if w not in stop_words]\n",
    "    \n",
    "    # make lemmatization\n",
    "    words = [morph.parse(w)[0].normal_form for w in words]\n",
    "    \n",
    "    return words"
   ]
  },
  {
   "cell_type": "code",
   "execution_count": 87,
   "metadata": {},
   "outputs": [],
   "source": [
    "# Clean and split by words\n",
    "\n",
    "data = df.text.values.tolist()\n",
    "data = [clean(t) for t in data]\n",
    "data_words = [doc_to_words(row, stop_words, morph) for row in data]"
   ]
  },
  {
   "cell_type": "code",
   "execution_count": 88,
   "metadata": {
    "scrolled": false
   },
   "outputs": [
    {
     "name": "stdout",
     "output_type": "stream",
     "text": [
      "Список «ремейки фильмов с женщинами в главной роли» может пополниться ещё одной картиной.  На этот раз в лучших традициях последних лет планируют переснять ту самую «Маску» с Джимом Кэрри  http://news.lenta.ch/Ow21\n",
      "['список', 'ремеик', 'фильм', 'женщина', 'главной', 'роль', 'пополниться', 'одной', 'картиной', 'хороший', 'традиция', 'последний', 'год', 'планировать', 'переснять', 'тот', 'самый', 'маска', 'джим', 'кэрри']\n"
     ]
    }
   ],
   "source": [
    "print(data[0])\n",
    "print(data_words[0])"
   ]
  },
  {
   "cell_type": "markdown",
   "metadata": {},
   "source": [
    "### 3. Построение моделей\n",
    "\n",
    "* Найдем биграммы слов в каждом тексте\n",
    "* Занумеруем биграммы (добавив им id) и посчитаем сколько раз то или иное слово встречалось внутри каждого текста (сделаем корпус)\n",
    "* Попробуем разбить тексты на несколько тематик: построим зависимость когерентности от количества тематик; оптимальное число отобразим\n",
    "* "
   ]
  },
  {
   "cell_type": "code",
   "execution_count": 89,
   "metadata": {},
   "outputs": [],
   "source": [
    "# Build the bigram and trigram models\n",
    "bigram = gensim.models.Phrases(data_words, min_count=5, threshold=1, delimiter=b' ') # higher threshold fewer phrases.\n",
    "\n",
    "bigram_mod = gensim.models.phrases.Phraser(bigram)    \n",
    "data_words_bigrams = [bigram_mod[w] for w in data_words]"
   ]
  },
  {
   "cell_type": "code",
   "execution_count": 90,
   "metadata": {},
   "outputs": [
    {
     "data": {
      "text/plain": [
       "[['список',\n",
       "  'ремеик',\n",
       "  'фильм',\n",
       "  'женщина',\n",
       "  'главной',\n",
       "  'роль',\n",
       "  'пополниться',\n",
       "  'одной',\n",
       "  'картиной',\n",
       "  'хороший',\n",
       "  'традиция',\n",
       "  'последний год',\n",
       "  'планировать',\n",
       "  'переснять',\n",
       "  'тот',\n",
       "  'самый',\n",
       "  'маска',\n",
       "  'джим',\n",
       "  'кэрри'],\n",
       " ['россия',\n",
       "  'планироваться',\n",
       "  'свой',\n",
       "  'википедия',\n",
       "  'правительство',\n",
       "  'разработать',\n",
       "  'законопроект',\n",
       "  'выделяющие',\n",
       "  'деньга',\n",
       "  'бюджет'],\n",
       " ['детство',\n",
       "  'двигать',\n",
       "  'мышкой',\n",
       "  'экран',\n",
       "  'пока',\n",
       "  'загружаться',\n",
       "  'устанавливаться',\n",
       "  'мол',\n",
       "  'комп',\n",
       "  'быстрый',\n",
       "  'работать',\n",
       "  'правый',\n",
       "  'недавно',\n",
       "  'выясниться',\n",
       "  'windows',\n",
       "  'система',\n",
       "  'многозадачность',\n",
       "  'выполнять',\n",
       "  'задача',\n",
       "  'ввод',\n",
       "  'вывод',\n",
       "  'движение',\n",
       "  'мышка',\n",
       "  'печать',\n",
       "  'клавиатура',\n",
       "  'сразу',\n",
       "  'фоновый',\n",
       "  'задача',\n",
       "  'одной',\n",
       "  'той',\n",
       "  'скорость',\n",
       "  'система',\n",
       "  'работать',\n",
       "  'циклично',\n",
       "  'дожидаться',\n",
       "  'буфер',\n",
       "  'набраться',\n",
       "  'нужный',\n",
       "  'количество',\n",
       "  'задача',\n",
       "  'затем',\n",
       "  'выполнять',\n",
       "  'цикл',\n",
       "  'повторяться',\n",
       "  'получаться',\n",
       "  'запуск',\n",
       "  'фоновой',\n",
       "  'задача',\n",
       "  'установка',\n",
       "  'загрузка',\n",
       "  'пользователь',\n",
       "  'совершать',\n",
       "  'приоритетный',\n",
       "  'задача',\n",
       "  'ввод',\n",
       "  'вывод',\n",
       "  'двигать',\n",
       "  'мышкой',\n",
       "  'буфер',\n",
       "  'наполняться',\n",
       "  'сразу',\n",
       "  'счёт',\n",
       "  'установка',\n",
       "  'загрузка',\n",
       "  'выполняться',\n",
       "  'задержкой',\n",
       "  'практически',\n",
       "  'моментально',\n",
       "  'благодаря',\n",
       "  'этой',\n",
       "  'фич',\n",
       "  'время',\n",
       "  'установка',\n",
       "  'крупной',\n",
       "  'программа',\n",
       "  'сокращаться',\n",
       "  'час',\n",
       "  'минута',\n",
       "  'также',\n",
       "  'значительно',\n",
       "  'ускоряться',\n",
       "  'дефрагментация',\n",
       "  'диск',\n",
       "  'сожаление',\n",
       "  'лаифкаха',\n",
       "  'работать',\n",
       "  'win',\n",
       "  'поэтому',\n",
       "  'сеичас',\n",
       "  'движение',\n",
       "  'мышка',\n",
       "  'ускорить',\n",
       "  'жаль',\n",
       "  'ows']]"
      ]
     },
     "execution_count": 90,
     "metadata": {},
     "output_type": "execute_result"
    }
   ],
   "source": [
    "data_words_bigrams[:3]"
   ]
  },
  {
   "cell_type": "code",
   "execution_count": 91,
   "metadata": {},
   "outputs": [],
   "source": [
    "id2word = corpora.Dictionary(data_words_bigrams) # token to id (add ids to tokens)\n",
    "corpus = [id2word.doc2bow(text) for text in data_words_bigrams] # create (token_id, token_count): 2-tuples"
   ]
  },
  {
   "cell_type": "code",
   "execution_count": 92,
   "metadata": {},
   "outputs": [
    {
     "name": "stdout",
     "output_type": "stream",
     "text": [
      "[(6, 1), (29, 1), (30, 1), (31, 1), (32, 1), (33, 2), (34, 1), (35, 2), (36, 1), (37, 2), (38, 2), (39, 1), (40, 1), (41, 2), (42, 2), (43, 1), (44, 1), (45, 1), (46, 1), (47, 1), (48, 1), (49, 2), (50, 5), (51, 1), (52, 1), (53, 1), (54, 1), (55, 1), (56, 1), (57, 1), (58, 1), (59, 1), (60, 1), (61, 1), (62, 1), (63, 1), (64, 2), (65, 2), (66, 1), (67, 1), (68, 1), (69, 1), (70, 1), (71, 1), (72, 1), (73, 1), (74, 1), (75, 1), (76, 1), (77, 1), (78, 1), (79, 1), (80, 3), (81, 1), (82, 2), (83, 1), (84, 1), (85, 1), (86, 1), (87, 2), (88, 1), (89, 1), (90, 1), (91, 1), (92, 1), (93, 1), (94, 3), (95, 1), (96, 1), (97, 1), (98, 1), (99, 1), (100, 1), (101, 1), (102, 1)]\n",
      "совершать\n"
     ]
    }
   ],
   "source": [
    "print(corpus[2])\n",
    "print(id2word[84])"
   ]
  },
  {
   "cell_type": "code",
   "execution_count": 93,
   "metadata": {},
   "outputs": [
    {
     "data": {
      "text/plain": [
       "2"
      ]
     },
     "execution_count": 93,
     "metadata": {},
     "output_type": "execute_result"
    }
   ],
   "source": [
    "data[2].count('система')"
   ]
  },
  {
   "cell_type": "code",
   "execution_count": 94,
   "metadata": {},
   "outputs": [],
   "source": [
    "def compute_coherence_values(dictionary, corpus, texts, limit, start=2, step=3):\n",
    "\n",
    "    coherence_values = []\n",
    "    model_list = []\n",
    "    for num_topics in range(start, limit, step):\n",
    "        model = gensim.models.ldamodel.LdaModel(\n",
    "            corpus=corpus,\n",
    "            id2word=dictionary,\n",
    "            num_topics=num_topics, \n",
    "            random_state=100,\n",
    "            update_every=1,\n",
    "            chunksize=100,\n",
    "            passes=10,\n",
    "            alpha='auto',\n",
    "            per_word_topics=True)\n",
    "        model_list.append(model)\n",
    "        coherencemodel = CoherenceModel(model=model, texts=texts, dictionary=dictionary, coherence='c_v')\n",
    "        coherence_values.append(coherencemodel.get_coherence())\n",
    "\n",
    "    return model_list, coherence_values"
   ]
  },
  {
   "cell_type": "code",
   "execution_count": 95,
   "metadata": {},
   "outputs": [],
   "source": [
    "limit=25; start=2; step=6;\n",
    "model_list, coherence_values = compute_coherence_values(dictionary=id2word, \n",
    "                                                        corpus=corpus, \n",
    "                                                        texts=data_words_bigrams, \n",
    "                                                        start=start, \n",
    "                                                        limit=limit, \n",
    "                                                        step=step)"
   ]
  },
  {
   "cell_type": "code",
   "execution_count": 96,
   "metadata": {},
   "outputs": [
    {
     "data": {
      "image/png": "[encoded data removed]",
      "text/plain": [
       "<Figure size 1080x360 with 1 Axes>"
      ]
     },
     "metadata": {
      "needs_background": "light"
     },
     "output_type": "display_data"
    }
   ],
   "source": [
    "x = range(start, limit, step)\n",
    "plt.figure(figsize=(15,5))\n",
    "plt.plot(x, coherence_values)\n",
    "plt.xlabel(\"Num Topics\")\n",
    "plt.ylabel(\"Coherence score\")\n",
    "plt.legend((\"coherence_values\"), loc='best')\n",
    "plt.show()"
   ]
  },
  {
   "cell_type": "markdown",
   "metadata": {},
   "source": [
    "Судя по графику, оптимальным числом будет 8 тем - единственный локоть. Попробуем такое разбиение"
   ]
  },
  {
   "cell_type": "code",
   "execution_count": 97,
   "metadata": {
    "scrolled": true
   },
   "outputs": [],
   "source": [
    "lda_model = gensim.models.ldamodel.LdaModel(\n",
    "        corpus=corpus,\n",
    "        id2word=id2word,\n",
    "        num_topics=8, \n",
    "        random_state=100,\n",
    "        update_every=1,\n",
    "        chunksize=500,\n",
    "        passes=50,\n",
    "        alpha='auto');\n"
   ]
  },
  {
   "cell_type": "code",
   "execution_count": 98,
   "metadata": {
    "scrolled": false
   },
   "outputs": [
    {
     "name": "stderr",
     "output_type": "stream",
     "text": [
      "/Users/mary/anaconda3/lib/python3.7/site-packages/pyLDAvis/_prepare.py:257: FutureWarning: Sorting because non-concatenation axis is not aligned. A future version\n",
      "of pandas will change to not sort by default.\n",
      "\n",
      "To accept the future behavior, pass 'sort=False'.\n",
      "\n",
      "To retain the current behavior and silence the warning, pass 'sort=True'.\n",
      "\n",
      "  return pd.concat([default_term_info] + list(topic_dfs))\n"
     ]
    },
    {
     "data": {
      "text/html": [
       "\n",
       "<link rel=\"stylesheet\" type=\"text/css\" href=\"https://cdn.rawgit.com/bmabey/pyLDAvis/files/ldavis.v1.0.0.css\">\n",
       "\n",
       "\n",
       "<div id=\"ldavis_el1667349467963601758993069\"></div>\n",
       "<script type=\"text/javascript\">\n",
       "\n",
       "var ldavis_el1667349467963601758993069_data = {\"mdsDat\": {\"x\": [-0.3653851490964402, -0.031459689104486446, -0.006675845871367043, 0.10025350517844356, 0.08670619773566116, 0.06456784566925955, 0.08041355318957089, 0.07157958229935808], \"y\": [0.012316553779125102, -0.24007094566320497, 0.24503440458477072, -0.015381050083827423, -0.004857831152138497, -0.020410613889620136, 0.021716199398440918, 0.0016532830264544755], \"topics\": [1, 2, 3, 4, 5, 6, 7, 8], \"cluster\": [1, 1, 1, 1, 1, 1, 1, 1], \"Freq\": [37.07682800292969, 14.520186424255371, 13.430569648742676, 9.395811080932617, 8.63219165802002, 6.793750286102295, 6.128387451171875, 4.022282123565674]}, \"tinfo\": {\"Category\": [\"Default\", \"Default\", \"Default\", \"Default\", \"Default\", \"Default\", \"Default\", \"Default\", \"Default\", \"Default\", \"Default\", \"Default\", \"Default\", \"Default\", \"Default\", \"Default\", \"Default\", \"Default\", \"Default\", \"Default\", \"Default\", \"Default\", \"Default\", \"Default\", \"Default\", \"Default\", \"Default\", \"Default\", \"Default\", \"Default\", \"Topic1\", \"Topic1\", \"Topic1\", \"Topic1\", \"Topic1\", \"Topic1\", \"Topic1\", \"Topic1\", \"Topic1\", \"Topic1\", \"Topic1\", \"Topic1\", \"Topic1\", \"Topic1\", \"Topic1\", \"Topic1\", \"Topic1\", \"Topic1\", \"Topic1\", \"Topic1\", \"Topic1\", \"Topic1\", \"Topic1\", \"Topic1\", \"Topic1\", \"Topic1\", \"Topic1\", \"Topic1\", \"Topic1\", \"Topic1\", \"Topic1\", \"Topic1\", \"Topic1\", \"Topic1\", \"Topic1\", \"Topic1\", \"Topic1\", \"Topic1\", \"Topic1\", \"Topic1\", \"Topic1\", \"Topic1\", \"Topic1\", \"Topic1\", \"Topic1\", \"Topic2\", \"Topic2\", \"Topic2\", \"Topic2\", \"Topic2\", \"Topic2\", \"Topic2\", \"Topic2\", \"Topic2\", \"Topic2\", \"Topic2\", \"Topic2\", \"Topic2\", \"Topic2\", \"Topic2\", \"Topic2\", \"Topic2\", \"Topic2\", \"Topic2\", \"Topic2\", \"Topic2\", \"Topic2\", \"Topic2\", \"Topic2\", \"Topic2\", \"Topic2\", \"Topic2\", \"Topic2\", \"Topic2\", \"Topic2\", \"Topic2\", \"Topic2\", \"Topic2\", \"Topic2\", \"Topic2\", \"Topic2\", \"Topic2\", \"Topic2\", \"Topic2\", \"Topic2\", \"Topic2\", \"Topic2\", \"Topic2\", \"Topic2\", \"Topic2\", \"Topic3\", \"Topic3\", \"Topic3\", \"Topic3\", \"Topic3\", \"Topic3\", \"Topic3\", \"Topic3\", \"Topic3\", \"Topic3\", \"Topic3\", \"Topic3\", \"Topic3\", \"Topic3\", \"Topic3\", \"Topic3\", \"Topic3\", \"Topic3\", \"Topic3\", \"Topic3\", \"Topic3\", \"Topic3\", \"Topic3\", \"Topic3\", \"Topic3\", \"Topic3\", \"Topic3\", \"Topic3\", \"Topic3\", \"Topic3\", \"Topic3\", \"Topic3\", \"Topic3\", \"Topic3\", \"Topic3\", \"Topic3\", \"Topic3\", \"Topic3\", \"Topic3\", \"Topic3\", \"Topic3\", \"Topic3\", \"Topic3\", \"Topic3\", \"Topic3\", \"Topic4\", \"Topic4\", \"Topic4\", \"Topic4\", \"Topic4\", \"Topic4\", \"Topic4\", \"Topic4\", \"Topic4\", \"Topic4\", \"Topic4\", \"Topic4\", \"Topic4\", \"Topic4\", \"Topic4\", \"Topic4\", \"Topic4\", \"Topic4\", \"Topic4\", \"Topic4\", \"Topic4\", \"Topic4\", \"Topic4\", \"Topic4\", \"Topic4\", \"Topic4\", \"Topic4\", \"Topic4\", \"Topic4\", \"Topic4\", \"Topic4\", \"Topic4\", \"Topic4\", \"Topic4\", \"Topic4\", \"Topic4\", \"Topic4\", \"Topic4\", \"Topic4\", \"Topic4\", \"Topic4\", \"Topic5\", \"Topic5\", \"Topic5\", \"Topic5\", \"Topic5\", \"Topic5\", \"Topic5\", \"Topic5\", \"Topic5\", \"Topic5\", \"Topic5\", \"Topic5\", \"Topic5\", \"Topic5\", \"Topic5\", \"Topic5\", \"Topic5\", \"Topic5\", \"Topic5\", \"Topic5\", \"Topic5\", \"Topic5\", \"Topic5\", \"Topic5\", \"Topic5\", \"Topic5\", \"Topic5\", \"Topic5\", \"Topic5\", \"Topic5\", \"Topic5\", \"Topic5\", \"Topic5\", \"Topic5\", \"Topic5\", \"Topic5\", \"Topic5\", \"Topic5\", \"Topic5\", \"Topic5\", \"Topic5\", \"Topic5\", \"Topic6\", \"Topic6\", \"Topic6\", \"Topic6\", \"Topic6\", \"Topic6\", \"Topic6\", \"Topic6\", \"Topic6\", \"Topic6\", \"Topic6\", \"Topic6\", \"Topic6\", \"Topic6\", \"Topic6\", \"Topic6\", \"Topic6\", \"Topic6\", \"Topic6\", \"Topic6\", \"Topic6\", \"Topic6\", \"Topic6\", \"Topic6\", \"Topic6\", \"Topic6\", \"Topic6\", \"Topic6\", \"Topic6\", \"Topic6\", \"Topic6\", \"Topic6\", \"Topic6\", \"Topic6\", \"Topic6\", \"Topic6\", \"Topic6\", \"Topic7\", \"Topic7\", \"Topic7\", \"Topic7\", \"Topic7\", \"Topic7\", \"Topic7\", \"Topic7\", \"Topic7\", \"Topic7\", \"Topic7\", \"Topic7\", \"Topic7\", \"Topic7\", \"Topic7\", \"Topic7\", \"Topic7\", \"Topic7\", \"Topic7\", \"Topic7\", \"Topic7\", \"Topic7\", \"Topic7\", \"Topic7\", \"Topic7\", \"Topic7\", \"Topic7\", \"Topic7\", \"Topic7\", \"Topic7\", \"Topic7\", \"Topic7\", \"Topic7\", \"Topic7\", \"Topic7\", \"Topic7\", \"Topic7\", \"Topic7\", \"Topic7\", \"Topic7\", \"Topic8\", \"Topic8\", \"Topic8\", \"Topic8\", \"Topic8\", \"Topic8\", \"Topic8\", \"Topic8\", \"Topic8\", \"Topic8\", \"Topic8\", \"Topic8\", \"Topic8\", \"Topic8\", \"Topic8\", \"Topic8\", \"Topic8\", \"Topic8\", \"Topic8\", \"Topic8\", \"Topic8\", \"Topic8\", \"Topic8\", \"Topic8\", \"Topic8\", \"Topic8\", \"Topic8\", \"Topic8\", \"Topic8\", \"Topic8\", \"Topic8\", \"Topic8\", \"Topic8\", \"Topic8\", \"Topic8\"], \"Freq\": [451.0, 395.0, 392.0, 241.0, 331.0, 102.0, 101.0, 78.0, 87.0, 244.0, 71.0, 169.0, 165.0, 70.0, 170.0, 200.0, 389.0, 74.0, 151.0, 172.0, 149.0, 141.0, 123.0, 59.0, 128.0, 85.0, 114.0, 55.0, 116.0, 64.0, 241.1377410888672, 168.35769653320312, 164.6020965576172, 150.60585021972656, 141.27139282226562, 148.401123046875, 127.3713607788086, 116.11534881591797, 110.4827880859375, 108.26766967773438, 103.66482543945312, 102.65828704833984, 101.21703338623047, 98.48680877685547, 95.24845886230469, 95.13420867919922, 93.64335632324219, 93.40386199951172, 91.545654296875, 86.28373718261719, 82.08445739746094, 78.84356689453125, 78.51976013183594, 76.99552917480469, 74.00504302978516, 72.3460464477539, 71.67496490478516, 70.36724853515625, 68.39555358886719, 168.68194580078125, 365.3358154296875, 367.4206237792969, 190.72744750976562, 165.04922485351562, 287.3428955078125, 328.56182861328125, 369.6263732910156, 108.63318634033203, 123.41545867919922, 119.9939956665039, 128.0507049560547, 184.3783721923828, 119.1574935913086, 97.52073669433594, 97.02591705322266, 101.60102844238281, 46.64600372314453, 39.037654876708984, 36.45863342285156, 32.276512145996094, 32.09861373901367, 31.569421768188477, 30.407642364501953, 34.28959655761719, 29.85286521911621, 29.22475814819336, 28.80589485168457, 28.55120277404785, 28.367107391357422, 28.1187686920166, 27.276199340820312, 27.063268661499023, 25.960052490234375, 25.571359634399414, 25.18583869934082, 25.178062438964844, 25.122480392456055, 24.979543685913086, 24.45223617553711, 23.504825592041016, 22.269140243530273, 21.842159271240234, 21.715444564819336, 21.35129737854004, 21.282638549804688, 36.08704376220703, 29.997777938842773, 28.12156867980957, 42.75621032714844, 28.64181137084961, 41.22025680541992, 51.932491302490234, 35.8722038269043, 81.27747344970703, 60.004146575927734, 40.69779586791992, 41.27325439453125, 37.478118896484375, 28.28759765625, 27.947275161743164, 86.99740600585938, 58.82090377807617, 54.71576690673828, 42.29130172729492, 40.87133026123047, 38.765892028808594, 37.468727111816406, 35.4833869934082, 34.286991119384766, 29.696155548095703, 28.868593215942383, 27.210079193115234, 26.809968948364258, 26.128807067871094, 25.63055992126465, 25.518617630004883, 24.561481475830078, 24.080310821533203, 23.386526107788086, 23.07732391357422, 22.863853454589844, 22.573402404785156, 22.272558212280273, 22.184091567993164, 22.08821678161621, 21.698060989379883, 21.52376937866211, 21.23223114013672, 21.019344329833984, 20.925344467163086, 56.5897331237793, 26.436595916748047, 30.94551658630371, 45.001834869384766, 33.376869201660156, 53.75591278076172, 29.05405616760254, 25.4276180267334, 28.880157470703125, 43.83089065551758, 25.390810012817383, 27.29180908203125, 27.038776397705078, 27.479028701782227, 26.261714935302734, 77.47916412353516, 70.87789916992188, 28.162334442138672, 27.039472579956055, 25.615903854370117, 25.482587814331055, 25.389070510864258, 24.083486557006836, 21.862041473388672, 21.337890625, 20.423826217651367, 19.475461959838867, 18.78175926208496, 18.337398529052734, 16.901269912719727, 16.632511138916016, 16.548851013183594, 16.053878784179688, 15.788118362426758, 15.419215202331543, 15.20082950592041, 14.896539688110352, 14.782654762268066, 14.785103797912598, 14.761038780212402, 13.84312915802002, 13.520872116088867, 13.330916404724121, 12.994341850280762, 12.890034675598145, 83.68331146240234, 28.36328887939453, 33.24846649169922, 19.668506622314453, 31.73908805847168, 20.79744529724121, 21.309791564941406, 21.160308837890625, 21.79990005493164, 26.599456787109375, 16.825170516967773, 31.091716766357422, 27.604467391967773, 26.405155181884766, 21.638917922973633, 19.986635208129883, 19.76748275756836, 19.384063720703125, 19.36573028564453, 19.272003173828125, 18.088642120361328, 17.8609619140625, 17.271514892578125, 17.02719497680664, 15.330404281616211, 15.143725395202637, 14.642109870910645, 14.4031982421875, 14.2801513671875, 14.19428825378418, 14.18718433380127, 14.126879692077637, 14.088638305664062, 13.863455772399902, 13.605592727661133, 13.588244438171387, 13.331514358520508, 13.093365669250488, 12.810256958007812, 12.769652366638184, 12.616118431091309, 21.73358154296875, 24.43968391418457, 27.744102478027344, 22.522010803222656, 17.13702392578125, 17.573246002197266, 17.9359073638916, 16.019712448120117, 21.167762756347656, 17.61838150024414, 18.704072952270508, 15.717198371887207, 30.220932006835938, 21.72618865966797, 19.27858543395996, 17.722415924072266, 17.111555099487305, 15.974027633666992, 15.241193771362305, 15.134172439575195, 14.065530776977539, 13.96447467803955, 13.691070556640625, 13.355395317077637, 13.339863777160645, 13.269700050354004, 12.939087867736816, 12.747405052185059, 12.685506820678711, 12.53757381439209, 12.058246612548828, 11.964654922485352, 11.964951515197754, 11.928439140319824, 11.845804214477539, 11.781676292419434, 11.755032539367676, 11.6786470413208, 11.623687744140625, 11.549482345581055, 11.394071578979492, 11.343482971191406, 23.84122657775879, 16.949609756469727, 20.503210067749023, 20.687862396240234, 14.434574127197266, 12.932839393615723, 12.12752914428711, 21.69239044189453, 20.09084129333496, 18.984764099121094, 18.313846588134766, 18.0636043548584, 16.479290008544922, 14.164311408996582, 13.930780410766602, 13.866740226745605, 13.484859466552734, 13.326515197753906, 12.969470024108887, 12.876575469970703, 12.882983207702637, 12.740175247192383, 12.69444465637207, 11.982366561889648, 11.677018165588379, 11.670516014099121, 11.415122985839844, 11.062189102172852, 10.942561149597168, 10.931495666503906, 10.828277587890625, 10.686532974243164, 10.683503150939941, 10.630823135375977, 10.630823135375977, 10.64053726196289, 10.412134170532227, 19.694721221923828, 47.6458625793457, 16.735031127929688, 21.324840545654297, 20.223304748535156, 28.727439880371094, 12.606833457946777, 13.681025505065918, 13.46591854095459, 11.438343048095703, 16.00668716430664, 14.63072395324707, 12.945402145385742, 12.741811752319336, 12.58053207397461, 12.509965896606445, 11.940681457519531, 11.824174880981445, 11.837156295776367, 11.493000984191895, 11.333724021911621, 10.920385360717773, 9.969927787780762, 9.776036262512207, 9.465165138244629, 9.193713188171387, 9.063760757446289, 8.601449012756348, 8.196462631225586, 8.169427871704102, 8.110154151916504, 8.070625305175781, 8.04311466217041, 8.02761459350586, 7.488707065582275, 7.313450813293457, 7.15798807144165, 7.122392654418945, 7.011995792388916, 6.747409343719482, 8.872162818908691, 7.696718215942383, 7.859346866607666, 8.25534725189209, 7.444484710693359], \"Term\": [\"\\u043a\\u043e\\u0442\\u043e\\u0440\\u044b\\u0439\", \"\\u044d\\u0442\\u043e \\u0447\\u0430\\u0441\", \"\\u0434\\u0440\\u0443\\u0433\\u043e\\u0439 \\u043d\\u043e\\u0432\\u043e\\u0441\\u0442\\u044c\", \"\\u0447\\u0435\\u043b\\u043e\\u0432\\u0435\\u043a\", \"\\u0440\\u043e\\u0441\\u0441\\u0438\\u044f\", \"\\u0440\\u0443\\u0431\\u043b\\u0435\\u0439\", \"\\u0433\\u0440\\u0443\\u043f\\u043f\\u0430\", \"\\u0442\\u0440\\u0430\\u0434\\u0438\\u0446\\u0438\\u043e\\u043d\\u043d\\u044b\\u0439 \\u0440\\u0430\\u0434\\u0438\\u043e\\u043b\\u0435\\u043d\\u0442\\u0430\\u0447\", \"\\u0444\\u0438\\u043b\\u044c\\u043c\", \"\\u0441\\u0432\\u043e\\u0439\", \"\\u0441\\u0430\\u043c\\u043e\\u043b\\u0451\\u0442\", \"\\u0433\\u043e\\u0440\\u043e\\u0434\", \"\\u0437\\u0430\\u044f\\u0432\\u0438\\u0442\\u044c\", \"\\u043c\\u0435\\u0441\\u0442\\u043e\", \"\\u043e\\u0434\\u0438\\u043d\", \"\\u0432\\u0440\\u0435\\u043c\\u044f\", \"\\u0433\\u043e\\u0434\", \"\\u0434\\u043e\\u043c\", \"\\u0441\\u0448\\u0430\", \"\\u043c\\u043e\\u0441\\u043a\\u0432\\u0430\", \"\\u0441\\u0442\\u0430\\u0442\\u044c\", \"\\u0432\\u043b\\u0430\\u0441\\u0442\\u044c\", \"\\u0440\\u043e\\u0441\\u0441\\u0438\\u044f\\u043d\\u0438\\u043d\", \"\\u0445\\u043e\\u0440\\u043e\\u0448\\u0438\\u0439\", \"\\u0434\\u0435\\u043b\\u043e\", \"\\u0438\\u043d\\u0442\\u0435\\u0440\\u043d\\u0435\\u0442\", \"\\u0442\\u0430\\u043a\\u043e\\u0439\", \"\\u0437\\u0430\\u043a\\u043e\\u043d\\u043e\\u043f\\u0440\\u043e\\u0435\\u043a\\u0442\", \"\\u0448\\u043a\\u043e\\u043b\\u0430\", \"\\u043b\\u0435\\u043d\\u0442\\u0430\\u0447\", \"\\u0447\\u0435\\u043b\\u043e\\u0432\\u0435\\u043a\", \"\\u0433\\u043e\\u0440\\u043e\\u0434\", \"\\u0437\\u0430\\u044f\\u0432\\u0438\\u0442\\u044c\", \"\\u0441\\u0448\\u0430\", \"\\u0432\\u043b\\u0430\\u0441\\u0442\\u044c\", \"\\u0441\\u0442\\u0430\\u0442\\u044c\", \"\\u0434\\u0435\\u043b\\u043e\", \"\\u0448\\u043a\\u043e\\u043b\\u0430\", \"\\u043f\\u0440\\u0435\\u0437\\u0438\\u0434\\u0435\\u043d\\u0442\", \"\\u0440\\u0430\\u0431\\u043e\\u0442\\u0430\", \"\\u0437\\u0430\\u0434\\u0435\\u0440\\u0436\\u0430\\u0442\\u044c\", \"\\u0441\\u043c\\u0438\", \"\\u043d\\u0435\\u0441\\u043a\\u043e\\u043b\\u044c\\u043a\\u043e\", \"\\u043e\\u0431\\u043b\\u0430\\u0441\\u0442\\u044c\", \"\\u0441\\u043b\\u043e\\u0432\\u043e\", \"\\u0433\\u043b\\u0430\\u0432\\u0430\", \"\\u0434\\u0430\\u0442\\u044c\", \"\\u0440\\u0430\\u0441\\u0441\\u043a\\u0430\\u0437\\u0430\\u0442\\u044c\", \"\\u043d\\u0430\\u0447\\u0430\\u0442\\u044c\", \"\\u043c\\u0443\\u0436\\u0447\\u0438\\u043d\\u0430\", \"\\u0434\\u0432\\u0430\", \"\\u0441\\u043e\\u0442\\u0440\\u0443\\u0434\\u043d\\u0438\\u043a\", \"\\u043d\\u043e\\u0432\\u044b\\u0439\", \"\\u0436\\u0435\\u043d\\u0449\\u0438\\u043d\\u0430\", \"\\u0440\\u0435\\u0431\\u0451\\u043d\\u043e\\u043a\", \"\\u0440\\u0435\\u0437\\u0443\\u043b\\u044c\\u0442\\u0430\\u0442\", \"\\u0437\\u0434\\u0430\\u043d\\u0438\\u0435\", \"\\u043f\\u0435\\u0442\\u0435\\u0440\\u0431\\u0443\\u0440\\u0433\", \"\\u043f\\u043e\\u0436\\u0430\\u0440\", \"\\u043e\\u0434\\u0438\\u043d\", \"\\u0434\\u0440\\u0443\\u0433\\u043e\\u0439 \\u043d\\u043e\\u0432\\u043e\\u0441\\u0442\\u044c\", \"\\u044d\\u0442\\u043e \\u0447\\u0430\\u0441\", \"\\u0432\\u0440\\u0435\\u043c\\u044f\", \"\\u043c\\u043e\\u0441\\u043a\\u0432\\u0430\", \"\\u0440\\u043e\\u0441\\u0441\\u0438\\u044f\", \"\\u0433\\u043e\\u0434\", \"\\u043a\\u043e\\u0442\\u043e\\u0440\\u044b\\u0439\", \"\\u043a\\u043e\\u043c\\u043f\\u0430\\u043d\\u0438\\u044f\", \"\\u0440\\u043e\\u0441\\u0441\\u0438\\u0438\\u0441\\u043a\\u0438\\u0439\", \"\\u0441\\u0435\\u0433\\u043e\\u0434\\u043d\\u044f\", \"\\u043f\\u0443\\u0442\\u0438\\u043d\", \"\\u0441\\u0432\\u043e\\u0439\", \"\\u0441\\u0442\\u0440\\u0430\\u043d\\u0430\", \"\\u0441\\u043e\\u043e\\u0431\\u0449\\u0438\\u0442\\u044c\", \"\\u043f\\u043e\\u043b\\u0438\\u0446\\u0438\\u044f\", \"\\u0440\\u0443\\u0431\\u043b\\u0435\\u0439\", \"\\u0447\\u0438\\u043d\\u043e\\u0432\\u043d\\u0438\\u043a\", \"\\u043f\\u043e\\u043a\\u0430\\u0437\\u0430\\u0442\\u044c\", \"\\u043b\\u0438\\u0446\\u043e\", \"\\u0432\\u043a\\u043e\\u043d\\u0442\\u0430\\u043a\\u0442\\u0435\", \"\\u043f\\u043e\\u0447\\u0435\\u043c\\u0443\", \"\\u043f\\u0440\\u043e\\u0434\\u0430\\u0436\\u0430\", \"\\u043b\\u043e\\u0432\\u0438\\u0442\\u044c\", \"\\u0441\\u043b\\u0443\\u0447\\u0430\\u0439\", \"\\u0441\\u043a\\u0430\\u0437\\u0430\\u0442\\u044c\", \"\\u043a\\u043d\\u0438\\u0433\\u0430\", \"\\u0432\\u043e\\u043e\\u0431\\u0449\\u0435\", \"\\u044d\\u0442\\u043e\\u0442\", \"\\u0432\\u0442\\u043e\\u0440\\u043e\\u0439\", \"\\u043f\\u043e\\u0434\\u0434\\u0435\\u0440\\u0436\\u0430\\u0442\\u044c\", \"\\u0434\\u0435\\u0440\\u0436\\u0430\\u0442\\u044c\", \"\\u043a\\u0430\\u0440\\u0442\\u0430\", \"\\u043f\\u043e\\u043b\\u044c\\u0437\\u043e\\u0432\\u0430\\u0442\\u0435\\u043b\\u044c\", \"\\u043f\\u043e\\u043b\\u0443\\u0447\\u0430\\u0442\\u044c\", \"\\u0442\\u0440\\u0430\\u043d\\u0441\\u043b\\u044f\\u0446\\u0438\\u044f\", \"\\u0443\\u0441\\u0442\\u0430\\u043d\\u043e\\u0432\\u0438\\u0442\\u044c\", \"\\u0441\\u043a\\u043e\\u043b\\u044c\\u043a\\u043e\", \"\\u0443\\u0434\\u0430\\u043b\\u0438\\u0442\\u044c\", \"\\u0438\\u0434\\u0435\\u044f\", \"\\u043e\\u0448\\u0442\\u0440\\u0430\\u0444\\u043e\\u0432\\u0430\\u0442\\u044c\", \"\\u043e\\u043f\\u0440\\u043e\\u0441\", \"\\u0437\\u0430\\u044f\\u0432\\u043b\\u0435\\u043d\\u0438\\u0435\", \"\\u043f\\u0435\\u043d\\u0441\\u0438\\u043e\\u043d\\u0435\\u0440\", \"\\u043f\\u0440\\u0430\\u0432\\u0434\\u0430\", \"\\u0440\\u0435\\u043a\\u043b\\u0430\\u043c\\u0430\", \"\\u0430\\u043f\\u0440\\u0435\\u043b\\u044c\", \"\\u0441\\u043e\\u0446\\u0441\\u0435\\u0442\\u044c\", \"\\u0441\\u0442\\u0443\\u0434\\u0435\\u043d\\u0442\", \"\\u043b\\u0435\\u043d\\u0442\\u0430\\u0447\", \"\\u043f\\u043e\\u043f\\u0440\\u043e\\u0441\\u0438\\u0442\\u044c\", \"\\u043f\\u043e\\u0447\\u0438\\u0442\\u0430\\u0438\\u0442\\u044c\", \"\\u0442\\u0430\\u043a\\u043e\\u0439\", \"\\u043f\\u043e\\u0441\\u0442\", \"\\u043a\\u043e\\u0442\\u043e\\u0440\\u044b\\u0439\", \"\\u0441\\u0432\\u043e\\u0439\", \"\\u043c\\u043e\\u0447\\u044c\", \"\\u0441\\u0430\\u043c\\u044b\\u0439\", \"\\u0438\\u0441\\u0442\\u043e\\u0440\\u0438\\u044f\", \"club\", \"\\u0438\\u043d\\u0442\\u0435\\u0440\\u043d\\u0435\\u0442\", \"\\u0444\\u0438\\u043b\\u044c\\u043c\", \"\\u0445\\u043e\\u0440\\u043e\\u0448\\u0438\\u0439\", \"\\u0437\\u0430\\u043a\\u043e\\u043d\\u043e\\u043f\\u0440\\u043e\\u0435\\u043a\\u0442\", \"\\u043b\\u0443\\u0447\\u0448\\u0438\\u0435\", \"\\u043d\\u043e\\u0432\\u044b\\u044f\", \"\\u043a\\u043e\\u043d\\u0446\\u0435\\u0440\\u0442\", \"\\u0433\\u043e\\u0441\\u0434\\u0443\\u043c\\u0430\", \"\\u0433\\u043b\\u0430\\u0432\\u043d\\u044b\\u0439\", \"\\u0441\\u0442\\u0440\\u043e\\u0438\\u0442\\u0435\\u043b\\u044c\\u0441\\u0442\\u0432\\u043e\", \"\\u043f\\u0440\\u0438\\u043d\\u044f\\u0442\\u044c\", \"\\u0432\\u0432\\u0435\\u0441\\u0442\\u0438\", \"\\u0440\\u0435\\u0448\\u0435\\u043d\\u0438\\u0435\", \"\\u0441\\u043f\\u0438\\u0441\\u043e\\u043a\", \"\\u0440\\u0430\\u0437\\u0432\\u0438\\u0442\\u0438\\u0435\", \"\\u043e\\u0441\\u043a\\u0430\\u0440\", \"\\u043d\\u0430\\u0441\\u0435\\u043b\\u0435\\u043d\\u0438\\u0435\", \"\\u043a\\u0430\\u0440\\u0442\\u0438\\u043d\\u0430\", \"\\u0441\\u043d\\u0435\\u0433\", \"\\u043f\\u0440\\u0435\\u043c\\u0438\\u044f\", \"\\u0440\\u043e\\u043b\\u044c\", \"\\u0440\\u0435\\u0436\\u0438\\u0441\\u0441\\u0451\\u0440\", \"\\u0434\\u043e\\u043b\\u0433\", \"\\u0437\\u0430\\u043f\\u0440\\u0435\\u0442\", \"\\u0441\\u043e\\u0431\\u0430\\u043a\\u0430\", \"\\u043a\\u0440\\u044b\\u043c\", \"\\u0435\\u0432\\u0440\\u043e\\u043f\\u0430\", \"\\u043f\\u043e\\u0431\\u0435\\u0434\\u0430\", \"\\u043b\\u0435\\u0432\\u0430\\u0434\\u0430 \\u0446\\u0435\\u043d\\u0442\\u0440\", \"\\u0445\\u0440\\u0430\\u043c\", \"google\", \"\\u0438\\u043d\\u0442\\u0435\\u0440\\u043d\\u0435\\u0442\", \"\\u0432\\u043f\\u0435\\u0440\\u0432\\u044b\\u0435\", \"\\u0444\\u0435\\u0432\\u0440\\u0430\\u043b\\u044c\", \"\\u0436\\u0438\\u0442\\u0435\\u043b\\u044c\", \"\\u0440\\u0435\\u0433\\u0438\\u043e\\u043d\", \"\\u0440\\u043e\\u0441\\u0441\\u0438\\u044f\\u043d\\u0438\\u043d\", \"\\u043f\\u043b\\u0430\\u043d\\u0438\\u0440\\u043e\\u0432\\u0430\\u0442\\u044c\", \"\\u0430\\u043b\\u0435\\u043a\\u0441\\u0430\\u043d\\u0434\\u0440\", \"\\u0432\\u043e\\u043f\\u0440\\u043e\\u0441\", \"\\u0440\\u043e\\u0441\\u0441\\u0438\\u044f\", \"\\u0441\\u043e\\u0437\\u0434\\u0430\\u0442\\u044c\", \"\\u0435\\u043a\\u0430\\u0442\\u0435\\u0440\\u0438\\u043d\\u0431\\u0443\\u0440\\u0433\", \"\\u0437\\u0430\\u043f\\u0440\\u0435\\u0442\\u0438\\u0442\\u044c\", \"\\u044d\\u0442\\u043e \\u0447\\u0430\\u0441\", \"\\u0434\\u0440\\u0443\\u0433\\u043e\\u0439 \\u043d\\u043e\\u0432\\u043e\\u0441\\u0442\\u044c\", \"\\u0442\\u0440\\u0430\\u0434\\u0438\\u0446\\u0438\\u043e\\u043d\\u043d\\u044b\\u0439 \\u0440\\u0430\\u0434\\u0438\\u043e\\u043b\\u0435\\u043d\\u0442\\u0430\\u0447\", \"\\u0441\\u0430\\u043c\\u043e\\u043b\\u0451\\u0442\", \"\\u0430\\u043b\\u044c\\u0431\\u043e\\u043c\", \"\\u043d\\u0430\\u0432\\u0430\\u043b\\u044c\\u043d\\u044b\\u0439\", \"\\u0440\\u043e\\u043a \\u0433\\u0440\\u0443\\u043f\\u043f\\u0430\", \"\\u0431\\u043e\\u0440\\u0442\", \"\\u043c\\u0438\\u043b\\u043b\\u0438\\u043e\\u043d\", \"\\u0441\\u043e\\u0431\\u0440\\u0430\\u0442\\u044c\", \"\\u0432\\u044b\\u0445\\u043e\\u0434\", \"\\u0431\\u0440\\u0438\\u0442\\u0430\\u043d\\u0441\\u043a\\u0438\\u0439\", \"\\u0438\\u043c\\u0435\\u043d\\u043d\\u043e\", \"\\u0444\\u043e\\u043d\\u0434\", \"\\u043f\\u0440\\u0435\\u0441\\u0442\\u0443\\u043f\\u043b\\u0435\\u043d\\u0438\\u0435\", \"\\u0440\\u043e\\u043a\", \"\\u0435\\u0432\\u0440\\u043e\", \"\\u0443\\u0447\\u0435\\u043d\\u0438\\u043a\", \"\\u043a\\u0438\\u043d\\u043e\", \"\\u043a\\u0440\\u0430\\u0441\\u043d\\u043e\\u044f\\u0440\\u0441\\u043a\", \"\\u043a\\u0438\\u043b\\u043e\\u0433\\u0440\\u0430\\u043c\\u043c\", \"\\u0441\\u0443\\u0442\\u043a\\u0438\", \"\\u043f\\u043e\\u043b\\u0451\\u0442\", \"\\u043f\\u043e\\u0434\\u0430\\u0440\\u0438\\u0442\\u044c\", \"\\u043a\\u0430\\u043c\\u0435\\u0440\\u0430\", \"\\u0448\\u0440\\u0438 \\u043b\\u0430\\u043d\\u043a\\u0430\", \"\\u043f\\u043e\\u043f\", \"\\u0448\\u0442\\u0430\\u0442\", \"\\u0437\\u0430\\u043a\\u0440\\u044b\\u0442\\u044b\\u0439\", \"\\u0443\\u0442\\u043e\\u0447\\u043d\\u0438\\u0442\\u044c\", \"\\u043a\\u0440\\u0443\\u043f\\u043d\\u044b\\u0439\", \"\\u0448\\u0435\\u0441\\u0442\\u044c\", \"\\u0433\\u0440\\u0443\\u043f\\u043f\\u0430\", \"\\u043f\\u0430\\u0441\\u0441\\u0430\\u0436\\u0438\\u0440\", \"\\u0441\\u0434\\u0435\\u043b\\u0430\\u0442\\u044c\", \"\\u0448\\u0442\\u0440\\u0430\\u0444\", \"\\u0430\\u043c\\u0435\\u0440\\u0438\\u043a\\u0430\\u043d\\u0441\\u043a\\u0438\\u0439\", \"\\u043f\\u0438\\u0441\\u0430\\u0442\\u044c\", \"\\u0432\\u044b\\u043f\\u0443\\u0441\\u0442\\u0438\\u0442\\u044c\", \"\\u043c\\u0443\\u0437\\u044b\\u043a\\u0430\", \"\\u043c\\u0435\\u0441\\u0442\\u043e\", \"\\u0433\\u043e\\u0434\", \"\\u0441\\u043a\", \"\\u0433\\u0440\\u0430\\u043d\\u0438\\u0446\\u0430\", \"\\u043e\\u0442\\u043c\\u0435\\u043d\\u0438\\u0442\\u044c\", \"\\u0430\\u043a\\u0442\\u0451\\u0440\", \"\\u043f\\u043e\\u0433\\u0438\\u0431\\u043d\\u0443\\u0442\\u044c \\u0447\\u0435\\u043b\\u043e\\u0432\\u0435\\u043a\", \"\\u0431\\u0435\\u0437\\u043e\\u043f\\u0430\\u0441\\u043d\\u043e\\u0441\\u0442\\u044c\", \"\\u0438\\u0433\\u0440\\u0430\\u0442\\u044c\", \"\\u0443\\u0433\\u0440\\u043e\\u0437\\u0430\", \"\\u043c\\u0435\\u0441\\u0442\\u043d\\u044b\\u0439 \\u0436\\u0438\\u0442\\u0435\\u043b\\u044c\", \"\\u0446\\u0435\\u0440\\u043a\\u043e\\u0432\\u044c\", \"\\u043d\\u0435\\u0441\\u043a\\u043e\\u043b\\u044c\\u043a\\u043e \\u0433\\u043e\\u0434\", \"\\u043f\\u043e\\u043b\\u044c\\u0437\\u043e\\u0432\\u0430\\u0442\\u0435\\u043b\\u0435\\u0439\", \"\\u043a\\u043e\\u043c\\u0430\\u043d\\u0434\\u0430\", \"\\u0434\\u043e\\u0433\\u043e\\u0432\\u043e\\u0440\", \"\\u043f\\u0440\\u0438\\u043b\\u043e\\u0436\\u0435\\u043d\\u0438\\u0435\", \"\\u043f\\u043e\\u0432\\u043e\\u0434\", \"\\u0441\\u043e\\u0441\\u0442\\u043e\\u044f\\u0442\\u044c\\u0441\\u044f\", \"\\u043f\\u0440\\u043e\\u0448\\u043b\\u043e\\u0435 \\u0433\\u043e\\u0434\", \"\\u0441\\u043a\\u043e\\u043d\\u0447\\u0430\\u0442\\u044c\\u0441\\u044f\", \"\\u043f\\u043b\\u043e\\u0445\\u043e\", \"\\u043a\\u0440\\u044b\\u0448\\u0430\", \"\\u0430\\u0434\\u0432\\u043e\\u043a\\u0430\\u0442\", \"\\u0441\\u0442\\u0440\\u0435\\u043b\\u044c\\u0431\\u0430\", \"\\u0441\\u043e\\u0437\\u0434\\u0430\\u0442\\u0435\\u043b\\u044c\", \"\\u0441\\u043e\\u0432\\u0435\\u0442\\u0441\\u043a\\u0438\\u0439\", \"\\u0432\\u043a\\u043b\\u044e\\u0447\\u0430\\u044f\", \"\\u0438\\u0441\\u043f\\u043e\\u043b\\u043d\\u044f\\u0442\\u044c\", \"\\u0440\\u044d\\u043f\\u0435\\u0440\", \"\\u043e\\u0444\\u0438\\u0441\", \"\\u0433\\u0435\\u043d\\u043f\\u0440\\u043e\\u043a\\u0443\\u0440\\u0430\\u0442\\u0443\\u0440\\u0430\", \"\\u043a\\u0438\\u043c \\u0447\\u0435\\u043d\", \"\\u043e\\u0442\\u043f\\u0440\\u0430\\u0432\\u0438\\u0442\\u044c\", \"\\u0434\\u0435\\u043b\\u0430\\u0442\\u044c\", \"\\u043f\\u043e\\u043a\\u0430\", \"\\u0431\\u043e\\u043b\\u044c\\u043d\\u0438\\u0446\\u0430\", \"\\u043f\\u0435\\u0440\\u0432\\u043e\\u0435\", \"\\u043d\\u0430\\u043f\\u0438\\u0441\\u0430\\u0442\\u044c\", \"\\u0432\\u043e\\u0435\\u043d\\u043d\\u044b\\u0439\", \"\\u043c\\u0430\\u0439\", \"\\u0436\\u0438\\u0442\\u0435\\u043b\\u044c\", \"\\u0430\\u043c\\u0435\\u0440\\u0438\\u043a\\u0430\\u043d\\u0441\\u043a\\u0438\\u0439\", \"\\u0434\\u0435\\u043d\\u044c\", \"\\u0438\\u043d\\u0444\\u043e\\u0440\\u043c\\u0430\\u0446\\u0438\\u044f\", \"\\u0430\\u0434\\u043c\\u0438\\u043d\\u0438\\u0441\\u0442\\u0440\\u0430\\u0446\\u0438\\u044f\", \"apple\", \"\\u043c\\u043d\\u0435\\u043d\\u0438\\u0435\", \"\\u043e\\u0431\\u0440\\u0430\\u0437\", \"\\u0431\\u0438\\u043b\\u0435\\u0442\", \"\\u0432\\u0430\\u0436\\u043d\\u044b\\u0439\", \"\\u043d\\u0435\\u044f\", \"\\u043f\\u0430\\u0440\\u0438\\u0436\", \"\\u0431\\u0435\\u0441\\u043f\\u043b\\u0430\\u0442\\u043d\\u044b\\u0439\", \"\\u0442\\u0443\\u0440\", \"\\u0432\\u0438\\u0447\", \"\\u043e\\u0444\\u0438\\u0446\\u0438\\u0430\\u043b\\u044c\\u043d\\u043e\", \"\\u043a\\u0430\\u043d\\u0430\\u0434\\u0430\", \"\\u0430\\u043c\\u0435\\u0440\\u0438\\u043a\\u0430\\u043d\\u0435\\u0446\", \"\\u0441\\u0435\\u0433\\u043e\\u0434\\u043d\\u044f \\u043e\\u0442\\u043c\\u0435\\u0447\\u0430\\u0442\\u044c\\u0441\\u044f\", \"\\u043b\\u0435\\u043a\\u0446\\u0438\\u044f\", \"\\u043b\\u0435\\u043d\\u0442\\u0430\\u0447 \\u0431\\u0438\\u043b\\u0435\\u0442\", \"\\u0437\\u0430\\u0449\\u0438\\u0442\\u0430\", \"\\u0441\\u0443\\u043c\\u043c\\u0430\", \"\\u043c\\u0438\\u0442\\u0438\\u043d\\u0433 \\u043f\\u0440\\u043e\\u0442\\u0438\\u0432\", \"\\u044d\\u043b\\u0435\\u043a\\u0442\\u0440\\u043e\\u043d\\u043d\\u044b\\u0439\", \"\\u0441\\u0440\\u0435\\u0434\\u0441\\u0442\\u0432\\u043e\", \"\\u0440\\u043e\\u0434\\u0438\\u0442\\u0435\\u043b\\u0435\\u0439\", \"\\u0431\\u043e\\u043b\\u044c\\u0448\\u043e\\u044f\", \"\\u043c\\u0430\\u0440\\u0448\", \"\\u043f\\u0435\\u043d\\u0441\\u0438\\u044f\", \"\\u0447\\u0438\\u043d\\u043e\\u0432\\u043d\\u0438\\u0446\\u0430\", \"\\u043e\\u0442\\u0434\\u0430\\u0442\\u044c\", \"\\u0440\\u044b\\u043d\\u043e\\u043a\", \"\\u0441\\u0432\\u044f\\u0437\\u0430\\u043d\\u043d\\u044b\\u0439\", \"club\", \"\\u043f\\u0440\\u043e\\u0439\\u0442\\u0438\", \"\\u043f\\u043e\\u0441\\u0442\", \"\\u043b\\u0435\\u043d\\u0442\\u0430\\u0447\", \"\\u043a\\u0430\\u043a\\u043e\\u0439\", \"\\u0441\\u043e\\u0431\\u0438\\u0440\\u0430\\u0442\\u044c\\u0441\\u044f\", \"\\u043f\\u043e\\u0434\\u0440\\u043e\\u0431\\u043d\\u043e\\u0441\\u0442\\u044c\", \"\\u0441\\u043e\\u0442\\u043d\\u044f\", \"\\u043c\\u0447\\u0441\", \"\\u043c\\u0430\\u0448\\u0438\\u043d\\u0430\", \"\\u043f\\u043e\\u0436\\u0430\\u043b\\u043e\\u0432\\u0430\\u0442\\u044c\\u0441\\u044f\", \"\\u0440\\u043e\\u0441\\u043a\\u043e\\u0441\\u043c\\u043e\\u0441\", \"\\u0443\\u0441\\u043b\\u043e\\u0432\\u0438\\u0435\", \"\\u0441\\u043e\\u0441\\u0442\\u043e\\u044f\\u043d\\u0438\\u0435\", \"\\u0432\\u044b\\u0441\\u0442\\u0443\\u043f\\u043b\\u0435\\u043d\\u0438\\u0435\", \"\\u043c\\u0438\\u043d\\u043a\\u0443\\u043b\\u044c\\u0442\", \"\\u043f\\u043e\\u043b\\u043e\\u0432\\u0438\\u043d\\u0430\", \"\\u043d\\u0435\\u043e\\u0431\\u0445\\u043e\\u0434\\u0438\\u043c\\u044b\\u0439\", \"\\u0431\\u0438\\u0437\\u043d\\u0435\\u0441\", \"\\u0430\\u0432\\u0442\\u043e\\u0431\\u0443\\u0441\", \"\\u0432\\u043e\\u0434\\u0438\\u0442\\u0435\\u043b\\u044c\", \"\\u0432\\u044b\\u0441\\u043a\\u0430\\u0437\\u0430\\u0442\\u044c\\u0441\\u044f\", \"\\u0442\\u0432\\u043e\\u0439\", \"\\u043f\\u0435\\u0441\\u043d\\u044f\", \"\\u0441\\u043f\\u0430\\u0441\\u0430\\u0442\\u0435\\u043b\\u044c\", \"\\u0440\\u043e\\u0441\\u0441\\u0442\\u0430\\u0442\", \"\\u043c\\u0443\\u0437\\u0435\\u0439\", \"\\u0431\\u043e\\u043c\\u0431\\u0430\", \"\\u0431\\u0443\\u0434\\u0443\\u0449\\u0435\\u0435\", \"\\u043f\\u0440\\u0435\\u0434\\u043e\\u0441\\u0442\\u0430\\u0432\\u0438\\u0442\\u044c\", \"\\u043f\\u0430\\u0446\\u0438\\u0435\\u043d\\u0442\", \"\\u043f\\u0430\\u0441\\u043f\\u043e\\u0440\\u0442\", \"\\u043f\\u0430\\u0431\\u043b\\u0438\\u043a\", \"com watch\", \"www youtube\", \"\\u043b\\u0435\\u0447\\u0435\\u043d\\u0438\\u0435\", \"\\u0435\\u0432\\u0440\\u043e\\u0432\\u0438\\u0434\\u0435\\u043d\\u0438\\u0435\", \"\\u0440\\u0430\\u0434\\u0438\\u043e\\u043b\\u0435\\u043d\\u0442\\u0430\\u0447\", \"\\u043c\\u0435\\u0441\\u0442\\u043e\", \"\\u043f\\u043e\\u043e\\u0431\\u0435\\u0449\\u0430\\u0442\\u044c\", \"\\u0436\\u0438\\u0442\\u044c\", \"\\u043d\\u0430\\u0445\\u043e\\u0434\\u0438\\u0442\\u044c\\u0441\\u044f\", \"\\u0434\\u043e\\u043c\", \"\\u0440\\u0430\\u0441\\u0441\\u043a\\u0430\\u0437\\u044b\\u0432\\u0430\\u0442\\u044c\", \"\\u0431\\u043e\\u043b\\u044c\\u043d\\u0438\\u0446\\u0430\", \"\\u0436\\u0438\\u0442\\u0435\\u043b\\u044c\", \"\\u0433\\u043e\\u0432\\u043e\\u0440\\u044f\\u0442\", \"\\u0437\\u0430\\u0432\\u043e\\u0434\", \"\\u043b\\u0438\\u0447\\u043d\\u044b\\u0439\", \"\\u0432\\u0435\\u0440\\u043d\\u0443\\u0442\\u044c\", \"\\u0434\\u043e\\u0431\\u0430\\u0432\\u0438\\u0442\\u044c\", \"\\u043f\\u043e\\u043f\\u044b\\u0442\\u0430\\u0442\\u044c\\u0441\\u044f\", \"\\u043e\\u0431\\u0440\\u0430\\u0442\\u0438\\u0442\\u044c\\u0441\\u044f\", \"\\u043f\\u043e\\u0441\\u043b\\u0435\\u0434\\u043d\\u0438\\u0439 \\u0433\\u043e\\u0434\", \"\\u043c\\u043e\\u0431\\u0438\\u043b\\u044c\\u043d\\u044b\\u0439\", \"\\u0443\\u0441\\u0442\\u0440\\u043e\\u0438\\u0441\\u0442\\u0432\\u043e\", \"\\u0448\\u0435\\u0440\\u0435\\u043c\\u0435\\u0442\\u044c\\u0435\\u0432\\u043e\", \"\\u0437\\u0430\\u043a\\u0440\\u044b\\u0442\\u044c\", \"\\u043a\\u0440\\u0435\\u0434\\u0438\\u0442\", \"\\u0443\\u0431\\u0440\\u0430\\u0442\\u044c\", \"\\u043d\\u0443\\u0436\\u043d\\u044b\\u0439\", \"\\u043f\\u0443\\u0442\\u044c\", \"\\u043d\\u0430\\u0446\\u0438\\u043e\\u043d\\u0430\\u043b\\u044c\\u043d\\u044b\\u0439\", \"\\u0438\\u0441\\u0441\\u043b\\u0435\\u0434\\u043e\\u0432\\u0430\\u0442\\u0435\\u043b\\u044c\", \"\\u0441\\u043b\\u0435\\u0434\\u0438\\u0442\\u044c\", \"\\u043e\\u0431\\u0440\\u0443\\u0448\\u0438\\u0442\\u044c\\u0441\\u044f\", \"\\u0441\\u043f\\u043e\\u0441\\u043e\\u0431\\u043d\\u044b\\u0439\", \"\\u043e\\u0434\\u0438\\u043d \\u0441\\u0430\\u043c\\u044b\\u0439\", \"\\u043f\\u0435\\u0441\\u043e\\u043a\", \"\\u043f\\u0430\\u043a\\u0435\\u0442\", \"\\u0438\\u0437\\u043e\\u0431\\u0440\\u0430\\u0436\\u0435\\u043d\\u0438\\u0435\", \"\\u0438\\u0437\\u043c\\u0435\\u043d\\u0435\\u043d\\u0438\\u0435\", \"\\u0441\\u043b\\u0443\\u0447\\u0438\\u0442\\u044c\\u0441\\u044f\", \"\\u043f\\u043e\\u043c\\u0435\\u0448\\u0430\\u0442\\u044c\", \"\\u0432\\u0441\\u0442\\u0443\\u043f\\u0438\\u0442\\u044c \\u0441\\u0438\\u043b\\u0430\", \"\\u0432\\u044b\\u0434\\u0430\\u0432\\u0430\\u0442\\u044c\", \"\\u043a\\u0440\\u0443\\u043f\\u043d\\u0435\\u0438\\u043d\\u0443\\u0442\\u044c\", \"\\u0438\\u0441\\u043a\\u0430\\u0442\\u044c\", \"\\u0441\\u0441\\u0441\\u0440\", \"\\u043c\\u0430\\u043b\\u0435\\u043d\\u044c\\u043a\\u0438\\u0439\", \"\\u043e\\u0442\\u043f\\u0440\\u0430\\u0432\\u0438\\u0442\\u044c\", \"\\u0434\\u0435\\u044f\\u0442\\u0435\\u043b\\u044c\\u043d\\u043e\\u0441\\u0442\\u044c\"], \"Total\": [451.0, 395.0, 392.0, 241.0, 331.0, 102.0, 101.0, 78.0, 87.0, 244.0, 71.0, 169.0, 165.0, 70.0, 170.0, 200.0, 389.0, 74.0, 151.0, 172.0, 149.0, 141.0, 123.0, 59.0, 128.0, 85.0, 114.0, 55.0, 116.0, 64.0, 241.78736877441406, 169.00746154785156, 165.2516632080078, 151.25547790527344, 141.9209442138672, 149.13372802734375, 128.02084350585938, 116.76509094238281, 111.13224029541016, 108.91751098632812, 104.31417846679688, 103.3078842163086, 101.86672973632812, 99.13646697998047, 95.89813995361328, 95.78369140625, 94.29313659667969, 94.0535659790039, 92.19552612304688, 86.93342590332031, 82.73435974121094, 79.4930191040039, 79.16946411132812, 77.64510345458984, 74.65483093261719, 72.99556732177734, 72.3244400024414, 71.01689147949219, 69.04496765136719, 170.28427124023438, 392.1440124511719, 395.4461364746094, 200.3166046142578, 172.5988006591797, 331.7204895019531, 389.4871520996094, 451.4498291015625, 115.1613540649414, 133.87379455566406, 133.89956665039062, 146.815185546875, 244.92852783203125, 139.69448852539062, 105.34260559082031, 105.02894592285156, 102.26416778564453, 47.309078216552734, 39.70115280151367, 37.122047424316406, 32.93986511230469, 32.76171112060547, 32.23280715942383, 31.070480346679688, 35.046356201171875, 30.51628303527832, 29.888442993164062, 29.468759536743164, 29.214345932006836, 29.030452728271484, 28.78261947631836, 27.938983917236328, 27.7264347076416, 26.62332534790039, 26.234966278076172, 25.848949432373047, 25.84149742126465, 25.785358428955078, 25.64303970336914, 25.115196228027344, 24.16793441772461, 22.93207359313965, 22.505252838134766, 22.378435134887695, 22.014219284057617, 21.945619583129883, 40.1901969909668, 33.82890319824219, 32.13642501831055, 64.01725769042969, 35.52555465698242, 68.94807434082031, 114.48759460449219, 56.94889450073242, 451.4498291015625, 244.92852783203125, 114.11888885498047, 125.6617660522461, 94.91398620605469, 52.7017707824707, 85.0972900390625, 87.66130065917969, 59.48489761352539, 55.37947463989258, 42.95470428466797, 41.53545379638672, 39.4311408996582, 38.13229751586914, 36.1473503112793, 34.95112228393555, 30.36021614074707, 29.53253173828125, 27.87403678894043, 27.474334716796875, 26.792919158935547, 26.294193267822266, 26.18254852294922, 25.22542953491211, 24.7451114654541, 24.050846099853516, 23.740922927856445, 23.527442932128906, 23.23729705810547, 22.93630599975586, 22.848928451538086, 22.752059936523438, 22.36219596862793, 22.18782615661621, 21.89573097229004, 21.68372917175293, 21.58924102783203, 85.0972900390625, 29.892913818359375, 39.671363830566406, 80.11726379394531, 47.76792907714844, 123.41788482666016, 42.74607467651367, 32.72883224487305, 46.4405517578125, 331.7204895019531, 36.135162353515625, 59.04835510253906, 65.37422943115234, 395.4461364746094, 392.1440124511719, 78.14845275878906, 71.54747772216797, 28.831701278686523, 27.70952033996582, 26.285137176513672, 26.151992797851562, 26.058765411376953, 24.753459930419922, 22.53238868713379, 22.007816314697266, 21.09438133239746, 20.14557456970215, 19.45220375061035, 19.00687599182129, 17.57160186767578, 17.302539825439453, 17.21845245361328, 16.72380256652832, 16.457984924316406, 16.088911056518555, 15.870672225952148, 15.567192077636719, 15.452566146850586, 15.455249786376953, 15.43048095703125, 14.512772560119629, 14.192927360534668, 14.00206470489502, 13.664498329162598, 13.559892654418945, 101.5987777709961, 31.707876205444336, 45.06052780151367, 24.451169967651367, 49.93286895751953, 33.824398040771484, 40.01778793334961, 43.09867477416992, 70.02802276611328, 389.4871520996094, 31.80218505859375, 31.764366149902344, 28.27712631225586, 27.078216552734375, 22.311351776123047, 20.659082412719727, 20.440847396850586, 20.056774139404297, 20.038448333740234, 19.94440269470215, 18.762489318847656, 18.533761978149414, 17.94489288330078, 17.700475692749023, 16.003398895263672, 15.816415786743164, 15.31445598602295, 15.07567310333252, 14.952237129211426, 14.867513656616211, 14.860815048217773, 14.799643516540527, 14.760784149169922, 14.53687858581543, 14.278170585632324, 14.261975288391113, 14.004409790039062, 13.766620635986328, 13.482702255249023, 13.442813873291016, 13.288086891174316, 30.588333129882812, 37.9730224609375, 51.660037994384766, 41.639854431152344, 26.403366088867188, 30.420656204223633, 39.24070358276367, 25.90102195739746, 80.11726379394531, 49.93286895751953, 113.91979217529297, 45.83621597290039, 30.899202346801758, 22.40342903137207, 19.956663131713867, 18.399444580078125, 17.788524627685547, 16.651248931884766, 15.919249534606934, 15.811713218688965, 14.743005752563477, 14.64128303527832, 14.368500709533691, 14.033126831054688, 14.01784610748291, 13.947746276855469, 13.61579704284668, 13.424256324768066, 13.361909866333008, 13.215571403503418, 12.735986709594727, 12.642044067382812, 12.64414119720459, 12.606168746948242, 12.52304744720459, 12.45889949798584, 12.43274974822998, 12.356608390808105, 12.301501274108887, 12.226308822631836, 12.071907997131348, 12.021756172180176, 52.7017707824707, 32.771087646484375, 56.94889450073242, 64.01725769042969, 53.03067398071289, 27.06343650817871, 21.163646697998047, 22.37203025817871, 20.76997184753418, 19.663818359375, 18.99264144897461, 18.742483139038086, 17.157880783081055, 14.843084335327148, 14.610308647155762, 14.546327590942383, 14.164122581481934, 14.005229949951172, 13.648594856262207, 13.55505084991455, 13.561814308166504, 13.419259071350098, 13.37380313873291, 12.662130355834961, 12.355714797973633, 12.349465370178223, 12.093700408935547, 11.741419792175293, 11.62182331085205, 11.610958099365234, 11.507027626037598, 11.365294456481934, 11.36253547668457, 11.309123039245605, 11.309123039245605, 11.31997299194336, 11.091059684753418, 23.575977325439453, 70.02802276611328, 21.749677658081055, 38.343109130859375, 35.26039123535156, 74.88025665283203, 25.405532836914062, 41.639854431152344, 80.11726379394531, 41.02709197998047, 16.699668884277344, 15.323874473571777, 13.638919830322266, 13.435015678405762, 13.274650573730469, 13.203933715820312, 12.633734703063965, 12.517261505126953, 12.531221389770508, 12.186821937561035, 12.027082443237305, 11.613959312438965, 10.663113594055176, 10.469558715820312, 10.158880233764648, 9.887261390686035, 9.757017135620117, 9.29451847076416, 8.8903169631958, 8.863517761230469, 8.803597450256348, 8.764220237731934, 8.736083984375, 8.721314430236816, 8.182306289672852, 8.006420135498047, 7.8513898849487305, 7.815542697906494, 7.705512523651123, 7.441210746765137, 13.188591003417969, 11.929040908813477, 17.04779624938965, 30.588333129882812, 12.013431549072266], \"loglift\": [30.0, 29.0, 28.0, 27.0, 26.0, 25.0, 24.0, 23.0, 22.0, 21.0, 20.0, 19.0, 18.0, 17.0, 16.0, 15.0, 14.0, 13.0, 12.0, 11.0, 10.0, 9.0, 8.0, 7.0, 6.0, 5.0, 4.0, 3.0, 2.0, 1.0, 0.9894999861717224, 0.9883000254631042, 0.9882000088691711, 0.9879000186920166, 0.9876000285148621, 0.9872999787330627, 0.9871000051498413, 0.9865999817848206, 0.986299991607666, 0.9861999750137329, 0.9858999848365784, 0.9858999848365784, 0.98580002784729, 0.9855999946594238, 0.9854000210762024, 0.9854000210762024, 0.9853000044822693, 0.9851999878883362, 0.9850999712944031, 0.9847000241279602, 0.9843000173568726, 0.984000027179718, 0.9839000105857849, 0.9837999939918518, 0.9833999872207642, 0.9832000136375427, 0.9832000136375427, 0.9829999804496765, 0.982699990272522, 0.982699990272522, 0.9214000105857849, 0.9186999797821045, 0.9430999755859375, 0.9474999904632568, 0.8485999703407288, 0.8220999836921692, 0.7922000288963318, 0.9337999820709229, 0.9107999801635742, 0.8824999928474426, 0.855400025844574, 0.7081999778747559, 0.8331999778747559, 0.9150000214576721, 0.9128999710083008, 1.9230999946594238, 1.9155000448226929, 1.9127999544143677, 1.9115999937057495, 1.9092999696731567, 1.9091999530792236, 1.9088000059127808, 1.9081000089645386, 1.9077999591827393, 1.9076999425888062, 1.9071999788284302, 1.9069000482559204, 1.9067000150680542, 1.906499981880188, 1.9062999486923218, 1.9055999517440796, 1.905400037765503, 1.9043999910354614, 1.9040000438690186, 1.9035999774932861, 1.9035999774932861, 1.9035999774932861, 1.90339994430542, 1.902899980545044, 1.9018000364303589, 1.9003000259399414, 1.8997000455856323, 1.8996000289916992, 1.8990999460220337, 1.8990000486373901, 1.8219000101089478, 1.809399962425232, 1.7962000370025635, 1.5260000228881836, 1.7142000198364258, 1.4151999950408936, 1.1390999555587769, 1.4673999547958374, 0.2150000035762787, 0.5231000185012817, 0.8985999822616577, 0.8162999749183655, 1.0003999471664429, 1.3073999881744385, 0.8162000179290771, 2.0, 1.996399998664856, 1.9955999851226807, 1.9921000003814697, 1.9915000200271606, 1.9905999898910522, 1.9901000261306763, 1.9890999794006348, 1.9884999990463257, 1.9854999780654907, 1.9848999977111816, 1.9835000038146973, 1.983199954032898, 1.9824999570846558, 1.982100009918213, 1.9819999933242798, 1.9809999465942383, 1.9803999662399292, 1.979599952697754, 1.9793000221252441, 1.9789999723434448, 1.978700041770935, 1.9782999753952026, 1.9780999422073364, 1.9780000448226929, 1.9774999618530273, 1.9773000478744507, 1.9768999814987183, 1.9765000343322754, 1.9764000177383423, 1.5996999740600586, 1.8847999572753906, 1.7591999769210815, 1.430799961090088, 1.6490999460220337, 1.1764999628067017, 1.621500015258789, 1.7552000284194946, 1.5326000452041626, -0.016300000250339508, 1.6548000574111938, 1.2359000444412231, 1.1247999668121338, -0.6589999794960022, -0.695900022983551, 2.356300115585327, 2.3554999828338623, 2.341399908065796, 2.340399980545044, 2.339099884033203, 2.3389999866485596, 2.338900089263916, 2.3375000953674316, 2.334700107574463, 2.3340001106262207, 2.3326001167297363, 2.3310999870300293, 2.3297998905181885, 2.3289999961853027, 2.3259999752044678, 2.3254001140594482, 2.325200080871582, 2.3239998817443848, 2.3234000205993652, 2.3224000930786133, 2.3217999935150146, 2.3208999633789062, 2.3206000328063965, 2.3206000328063965, 2.3206000328063965, 2.317699909210205, 2.3164000511169434, 2.3157999515533447, 2.3145999908447266, 2.314199924468994, 2.1709001064300537, 2.2534000873565674, 2.0608999729156494, 2.147200107574463, 1.9118000268936157, 1.878600001335144, 1.7346999645233154, 1.653499960899353, 1.1979000568389893, -0.3190000057220459, 1.7281999588012695, 2.428299903869629, 2.425600051879883, 2.424499988555908, 2.419100046157837, 2.416599988937378, 2.4161999225616455, 2.415600061416626, 2.4154999256134033, 2.4154000282287598, 2.413100004196167, 2.4126999378204346, 2.411400079727173, 2.410900115966797, 2.4066998958587646, 2.4061999320983887, 2.4047999382019043, 2.4040000438690186, 2.403700113296509, 2.4033000469207764, 2.4033000469207764, 2.40310001373291, 2.40310001373291, 2.4021999835968018, 2.401400089263916, 2.4012999534606934, 2.400399923324585, 2.3994998931884766, 2.3984999656677246, 2.3982999324798584, 2.3977999687194824, 2.1078999042510986, 2.009000062942505, 1.8279999494552612, 1.8351000547409058, 2.017400026321411, 1.9009000062942505, 1.6668000221252441, 1.9692000150680542, 1.1187000274658203, 1.4078999757766724, 0.6428999900817871, 1.3794000148773193, 2.6670000553131104, 2.6584999561309814, 2.654599905014038, 2.651700019836426, 2.650399923324585, 2.647599935531616, 2.6456000804901123, 2.645400047302246, 2.6421000957489014, 2.6417999267578125, 2.640899896621704, 2.639699935913086, 2.6396000385284424, 2.6393001079559326, 2.638200044631958, 2.637399911880493, 2.637200117111206, 2.6364998817443848, 2.634500026702881, 2.6340999603271484, 2.634000062942505, 2.6338999271392822, 2.6335999965667725, 2.6333000659942627, 2.6331000328063965, 2.632699966430664, 2.632499933242798, 2.632200002670288, 2.6314001083374023, 2.6310999393463135, 1.895900011062622, 2.029900074005127, 1.6676000356674194, 1.5595999956130981, 1.3878999948501587, 1.9507999420166016, 2.1324000358581543, 2.761399984359741, 2.759000062942505, 2.7571001052856445, 2.7558000087738037, 2.7553000450134277, 2.7518999576568604, 2.7453999519348145, 2.7446000576019287, 2.7444000244140625, 2.7430999279022217, 2.7425999641418457, 2.7411999702453613, 2.7409000396728516, 2.7409000396728516, 2.740299940109253, 2.7400999069213867, 2.7370998859405518, 2.7356998920440674, 2.7356998920440674, 2.734499931335449, 2.732599973678589, 2.7320001125335693, 2.7318999767303467, 2.7314000129699707, 2.7307000160217285, 2.730600118637085, 2.7304000854492188, 2.7304000854492188, 2.730299949645996, 2.729099988937378, 2.6124000549316406, 2.407099962234497, 2.530100107192993, 2.2054998874664307, 2.236299991607666, 1.8342000246047974, 2.0915000438690186, 1.6792000532150269, 1.0089000463485718, 1.5149999856948853, 3.1709001064300537, 3.1670000553131104, 3.161099910736084, 3.1603000164031982, 3.159600019454956, 3.1593000888824463, 3.156899929046631, 3.156399965286255, 3.1563000679016113, 3.1547000408172607, 3.153899908065796, 3.151700019836426, 3.1461000442504883, 3.1447999477386475, 3.1426000595092773, 3.1405999660491943, 3.1396000385284424, 3.1357998847961426, 3.1321001052856445, 3.1317999362945557, 3.1312999725341797, 3.1308999061584473, 3.13070011138916, 3.1303999423980713, 3.1247000694274902, 3.12280011177063, 3.1208999156951904, 3.120500087738037, 3.11899995803833, 3.1154000759124756, 2.8169000148773193, 2.775099992752075, 2.438999891281128, 1.9035999774932861, 2.734800100326538], \"logprob\": [30.0, 29.0, 28.0, 27.0, 26.0, 25.0, 24.0, 23.0, 22.0, 21.0, 20.0, 19.0, 18.0, 17.0, 16.0, 15.0, 14.0, 13.0, 12.0, 11.0, 10.0, 9.0, 8.0, 7.0, 6.0, 5.0, 4.0, 3.0, 2.0, 1.0, -4.745699882507324, -5.105000019073486, -5.127600193023682, -5.2164998054504395, -5.280399799346924, -5.231200218200684, -5.383999824523926, -5.476500034332275, -5.526299953460693, -5.546500205993652, -5.590000152587891, -5.599699974060059, -5.613800048828125, -5.641200065612793, -5.674600124359131, -5.67579984664917, -5.6915998458862305, -5.694200038909912, -5.714300155639648, -5.773499965667725, -5.823400020599365, -5.863699913024902, -5.867800235748291, -5.887400150299072, -5.927000045776367, -5.949699878692627, -5.959000110626221, -5.977399826049805, -6.005799770355225, -5.103099822998047, -4.3302998542785645, -4.3246002197265625, -4.980299949645996, -5.124899864196777, -4.570400238037109, -4.436399936676025, -4.318600177764893, -5.543099880218506, -5.415599822998047, -5.443699836730957, -5.378699779510498, -5.014100074768066, -5.450699806213379, -5.651100158691406, -5.656099796295166, -4.672599792480469, -5.451099872589111, -5.6290998458862305, -5.697500228881836, -5.819300174713135, -5.824900150299072, -5.8414998054504395, -5.879000186920166, -5.758800029754639, -5.89739990234375, -5.918600082397461, -5.93310022354126, -5.941999912261963, -5.948400020599365, -5.957200050354004, -5.98769998550415, -5.995500087738037, -6.037099838256836, -6.052199840545654, -6.067399978637695, -6.067699909210205, -6.069900035858154, -6.0756001472473145, -6.09689998626709, -6.136499881744385, -6.190499782562256, -6.209799766540527, -6.21560001373291, -6.232600212097168, -6.235799789428711, -5.707699775695801, -5.892499923706055, -5.957099914550781, -5.5381999015808105, -5.938799858093262, -5.574699878692627, -5.343699932098389, -5.713699817657471, -4.8958001136779785, -5.1992998123168945, -5.587500095367432, -5.573400020599365, -5.669899940490723, -5.951200008392334, -5.9633002281188965, -4.749800205230713, -5.141200065612793, -5.213500022888184, -5.471099853515625, -5.505199909210205, -5.55810022354126, -5.592199802398682, -5.646599769592285, -5.6809000968933105, -5.8246002197265625, -5.85290002822876, -5.912099838256836, -5.9268999099731445, -5.952600002288818, -5.97189998626709, -5.976200103759766, -6.014500141143799, -6.034299850463867, -6.063499927520752, -6.0767998695373535, -6.086100101470947, -6.098899841308594, -6.112299919128418, -6.116300106048584, -6.12060022354126, -6.138400077819824, -6.146500110626221, -6.160099983215332, -6.170199871063232, -6.174699783325195, -5.179800033569336, -5.940899848937988, -5.783400058746338, -5.408999919891357, -5.707799911499023, -5.231200218200684, -5.846499919891357, -5.979800224304199, -5.852499961853027, -5.435299873352051, -5.981299877166748, -5.90910005569458, -5.918399810791016, -5.902200222015381, -5.947500228881836, -4.508399963378906, -4.597400188446045, -5.520400047302246, -5.561100006103516, -5.615200042724609, -5.6203999519348145, -5.624100208282471, -5.6768999099731445, -5.773600101470947, -5.797900199890137, -5.841700077056885, -5.889200210571289, -5.92549991607666, -5.949399948120117, -6.031000137329102, -6.046999931335449, -6.05210018157959, -6.082399845123291, -6.099100112915039, -6.122799873352051, -6.13700008392334, -6.157299995422363, -6.164899826049805, -6.16480016708374, -6.166399955749512, -6.230599880218506, -6.254199981689453, -6.2683000564575195, -6.293900012969971, -6.3018999099731445, -4.431300163269043, -5.513299942016602, -5.354400157928467, -5.87939977645874, -5.4008002281188965, -5.823599815368652, -5.799200057983398, -5.806300163269043, -5.776500225067139, -5.577499866485596, -6.0355000495910645, -5.336699962615967, -5.455599784851074, -5.500100135803223, -5.699100017547607, -5.778600215911865, -5.789599895477295, -5.809199810028076, -5.810100078582764, -5.815000057220459, -5.878300189971924, -5.890999794006348, -5.924600124359131, -5.938799858093262, -6.043799877166748, -6.056000232696533, -6.089700222015381, -6.106200218200684, -6.114799976348877, -6.120800018310547, -6.121300220489502, -6.125500202178955, -6.128300189971924, -6.144400119781494, -6.163099765777588, -6.164400100708008, -6.183499813079834, -6.201499938964844, -6.223400115966797, -6.226600170135498, -6.23859977722168, -5.694799900054932, -5.577400207519531, -5.4506001472473145, -5.65910005569458, -5.932400226593018, -5.907199859619141, -5.8867998123168945, -5.999800205230713, -5.721099853515625, -5.904699802398682, -5.844900131225586, -6.018899917602539, -5.1255998611450195, -5.455599784851074, -5.575099945068359, -5.659299850463867, -5.694399833679199, -5.763199806213379, -5.810100078582764, -5.817200183868408, -5.890399932861328, -5.897600173950195, -5.917399883270264, -5.942200183868408, -5.943399906158447, -5.948599815368652, -5.973899841308594, -5.988800048828125, -5.99370002746582, -6.00540018081665, -6.044400215148926, -6.052199840545654, -6.05210018157959, -6.055200099945068, -6.06220006942749, -6.067599773406982, -6.069799900054932, -6.076399803161621, -6.081099987030029, -6.087500095367432, -6.10099983215332, -6.105500221252441, -5.36269998550415, -5.70389986038208, -5.513500213623047, -5.5046000480651855, -5.864500045776367, -5.974400043487549, -6.038599967956543, -5.354100227355957, -5.430799961090088, -5.487400054931641, -5.523399829864502, -5.537199974060059, -5.629000186920166, -5.780300140380859, -5.796999931335449, -5.801599979400635, -5.829500198364258, -5.841300010681152, -5.868500232696533, -5.8755998611450195, -5.875100135803223, -5.886300086975098, -5.889900207519531, -5.9475998878479, -5.973400115966797, -5.973999977111816, -5.996099948883057, -6.027500152587891, -6.038400173187256, -6.039400100708008, -6.048900127410889, -6.062099933624268, -6.062399864196777, -6.067299842834473, -6.067299842834473, -6.066400051116943, -6.088099956512451, -5.450699806213379, -4.567299842834473, -5.61359977722168, -5.371200084686279, -5.424200057983398, -5.073200225830078, -5.8968000411987305, -5.815000057220459, -5.830900192260742, -5.994100093841553, -5.236999988555908, -5.326900005340576, -5.44920015335083, -5.465099811553955, -5.477799892425537, -5.483399868011475, -5.53000020980835, -5.53980016708374, -5.538700103759766, -5.56820011138916, -5.582200050354004, -5.61929988861084, -5.710400104522705, -5.730000019073486, -5.762400150299072, -5.791500091552734, -5.805699825286865, -5.857999801635742, -5.906300067901611, -5.909599781036377, -5.916900157928467, -5.9217000007629395, -5.92519998550415, -5.92710018157959, -5.996600151062012, -6.020299911499023, -6.0416998863220215, -6.0467000007629395, -6.062399864196777, -6.100800037384033, -5.827099800109863, -5.969200134277344, -5.948299884796143, -5.899099826812744, -6.002500057220459]}, \"token.table\": {\"Topic\": [6, 2, 6, 7, 3, 7, 7, 5, 6, 5, 2, 3, 5, 4, 6, 4, 5, 2, 7, 5, 6, 7, 6, 3, 5, 7, 6, 7, 4, 4, 7, 6, 3, 8, 6, 5, 2, 1, 7, 4, 5, 7, 2, 2, 3, 3, 7, 1, 4, 8, 2, 8, 3, 4, 7, 7, 4, 5, 1, 3, 2, 3, 7, 1, 2, 3, 4, 5, 1, 3, 5, 2, 4, 5, 1, 1, 4, 5, 1, 1, 2, 5, 6, 2, 4, 5, 8, 8, 5, 3, 1, 7, 1, 3, 4, 7, 3, 1, 3, 1, 3, 5, 7, 3, 7, 8, 8, 1, 3, 4, 8, 3, 1, 3, 6, 1, 2, 1, 5, 2, 8, 8, 4, 2, 3, 4, 5, 6, 7, 2, 8, 5, 8, 1, 2, 1, 3, 6, 4, 6, 2, 3, 4, 5, 4, 2, 5, 1, 2, 3, 1, 2, 4, 8, 8, 4, 3, 5, 3, 6, 2, 6, 6, 7, 2, 8, 2, 3, 5, 7, 6, 7, 8, 6, 7, 5, 4, 7, 4, 7, 6, 6, 8, 1, 6, 1, 2, 1, 7, 2, 4, 7, 4, 4, 5, 6, 3, 3, 7, 8, 8, 1, 7, 1, 5, 6, 1, 3, 8, 1, 6, 8, 8, 1, 2, 8, 2, 3, 6, 5, 5, 8, 5, 6, 2, 7, 8, 6, 7, 4, 8, 7, 2, 6, 4, 5, 7, 8, 1, 4, 5, 8, 3, 4, 5, 3, 5, 5, 4, 2, 1, 6, 7, 1, 2, 4, 5, 8, 2, 1, 5, 7, 2, 5, 2, 4, 8, 4, 7, 4, 2, 5, 8, 8, 2, 6, 2, 1, 2, 2, 7, 1, 3, 4, 5, 3, 2, 5, 6, 8, 5, 1, 3, 8, 1, 7, 8, 3, 1, 3, 6, 7, 1, 2, 3, 6, 7, 3, 1, 2, 3, 6, 4, 4, 3, 7, 1, 3, 1, 3, 1, 3, 7, 2, 6, 5, 4, 1, 2, 3, 6, 1, 2, 6, 3, 4, 1, 2, 5, 6, 3, 4, 5, 2, 2, 5, 8, 1, 2, 8, 1, 3, 3, 2, 6, 4, 5, 5, 3, 7, 1, 5, 7, 5, 7, 1, 2, 5, 7, 3, 8, 6, 6, 8, 1, 1, 3, 5, 3, 2, 4, 6, 4, 1, 1, 2, 7, 4, 2, 6, 8, 5, 2, 7, 2, 8, 4, 4, 3, 6, 3, 4, 3, 3, 5, 1, 2, 6, 8, 4, 1, 4, 4, 4, 5, 6, 1, 3, 2], \"Freq\": [0.9819925427436829, 0.5312914252281189, 0.45539265871047974, 0.9726660251617432, 0.9727067351341248, 0.9726660251617432, 0.9590520858764648, 0.945968747138977, 0.9708988666534424, 0.9601814150810242, 0.09166229516267776, 0.7638524770736694, 0.12221639603376389, 0.9711532592773438, 0.9320502281188965, 0.6408604383468628, 0.3604840040206909, 0.895740807056427, 0.09952675551176071, 0.9680972099304199, 0.9496028423309326, 0.9524790048599243, 0.9556722640991211, 0.12007726728916168, 0.5523554086685181, 0.33621636033058167, 0.9631669521331787, 0.9368543028831482, 0.9559500813484192, 0.9542064666748047, 0.9464951753616333, 0.9608888626098633, 0.9819679856300354, 0.9531546831130981, 0.974353551864624, 0.9816312193870544, 0.9714672565460205, 0.9935108423233032, 0.9585738182067871, 0.25483742356300354, 0.45870736241340637, 0.2803211808204651, 0.9840930104255676, 0.36605939269065857, 0.6244542598724365, 0.8697713613510132, 0.10035823285579681, 0.9534906148910522, 0.04492887482047081, 0.8956511616706848, 0.9645044207572937, 0.9084405303001404, 0.4497999846935272, 0.5247666239738464, 0.968756914138794, 0.9582275152206421, 0.9763723015785217, 0.9670594334602356, 0.9918181300163269, 0.9682590961456299, 0.4143603444099426, 0.2924896478652954, 0.2681155204772949, 0.8447005152702332, 0.05134957656264305, 0.005134957376867533, 0.06932193040847778, 0.03080974519252777, 0.9940389394760132, 0.9703060984611511, 0.9759363532066345, 0.08858374506235123, 0.8267815709114075, 0.08858374506235123, 0.99689120054245, 0.9911238551139832, 0.3423483073711395, 0.6320276260375977, 0.9920259714126587, 0.5705769062042236, 0.17556211352348328, 0.16678401827812195, 0.08778105676174164, 0.9663916230201721, 0.2497204840183258, 0.08324016630649567, 0.5826811194419861, 0.9676207304000854, 0.9604261517524719, 0.9897881150245667, 0.6143141388893127, 0.3872849941253662, 0.9307804703712463, 0.06630217283964157, 0.967470109462738, 0.9016271233558655, 0.9838032126426697, 0.5249934792518616, 0.4572523534297943, 0.9916916489601135, 0.5616766810417175, 0.2621157765388489, 0.16226215660572052, 0.3390439748764038, 0.5476863980293274, 0.10432121902704239, 0.958102822303772, 0.9969881772994995, 0.9931477308273315, 0.9864068031311035, 0.914602518081665, 0.9591779708862305, 0.5812687873840332, 0.4130067825317383, 0.9836880564689636, 0.9984771013259888, 0.9775495529174805, 0.9955140948295593, 0.9784330129623413, 0.9555967450141907, 0.8555045127868652, 0.9172928929328918, 0.9481197595596313, 0.3290351629257202, 0.669821560382843, 0.30543532967567444, 0.3490689694881439, 0.08726724237203598, 0.2399848997592926, 0.303292453289032, 0.6824079751968384, 0.9282790422439575, 0.9224130511283875, 0.600543737411499, 0.38982662558555603, 0.5657103061676025, 0.15085609257221222, 0.2639981508255005, 0.9707125425338745, 0.9273892641067505, 0.9737999439239502, 0.9910634160041809, 0.9721724987030029, 0.9783198833465576, 0.987312912940979, 0.9702746868133545, 0.9473447203636169, 0.9464980959892273, 0.052100811153650284, 0.9890660047531128, 0.8195816874504089, 0.17942193150520325, 0.956720232963562, 0.9471361041069031, 0.9407071471214294, 0.9513704776763916, 0.9669454097747803, 0.9420748353004456, 0.959091067314148, 0.9683963060379028, 0.6716938614845276, 0.3280365467071533, 0.9729148149490356, 0.9717337489128113, 0.969774067401886, 0.9788647294044495, 0.965546727180481, 0.9777741432189941, 0.6177362203598022, 0.34747663140296936, 0.2932930290699005, 0.2346344292163849, 0.4692688584327698, 0.9651927351951599, 0.9662416577339172, 0.9481772184371948, 0.31415995955467224, 0.6854398846626282, 0.9593700766563416, 0.9624422192573547, 0.9492135643959045, 0.9520629644393921, 0.9586761593818665, 0.9559742212295532, 0.04055648297071457, 0.6396837830543518, 0.3592744469642639, 0.9892627596855164, 0.9095644354820251, 0.48725396394729614, 0.48725396394729614, 0.9629285931587219, 0.9743943214416504, 0.29585161805152893, 0.5917032361030579, 0.09861720353364944, 0.9930278658866882, 0.3403252065181732, 0.5672087073326111, 0.0850813016295433, 0.9102621674537659, 0.9978792071342468, 0.9282246828079224, 0.9914915561676025, 0.9593609571456909, 0.9422554969787598, 0.9978594779968262, 0.9871085286140442, 0.9551500678062439, 0.9885363578796387, 0.9782903790473938, 0.9845550656318665, 0.8998554348945618, 0.9924580454826355, 0.005872533190995455, 0.9087194204330444, 0.9593549966812134, 0.9888114929199219, 0.9814900159835815, 0.990199625492096, 0.7192284464836121, 0.2615376114845276, 0.9641984105110168, 0.9263794422149658, 0.9930513501167297, 0.9680938124656677, 0.9157420992851257, 0.9486638307571411, 0.9678587913513184, 0.8830613493919373, 0.09461371600627899, 0.9559375643730164, 0.98308926820755, 0.9711402654647827, 0.3408656418323517, 0.6438573002815247, 0.9477078318595886, 0.9128022789955139, 0.9856809973716736, 0.6208536028862, 0.2956445813179016, 0.05912891775369644, 0.6784248948097229, 0.3041214942932129, 0.941650390625, 0.9915347099304199, 0.9483817219734192, 0.9860451221466064, 0.963564932346344, 0.9728093147277832, 0.3780066967010498, 0.5670100450515747, 0.9477354884147644, 0.9848654270172119, 0.1742158979177475, 0.21293054521083832, 0.5420050024986267, 0.05807196721434593, 0.9823392629623413, 0.9235548973083496, 0.06664829701185226, 0.9178118705749512, 0.991043746471405, 0.9712005853652954, 0.9765872359275818, 0.9451395273208618, 0.8915618658065796, 0.1839107722043991, 0.7816208004951477, 0.9721019268035889, 0.8163138031959534, 0.168892502784729, 0.979310154914856, 0.9498379230499268, 0.6321457028388977, 0.3687516748905182, 0.9767499566078186, 0.39159902930259705, 0.594650387763977, 0.9539288878440857, 0.9473809003829956, 0.9898117780685425, 0.9563072919845581, 0.9767530560493469, 0.9373008608818054, 0.9881352782249451, 0.9927773475646973, 0.33566173911094666, 0.5187499523162842, 0.12205880880355835, 0.9286484122276306, 0.8718444108963013, 0.12260311841964722, 0.8859243988990784, 0.991576075553894, 0.8483211398124695, 0.12724816799163818, 0.970405638217926, 0.9887982606887817, 0.19680751860141754, 0.27553054690361023, 0.5116995573043823, 0.9912285804748535, 0.10467273741960526, 0.6908400654792786, 0.12560728192329407, 0.08373819291591644, 0.977581799030304, 0.9863612651824951, 0.9569107890129089, 0.968643307685852, 0.9582332372665405, 0.947025716304779, 0.9891521334648132, 0.9687913060188293, 0.9603850245475769, 0.9187757968902588, 0.07469721883535385, 0.8651862144470215, 0.13264179229736328, 0.559076189994812, 0.43753787875175476, 0.971701979637146, 0.9974167943000793, 0.9112064242362976, 0.944313108921051, 0.9923480749130249, 0.5729666352272034, 0.3262726664543152, 0.04774722084403038, 0.04774722084403038, 0.751239538192749, 0.2449694275856018, 0.9150077700614929, 0.24411609768867493, 0.7323482632637024, 0.8961941003799438, 0.022404851391911507, 0.08215112239122391, 0.9547733664512634, 0.09433314204216003, 0.5345544815063477, 0.3458881974220276, 0.9830816984176636, 0.9695424437522888, 0.9363147616386414, 0.968312680721283, 0.9906344413757324, 0.9701436758041382, 0.8742983341217041, 0.9970197677612305, 0.9698885679244995, 0.962846040725708, 0.5173031091690063, 0.48035287857055664, 0.9695614576339722, 0.9805177450180054, 0.9630678296089172, 0.6918469071388245, 0.2767387628555298, 0.9302978515625, 0.0664498433470726, 0.9432001709938049, 0.9794667363166809, 0.9833707213401794, 0.9937979578971863, 0.88681560754776, 0.08868156373500824, 0.9712104797363281, 0.9827353358268738, 0.902576208114624, 0.95191490650177, 0.33531615138053894, 0.6706323027610779, 0.9923979043960571, 0.8518589735031128, 0.143169566988945, 0.9484590888023376, 0.972787082195282, 0.8712854385375977, 0.09335201233625412, 0.9422120451927185, 0.932319164276123, 0.998310923576355, 0.5415433645248413, 0.4541976749897003, 0.9720495939254761, 0.9853042364120483, 0.9671573042869568, 0.956200361251831, 0.9378123879432678, 0.9473108649253845, 0.9749234318733215, 0.9325160980224609, 0.9674361944198608, 0.957608163356781, 0.9284344911575317, 0.9825147390365601, 0.7814200520515442, 0.2016567885875702, 0.9924561977386475, 0.9431352019309998, 0.9918484091758728, 0.9684681296348572, 0.9526482224464417, 0.9967435598373413, 0.993466854095459, 0.9754906892776489, 0.9026142954826355, 0.9587096571922302, 0.9934476017951965, 0.9705439805984497, 0.9646674990653992, 0.8179567456245422, 0.16359135508537292, 0.9490561485290527, 0.9280657172203064, 0.06827731430530548, 0.9926629662513733], \"Term\": [\"apple\", \"club\", \"club\", \"com watch\", \"google\", \"www youtube\", \"\\u0430\\u0432\\u0442\\u043e\\u0431\\u0443\\u0441\", \"\\u0430\\u0434\\u0432\\u043e\\u043a\\u0430\\u0442\", \"\\u0430\\u0434\\u043c\\u0438\\u043d\\u0438\\u0441\\u0442\\u0440\\u0430\\u0446\\u0438\\u044f\", \"\\u0430\\u043a\\u0442\\u0451\\u0440\", \"\\u0430\\u043b\\u0435\\u043a\\u0441\\u0430\\u043d\\u0434\\u0440\", \"\\u0430\\u043b\\u0435\\u043a\\u0441\\u0430\\u043d\\u0434\\u0440\", \"\\u0430\\u043b\\u0435\\u043a\\u0441\\u0430\\u043d\\u0434\\u0440\", \"\\u0430\\u043b\\u044c\\u0431\\u043e\\u043c\", \"\\u0430\\u043c\\u0435\\u0440\\u0438\\u043a\\u0430\\u043d\\u0435\\u0446\", \"\\u0430\\u043c\\u0435\\u0440\\u0438\\u043a\\u0430\\u043d\\u0441\\u043a\\u0438\\u0439\", \"\\u0430\\u043c\\u0435\\u0440\\u0438\\u043a\\u0430\\u043d\\u0441\\u043a\\u0438\\u0439\", \"\\u0430\\u043f\\u0440\\u0435\\u043b\\u044c\", \"\\u0430\\u043f\\u0440\\u0435\\u043b\\u044c\", \"\\u0431\\u0435\\u0437\\u043e\\u043f\\u0430\\u0441\\u043d\\u043e\\u0441\\u0442\\u044c\", \"\\u0431\\u0435\\u0441\\u043f\\u043b\\u0430\\u0442\\u043d\\u044b\\u0439\", \"\\u0431\\u0438\\u0437\\u043d\\u0435\\u0441\", \"\\u0431\\u0438\\u043b\\u0435\\u0442\", \"\\u0431\\u043e\\u043b\\u044c\\u043d\\u0438\\u0446\\u0430\", \"\\u0431\\u043e\\u043b\\u044c\\u043d\\u0438\\u0446\\u0430\", \"\\u0431\\u043e\\u043b\\u044c\\u043d\\u0438\\u0446\\u0430\", \"\\u0431\\u043e\\u043b\\u044c\\u0448\\u043e\\u044f\", \"\\u0431\\u043e\\u043c\\u0431\\u0430\", \"\\u0431\\u043e\\u0440\\u0442\", \"\\u0431\\u0440\\u0438\\u0442\\u0430\\u043d\\u0441\\u043a\\u0438\\u0439\", \"\\u0431\\u0443\\u0434\\u0443\\u0449\\u0435\\u0435\", \"\\u0432\\u0430\\u0436\\u043d\\u044b\\u0439\", \"\\u0432\\u0432\\u0435\\u0441\\u0442\\u0438\", \"\\u0432\\u0435\\u0440\\u043d\\u0443\\u0442\\u044c\", \"\\u0432\\u0438\\u0447\", \"\\u0432\\u043a\\u043b\\u044e\\u0447\\u0430\\u044f\", \"\\u0432\\u043a\\u043e\\u043d\\u0442\\u0430\\u043a\\u0442\\u0435\", \"\\u0432\\u043b\\u0430\\u0441\\u0442\\u044c\", \"\\u0432\\u043e\\u0434\\u0438\\u0442\\u0435\\u043b\\u044c\", \"\\u0432\\u043e\\u0435\\u043d\\u043d\\u044b\\u0439\", \"\\u0432\\u043e\\u0435\\u043d\\u043d\\u044b\\u0439\", \"\\u0432\\u043e\\u0435\\u043d\\u043d\\u044b\\u0439\", \"\\u0432\\u043e\\u043e\\u0431\\u0449\\u0435\", \"\\u0432\\u043e\\u043f\\u0440\\u043e\\u0441\", \"\\u0432\\u043e\\u043f\\u0440\\u043e\\u0441\", \"\\u0432\\u043f\\u0435\\u0440\\u0432\\u044b\\u0435\", \"\\u0432\\u043f\\u0435\\u0440\\u0432\\u044b\\u0435\", \"\\u0432\\u0440\\u0435\\u043c\\u044f\", \"\\u0432\\u0440\\u0435\\u043c\\u044f\", \"\\u0432\\u0441\\u0442\\u0443\\u043f\\u0438\\u0442\\u044c \\u0441\\u0438\\u043b\\u0430\", \"\\u0432\\u0442\\u043e\\u0440\\u043e\\u0439\", \"\\u0432\\u044b\\u0434\\u0430\\u0432\\u0430\\u0442\\u044c\", \"\\u0432\\u044b\\u043f\\u0443\\u0441\\u0442\\u0438\\u0442\\u044c\", \"\\u0432\\u044b\\u043f\\u0443\\u0441\\u0442\\u0438\\u0442\\u044c\", \"\\u0432\\u044b\\u0441\\u043a\\u0430\\u0437\\u0430\\u0442\\u044c\\u0441\\u044f\", \"\\u0432\\u044b\\u0441\\u0442\\u0443\\u043f\\u043b\\u0435\\u043d\\u0438\\u0435\", \"\\u0432\\u044b\\u0445\\u043e\\u0434\", \"\\u0433\\u0435\\u043d\\u043f\\u0440\\u043e\\u043a\\u0443\\u0440\\u0430\\u0442\\u0443\\u0440\\u0430\", \"\\u0433\\u043b\\u0430\\u0432\\u0430\", \"\\u0433\\u043b\\u0430\\u0432\\u043d\\u044b\\u0439\", \"\\u0433\\u043e\\u0432\\u043e\\u0440\\u044f\\u0442\", \"\\u0433\\u043e\\u0432\\u043e\\u0440\\u044f\\u0442\", \"\\u0433\\u043e\\u0432\\u043e\\u0440\\u044f\\u0442\", \"\\u0433\\u043e\\u0434\", \"\\u0433\\u043e\\u0434\", \"\\u0433\\u043e\\u0434\", \"\\u0433\\u043e\\u0434\", \"\\u0433\\u043e\\u0434\", \"\\u0433\\u043e\\u0440\\u043e\\u0434\", \"\\u0433\\u043e\\u0441\\u0434\\u0443\\u043c\\u0430\", \"\\u0433\\u0440\\u0430\\u043d\\u0438\\u0446\\u0430\", \"\\u0433\\u0440\\u0443\\u043f\\u043f\\u0430\", \"\\u0433\\u0440\\u0443\\u043f\\u043f\\u0430\", \"\\u0433\\u0440\\u0443\\u043f\\u043f\\u0430\", \"\\u0434\\u0430\\u0442\\u044c\", \"\\u0434\\u0432\\u0430\", \"\\u0434\\u0435\\u043b\\u0430\\u0442\\u044c\", \"\\u0434\\u0435\\u043b\\u0430\\u0442\\u044c\", \"\\u0434\\u0435\\u043b\\u043e\", \"\\u0434\\u0435\\u043d\\u044c\", \"\\u0434\\u0435\\u043d\\u044c\", \"\\u0434\\u0435\\u043d\\u044c\", \"\\u0434\\u0435\\u043d\\u044c\", \"\\u0434\\u0435\\u0440\\u0436\\u0430\\u0442\\u044c\", \"\\u0434\\u0435\\u044f\\u0442\\u0435\\u043b\\u044c\\u043d\\u043e\\u0441\\u0442\\u044c\", \"\\u0434\\u0435\\u044f\\u0442\\u0435\\u043b\\u044c\\u043d\\u043e\\u0441\\u0442\\u044c\", \"\\u0434\\u0435\\u044f\\u0442\\u0435\\u043b\\u044c\\u043d\\u043e\\u0441\\u0442\\u044c\", \"\\u0434\\u043e\\u0431\\u0430\\u0432\\u0438\\u0442\\u044c\", \"\\u0434\\u043e\\u0433\\u043e\\u0432\\u043e\\u0440\", \"\\u0434\\u043e\\u043b\\u0433\", \"\\u0434\\u043e\\u043c\", \"\\u0434\\u043e\\u043c\", \"\\u0434\\u0440\\u0443\\u0433\\u043e\\u0439 \\u043d\\u043e\\u0432\\u043e\\u0441\\u0442\\u044c\", \"\\u0434\\u0440\\u0443\\u0433\\u043e\\u0439 \\u043d\\u043e\\u0432\\u043e\\u0441\\u0442\\u044c\", \"\\u0435\\u0432\\u0440\\u043e\", \"\\u0435\\u0432\\u0440\\u043e\\u0432\\u0438\\u0434\\u0435\\u043d\\u0438\\u0435\", \"\\u0435\\u0432\\u0440\\u043e\\u043f\\u0430\", \"\\u0435\\u043a\\u0430\\u0442\\u0435\\u0440\\u0438\\u043d\\u0431\\u0443\\u0440\\u0433\", \"\\u0435\\u043a\\u0430\\u0442\\u0435\\u0440\\u0438\\u043d\\u0431\\u0443\\u0440\\u0433\", \"\\u0436\\u0435\\u043d\\u0449\\u0438\\u043d\\u0430\", \"\\u0436\\u0438\\u0442\\u0435\\u043b\\u044c\", \"\\u0436\\u0438\\u0442\\u0435\\u043b\\u044c\", \"\\u0436\\u0438\\u0442\\u0435\\u043b\\u044c\", \"\\u0436\\u0438\\u0442\\u044c\", \"\\u0436\\u0438\\u0442\\u044c\", \"\\u0436\\u0438\\u0442\\u044c\", \"\\u0437\\u0430\\u0432\\u043e\\u0434\", \"\\u0437\\u0430\\u0434\\u0435\\u0440\\u0436\\u0430\\u0442\\u044c\", \"\\u0437\\u0430\\u043a\\u043e\\u043d\\u043e\\u043f\\u0440\\u043e\\u0435\\u043a\\u0442\", \"\\u0437\\u0430\\u043a\\u0440\\u044b\\u0442\\u044b\\u0439\", \"\\u0437\\u0430\\u043a\\u0440\\u044b\\u0442\\u044c\", \"\\u0437\\u0430\\u043f\\u0440\\u0435\\u0442\", \"\\u0437\\u0430\\u043f\\u0440\\u0435\\u0442\\u0438\\u0442\\u044c\", \"\\u0437\\u0430\\u043f\\u0440\\u0435\\u0442\\u0438\\u0442\\u044c\", \"\\u0437\\u0430\\u0449\\u0438\\u0442\\u0430\", \"\\u0437\\u0430\\u044f\\u0432\\u0438\\u0442\\u044c\", \"\\u0437\\u0430\\u044f\\u0432\\u043b\\u0435\\u043d\\u0438\\u0435\", \"\\u0437\\u0434\\u0430\\u043d\\u0438\\u0435\", \"\\u0438\\u0433\\u0440\\u0430\\u0442\\u044c\", \"\\u0438\\u0434\\u0435\\u044f\", \"\\u0438\\u0437\\u043c\\u0435\\u043d\\u0435\\u043d\\u0438\\u0435\", \"\\u0438\\u0437\\u043e\\u0431\\u0440\\u0430\\u0436\\u0435\\u043d\\u0438\\u0435\", \"\\u0438\\u043c\\u0435\\u043d\\u043d\\u043e\", \"\\u0438\\u043d\\u0442\\u0435\\u0440\\u043d\\u0435\\u0442\", \"\\u0438\\u043d\\u0442\\u0435\\u0440\\u043d\\u0435\\u0442\", \"\\u0438\\u043d\\u0444\\u043e\\u0440\\u043c\\u0430\\u0446\\u0438\\u044f\", \"\\u0438\\u043d\\u0444\\u043e\\u0440\\u043c\\u0430\\u0446\\u0438\\u044f\", \"\\u0438\\u043d\\u0444\\u043e\\u0440\\u043c\\u0430\\u0446\\u0438\\u044f\", \"\\u0438\\u043d\\u0444\\u043e\\u0440\\u043c\\u0430\\u0446\\u0438\\u044f\", \"\\u0438\\u0441\\u043a\\u0430\\u0442\\u044c\", \"\\u0438\\u0441\\u043a\\u0430\\u0442\\u044c\", \"\\u0438\\u0441\\u043f\\u043e\\u043b\\u043d\\u044f\\u0442\\u044c\", \"\\u0438\\u0441\\u0441\\u043b\\u0435\\u0434\\u043e\\u0432\\u0430\\u0442\\u0435\\u043b\\u044c\", \"\\u0438\\u0441\\u0442\\u043e\\u0440\\u0438\\u044f\", \"\\u0438\\u0441\\u0442\\u043e\\u0440\\u0438\\u044f\", \"\\u043a\\u0430\\u043a\\u043e\\u0439\", \"\\u043a\\u0430\\u043a\\u043e\\u0439\", \"\\u043a\\u0430\\u043a\\u043e\\u0439\", \"\\u043a\\u0430\\u043c\\u0435\\u0440\\u0430\", \"\\u043a\\u0430\\u043d\\u0430\\u0434\\u0430\", \"\\u043a\\u0430\\u0440\\u0442\\u0430\", \"\\u043a\\u0430\\u0440\\u0442\\u0438\\u043d\\u0430\", \"\\u043a\\u0438\\u043b\\u043e\\u0433\\u0440\\u0430\\u043c\\u043c\", \"\\u043a\\u0438\\u043c \\u0447\\u0435\\u043d\", \"\\u043a\\u0438\\u043d\\u043e\", \"\\u043a\\u043d\\u0438\\u0433\\u0430\", \"\\u043a\\u043e\\u043c\\u0430\\u043d\\u0434\\u0430\", \"\\u043a\\u043e\\u043c\\u043f\\u0430\\u043d\\u0438\\u044f\", \"\\u043a\\u043e\\u043c\\u043f\\u0430\\u043d\\u0438\\u044f\", \"\\u043a\\u043e\\u043d\\u0446\\u0435\\u0440\\u0442\", \"\\u043a\\u043e\\u0442\\u043e\\u0440\\u044b\\u0439\", \"\\u043a\\u043e\\u0442\\u043e\\u0440\\u044b\\u0439\", \"\\u043a\\u0440\\u0430\\u0441\\u043d\\u043e\\u044f\\u0440\\u0441\\u043a\", \"\\u043a\\u0440\\u0435\\u0434\\u0438\\u0442\", \"\\u043a\\u0440\\u0443\\u043f\\u043d\\u0435\\u0438\\u043d\\u0443\\u0442\\u044c\", \"\\u043a\\u0440\\u0443\\u043f\\u043d\\u044b\\u0439\", \"\\u043a\\u0440\\u044b\\u043c\", \"\\u043a\\u0440\\u044b\\u0448\\u0430\", \"\\u043b\\u0435\\u0432\\u0430\\u0434\\u0430 \\u0446\\u0435\\u043d\\u0442\\u0440\", \"\\u043b\\u0435\\u043a\\u0446\\u0438\\u044f\", \"\\u043b\\u0435\\u043d\\u0442\\u0430\\u0447\", \"\\u043b\\u0435\\u043d\\u0442\\u0430\\u0447\", \"\\u043b\\u0435\\u043d\\u0442\\u0430\\u0447 \\u0431\\u0438\\u043b\\u0435\\u0442\", \"\\u043b\\u0435\\u0447\\u0435\\u043d\\u0438\\u0435\", \"\\u043b\\u0438\\u0446\\u043e\", \"\\u043b\\u0438\\u0447\\u043d\\u044b\\u0439\", \"\\u043b\\u043e\\u0432\\u0438\\u0442\\u044c\", \"\\u043b\\u0443\\u0447\\u0448\\u0438\\u0435\", \"\\u043c\\u0430\\u0439\", \"\\u043c\\u0430\\u0439\", \"\\u043c\\u0430\\u043b\\u0435\\u043d\\u044c\\u043a\\u0438\\u0439\", \"\\u043c\\u0430\\u043b\\u0435\\u043d\\u044c\\u043a\\u0438\\u0439\", \"\\u043c\\u0430\\u043b\\u0435\\u043d\\u044c\\u043a\\u0438\\u0439\", \"\\u043c\\u0430\\u0440\\u0448\", \"\\u043c\\u0430\\u0448\\u0438\\u043d\\u0430\", \"\\u043c\\u0435\\u0441\\u0442\\u043d\\u044b\\u0439 \\u0436\\u0438\\u0442\\u0435\\u043b\\u044c\", \"\\u043c\\u0435\\u0441\\u0442\\u043e\", \"\\u043c\\u0435\\u0441\\u0442\\u043e\", \"\\u043c\\u0438\\u043b\\u043b\\u0438\\u043e\\u043d\", \"\\u043c\\u0438\\u043d\\u043a\\u0443\\u043b\\u044c\\u0442\", \"\\u043c\\u0438\\u0442\\u0438\\u043d\\u0433 \\u043f\\u0440\\u043e\\u0442\\u0438\\u0432\", \"\\u043c\\u043d\\u0435\\u043d\\u0438\\u0435\", \"\\u043c\\u043e\\u0431\\u0438\\u043b\\u044c\\u043d\\u044b\\u0439\", \"\\u043c\\u043e\\u0441\\u043a\\u0432\\u0430\", \"\\u043c\\u043e\\u0441\\u043a\\u0432\\u0430\", \"\\u043c\\u043e\\u0447\\u044c\", \"\\u043c\\u043e\\u0447\\u044c\", \"\\u043c\\u0443\\u0436\\u0447\\u0438\\u043d\\u0430\", \"\\u043c\\u0443\\u0437\\u0435\\u0439\", \"\\u043c\\u0443\\u0437\\u044b\\u043a\\u0430\", \"\\u043c\\u0443\\u0437\\u044b\\u043a\\u0430\", \"\\u043c\\u0447\\u0441\", \"\\u043d\\u0430\\u0432\\u0430\\u043b\\u044c\\u043d\\u044b\\u0439\", \"\\u043d\\u0430\\u043f\\u0438\\u0441\\u0430\\u0442\\u044c\", \"\\u043d\\u0430\\u043f\\u0438\\u0441\\u0430\\u0442\\u044c\", \"\\u043d\\u0430\\u043f\\u0438\\u0441\\u0430\\u0442\\u044c\", \"\\u043d\\u0430\\u0441\\u0435\\u043b\\u0435\\u043d\\u0438\\u0435\", \"\\u043d\\u0430\\u0445\\u043e\\u0434\\u0438\\u0442\\u044c\\u0441\\u044f\", \"\\u043d\\u0430\\u0445\\u043e\\u0434\\u0438\\u0442\\u044c\\u0441\\u044f\", \"\\u043d\\u0430\\u0445\\u043e\\u0434\\u0438\\u0442\\u044c\\u0441\\u044f\", \"\\u043d\\u0430\\u0446\\u0438\\u043e\\u043d\\u0430\\u043b\\u044c\\u043d\\u044b\\u0439\", \"\\u043d\\u0430\\u0447\\u0430\\u0442\\u044c\", \"\\u043d\\u0435\\u043e\\u0431\\u0445\\u043e\\u0434\\u0438\\u043c\\u044b\\u0439\", \"\\u043d\\u0435\\u0441\\u043a\\u043e\\u043b\\u044c\\u043a\\u043e\", \"\\u043d\\u0435\\u0441\\u043a\\u043e\\u043b\\u044c\\u043a\\u043e \\u0433\\u043e\\u0434\", \"\\u043d\\u0435\\u044f\", \"\\u043d\\u043e\\u0432\\u044b\\u0439\", \"\\u043d\\u043e\\u0432\\u044b\\u044f\", \"\\u043d\\u0443\\u0436\\u043d\\u044b\\u0439\", \"\\u043e\\u0431\\u043b\\u0430\\u0441\\u0442\\u044c\", \"\\u043e\\u0431\\u0440\\u0430\\u0437\", \"\\u043e\\u0431\\u0440\\u0430\\u0442\\u0438\\u0442\\u044c\\u0441\\u044f\", \"\\u043e\\u0431\\u0440\\u0443\\u0448\\u0438\\u0442\\u044c\\u0441\\u044f\", \"\\u043e\\u0434\\u0438\\u043d\", \"\\u043e\\u0434\\u0438\\u043d\", \"\\u043e\\u0434\\u0438\\u043d \\u0441\\u0430\\u043c\\u044b\\u0439\", \"\\u043e\\u043f\\u0440\\u043e\\u0441\", \"\\u043e\\u0441\\u043a\\u0430\\u0440\", \"\\u043e\\u0442\\u0434\\u0430\\u0442\\u044c\", \"\\u043e\\u0442\\u043c\\u0435\\u043d\\u0438\\u0442\\u044c\", \"\\u043e\\u0442\\u043f\\u0440\\u0430\\u0432\\u0438\\u0442\\u044c\", \"\\u043e\\u0442\\u043f\\u0440\\u0430\\u0432\\u0438\\u0442\\u044c\", \"\\u043e\\u0444\\u0438\\u0441\", \"\\u043e\\u0444\\u0438\\u0446\\u0438\\u0430\\u043b\\u044c\\u043d\\u043e\", \"\\u043e\\u0448\\u0442\\u0440\\u0430\\u0444\\u043e\\u0432\\u0430\\u0442\\u044c\", \"\\u043f\\u0430\\u0431\\u043b\\u0438\\u043a\", \"\\u043f\\u0430\\u043a\\u0435\\u0442\", \"\\u043f\\u0430\\u0440\\u0438\\u0436\", \"\\u043f\\u0430\\u0441\\u043f\\u043e\\u0440\\u0442\", \"\\u043f\\u0430\\u0441\\u0441\\u0430\\u0436\\u0438\\u0440\", \"\\u043f\\u0430\\u0441\\u0441\\u0430\\u0436\\u0438\\u0440\", \"\\u043f\\u0430\\u0446\\u0438\\u0435\\u043d\\u0442\", \"\\u043f\\u0435\\u043d\\u0441\\u0438\\u043e\\u043d\\u0435\\u0440\", \"\\u043f\\u0435\\u043d\\u0441\\u0438\\u044f\", \"\\u043f\\u0435\\u0440\\u0432\\u043e\\u0435\", \"\\u043f\\u0435\\u0440\\u0432\\u043e\\u0435\", \"\\u043f\\u0435\\u0441\\u043d\\u044f\", \"\\u043f\\u0435\\u0441\\u043e\\u043a\", \"\\u043f\\u0435\\u0442\\u0435\\u0440\\u0431\\u0443\\u0440\\u0433\", \"\\u043f\\u0438\\u0441\\u0430\\u0442\\u044c\", \"\\u043f\\u0438\\u0441\\u0430\\u0442\\u044c\", \"\\u043f\\u0438\\u0441\\u0430\\u0442\\u044c\", \"\\u043f\\u043b\\u0430\\u043d\\u0438\\u0440\\u043e\\u0432\\u0430\\u0442\\u044c\", \"\\u043f\\u043b\\u0430\\u043d\\u0438\\u0440\\u043e\\u0432\\u0430\\u0442\\u044c\", \"\\u043f\\u043b\\u043e\\u0445\\u043e\", \"\\u043f\\u043e\\u0431\\u0435\\u0434\\u0430\", \"\\u043f\\u043e\\u0432\\u043e\\u0434\", \"\\u043f\\u043e\\u0433\\u0438\\u0431\\u043d\\u0443\\u0442\\u044c \\u0447\\u0435\\u043b\\u043e\\u0432\\u0435\\u043a\", \"\\u043f\\u043e\\u0434\\u0430\\u0440\\u0438\\u0442\\u044c\", \"\\u043f\\u043e\\u0434\\u0434\\u0435\\u0440\\u0436\\u0430\\u0442\\u044c\", \"\\u043f\\u043e\\u0434\\u0440\\u043e\\u0431\\u043d\\u043e\\u0441\\u0442\\u044c\", \"\\u043f\\u043e\\u0434\\u0440\\u043e\\u0431\\u043d\\u043e\\u0441\\u0442\\u044c\", \"\\u043f\\u043e\\u0436\\u0430\\u043b\\u043e\\u0432\\u0430\\u0442\\u044c\\u0441\\u044f\", \"\\u043f\\u043e\\u0436\\u0430\\u0440\", \"\\u043f\\u043e\\u043a\\u0430\", \"\\u043f\\u043e\\u043a\\u0430\", \"\\u043f\\u043e\\u043a\\u0430\", \"\\u043f\\u043e\\u043a\\u0430\", \"\\u043f\\u043e\\u043a\\u0430\\u0437\\u0430\\u0442\\u044c\", \"\\u043f\\u043e\\u043b\\u0438\\u0446\\u0438\\u044f\", \"\\u043f\\u043e\\u043b\\u0438\\u0446\\u0438\\u044f\", \"\\u043f\\u043e\\u043b\\u043e\\u0432\\u0438\\u043d\\u0430\", \"\\u043f\\u043e\\u043b\\u0443\\u0447\\u0430\\u0442\\u044c\", \"\\u043f\\u043e\\u043b\\u044c\\u0437\\u043e\\u0432\\u0430\\u0442\\u0435\\u043b\\u0435\\u0439\", \"\\u043f\\u043e\\u043b\\u044c\\u0437\\u043e\\u0432\\u0430\\u0442\\u0435\\u043b\\u044c\", \"\\u043f\\u043e\\u043b\\u0451\\u0442\", \"\\u043f\\u043e\\u043c\\u0435\\u0448\\u0430\\u0442\\u044c\", \"\\u043f\\u043e\\u043e\\u0431\\u0435\\u0449\\u0430\\u0442\\u044c\", \"\\u043f\\u043e\\u043e\\u0431\\u0435\\u0449\\u0430\\u0442\\u044c\", \"\\u043f\\u043e\\u043f\", \"\\u043f\\u043e\\u043f\\u0440\\u043e\\u0441\\u0438\\u0442\\u044c\", \"\\u043f\\u043e\\u043f\\u0440\\u043e\\u0441\\u0438\\u0442\\u044c\", \"\\u043f\\u043e\\u043f\\u044b\\u0442\\u0430\\u0442\\u044c\\u0441\\u044f\", \"\\u043f\\u043e\\u0441\\u043b\\u0435\\u0434\\u043d\\u0438\\u0439 \\u0433\\u043e\\u0434\", \"\\u043f\\u043e\\u0441\\u0442\", \"\\u043f\\u043e\\u0441\\u0442\", \"\\u043f\\u043e\\u0447\\u0435\\u043c\\u0443\", \"\\u043f\\u043e\\u0447\\u0438\\u0442\\u0430\\u0438\\u0442\\u044c\", \"\\u043f\\u043e\\u0447\\u0438\\u0442\\u0430\\u0438\\u0442\\u044c\", \"\\u043f\\u0440\\u0430\\u0432\\u0434\\u0430\", \"\\u043f\\u0440\\u0435\\u0434\\u043e\\u0441\\u0442\\u0430\\u0432\\u0438\\u0442\\u044c\", \"\\u043f\\u0440\\u0435\\u0437\\u0438\\u0434\\u0435\\u043d\\u0442\", \"\\u043f\\u0440\\u0435\\u043c\\u0438\\u044f\", \"\\u043f\\u0440\\u0435\\u0441\\u0442\\u0443\\u043f\\u043b\\u0435\\u043d\\u0438\\u0435\", \"\\u043f\\u0440\\u0438\\u043b\\u043e\\u0436\\u0435\\u043d\\u0438\\u0435\", \"\\u043f\\u0440\\u0438\\u043d\\u044f\\u0442\\u044c\", \"\\u043f\\u0440\\u043e\\u0434\\u0430\\u0436\\u0430\", \"\\u043f\\u0440\\u043e\\u0439\\u0442\\u0438\", \"\\u043f\\u0440\\u043e\\u0439\\u0442\\u0438\", \"\\u043f\\u0440\\u043e\\u0439\\u0442\\u0438\", \"\\u043f\\u0440\\u043e\\u0448\\u043b\\u043e\\u0435 \\u0433\\u043e\\u0434\", \"\\u043f\\u0443\\u0442\\u0438\\u043d\", \"\\u043f\\u0443\\u0442\\u0438\\u043d\", \"\\u043f\\u0443\\u0442\\u044c\", \"\\u0440\\u0430\\u0431\\u043e\\u0442\\u0430\", \"\\u0440\\u0430\\u0434\\u0438\\u043e\\u043b\\u0435\\u043d\\u0442\\u0430\\u0447\", \"\\u0440\\u0430\\u0434\\u0438\\u043e\\u043b\\u0435\\u043d\\u0442\\u0430\\u0447\", \"\\u0440\\u0430\\u0437\\u0432\\u0438\\u0442\\u0438\\u0435\", \"\\u0440\\u0430\\u0441\\u0441\\u043a\\u0430\\u0437\\u0430\\u0442\\u044c\", \"\\u0440\\u0430\\u0441\\u0441\\u043a\\u0430\\u0437\\u044b\\u0432\\u0430\\u0442\\u044c\", \"\\u0440\\u0430\\u0441\\u0441\\u043a\\u0430\\u0437\\u044b\\u0432\\u0430\\u0442\\u044c\", \"\\u0440\\u0430\\u0441\\u0441\\u043a\\u0430\\u0437\\u044b\\u0432\\u0430\\u0442\\u044c\", \"\\u0440\\u0435\\u0431\\u0451\\u043d\\u043e\\u043a\", \"\\u0440\\u0435\\u0433\\u0438\\u043e\\u043d\", \"\\u0440\\u0435\\u0433\\u0438\\u043e\\u043d\", \"\\u0440\\u0435\\u0433\\u0438\\u043e\\u043d\", \"\\u0440\\u0435\\u0433\\u0438\\u043e\\u043d\", \"\\u0440\\u0435\\u0436\\u0438\\u0441\\u0441\\u0451\\u0440\", \"\\u0440\\u0435\\u0437\\u0443\\u043b\\u044c\\u0442\\u0430\\u0442\", \"\\u0440\\u0435\\u043a\\u043b\\u0430\\u043c\\u0430\", \"\\u0440\\u0435\\u0448\\u0435\\u043d\\u0438\\u0435\", \"\\u0440\\u043e\\u0434\\u0438\\u0442\\u0435\\u043b\\u0435\\u0439\", \"\\u0440\\u043e\\u043a\", \"\\u0440\\u043e\\u043a \\u0433\\u0440\\u0443\\u043f\\u043f\\u0430\", \"\\u0440\\u043e\\u043b\\u044c\", \"\\u0440\\u043e\\u0441\\u043a\\u043e\\u0441\\u043c\\u043e\\u0441\", \"\\u0440\\u043e\\u0441\\u0441\\u0438\\u0438\\u0441\\u043a\\u0438\\u0439\", \"\\u0440\\u043e\\u0441\\u0441\\u0438\\u0438\\u0441\\u043a\\u0438\\u0439\", \"\\u0440\\u043e\\u0441\\u0441\\u0438\\u044f\", \"\\u0440\\u043e\\u0441\\u0441\\u0438\\u044f\", \"\\u0440\\u043e\\u0441\\u0441\\u0438\\u044f\\u043d\\u0438\\u043d\", \"\\u0440\\u043e\\u0441\\u0441\\u0438\\u044f\\u043d\\u0438\\u043d\", \"\\u0440\\u043e\\u0441\\u0441\\u0442\\u0430\\u0442\", \"\\u0440\\u0443\\u0431\\u043b\\u0435\\u0439\", \"\\u0440\\u044b\\u043d\\u043e\\u043a\", \"\\u0440\\u044d\\u043f\\u0435\\u0440\", \"\\u0441\\u0430\\u043c\\u043e\\u043b\\u0451\\u0442\", \"\\u0441\\u0430\\u043c\\u044b\\u0439\", \"\\u0441\\u0430\\u043c\\u044b\\u0439\", \"\\u0441\\u0430\\u043c\\u044b\\u0439\", \"\\u0441\\u0430\\u043c\\u044b\\u0439\", \"\\u0441\\u0432\\u043e\\u0439\", \"\\u0441\\u0432\\u043e\\u0439\", \"\\u0441\\u0432\\u044f\\u0437\\u0430\\u043d\\u043d\\u044b\\u0439\", \"\\u0441\\u0434\\u0435\\u043b\\u0430\\u0442\\u044c\", \"\\u0441\\u0434\\u0435\\u043b\\u0430\\u0442\\u044c\", \"\\u0441\\u0435\\u0433\\u043e\\u0434\\u043d\\u044f\", \"\\u0441\\u0435\\u0433\\u043e\\u0434\\u043d\\u044f\", \"\\u0441\\u0435\\u0433\\u043e\\u0434\\u043d\\u044f\", \"\\u0441\\u0435\\u0433\\u043e\\u0434\\u043d\\u044f \\u043e\\u0442\\u043c\\u0435\\u0447\\u0430\\u0442\\u044c\\u0441\\u044f\", \"\\u0441\\u043a\", \"\\u0441\\u043a\", \"\\u0441\\u043a\", \"\\u0441\\u043a\\u0430\\u0437\\u0430\\u0442\\u044c\", \"\\u0441\\u043a\\u043e\\u043b\\u044c\\u043a\\u043e\", \"\\u0441\\u043a\\u043e\\u043d\\u0447\\u0430\\u0442\\u044c\\u0441\\u044f\", \"\\u0441\\u043b\\u0435\\u0434\\u0438\\u0442\\u044c\", \"\\u0441\\u043b\\u043e\\u0432\\u043e\", \"\\u0441\\u043b\\u0443\\u0447\\u0430\\u0439\", \"\\u0441\\u043b\\u0443\\u0447\\u0438\\u0442\\u044c\\u0441\\u044f\", \"\\u0441\\u043c\\u0438\", \"\\u0441\\u043d\\u0435\\u0433\", \"\\u0441\\u043e\\u0431\\u0430\\u043a\\u0430\", \"\\u0441\\u043e\\u0431\\u0438\\u0440\\u0430\\u0442\\u044c\\u0441\\u044f\", \"\\u0441\\u043e\\u0431\\u0438\\u0440\\u0430\\u0442\\u044c\\u0441\\u044f\", \"\\u0441\\u043e\\u0431\\u0440\\u0430\\u0442\\u044c\", \"\\u0441\\u043e\\u0432\\u0435\\u0442\\u0441\\u043a\\u0438\\u0439\", \"\\u0441\\u043e\\u0437\\u0434\\u0430\\u0442\\u0435\\u043b\\u044c\", \"\\u0441\\u043e\\u0437\\u0434\\u0430\\u0442\\u044c\", \"\\u0441\\u043e\\u0437\\u0434\\u0430\\u0442\\u044c\", \"\\u0441\\u043e\\u043e\\u0431\\u0449\\u0438\\u0442\\u044c\", \"\\u0441\\u043e\\u043e\\u0431\\u0449\\u0438\\u0442\\u044c\", \"\\u0441\\u043e\\u0441\\u0442\\u043e\\u044f\\u043d\\u0438\\u0435\", \"\\u0441\\u043e\\u0441\\u0442\\u043e\\u044f\\u0442\\u044c\\u0441\\u044f\", \"\\u0441\\u043e\\u0442\\u043d\\u044f\", \"\\u0441\\u043e\\u0442\\u0440\\u0443\\u0434\\u043d\\u0438\\u043a\", \"\\u0441\\u043e\\u0446\\u0441\\u0435\\u0442\\u044c\", \"\\u0441\\u043e\\u0446\\u0441\\u0435\\u0442\\u044c\", \"\\u0441\\u043f\\u0430\\u0441\\u0430\\u0442\\u0435\\u043b\\u044c\", \"\\u0441\\u043f\\u0438\\u0441\\u043e\\u043a\", \"\\u0441\\u043f\\u043e\\u0441\\u043e\\u0431\\u043d\\u044b\\u0439\", \"\\u0441\\u0440\\u0435\\u0434\\u0441\\u0442\\u0432\\u043e\", \"\\u0441\\u0441\\u0441\\u0440\", \"\\u0441\\u0441\\u0441\\u0440\", \"\\u0441\\u0442\\u0430\\u0442\\u044c\", \"\\u0441\\u0442\\u0440\\u0430\\u043d\\u0430\", \"\\u0441\\u0442\\u0440\\u0430\\u043d\\u0430\", \"\\u0441\\u0442\\u0440\\u0435\\u043b\\u044c\\u0431\\u0430\", \"\\u0441\\u0442\\u0440\\u043e\\u0438\\u0442\\u0435\\u043b\\u044c\\u0441\\u0442\\u0432\\u043e\", \"\\u0441\\u0442\\u0443\\u0434\\u0435\\u043d\\u0442\", \"\\u0441\\u0442\\u0443\\u0434\\u0435\\u043d\\u0442\", \"\\u0441\\u0443\\u043c\\u043c\\u0430\", \"\\u0441\\u0443\\u0442\\u043a\\u0438\", \"\\u0441\\u0448\\u0430\", \"\\u0442\\u0430\\u043a\\u043e\\u0439\", \"\\u0442\\u0430\\u043a\\u043e\\u0439\", \"\\u0442\\u0432\\u043e\\u0439\", \"\\u0442\\u0440\\u0430\\u0434\\u0438\\u0446\\u0438\\u043e\\u043d\\u043d\\u044b\\u0439 \\u0440\\u0430\\u0434\\u0438\\u043e\\u043b\\u0435\\u043d\\u0442\\u0430\\u0447\", \"\\u0442\\u0440\\u0430\\u043d\\u0441\\u043b\\u044f\\u0446\\u0438\\u044f\", \"\\u0442\\u0443\\u0440\", \"\\u0443\\u0431\\u0440\\u0430\\u0442\\u044c\", \"\\u0443\\u0433\\u0440\\u043e\\u0437\\u0430\", \"\\u0443\\u0434\\u0430\\u043b\\u0438\\u0442\\u044c\", \"\\u0443\\u0441\\u043b\\u043e\\u0432\\u0438\\u0435\", \"\\u0443\\u0441\\u0442\\u0430\\u043d\\u043e\\u0432\\u0438\\u0442\\u044c\", \"\\u0443\\u0441\\u0442\\u0440\\u043e\\u0438\\u0441\\u0442\\u0432\\u043e\", \"\\u0443\\u0442\\u043e\\u0447\\u043d\\u0438\\u0442\\u044c\", \"\\u0443\\u0447\\u0435\\u043d\\u0438\\u043a\", \"\\u0444\\u0435\\u0432\\u0440\\u0430\\u043b\\u044c\", \"\\u0444\\u0435\\u0432\\u0440\\u0430\\u043b\\u044c\", \"\\u0444\\u0438\\u043b\\u044c\\u043c\", \"\\u0444\\u043e\\u043d\\u0434\", \"\\u0445\\u043e\\u0440\\u043e\\u0448\\u0438\\u0439\", \"\\u0445\\u0440\\u0430\\u043c\", \"\\u0446\\u0435\\u0440\\u043a\\u043e\\u0432\\u044c\", \"\\u0447\\u0435\\u043b\\u043e\\u0432\\u0435\\u043a\", \"\\u0447\\u0438\\u043d\\u043e\\u0432\\u043d\\u0438\\u043a\", \"\\u0447\\u0438\\u043d\\u043e\\u0432\\u043d\\u0438\\u0446\\u0430\", \"\\u0448\\u0435\\u0440\\u0435\\u043c\\u0435\\u0442\\u044c\\u0435\\u0432\\u043e\", \"\\u0448\\u0435\\u0441\\u0442\\u044c\", \"\\u0448\\u043a\\u043e\\u043b\\u0430\", \"\\u0448\\u0440\\u0438 \\u043b\\u0430\\u043d\\u043a\\u0430\", \"\\u0448\\u0442\\u0430\\u0442\", \"\\u0448\\u0442\\u0440\\u0430\\u0444\", \"\\u0448\\u0442\\u0440\\u0430\\u0444\", \"\\u044d\\u043b\\u0435\\u043a\\u0442\\u0440\\u043e\\u043d\\u043d\\u044b\\u0439\", \"\\u044d\\u0442\\u043e \\u0447\\u0430\\u0441\", \"\\u044d\\u0442\\u043e \\u0447\\u0430\\u0441\", \"\\u044d\\u0442\\u043e\\u0442\"]}, \"R\": 30, \"lambda.step\": 0.01, \"plot.opts\": {\"xlab\": \"PC1\", \"ylab\": \"PC2\"}, \"topic.order\": [5, 8, 1, 6, 3, 4, 7, 2]};\n",
       "\n",
       "function LDAvis_load_lib(url, callback){\n",
       "  var s = document.createElement('script');\n",
       "  s.src = url;\n",
       "  s.async = true;\n",
       "  s.onreadystatechange = s.onload = callback;\n",
       "  s.onerror = function(){console.warn(\"failed to load library \" + url);};\n",
       "  document.getElementsByTagName(\"head\")[0].appendChild(s);\n",
       "}\n",
       "\n",
       "if(typeof(LDAvis) !== \"undefined\"){\n",
       "   // already loaded: just create the visualization\n",
       "   !function(LDAvis){\n",
       "       new LDAvis(\"#\" + \"ldavis_el1667349467963601758993069\", ldavis_el1667349467963601758993069_data);\n",
       "   }(LDAvis);\n",
       "}else if(typeof define === \"function\" && define.amd){\n",
       "   // require.js is available: use it to load d3/LDAvis\n",
       "   require.config({paths: {d3: \"https://cdnjs.cloudflare.com/ajax/libs/d3/3.5.5/d3.min\"}});\n",
       "   require([\"d3\"], function(d3){\n",
       "      window.d3 = d3;\n",
       "      LDAvis_load_lib(\"https://cdn.rawgit.com/bmabey/pyLDAvis/files/ldavis.v1.0.0.js\", function(){\n",
       "        new LDAvis(\"#\" + \"ldavis_el1667349467963601758993069\", ldavis_el1667349467963601758993069_data);\n",
       "      });\n",
       "    });\n",
       "}else{\n",
       "    // require.js not available: dynamically load d3 & LDAvis\n",
       "    LDAvis_load_lib(\"https://cdnjs.cloudflare.com/ajax/libs/d3/3.5.5/d3.min.js\", function(){\n",
       "         LDAvis_load_lib(\"https://cdn.rawgit.com/bmabey/pyLDAvis/files/ldavis.v1.0.0.js\", function(){\n",
       "                 new LDAvis(\"#\" + \"ldavis_el1667349467963601758993069\", ldavis_el1667349467963601758993069_data);\n",
       "            })\n",
       "         });\n",
       "}\n",
       "</script>"
      ],
      "text/plain": [
       "PreparedData(topic_coordinates=              x         y  topics  cluster       Freq\n",
       "topic                                                \n",
       "4     -0.365385  0.012317       1        1  37.076828\n",
       "7     -0.031460 -0.240071       2        1  14.520186\n",
       "0     -0.006676  0.245034       3        1  13.430570\n",
       "5      0.100254 -0.015381       4        1   9.395811\n",
       "2      0.086706 -0.004858       5        1   8.632192\n",
       "3      0.064568 -0.020411       6        1   6.793750\n",
       "6      0.080414  0.021716       7        1   6.128387\n",
       "1      0.071580  0.001653       8        1   4.022282, topic_info=     Category        Freq                      Term       Total  loglift  \\\n",
       "term                                                                       \n",
       "251   Default  451.000000                   который  451.000000  30.0000   \n",
       "210   Default  395.000000                   это час  395.000000  29.0000   \n",
       "191   Default  392.000000            другой новость  392.000000  28.0000   \n",
       "232   Default  241.000000                   человек  241.000000  27.0000   \n",
       "27    Default  331.000000                    россия  331.000000  26.0000   \n",
       "1659  Default  102.000000                    рублей  102.000000  25.0000   \n",
       "552   Default  101.000000                    группа  101.000000  24.0000   \n",
       "189   Default   78.000000  традиционный радиолентач   78.000000  23.0000   \n",
       "17    Default   87.000000                     фильм   87.000000  22.0000   \n",
       "28    Default  244.000000                      свой  244.000000  21.0000   \n",
       "735   Default   71.000000                   самолёт   71.000000  20.0000   \n",
       "473   Default  169.000000                     город  169.000000  19.0000   \n",
       "642   Default  165.000000                   заявить  165.000000  18.0000   \n",
       "1745  Default   70.000000                     место   70.000000  17.0000   \n",
       "110   Default  170.000000                      один  170.000000  16.0000   \n",
       "36    Default  200.000000                     время  200.000000  15.0000   \n",
       "103   Default  389.000000                       год  389.000000  14.0000   \n",
       "640   Default   74.000000                       дом   74.000000  13.0000   \n",
       "263   Default  151.000000                       сша  151.000000  12.0000   \n",
       "218   Default  172.000000                    москва  172.000000  11.0000   \n",
       "243   Default  149.000000                     стать  149.000000  10.0000   \n",
       "1106  Default  141.000000                    власть  141.000000   9.0000   \n",
       "114   Default  123.000000                 россиянин  123.000000   8.0000   \n",
       "18    Default   59.000000                   хороший   59.000000   7.0000   \n",
       "273   Default  128.000000                      дело  128.000000   6.0000   \n",
       "608   Default   85.000000                  интернет   85.000000   5.0000   \n",
       "366   Default  114.000000                     такой  114.000000   4.0000   \n",
       "23    Default   55.000000              законопроект   55.000000   3.0000   \n",
       "1938  Default  116.000000                     школа  116.000000   2.0000   \n",
       "929   Default   64.000000                    лентач   64.000000   1.0000   \n",
       "...       ...         ...                       ...         ...      ...   \n",
       "2169   Topic8   12.509966                обратиться   13.203934   3.1593   \n",
       "10     Topic8   11.940681             последний год   12.633735   3.1569   \n",
       "6521   Topic8   11.824175                 мобильный   12.517262   3.1564   \n",
       "6341   Topic8   11.837156                устроиство   12.531221   3.1563   \n",
       "2175   Topic8   11.493001               шереметьево   12.186822   3.1547   \n",
       "6376   Topic8   11.333724                   закрыть   12.027082   3.1539   \n",
       "1676   Topic8   10.920385                    кредит   11.613959   3.1517   \n",
       "2082   Topic8    9.969928                    убрать   10.663114   3.1461   \n",
       "69     Topic8    9.776036                    нужный   10.469559   3.1448   \n",
       "1156   Topic8    9.465165                      путь   10.158880   3.1426   \n",
       "1443   Topic8    9.193713              национальный    9.887261   3.1406   \n",
       "3206   Topic8    9.063761             исследователь    9.757017   3.1396   \n",
       "2078   Topic8    8.601449                   следить    9.294518   3.1358   \n",
       "9574   Topic8    8.196463                обрушиться    8.890317   3.1321   \n",
       "3506   Topic8    8.169428                 способный    8.863518   3.1318   \n",
       "2122   Topic8    8.110154                один самый    8.803597   3.1313   \n",
       "2598   Topic8    8.070625                     песок    8.764220   3.1309   \n",
       "2015   Topic8    8.043115                     пакет    8.736084   3.1307   \n",
       "3501   Topic8    8.027615               изображение    8.721314   3.1304   \n",
       "1674   Topic8    7.488707                 изменение    8.182306   3.1247   \n",
       "2054   Topic8    7.313451                 случиться    8.006420   3.1228   \n",
       "6187   Topic8    7.157988                  помешать    7.851390   3.1209   \n",
       "1670   Topic8    7.122393             вступить сила    7.815543   3.1205   \n",
       "1671   Topic8    7.011996                  выдавать    7.705513   3.1190   \n",
       "1832   Topic8    6.747409               крупнеинуть    7.441211   3.1154   \n",
       "1072   Topic8    8.872163                    искать   13.188591   2.8169   \n",
       "3017   Topic8    7.696718                      ссср   11.929041   2.7751   \n",
       "1018   Topic8    7.859347                 маленький   17.047796   2.4390   \n",
       "3135   Topic8    8.255347                 отправить   30.588333   1.9036   \n",
       "452    Topic8    7.444485              деятельность   12.013432   2.7348   \n",
       "\n",
       "      logprob  \n",
       "term           \n",
       "251   30.0000  \n",
       "210   29.0000  \n",
       "191   28.0000  \n",
       "232   27.0000  \n",
       "27    26.0000  \n",
       "1659  25.0000  \n",
       "552   24.0000  \n",
       "189   23.0000  \n",
       "17    22.0000  \n",
       "28    21.0000  \n",
       "735   20.0000  \n",
       "473   19.0000  \n",
       "642   18.0000  \n",
       "1745  17.0000  \n",
       "110   16.0000  \n",
       "36    15.0000  \n",
       "103   14.0000  \n",
       "640   13.0000  \n",
       "263   12.0000  \n",
       "218   11.0000  \n",
       "243   10.0000  \n",
       "1106   9.0000  \n",
       "114    8.0000  \n",
       "18     7.0000  \n",
       "273    6.0000  \n",
       "608    5.0000  \n",
       "366    4.0000  \n",
       "23     3.0000  \n",
       "1938   2.0000  \n",
       "929    1.0000  \n",
       "...       ...  \n",
       "2169  -5.4834  \n",
       "10    -5.5300  \n",
       "6521  -5.5398  \n",
       "6341  -5.5387  \n",
       "2175  -5.5682  \n",
       "6376  -5.5822  \n",
       "1676  -5.6193  \n",
       "2082  -5.7104  \n",
       "69    -5.7300  \n",
       "1156  -5.7624  \n",
       "1443  -5.7915  \n",
       "3206  -5.8057  \n",
       "2078  -5.8580  \n",
       "9574  -5.9063  \n",
       "3506  -5.9096  \n",
       "2122  -5.9169  \n",
       "2598  -5.9217  \n",
       "2015  -5.9252  \n",
       "3501  -5.9271  \n",
       "1674  -5.9966  \n",
       "2054  -6.0203  \n",
       "6187  -6.0417  \n",
       "1670  -6.0467  \n",
       "1671  -6.0624  \n",
       "1832  -6.1008  \n",
       "1072  -5.8271  \n",
       "3017  -5.9692  \n",
       "1018  -5.9483  \n",
       "3135  -5.8991  \n",
       "452   -6.0025  \n",
       "\n",
       "[360 rows x 6 columns], token_table=       Topic      Freq           Term\n",
       "term                                 \n",
       "872        6  0.981993          apple\n",
       "1329       2  0.531291           club\n",
       "1329       6  0.455393           club\n",
       "2808       7  0.972666      com watch\n",
       "190        3  0.972707         google\n",
       "2812       7  0.972666    www youtube\n",
       "4046       7  0.959052        автобус\n",
       "2972       5  0.945969        адвокат\n",
       "4301       6  0.970899  администрация\n",
       "2221       5  0.960181          актёр\n",
       "449        2  0.091662      александр\n",
       "449        3  0.763852      александр\n",
       "449        5  0.122216      александр\n",
       "720        4  0.971153         альбом\n",
       "5019       6  0.932050     американец\n",
       "1860       4  0.640860   американский\n",
       "1860       5  0.360484   американский\n",
       "6036       2  0.895741         апрель\n",
       "6036       7  0.099527         апрель\n",
       "155        5  0.968097   безопасность\n",
       "3431       6  0.949603     бесплатный\n",
       "3669       7  0.952479         бизнес\n",
       "3247       6  0.955672          билет\n",
       "1053       3  0.120077       больница\n",
       "1053       5  0.552355       больница\n",
       "1053       7  0.336216       больница\n",
       "1184       6  0.963167        большоя\n",
       "7404       7  0.936854          бомба\n",
       "2427       4  0.955950           борт\n",
       "186        4  0.954206     британский\n",
       "...      ...       ...            ...\n",
       "9033       6  0.956200            тур\n",
       "2082       8  0.937812         убрать\n",
       "2220       5  0.947311         угроза\n",
       "3258       2  0.974923        удалить\n",
       "1452       7  0.932516        условие\n",
       "885        2  0.967436     установить\n",
       "6341       8  0.957608     устроиство\n",
       "5683       4  0.928434       уточнить\n",
       "2561       4  0.982515         ученик\n",
       "13370      3  0.781420        февраль\n",
       "13370      6  0.201657        февраль\n",
       "17         3  0.992456          фильм\n",
       "2639       4  0.943135           фонд\n",
       "18         3  0.991848        хороший\n",
       "529        3  0.968468           храм\n",
       "1051       5  0.952648        церковь\n",
       "232        1  0.996744        человек\n",
       "209        2  0.993467       чиновник\n",
       "2463       6  0.975491      чиновница\n",
       "2175       8  0.902614    шереметьево\n",
       "870        4  0.958710          шесть\n",
       "1938       1  0.993448          школа\n",
       "8728       4  0.970544      шри ланка\n",
       "2647       4  0.964667           штат\n",
       "772        4  0.817957          штраф\n",
       "772        5  0.163591          штраф\n",
       "558        6  0.949056    электронный\n",
       "210        1  0.928066        это час\n",
       "210        3  0.068277        это час\n",
       "1681       2  0.992663           этот\n",
       "\n",
       "[419 rows x 3 columns], R=30, lambda_step=0.01, plot_opts={'xlab': 'PC1', 'ylab': 'PC2'}, topic_order=[5, 8, 1, 6, 3, 4, 7, 2])"
      ]
     },
     "execution_count": 98,
     "metadata": {},
     "output_type": "execute_result"
    }
   ],
   "source": [
    "pyLDAvis.enable_notebook()\n",
    "vis = pyLDAvis.gensim.prepare(lda_model, corpus, id2word)\n",
    "vis"
   ]
  },
  {
   "cell_type": "code",
   "execution_count": 99,
   "metadata": {},
   "outputs": [
    {
     "name": "stdout",
     "output_type": "stream",
     "text": [
      "[(0,\n",
      "  '0.009*\"фильм\" + 0.006*\"хороший\" + 0.006*\"интернет\" + 0.005*\"законопроект\" + '\n",
      "  '0.005*\"россиянин\" + 0.004*\"житель\" + 0.004*\"россия\" + 0.004*\"лучшие\" + '\n",
      "  '0.004*\"новыя\" + 0.004*\"концерт\"'),\n",
      " (1,\n",
      "  '0.005*\"завод\" + 0.005*\"личный\" + 0.004*\"вернуть\" + 0.004*\"добавить\" + '\n",
      "  '0.004*\"попытаться\" + 0.004*\"обратиться\" + 0.004*\"последний год\" + '\n",
      "  '0.004*\"устроиство\" + 0.004*\"мобильный\" + 0.004*\"шереметьево\"'),\n",
      " (2,\n",
      "  '0.005*\"граница\" + 0.004*\"пока\" + 0.004*\"отменить\" + 0.004*\"актёр\" + '\n",
      "  '0.004*\"делать\" + 0.003*\"больница\" + 0.003*\"отправить\" + 0.003*\"погибнуть '\n",
      "  'человек\" + 0.003*\"житель\" + 0.003*\"безопасность\"'),\n",
      " (3,\n",
      "  '0.006*\"администрация\" + 0.005*\"club\" + 0.004*\"apple\" + 0.004*\"лентач\" + '\n",
      "  '0.004*\"пост\" + 0.004*\"мнение\" + 0.003*\"образ\" + 0.003*\"билет\" + '\n",
      "  '0.003*\"пройти\" + 0.003*\"важный\"'),\n",
      " (4,\n",
      "  '0.013*\"который\" + 0.013*\"это час\" + 0.013*\"другой новость\" + 0.012*\"год\" + '\n",
      "  '0.010*\"россия\" + 0.009*\"человек\" + 0.007*\"время\" + 0.007*\"свой\" + '\n",
      "  '0.006*\"один\" + 0.006*\"город\"'),\n",
      " (5,\n",
      "  '0.012*\"группа\" + 0.011*\"традиционный радиолентач\" + 0.010*\"самолёт\" + '\n",
      "  '0.005*\"сделать\" + 0.005*\"американский\" + 0.004*\"пассажир\" + 0.004*\"альбом\" '\n",
      "  '+ 0.004*\"навальный\" + 0.004*\"год\" + 0.004*\"рок группа\"'),\n",
      " (6,\n",
      "  '0.010*\"место\" + 0.006*\"дом\" + 0.005*\"сотня\" + 0.005*\"жить\" + '\n",
      "  '0.004*\"находиться\" + 0.004*\"мчс\" + 0.004*\"радиолентач\" + 0.004*\"машина\" + '\n",
      "  '0.004*\"пожаловаться\" + 0.004*\"роскосмос\"'),\n",
      " (7,\n",
      "  '0.009*\"рублей\" + 0.007*\"который\" + 0.006*\"свой\" + 0.005*\"такой\" + '\n",
      "  '0.004*\"чиновник\" + 0.004*\"лентач\" + 0.004*\"самый\" + 0.004*\"почитаить\" + '\n",
      "  '0.004*\"мочь\" + 0.004*\"показать\"')]\n"
     ]
    }
   ],
   "source": [
    "pprint(lda_model.print_topics())"
   ]
  },
  {
   "cell_type": "code",
   "execution_count": 100,
   "metadata": {},
   "outputs": [
    {
     "name": "stdout",
     "output_type": "stream",
     "text": [
      "\n",
      "Perplexity:  -9.334742566811663\n",
      "\n",
      "Coherence Score:  0.4509353998341119\n"
     ]
    }
   ],
   "source": [
    "# Compute Perplexity\n",
    "print('\\nPerplexity: ', lda_model.log_perplexity(corpus))  # a measure of how good the model is. lower the better.\n",
    "\n",
    "# Compute Coherence Score\n",
    "coherence_model_lda = CoherenceModel(model=lda_model, texts=data_words_bigrams, dictionary=id2word, coherence='c_v')\n",
    "coherence_lda = coherence_model_lda.get_coherence()\n",
    "print('\\nCoherence Score: ', coherence_lda)"
   ]
  },
  {
   "cell_type": "markdown",
   "metadata": {},
   "source": [
    "Визуально действительно получились неплохие группы. Попробуем теперь описать тематику всего сообщества в целом"
   ]
  },
  {
   "cell_type": "code",
   "execution_count": 102,
   "metadata": {},
   "outputs": [],
   "source": [
    "lda_model = gensim.models.ldamodel.LdaModel(\n",
    "        corpus=corpus,\n",
    "        id2word=id2word,\n",
    "        num_topics=1, \n",
    "        random_state=100,\n",
    "        update_every=1,\n",
    "        chunksize=500,\n",
    "        passes=50,\n",
    "        alpha='auto');"
   ]
  },
  {
   "cell_type": "code",
   "execution_count": 103,
   "metadata": {},
   "outputs": [
    {
     "name": "stdout",
     "output_type": "stream",
     "text": [
      "[(0,\n",
      "  '0.005*\"который\" + 0.005*\"год\" + 0.005*\"это час\" + 0.005*\"другой новость\" + '\n",
      "  '0.004*\"россия\" + 0.003*\"свой\" + 0.003*\"человек\" + 0.002*\"время\" + '\n",
      "  '0.002*\"москва\" + 0.002*\"один\"')]\n"
     ]
    }
   ],
   "source": [
    "pprint(lda_model.print_topics())"
   ]
  },
  {
   "cell_type": "markdown",
   "metadata": {},
   "source": [
    "Получили похожий на правду результат: Лентач - новостной аггрегатор, рассказывающий о России и о том, как люди в ней живут"
   ]
  },
  {
   "cell_type": "code",
   "execution_count": null,
   "metadata": {},
   "outputs": [],
   "source": []
  },
  {
   "cell_type": "code",
   "execution_count": null,
   "metadata": {},
   "outputs": [],
   "source": []
  },
  {
   "cell_type": "code",
   "execution_count": null,
   "metadata": {},
   "outputs": [],
   "source": []
  }
 ],
 "metadata": {
  "kernelspec": {
   "display_name": "Python 3",
   "language": "python",
   "name": "python3"
  },
  "language_info": {
   "codemirror_mode": {
    "name": "ipython",
    "version": 3
   },
   "file_extension": ".py",
   "mimetype": "text/x-python",
   "name": "python",
   "nbconvert_exporter": "python",
   "pygments_lexer": "ipython3",
   "version": "3.7.1"
  }
 },
 "nbformat": 4,
 "nbformat_minor": 2
}
