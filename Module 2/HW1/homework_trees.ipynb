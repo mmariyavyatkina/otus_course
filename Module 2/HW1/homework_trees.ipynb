{
 "cells": [
  {
   "cell_type": "markdown",
   "metadata": {},
   "source": [
    "## Дерево решений"
   ]
  },
  {
   "cell_type": "markdown",
   "metadata": {},
   "source": [
    "Задание\n",
    "1. Построить геометрическую интерпретацию критерия Джини()\n",
    "2. Применить дерево решений из sklearn для задачи Titanic на kaggle (заполнив пропуски).  \n",
    "Применить кросс-валидацию для подбора параметров и выбрать лучшие(например с помощью **GridSearchCV** из sklearn).  \n",
    "Написать отчет о результатах."
   ]
  },
  {
   "cell_type": "code",
   "execution_count": 234,
   "metadata": {},
   "outputs": [],
   "source": [
    "import warnings\n",
    "warnings.filterwarnings(\"ignore\")\n",
    "\n",
    "import matplotlib.pyplot as plt\n",
    "import numpy as np\n",
    "import pandas as pd\n",
    "\n",
    "from scipy import optimize\n",
    "from sklearn.metrics import accuracy_score\n",
    "\n",
    "from sklearn.pipeline import Pipeline\n",
    "from sklearn.preprocessing import StandardScaler\n",
    "from sklearn.model_selection import GridSearchCV\n",
    "from sklearn.impute import SimpleImputer\n",
    "from sklearn.tree import DecisionTreeClassifier\n",
    "\n",
    "%matplotlib inline"
   ]
  },
  {
   "cell_type": "code",
   "execution_count": 235,
   "metadata": {},
   "outputs": [
    {
     "data": {
      "text/html": [
       "<div>\n",
       "<style scoped>\n",
       "    .dataframe tbody tr th:only-of-type {\n",
       "        vertical-align: middle;\n",
       "    }\n",
       "\n",
       "    .dataframe tbody tr th {\n",
       "        vertical-align: top;\n",
       "    }\n",
       "\n",
       "    .dataframe thead th {\n",
       "        text-align: right;\n",
       "    }\n",
       "</style>\n",
       "<table border=\"1\" class=\"dataframe\">\n",
       "  <thead>\n",
       "    <tr style=\"text-align: right;\">\n",
       "      <th></th>\n",
       "      <th>PassengerId</th>\n",
       "      <th>Survived</th>\n",
       "      <th>Pclass</th>\n",
       "      <th>Name</th>\n",
       "      <th>Sex</th>\n",
       "      <th>Age</th>\n",
       "      <th>SibSp</th>\n",
       "      <th>Parch</th>\n",
       "      <th>Ticket</th>\n",
       "      <th>Fare</th>\n",
       "      <th>Cabin</th>\n",
       "      <th>Embarked</th>\n",
       "    </tr>\n",
       "  </thead>\n",
       "  <tbody>\n",
       "    <tr>\n",
       "      <th>0</th>\n",
       "      <td>1</td>\n",
       "      <td>0</td>\n",
       "      <td>3</td>\n",
       "      <td>Braund, Mr. Owen Harris</td>\n",
       "      <td>male</td>\n",
       "      <td>22.0</td>\n",
       "      <td>1</td>\n",
       "      <td>0</td>\n",
       "      <td>A/5 21171</td>\n",
       "      <td>7.2500</td>\n",
       "      <td>NaN</td>\n",
       "      <td>S</td>\n",
       "    </tr>\n",
       "    <tr>\n",
       "      <th>1</th>\n",
       "      <td>2</td>\n",
       "      <td>1</td>\n",
       "      <td>1</td>\n",
       "      <td>Cumings, Mrs. John Bradley (Florence Briggs Th...</td>\n",
       "      <td>female</td>\n",
       "      <td>38.0</td>\n",
       "      <td>1</td>\n",
       "      <td>0</td>\n",
       "      <td>PC 17599</td>\n",
       "      <td>71.2833</td>\n",
       "      <td>C85</td>\n",
       "      <td>C</td>\n",
       "    </tr>\n",
       "  </tbody>\n",
       "</table>\n",
       "</div>"
      ],
      "text/plain": [
       "   PassengerId  Survived  Pclass  \\\n",
       "0            1         0       3   \n",
       "1            2         1       1   \n",
       "\n",
       "                                                Name     Sex   Age  SibSp  \\\n",
       "0                            Braund, Mr. Owen Harris    male  22.0      1   \n",
       "1  Cumings, Mrs. John Bradley (Florence Briggs Th...  female  38.0      1   \n",
       "\n",
       "   Parch     Ticket     Fare Cabin Embarked  \n",
       "0      0  A/5 21171   7.2500   NaN        S  \n",
       "1      0   PC 17599  71.2833   C85        C  "
      ]
     },
     "execution_count": 235,
     "metadata": {},
     "output_type": "execute_result"
    }
   ],
   "source": [
    "train = pd.read_csv('else/titanic-43529-840b22/train.csv', sep=',')\n",
    "train.head(2)"
   ]
  },
  {
   "cell_type": "code",
   "execution_count": 236,
   "metadata": {},
   "outputs": [
    {
     "data": {
      "text/html": [
       "<div>\n",
       "<style scoped>\n",
       "    .dataframe tbody tr th:only-of-type {\n",
       "        vertical-align: middle;\n",
       "    }\n",
       "\n",
       "    .dataframe tbody tr th {\n",
       "        vertical-align: top;\n",
       "    }\n",
       "\n",
       "    .dataframe thead th {\n",
       "        text-align: right;\n",
       "    }\n",
       "</style>\n",
       "<table border=\"1\" class=\"dataframe\">\n",
       "  <thead>\n",
       "    <tr style=\"text-align: right;\">\n",
       "      <th></th>\n",
       "      <th>PassengerId</th>\n",
       "      <th>Pclass</th>\n",
       "      <th>Name</th>\n",
       "      <th>Sex</th>\n",
       "      <th>Age</th>\n",
       "      <th>SibSp</th>\n",
       "      <th>Parch</th>\n",
       "      <th>Ticket</th>\n",
       "      <th>Fare</th>\n",
       "      <th>Cabin</th>\n",
       "      <th>Embarked</th>\n",
       "      <th>Survived</th>\n",
       "    </tr>\n",
       "  </thead>\n",
       "  <tbody>\n",
       "    <tr>\n",
       "      <th>0</th>\n",
       "      <td>892</td>\n",
       "      <td>3</td>\n",
       "      <td>Kelly, Mr. James</td>\n",
       "      <td>male</td>\n",
       "      <td>34.5</td>\n",
       "      <td>0</td>\n",
       "      <td>0</td>\n",
       "      <td>330911</td>\n",
       "      <td>7.8292</td>\n",
       "      <td>NaN</td>\n",
       "      <td>Q</td>\n",
       "      <td>0</td>\n",
       "    </tr>\n",
       "    <tr>\n",
       "      <th>1</th>\n",
       "      <td>893</td>\n",
       "      <td>3</td>\n",
       "      <td>Wilkes, Mrs. James (Ellen Needs)</td>\n",
       "      <td>female</td>\n",
       "      <td>47.0</td>\n",
       "      <td>1</td>\n",
       "      <td>0</td>\n",
       "      <td>363272</td>\n",
       "      <td>7.0000</td>\n",
       "      <td>NaN</td>\n",
       "      <td>S</td>\n",
       "      <td>1</td>\n",
       "    </tr>\n",
       "  </tbody>\n",
       "</table>\n",
       "</div>"
      ],
      "text/plain": [
       "   PassengerId  Pclass                              Name     Sex   Age  SibSp  \\\n",
       "0          892       3                  Kelly, Mr. James    male  34.5      0   \n",
       "1          893       3  Wilkes, Mrs. James (Ellen Needs)  female  47.0      1   \n",
       "\n",
       "   Parch  Ticket    Fare Cabin Embarked  Survived  \n",
       "0      0  330911  7.8292   NaN        Q         0  \n",
       "1      0  363272  7.0000   NaN        S         1  "
      ]
     },
     "execution_count": 236,
     "metadata": {},
     "output_type": "execute_result"
    }
   ],
   "source": [
    "test = pd.read_csv('else/titanic-43529-840b22/test.csv', sep=',')\n",
    "test_targets = pd.read_csv('else/titanic-43529-840b22/gender_submission.csv', sep=',')\n",
    "test = test.assign(Survived = test_targets.Survived)\n",
    "test.head(2)"
   ]
  },
  {
   "cell_type": "code",
   "execution_count": 237,
   "metadata": {},
   "outputs": [
    {
     "name": "stdout",
     "output_type": "stream",
     "text": [
      "train shape - (891, 12)\n",
      "test shape - (418, 12)\n"
     ]
    }
   ],
   "source": [
    "print(f'train shape - {train.shape}')\n",
    "print(f'test shape - {test.shape}')"
   ]
  },
  {
   "cell_type": "markdown",
   "metadata": {},
   "source": [
    "## Бейзлайн Титаника "
   ]
  },
  {
   "cell_type": "code",
   "execution_count": 238,
   "metadata": {},
   "outputs": [
    {
     "data": {
      "text/plain": [
       "Pipeline(memory=None,\n",
       "         steps=[('imputer',\n",
       "                 SimpleImputer(add_indicator=False, copy=True, fill_value=None,\n",
       "                               missing_values=nan, strategy='mean',\n",
       "                               verbose=0)),\n",
       "                ('scaler',\n",
       "                 StandardScaler(copy=True, with_mean=True, with_std=True)),\n",
       "                ('tree',\n",
       "                 DecisionTreeClassifier(class_weight=None, criterion='entropy',\n",
       "                                        max_depth=5, max_features=None,\n",
       "                                        max_leaf_nodes=None,\n",
       "                                        min_impurity_decrease=0.0,\n",
       "                                        min_impurity_split=None,\n",
       "                                        min_samples_leaf=1, min_samples_split=2,\n",
       "                                        min_weight_fraction_leaf=0.0,\n",
       "                                        presort=False, random_state=None,\n",
       "                                        splitter='best'))],\n",
       "         verbose=False)"
      ]
     },
     "execution_count": 238,
     "metadata": {},
     "output_type": "execute_result"
    }
   ],
   "source": [
    "features = ['Pclass', 'Age', 'SibSp', 'Parch', 'Fare']\n",
    "\n",
    "pipeline = Pipeline(steps = [('imputer', SimpleImputer()),\n",
    "                             ('scaler',StandardScaler()),\n",
    "                             ('tree',DecisionTreeClassifier())])\n",
    "grid = {\n",
    "    'tree__criterion' : ['gini', 'entropy'],\n",
    "    'tree__max_depth' : [2,5],  \n",
    "}\n",
    "gridsearch = GridSearchCV(pipeline, grid, cv = 3)     \n",
    "gridsearch.fit(np.array(train.loc[:,features]), np.array(train.Survived))\n",
    "gridsearch.best_estimator_"
   ]
  },
  {
   "cell_type": "code",
   "execution_count": 239,
   "metadata": {},
   "outputs": [
    {
     "data": {
      "text/plain": [
       "0.712682379349046"
      ]
     },
     "execution_count": 239,
     "metadata": {},
     "output_type": "execute_result"
    }
   ],
   "source": [
    "gridsearch.best_score_"
   ]
  },
  {
   "cell_type": "code",
   "execution_count": 240,
   "metadata": {},
   "outputs": [
    {
     "data": {
      "text/plain": [
       "0.6746411483253588"
      ]
     },
     "execution_count": 240,
     "metadata": {},
     "output_type": "execute_result"
    }
   ],
   "source": [
    "simple_predict = gridsearch.predict_proba(np.array(test[features]))\n",
    "accuracy_score(y_pred = gridsearch.predict(np.array(test[features])), y_true = test.Survived)"
   ]
  },
  {
   "cell_type": "markdown",
   "metadata": {},
   "source": [
    "## 1. Геометрическая интерпретация критерия Джини \n",
    "\n",
    "**Задание** Построить график кривой Лоренца (https://habr.com/ru/company/ods/blog/350440/ - абзац с машиным обучением) \n",
    "            для дерева решений с разделением по критерию Джини, используя бейзлайн."
   ]
  },
  {
   "cell_type": "markdown",
   "metadata": {},
   "source": [
    "**Пример**"
   ]
  },
  {
   "cell_type": "code",
   "execution_count": 241,
   "metadata": {},
   "outputs": [
    {
     "data": {
      "image/png": "[encoded data removed]",
      "text/plain": [
       "<Figure size 1008x504 with 2 Axes>"
      ]
     },
     "metadata": {
      "needs_background": "light"
     },
     "output_type": "display_data"
    }
   ],
   "source": [
    "from scipy.interpolate import interp1d\n",
    "from scipy.integrate import quad\n",
    "\n",
    "actual = [1, 1, 1, 1, 1, 1, 0, 0, 0, 0, 0, 0, 0, 0, 0]\n",
    "predict = [0.9, 0.3, 0.8, 0.75, 0.65, 0.6, 0.78, 0.7, 0.05, 0.4, 0.4, 0.05, 0.5, 0.1, 0.1]\n",
    "\n",
    "data = zip(actual, predict)\n",
    "sorted_data = sorted(data, key=lambda d: d[1], reverse=True)\n",
    "sorted_actual = [d[0] for d in sorted_data]\n",
    "\n",
    "cumulative_actual = np.cumsum(sorted_actual) / sum(actual)\n",
    "cumulative_index = np.arange(1, len(cumulative_actual)+1) / len(predict)\n",
    "cumulative_actual_perfect = np.cumsum(sorted(actual, reverse=True)) / sum(actual)\n",
    "\n",
    "x_values = [0] + list(cumulative_index)\n",
    "y_values = [0] + list(cumulative_actual)\n",
    "y_values_perfect = [0] + list(cumulative_actual_perfect)\n",
    "\n",
    "f1, f2 = interp1d(x_values, y_values), interp1d(x_values, y_values_perfect)\n",
    "S_pred = quad(f1, 0, 1, points=x_values)[0] - 0.5\n",
    "S_actual = quad(f2, 0, 1, points=x_values)[0] - 0.5\n",
    "\n",
    "fig, ax = plt.subplots(nrows=1,ncols=2, sharey=True, figsize=(14, 7))\n",
    "ax[0].plot(x_values, y_values, lw = 2, color = 'blue', marker='x')\n",
    "ax[0].fill_between(x_values, x_values, y_values, color = 'blue', alpha=0.1)\n",
    "ax[0].text(0.4,0.2,'S = {:0.4f}'.format(S_pred),fontsize = 28)\n",
    "ax[1].plot(x_values, y_values_perfect, lw = 2, color = 'green', marker='x')\n",
    "ax[1].fill_between(x_values, x_values, y_values_perfect, color = 'green', alpha=0.1)\n",
    "ax[1].text(0.4,0.2,'S = {:0.4f}'.format(S_actual),fontsize = 28)\n",
    "\n",
    "for i in range(2):\n",
    "    ax[i].plot([0,1],[0,1],linestyle = '--',lw = 2,color = 'black')\n",
    "    ax[i].set(title='Коэффициент Джини', xlabel='Кумулятивная доля объектов', \n",
    "              ylabel='Кумулятивная доля истинных классов', xlim=(0, 1), ylim=(0, 1))\n",
    "plt.show();"
   ]
  },
  {
   "cell_type": "markdown",
   "metadata": {},
   "source": [
    "## 2. Контест Титаник\n",
    "\n",
    "Побейте безлайн с помощью дерева решений(почерпнуть идеи можно из  \n",
    "https://www.kaggle.com/anaskad/step-by-step-solving-titanic-problem,  \n",
    "но модель в этом задание ограничивается деревом решений), выполните следующие пункты.  \n",
    "Выберите наиболее сильную модель. Напишите отчет о результатах.\n",
    "\n",
    "\n",
    "- Придумайте, как нужно использовать дополнительные признаки.\n",
    "- Примените One-hot-encoding для категориальных признаков.\n",
    "- Заполнить пропуски\n",
    "- Применить кроссвалидацию\n",
    "- отобрать параметры, например с помощью GridSearchCV"
   ]
  },
  {
   "cell_type": "markdown",
   "metadata": {},
   "source": [
    "#### -----------------------------------------------------------------------------------------------------------------\n",
    "Для начала посмотрим, в каких фичах у нас есть пропущенные значения на train и test датасетах"
   ]
  },
  {
   "cell_type": "code",
   "execution_count": 242,
   "metadata": {
    "scrolled": false
   },
   "outputs": [
    {
     "name": "stdout",
     "output_type": "stream",
     "text": [
      "<class 'pandas.core.frame.DataFrame'>\n",
      "RangeIndex: 891 entries, 0 to 890\n",
      "Data columns (total 12 columns):\n",
      "PassengerId    891 non-null int64\n",
      "Survived       891 non-null int64\n",
      "Pclass         891 non-null int64\n",
      "Name           891 non-null object\n",
      "Sex            891 non-null object\n",
      "Age            714 non-null float64\n",
      "SibSp          891 non-null int64\n",
      "Parch          891 non-null int64\n",
      "Ticket         891 non-null object\n",
      "Fare           891 non-null float64\n",
      "Cabin          204 non-null object\n",
      "Embarked       889 non-null object\n",
      "dtypes: float64(2), int64(5), object(5)\n",
      "memory usage: 83.6+ KB\n",
      "None\n",
      "\n",
      "<class 'pandas.core.frame.DataFrame'>\n",
      "RangeIndex: 418 entries, 0 to 417\n",
      "Data columns (total 12 columns):\n",
      "PassengerId    418 non-null int64\n",
      "Pclass         418 non-null int64\n",
      "Name           418 non-null object\n",
      "Sex            418 non-null object\n",
      "Age            332 non-null float64\n",
      "SibSp          418 non-null int64\n",
      "Parch          418 non-null int64\n",
      "Ticket         418 non-null object\n",
      "Fare           417 non-null float64\n",
      "Cabin          91 non-null object\n",
      "Embarked       418 non-null object\n",
      "Survived       418 non-null int64\n",
      "dtypes: float64(2), int64(5), object(5)\n",
      "memory usage: 39.3+ KB\n",
      "None\n"
     ]
    }
   ],
   "source": [
    "# nans = pd.concat([train.isnull().sum(),test.isnull().sum()], axis=1)\n",
    "# nans[(nans[0] != 0) | (nans[1] != 0)]\n",
    "print(train.info())\n",
    "print()\n",
    "print(test.info())"
   ]
  },
  {
   "cell_type": "markdown",
   "metadata": {},
   "source": [
    "1) Age:\n",
    "    \n",
    "Для возраста заменим пропуски на рандомные значения в диапазоне 1 стандартного отклонения от среднего"
   ]
  },
  {
   "cell_type": "code",
   "execution_count": 243,
   "metadata": {},
   "outputs": [],
   "source": [
    "train_r_ages = np.random.randint(train[\"Age\"].mean() - train[\"Age\"].std(),\n",
    "                                          train[\"Age\"].mean() + train[\"Age\"].std(),\n",
    "                                          size = train[\"Age\"].isnull().sum())\n",
    "\n",
    "test_r_ages = np.random.randint(train[\"Age\"].mean() - train[\"Age\"].std(),\n",
    "                                          train[\"Age\"].mean() + train[\"Age\"].std(),\n",
    "                                          size = test[\"Age\"].isnull().sum())\n",
    "\n",
    "train[\"Age\"][np.isnan(train[\"Age\"])] = train_r_ages\n",
    "test[\"Age\"][np.isnan(test[\"Age\"])] = test_r_ages\n",
    "train['Age'] = train['Age'].astype(int)\n",
    "test['Age'] = test['Age'].astype(int)"
   ]
  },
  {
   "cell_type": "markdown",
   "metadata": {},
   "source": [
    "2) Cabin\n",
    "\n",
    "Пропущенные значения Cabin заменим на \"_\", а от существующих оставим только первые буквы - обозначение палубы. Также посмотрим, как располагаются палубы на корабле"
   ]
  },
  {
   "cell_type": "code",
   "execution_count": 244,
   "metadata": {},
   "outputs": [
    {
     "data": {
      "text/plain": [
       "[['_', 'C', 'E', 'G', 'D', 'A', 'B', 'F', 'T'],\n",
       " ['_', 'B', 'E', 'A', 'C', 'D', 'F', 'G']]"
      ]
     },
     "execution_count": 244,
     "metadata": {},
     "output_type": "execute_result"
    }
   ],
   "source": [
    "chars=[]\n",
    "for df in [train, test]:\n",
    "    df['Cabin'] = df['Cabin'].fillna('_')\n",
    "    df['Cabin'] = np.array(df.Cabin.map(lambda x: str(x)[0])).reshape(-1,1)\n",
    "    chars.append(df['Cabin'].unique().tolist())\n",
    "chars"
   ]
  },
  {
   "cell_type": "markdown",
   "metadata": {},
   "source": [
    "<img src=\"https://upload.wikimedia.org/wikipedia/commons/8/84/Titanic_cutaway_diagram.png\">"
   ]
  },
  {
   "cell_type": "markdown",
   "metadata": {},
   "source": [
    "Судя по всему значение $T$ - ошибка в данных, оно встречается в выборке всего 1 раз, а на чертежах отсутствует."
   ]
  },
  {
   "cell_type": "code",
   "execution_count": 245,
   "metadata": {},
   "outputs": [
    {
     "data": {
      "text/html": [
       "<div>\n",
       "<style scoped>\n",
       "    .dataframe tbody tr th:only-of-type {\n",
       "        vertical-align: middle;\n",
       "    }\n",
       "\n",
       "    .dataframe tbody tr th {\n",
       "        vertical-align: top;\n",
       "    }\n",
       "\n",
       "    .dataframe thead th {\n",
       "        text-align: right;\n",
       "    }\n",
       "</style>\n",
       "<table border=\"1\" class=\"dataframe\">\n",
       "  <thead>\n",
       "    <tr style=\"text-align: right;\">\n",
       "      <th></th>\n",
       "      <th>Age</th>\n",
       "      <th>Cabin</th>\n",
       "      <th>Embarked</th>\n",
       "      <th>Fare</th>\n",
       "      <th>Name</th>\n",
       "      <th>Parch</th>\n",
       "      <th>PassengerId</th>\n",
       "      <th>Pclass</th>\n",
       "      <th>Sex</th>\n",
       "      <th>SibSp</th>\n",
       "      <th>Survived</th>\n",
       "      <th>Ticket</th>\n",
       "    </tr>\n",
       "  </thead>\n",
       "  <tbody>\n",
       "    <tr>\n",
       "      <th>339</th>\n",
       "      <td>45</td>\n",
       "      <td>T</td>\n",
       "      <td>S</td>\n",
       "      <td>35.5</td>\n",
       "      <td>Blackwell, Mr. Stephen Weart</td>\n",
       "      <td>0</td>\n",
       "      <td>340</td>\n",
       "      <td>1</td>\n",
       "      <td>male</td>\n",
       "      <td>0</td>\n",
       "      <td>0</td>\n",
       "      <td>113784</td>\n",
       "    </tr>\n",
       "  </tbody>\n",
       "</table>\n",
       "</div>"
      ],
      "text/plain": [
       "     Age Cabin Embarked  Fare                          Name  Parch  \\\n",
       "339   45     T        S  35.5  Blackwell, Mr. Stephen Weart      0   \n",
       "\n",
       "     PassengerId  Pclass   Sex  SibSp  Survived  Ticket  \n",
       "339          340       1  male      0         0  113784  "
      ]
     },
     "execution_count": 245,
     "metadata": {},
     "output_type": "execute_result"
    }
   ],
   "source": [
    "cabins = pd.concat([train, test], axis=0)\n",
    "cabin_T = cabins[cabins.Cabin == 'T']\n",
    "cabin_T"
   ]
  },
  {
   "cell_type": "markdown",
   "metadata": {},
   "source": [
    "Соединим палубы по группам: A - две верхних палубы, B - две средних, C - три нижних. Значение $T$ положим в последнюю"
   ]
  },
  {
   "cell_type": "code",
   "execution_count": 246,
   "metadata": {},
   "outputs": [],
   "source": [
    "for df in [train, test]:\n",
    "    df['Cabin'] = df['Cabin'].replace(['A', 'B'], 'A')\n",
    "    df['Cabin'] = df['Cabin'].replace(['C', 'D'], 'B')\n",
    "    df['Cabin'] = df['Cabin'].replace(['E', 'F', 'G', 'T'], 'C')"
   ]
  },
  {
   "cell_type": "markdown",
   "metadata": {},
   "source": [
    "3) Embarked:\n",
    "\n",
    "Поскольку S встречается чаще всего, то пропуски в Embarked заменим значением S (далее применим OneHot). "
   ]
  },
  {
   "cell_type": "code",
   "execution_count": 247,
   "metadata": {},
   "outputs": [
    {
     "data": {
      "text/html": [
       "<div>\n",
       "<style scoped>\n",
       "    .dataframe tbody tr th:only-of-type {\n",
       "        vertical-align: middle;\n",
       "    }\n",
       "\n",
       "    .dataframe tbody tr th {\n",
       "        vertical-align: top;\n",
       "    }\n",
       "\n",
       "    .dataframe thead th {\n",
       "        text-align: right;\n",
       "    }\n",
       "</style>\n",
       "<table border=\"1\" class=\"dataframe\">\n",
       "  <thead>\n",
       "    <tr style=\"text-align: right;\">\n",
       "      <th></th>\n",
       "      <th>Name</th>\n",
       "    </tr>\n",
       "    <tr>\n",
       "      <th>Embarked</th>\n",
       "      <th></th>\n",
       "    </tr>\n",
       "  </thead>\n",
       "  <tbody>\n",
       "    <tr>\n",
       "      <th>C</th>\n",
       "      <td>168</td>\n",
       "    </tr>\n",
       "    <tr>\n",
       "      <th>Q</th>\n",
       "      <td>77</td>\n",
       "    </tr>\n",
       "    <tr>\n",
       "      <th>S</th>\n",
       "      <td>644</td>\n",
       "    </tr>\n",
       "  </tbody>\n",
       "</table>\n",
       "</div>"
      ],
      "text/plain": [
       "          Name\n",
       "Embarked      \n",
       "C          168\n",
       "Q           77\n",
       "S          644"
      ]
     },
     "execution_count": 247,
     "metadata": {},
     "output_type": "execute_result"
    }
   ],
   "source": [
    "train.groupby('Embarked').agg({'Name':'count'})"
   ]
  },
  {
   "cell_type": "code",
   "execution_count": 248,
   "metadata": {},
   "outputs": [],
   "source": [
    "for df in [train, test]:\n",
    "    df.Embarked=df.Embarked.fillna('S')"
   ]
  },
  {
   "cell_type": "markdown",
   "metadata": {},
   "source": [
    "4) Fare: пропуск в стоимости билета заполним медианным значением ниже, во время выполнения pipeline"
   ]
  },
  {
   "cell_type": "markdown",
   "metadata": {},
   "source": [
    "Добавим дополнительную фичу: информацию о том, сколько родных было на борту с пассажиром, включая его самого"
   ]
  },
  {
   "cell_type": "code",
   "execution_count": 249,
   "metadata": {},
   "outputs": [],
   "source": [
    "for df in [train, test]:\n",
    "    df['Family_size'] = df.SibSp + df.Parch + 1"
   ]
  },
  {
   "cell_type": "markdown",
   "metadata": {},
   "source": [
    "Каюты закодируем при помощи LabelEncoder"
   ]
  },
  {
   "cell_type": "code",
   "execution_count": 250,
   "metadata": {},
   "outputs": [],
   "source": [
    "from sklearn.preprocessing import LabelEncoder\n",
    "\n",
    "for df in [train, test]:\n",
    "    df['Cabin']= LabelEncoder().fit_transform(df['Cabin'])"
   ]
  },
  {
   "cell_type": "markdown",
   "metadata": {},
   "source": [
    "Остальные категориальные фичи закодируем OneHot-ом, отнормируем фичи Age и созданную Family_size"
   ]
  },
  {
   "cell_type": "code",
   "execution_count": 251,
   "metadata": {},
   "outputs": [],
   "source": [
    "from sklearn.pipeline import make_union, make_pipeline\n",
    "from sklearn.preprocessing import FunctionTransformer, StandardScaler, Imputer, OneHotEncoder, PolynomialFeatures\n",
    "from sklearn.model_selection import GridSearchCV, cross_val_score\n",
    "\n",
    "def cabin(df):\n",
    "    return df[['Cabin']]\n",
    "\n",
    "def sex_pclass_embarked(df):\n",
    "    return df[['Sex', 'Pclass', 'Embarked']]\n",
    "\n",
    "def age_family(df):\n",
    "    return df[['Age', 'Family_size']]\n",
    "\n",
    "def fare(df):\n",
    "    return df[['Fare']]\n",
    "\n",
    "pipe = make_union(*[\n",
    "    make_pipeline(FunctionTransformer(sex_pclass_embarked, validate=False), OneHotEncoder(sparse=False)),\n",
    "    make_pipeline(FunctionTransformer(cabin, validate=False)),\n",
    "    make_pipeline(FunctionTransformer(age_family, validate=False), StandardScaler()),\n",
    "    make_pipeline(FunctionTransformer(fare, validate=False), SimpleImputer(strategy = 'median'), StandardScaler()),\n",
    "                   ])\n",
    "X = pipe.fit_transform(train)\n",
    "X_test = pipe.fit_transform(test)"
   ]
  },
  {
   "cell_type": "markdown",
   "metadata": {},
   "source": [
    "Нагенерируем в выборку новых фичей при помощи PolynomialFeatures и затем применим деревья решений. Глубину попробуем варьировать от 2 до 7, кроссвалидацию осуществим на 10 фолдах"
   ]
  },
  {
   "cell_type": "code",
   "execution_count": 252,
   "metadata": {
    "scrolled": true
   },
   "outputs": [
    {
     "data": {
      "text/plain": [
       "GridSearchCV(cv=10, error_score='raise-deprecating',\n",
       "             estimator=Pipeline(memory=None,\n",
       "                                steps=[('poly',\n",
       "                                        PolynomialFeatures(degree=2,\n",
       "                                                           include_bias=True,\n",
       "                                                           interaction_only=False,\n",
       "                                                           order='C')),\n",
       "                                       ('tree',\n",
       "                                        DecisionTreeClassifier(class_weight=None,\n",
       "                                                               criterion='gini',\n",
       "                                                               max_depth=None,\n",
       "                                                               max_features=None,\n",
       "                                                               max_leaf_nodes=None,\n",
       "                                                               min_impurity_decrease=0.0,\n",
       "                                                               min_impurity_split=None,\n",
       "                                                               min_samples_leaf=1,\n",
       "                                                               min_samples_split=2,\n",
       "                                                               min_weight_fraction_leaf=0.0,\n",
       "                                                               presort=False,\n",
       "                                                               random_state=0,\n",
       "                                                               splitter='best'))],\n",
       "                                verbose=False),\n",
       "             iid='warn', n_jobs=None,\n",
       "             param_grid={'tree__criterion': ['gini'],\n",
       "                         'tree__max_depth': array([2, 3, 4, 5, 6, 7])},\n",
       "             pre_dispatch='2*n_jobs', refit=True, return_train_score=False,\n",
       "             scoring=None, verbose=0)"
      ]
     },
     "execution_count": 252,
     "metadata": {},
     "output_type": "execute_result"
    }
   ],
   "source": [
    "pipe_tree = Pipeline(steps = [('poly', PolynomialFeatures()),\n",
    "                             ('tree',DecisionTreeClassifier(random_state=0))])\n",
    "\n",
    "grid = {\n",
    "    'tree__criterion' : ['gini'],\n",
    "    'tree__max_depth' : np.arange(2,8),  \n",
    "}\n",
    "gridsearch = GridSearchCV(pipe_tree, grid, cv = 10)     \n",
    "gridsearch.fit(X, np.array(train.Survived))"
   ]
  },
  {
   "cell_type": "code",
   "execution_count": 253,
   "metadata": {
    "scrolled": true
   },
   "outputs": [
    {
     "name": "stdout",
     "output_type": "stream",
     "text": [
      "Pipeline(memory=None,\n",
      "         steps=[('poly',\n",
      "                 PolynomialFeatures(degree=2, include_bias=True,\n",
      "                                    interaction_only=False, order='C')),\n",
      "                ('tree',\n",
      "                 DecisionTreeClassifier(class_weight=None, criterion='gini',\n",
      "                                        max_depth=3, max_features=None,\n",
      "                                        max_leaf_nodes=None,\n",
      "                                        min_impurity_decrease=0.0,\n",
      "                                        min_impurity_split=None,\n",
      "                                        min_samples_leaf=1, min_samples_split=2,\n",
      "                                        min_weight_fraction_leaf=0.0,\n",
      "                                        presort=False, random_state=0,\n",
      "                                        splitter='best'))],\n",
      "         verbose=False)\n",
      "\n",
      "best score 0.8047138047138047\n",
      "accuracy score 0.9712918660287081\n"
     ]
    }
   ],
   "source": [
    "Y_test_pred = gridsearch.predict(np.array(X_test))\n",
    "Y_test_pred_proba = gridsearch.predict_proba(np.array(X_test))\n",
    "Y_test = test.Survived\n",
    "\n",
    "print(gridsearch.best_estimator_)\n",
    "print('\\nbest score ' + str(gridsearch.best_score_))\n",
    "print('accuracy score ' + str(accuracy_score(y_pred = Y_test_pred, y_true = Y_test)))"
   ]
  },
  {
   "cell_type": "markdown",
   "metadata": {},
   "source": [
    "В итоге получили наилучший результат при глубине дерева 3, accuracy = 0.97, средняя оценка на кроссвалидации = 0.80"
   ]
  },
  {
   "cell_type": "markdown",
   "metadata": {},
   "source": [
    "## 3. Кривая Лоренца\n",
    "\n",
    "Найдите лучшую модель с использованием Джини и постройте для нее кривую Лоренца,  \n",
    "сравните с кривой для бейзлайновой модели"
   ]
  },
  {
   "cell_type": "code",
   "execution_count": 254,
   "metadata": {},
   "outputs": [
    {
     "data": {
      "image/png": "[encoded data removed]",
      "text/plain": [
       "<Figure size 1512x504 with 3 Axes>"
      ]
     },
     "metadata": {
      "needs_background": "light"
     },
     "output_type": "display_data"
    }
   ],
   "source": [
    "from scipy.interpolate import interp1d\n",
    "from scipy.integrate import quad\n",
    "\n",
    "# -----Prepare data for plotting Lorenz (Lift) curves-----\n",
    "# Mix together predicted probabilities and true outputs and sort by predicted probabilities\n",
    "lorenz_df = pd.DataFrame({'true':Y_test, 'pred_proba':Y_test_pred_proba[:,1]})\n",
    "lorenz_df = lorenz_df.sort_values('pred_proba', ascending = False)\n",
    "\n",
    "lorenz_baseline_df = pd.DataFrame({'true':Y_test, 'pred_proba':simple_predict[:,1]})\n",
    "lorenz_baseline_df = lorenz_baseline_df.sort_values('pred_proba', ascending = False)\n",
    "\n",
    "# Count cumulative sum for: true values in sorted lorenz_df, and not sorted true values\n",
    "cum_pred = np.cumsum(lorenz_df.true) / sum(Y_test)\n",
    "cum_baseline_pred = np.cumsum(lorenz_baseline_df.true) / sum(Y_test)\n",
    "cum_true = np.cumsum(sorted(Y_test, reverse=True)) / sum(Y_test)\n",
    "\n",
    "# Create indices for Ox in future plots\n",
    "ind = np.arange(1, len(cum_pred)+1) / len(cum_pred)\n",
    "\n",
    "# Shape x and y for plotting \"Lift Curve for true\" and \"Lift Curve for predicted\"\n",
    "x = [0] + list(ind)\n",
    "y_pred = [0] + list(cum_pred)\n",
    "y_baseline_pred = [0] + list(cum_baseline_pred)\n",
    "y_true = [0] + list(cum_true)\n",
    "\n",
    "# -----Prepare gini values-----\n",
    "# Interpolate function, using our points\n",
    "f1, f2, f3 = interp1d(x, y_pred), interp1d(x, y_baseline_pred), interp1d(x, y_true)\n",
    "\n",
    "# Find difference betweend y=x and Lorenz curve\n",
    "S_pred = quad(f1, 0, 1)[0] - 0.5 \n",
    "S_baseline_pred = quad(f2, 0, 1)[0] - 0.5\n",
    "S_true = quad(f3, 0, 1)[0] - 0.5 \n",
    "\n",
    "fig, ax = plt.subplots(1, 3, sharey=True, figsize=(21, 7))\n",
    "ax[0].plot(x, y_pred, lw = 2, color = 'blue', marker='x')\n",
    "ax[0].fill_between(x, x, y_pred, color = 'blue', alpha=0.1)\n",
    "ax[0].text(0.4,0.2,'S = {:0.4f}'.format(S_pred),fontsize = 28)\n",
    "\n",
    "ax[1].plot(x, y_baseline_pred, lw = 2, color = 'orange', marker='x')\n",
    "ax[1].fill_between(x, x, y_baseline_pred, color = 'orange', alpha=0.1)\n",
    "ax[1].text(0.4,0.2,'S = {:0.4f}'.format(S_baseline_pred),fontsize = 28)\n",
    "\n",
    "ax[2].plot(x, y_true, lw = 2, color = 'green', marker='x')\n",
    "ax[2].fill_between(x, x, y_true, color = 'green', alpha=0.1)\n",
    "ax[2].text(0.4,0.2,'S = {:0.4f}'.format(S_true),fontsize = 28)\n",
    "\n",
    "j=['построенной модели', 'бейзлайна', 'идеальной модели']\n",
    "for i in range(3):\n",
    "    ax[i].plot([0,1],[0,1],linestyle = '--',lw = 2,color = 'black')\n",
    "    ax[i].set(title='Коэффициент Джини для ' + j[i], xlabel='Кумулятивная доля объектов', \n",
    "                  ylabel='Кумулятивная доля истинных классов', xlim=(0, 1), ylim=(0, 1))\n",
    "plt.show();"
   ]
  },
  {
   "cell_type": "markdown",
   "metadata": {},
   "source": [
    "Для бейзлайн модели S = 0.0667, в идеале S = 0.3182, а в нашей построенной модели S = 0.2793.\n",
    "\n",
    "Нормализованный gini для построенной модели = .89 (=.2793/.3182), а для бейзлайна = .21 (=.0667/.3182), то есть построенная модель работает лучше, чем бейзлайн."
   ]
  },
  {
   "cell_type": "code",
   "execution_count": null,
   "metadata": {},
   "outputs": [],
   "source": []
  }
 ],
 "metadata": {
  "kernelspec": {
   "display_name": "Python 3",
   "language": "python",
   "name": "python3"
  },
  "language_info": {
   "codemirror_mode": {
    "name": "ipython",
    "version": 3
   },
   "file_extension": ".py",
   "mimetype": "text/x-python",
   "name": "python",
   "nbconvert_exporter": "python",
   "pygments_lexer": "ipython3",
   "version": "3.7.1"
  }
 },
 "nbformat": 4,
 "nbformat_minor": 2
}
